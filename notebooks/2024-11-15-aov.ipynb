{
 "cells": [
  {
   "cell_type": "markdown",
   "metadata": {},
   "source": [
    "---\n",
    "\n",
    "title: \"ANOVA\"\n",
    "date: 2024-11-15\n",
    "author: 郝鸿涛\n",
    "slug: aov\n",
    "draft: false\n",
    "toc: true\n",
    "tags: 统计\n",
    "\n",
    "---"
   ]
  },
  {
   "cell_type": "markdown",
   "metadata": {},
   "source": [
    "这次我比较懒，不想从头开始分析为什么要有 ANOVA。我只想简单说一下 ANOVA 是怎么计算的。我终于也成了我最讨厌的那种人：直讲是什么，不讲为什么。因为要把「为什么」弄清楚真的太累了。当然，我希望自己只是暂时偷个懒，之后会反过来说一下为什么这么算。\n",
    "\n",
    "## One-way ANOVA\n",
    "\n",
    "假设我们现在有三组数据："
   ]
  },
  {
   "cell_type": "code",
   "execution_count": 171,
   "metadata": {},
   "outputs": [],
   "source": [
    "import numpy as np \n",
    "import pandas as pd\n",
    "import matplotlib.pyplot as plt "
   ]
  },
  {
   "cell_type": "code",
   "execution_count": 172,
   "metadata": {},
   "outputs": [
    {
     "data": {
      "text/plain": [
       "{'A': [35, 46, 78], 'B': [22, 48, 98, 77], 'C': [90, 65]}"
      ]
     },
     "execution_count": 172,
     "metadata": {},
     "output_type": "execute_result"
    }
   ],
   "source": [
    "a = [35, 46, 78]\n",
    "b = [22, 48, 98, 77]\n",
    "c = [90, 65]\n",
    "group_dic = {'A': a, \"B\": b, \"C\": c}\n",
    "group_dic"
   ]
  },
  {
   "cell_type": "code",
   "execution_count": 173,
   "metadata": {},
   "outputs": [],
   "source": [
    "def calc(group_dic):\n",
    "    res = []\n",
    "    for group, data in group_dic.items():\n",
    "        mu = np.mean(data)\n",
    "        n = len(data)\n",
    "        var = np.var(data, ddof = 1)\n",
    "        res.append({\n",
    "            'treatment': group,\n",
    "            'sample_mean': mu,\n",
    "            'sample_variance': var,\n",
    "            'sample_size': n\n",
    "        })\n",
    "    return res"
   ]
  },
  {
   "cell_type": "code",
   "execution_count": 174,
   "metadata": {},
   "outputs": [
    {
     "data": {
      "text/html": [
       "<div>\n",
       "<style scoped>\n",
       "    .dataframe tbody tr th:only-of-type {\n",
       "        vertical-align: middle;\n",
       "    }\n",
       "\n",
       "    .dataframe tbody tr th {\n",
       "        vertical-align: top;\n",
       "    }\n",
       "\n",
       "    .dataframe thead th {\n",
       "        text-align: right;\n",
       "    }\n",
       "</style>\n",
       "<table border=\"1\" class=\"dataframe\">\n",
       "  <thead>\n",
       "    <tr style=\"text-align: right;\">\n",
       "      <th></th>\n",
       "      <th>treatment</th>\n",
       "      <th>sample_mean</th>\n",
       "      <th>sample_variance</th>\n",
       "      <th>sample_size</th>\n",
       "    </tr>\n",
       "  </thead>\n",
       "  <tbody>\n",
       "    <tr>\n",
       "      <th>0</th>\n",
       "      <td>A</td>\n",
       "      <td>53.00</td>\n",
       "      <td>499.000000</td>\n",
       "      <td>3</td>\n",
       "    </tr>\n",
       "    <tr>\n",
       "      <th>1</th>\n",
       "      <td>B</td>\n",
       "      <td>61.25</td>\n",
       "      <td>1104.916667</td>\n",
       "      <td>4</td>\n",
       "    </tr>\n",
       "    <tr>\n",
       "      <th>2</th>\n",
       "      <td>C</td>\n",
       "      <td>77.50</td>\n",
       "      <td>312.500000</td>\n",
       "      <td>2</td>\n",
       "    </tr>\n",
       "  </tbody>\n",
       "</table>\n",
       "</div>"
      ],
      "text/plain": [
       "  treatment  sample_mean  sample_variance  sample_size\n",
       "0         A        53.00       499.000000            3\n",
       "1         B        61.25      1104.916667            4\n",
       "2         C        77.50       312.500000            2"
      ]
     },
     "execution_count": 174,
     "metadata": {},
     "output_type": "execute_result"
    }
   ],
   "source": [
    "res = calc(group_dic)\n",
    "res = pd.DataFrame(res)\n",
    "res"
   ]
  },
  {
   "cell_type": "code",
   "execution_count": 175,
   "metadata": {},
   "outputs": [
    {
     "data": {
      "text/plain": [
       "(9, 3)"
      ]
     },
     "execution_count": 175,
     "metadata": {},
     "output_type": "execute_result"
    }
   ],
   "source": [
    "n = res.sample_size.sum()\n",
    "k = len(group_dic)\n",
    "n, k"
   ]
  },
  {
   "cell_type": "markdown",
   "metadata": {},
   "source": [
    " 我们把 $\\bar{X}_{Total}$ 定义为总平均值，其计算方法为："
   ]
  },
  {
   "cell_type": "code",
   "execution_count": 176,
   "metadata": {},
   "outputs": [
    {
     "data": {
      "text/plain": [
       "62.111111111111114"
      ]
     },
     "execution_count": 176,
     "metadata": {},
     "output_type": "execute_result"
    }
   ],
   "source": [
    "grand_mean = np.sum(\n",
    "    res['sample_mean'] * res['sample_size'])/n\n",
    "grand_mean"
   ]
  },
  {
   "cell_type": "markdown",
   "metadata": {},
   "source": [
    "组间方差我们记为 SSTrt，计算方法为："
   ]
  },
  {
   "cell_type": "code",
   "execution_count": 177,
   "metadata": {},
   "outputs": [
    {
     "data": {
      "text/plain": [
       "725.6388888888889"
      ]
     },
     "execution_count": 177,
     "metadata": {},
     "output_type": "execute_result"
    }
   ],
   "source": [
    "sstrt = np.sum(\n",
    "    res['sample_size']*(res['sample_mean'] - grand_mean)**2)\n",
    "sstrt"
   ]
  },
  {
   "cell_type": "markdown",
   "metadata": {},
   "source": [
    "组内方差我们记为 SSErr，计算方法为："
   ]
  },
  {
   "cell_type": "code",
   "execution_count": 178,
   "metadata": {},
   "outputs": [
    {
     "data": {
      "text/plain": [
       "4625.25"
      ]
     },
     "execution_count": 178,
     "metadata": {},
     "output_type": "execute_result"
    }
   ],
   "source": [
    "sserr = np.sum(\n",
    "    (res.sample_size -1)*res.sample_variance\n",
    ")\n",
    "sserr"
   ]
  },
  {
   "cell_type": "markdown",
   "metadata": {},
   "source": [
    "涉及到自由度：\n",
    "\n",
    "- Total 的自由度为 `n-1`\n",
    "- SSTrt 的自由度 `dftrt` 为 `k-1`\n",
    "- SSErr 的自由度 `dferr` 为 `n-k`\n",
    "\n",
    "我们把 `sstrt/dftrt` 记为 `MSTrt`。类似的，把 `sserr/dferr` 记为 `MSErr`。计算如下："
   ]
  },
  {
   "cell_type": "code",
   "execution_count": 179,
   "metadata": {},
   "outputs": [],
   "source": [
    "dftot = n-1\n",
    "dftrt = k-1\n",
    "dferr = n-k\n",
    "mstrt = sstrt/dftrt \n",
    "mserr = sserr/dferr "
   ]
  },
  {
   "cell_type": "markdown",
   "metadata": {},
   "source": [
    "我们把 `sstrt + sserr` 记为 `sstot`："
   ]
  },
  {
   "cell_type": "code",
   "execution_count": 180,
   "metadata": {},
   "outputs": [],
   "source": [
    "sstot = sstrt + sserr "
   ]
  },
  {
   "cell_type": "markdown",
   "metadata": {},
   "source": [
    "统计量 F 的计算方法很简单：\n",
    "\n",
    "$$F = \\frac{\\text{MSTrt}}{\\text{MSErr}}$$"
   ]
  },
  {
   "cell_type": "code",
   "execution_count": 181,
   "metadata": {},
   "outputs": [
    {
     "data": {
      "text/plain": [
       "0.4706592436444877"
      ]
     },
     "execution_count": 181,
     "metadata": {},
     "output_type": "execute_result"
    }
   ],
   "source": [
    "f_value = mstrt/mserr\n",
    "f_value"
   ]
  },
  {
   "cell_type": "markdown",
   "metadata": {},
   "source": [
    "我们来把整个结果列出来："
   ]
  },
  {
   "cell_type": "code",
   "execution_count": 182,
   "metadata": {},
   "outputs": [
    {
     "data": {
      "text/html": [
       "<div>\n",
       "<style scoped>\n",
       "    .dataframe tbody tr th:only-of-type {\n",
       "        vertical-align: middle;\n",
       "    }\n",
       "\n",
       "    .dataframe tbody tr th {\n",
       "        vertical-align: top;\n",
       "    }\n",
       "\n",
       "    .dataframe thead th {\n",
       "        text-align: right;\n",
       "    }\n",
       "</style>\n",
       "<table border=\"1\" class=\"dataframe\">\n",
       "  <thead>\n",
       "    <tr style=\"text-align: right;\">\n",
       "      <th></th>\n",
       "      <th>Source</th>\n",
       "      <th>Degrees of Freedom</th>\n",
       "      <th>Sum of Squares</th>\n",
       "      <th>Mean Square</th>\n",
       "      <th>F-Statistic</th>\n",
       "    </tr>\n",
       "  </thead>\n",
       "  <tbody>\n",
       "    <tr>\n",
       "      <th>0</th>\n",
       "      <td>Treatment</td>\n",
       "      <td>2</td>\n",
       "      <td>725.638889</td>\n",
       "      <td>362.819444</td>\n",
       "      <td>0.470659</td>\n",
       "    </tr>\n",
       "    <tr>\n",
       "      <th>1</th>\n",
       "      <td>Error</td>\n",
       "      <td>6</td>\n",
       "      <td>4625.250000</td>\n",
       "      <td>770.875000</td>\n",
       "      <td>NaN</td>\n",
       "    </tr>\n",
       "    <tr>\n",
       "      <th>2</th>\n",
       "      <td>Total</td>\n",
       "      <td>8</td>\n",
       "      <td>5350.888889</td>\n",
       "      <td>NaN</td>\n",
       "      <td>NaN</td>\n",
       "    </tr>\n",
       "  </tbody>\n",
       "</table>\n",
       "</div>"
      ],
      "text/plain": [
       "      Source  Degrees of Freedom  Sum of Squares  Mean Square  F-Statistic\n",
       "0  Treatment                   2      725.638889   362.819444     0.470659\n",
       "1      Error                   6     4625.250000   770.875000          NaN\n",
       "2      Total                   8     5350.888889          NaN          NaN"
      ]
     },
     "execution_count": 182,
     "metadata": {},
     "output_type": "execute_result"
    }
   ],
   "source": [
    "source = ['Treatment', 'Error', 'Total']\n",
    "d_f = [dftrt, dferr, dftot]\n",
    "ss = [sstrt, sserr, sstot]\n",
    "ms = [mstrt, mserr, None]\n",
    "f_stats = [f_value, None, None]\n",
    "aov_res = pd.DataFrame({\n",
    "    'Source': source,\n",
    "    'Degrees of Freedom': d_f,\n",
    "    'Sum of Squares': ss,\n",
    "    'Mean Square': ms,\n",
    "    'F-Statistic': f_stats\n",
    "})\n",
    "aov_res"
   ]
  },
  {
   "cell_type": "markdown",
   "metadata": {},
   "source": [
    "p 值的计算方法为"
   ]
  },
  {
   "cell_type": "code",
   "execution_count": 183,
   "metadata": {},
   "outputs": [
    {
     "data": {
      "text/plain": [
       "0.6458443083352733"
      ]
     },
     "execution_count": 183,
     "metadata": {},
     "output_type": "execute_result"
    }
   ],
   "source": [
    "from scipy.stats import f \n",
    "p_value = f.sf(f_value, dftrt, dferr)\n",
    "p_value"
   ]
  },
  {
   "cell_type": "markdown",
   "metadata": {},
   "source": [
    "## 验证\n",
    "\n",
    "我们来验证一下我们的计算是正确的："
   ]
  },
  {
   "cell_type": "code",
   "execution_count": 184,
   "metadata": {},
   "outputs": [
    {
     "name": "stdout",
     "output_type": "stream",
     "text": [
      "F-statistic: 0.4706592436444877\n",
      "p-value: 0.6458443083352733\n"
     ]
    }
   ],
   "source": [
    "from scipy.stats import f_oneway\n",
    "f_stat, p_value = f_oneway(a, b, c)\n",
    "\n",
    "print(f\"F-statistic: {f_stat}\")\n",
    "print(f\"p-value: {p_value}\")"
   ]
  },
  {
   "cell_type": "markdown",
   "metadata": {},
   "source": [
    "## 假设\n",
    "\n",
    "要使用 One-Way ANOVA 需要满足三个假设；\n",
    "\n",
    "1. 各组所代表总体之方差相等\n",
    "2. 各组所代表总体为正态分布\n",
    "3. 各组独立"
   ]
  }
 ],
 "metadata": {
  "kernelspec": {
   "display_name": "bayes",
   "language": "python",
   "name": "python3"
  },
  "language_info": {
   "codemirror_mode": {
    "name": "ipython",
    "version": 3
   },
   "file_extension": ".py",
   "mimetype": "text/x-python",
   "name": "python",
   "nbconvert_exporter": "python",
   "pygments_lexer": "ipython3",
   "version": "3.8.19"
  }
 },
 "nbformat": 4,
 "nbformat_minor": 2
}

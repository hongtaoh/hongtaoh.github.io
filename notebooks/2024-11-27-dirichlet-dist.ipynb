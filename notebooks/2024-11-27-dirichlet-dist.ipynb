{
 "cells": [
  {
   "cell_type": "markdown",
   "metadata": {},
   "source": [
    "---\n",
    "\n",
    "title: \"理解 Dirichlet Distribution\"\n",
    "date: 2024-11-27\n",
    "author: 郝鸿涛\n",
    "slug: dirichlet-dist\n",
    "draft: false\n",
    "toc: true\n",
    "tags: 统计\n",
    "\n",
    "---"
   ]
  },
  {
   "cell_type": "markdown",
   "metadata": {},
   "source": [
    "## 基本概念\n",
    "\n",
    "我们在 [双项分布](/cn/2024/03/23/discrete-distributions/) 的基础上介绍了 [Beta 分布](/cn/2024/11/27/beta/)。同样的，我们要在 [多项分布](/cn/2024/11/27/multinomial/) 的基础上介绍 [Dirichlet Distribution](https://en.wikipedia.org/wiki/Dirichlet_distribution)。\n",
    "\n",
    "随机抛掷 k 面骰子 n 次，每个面 i 出现的概率是 $p_i \\left(\\sum{p_i} = 1\\right)$，那么每个面分别出现 $x_1, x_2,...,x_k \\left(\\sum{x_i} = n\\right)$ 次的概率为：\n",
    "\n",
    "$$P(x_1,...,x_k|p_1,...,p_k) = \\frac{n!}{x_1!x_2!...x_k!} \\cdot p_1^{x_1} \\cdot p_2^{x_2} \\cdot ... \\cdot p_k^{x_k}$$\n",
    "\n",
    "这是多项分布。\n",
    "\n",
    "那如果随机抛掷 k 面骰子 n 次，最后每个面分别出现 $x_1, x_2,...,x_k \\left(\\sum{x_i} = n\\right)$ 次，请问每个面 i 出现的概率 $p_i$ 是什么？\n",
    "\n",
    "根据贝叶斯定理\n",
    "\n",
    "$$P(p_1,...,p_k|x_1,...,x_k) \\propto P(p_1,...,p_k)\\cdot P(x_1,...,x_k|p_1,...,p_k)$$\n",
    "\n",
    "我们没有任何先验信息，所以使用均匀分布作为先验，也就是说 $P(p_1,...,p_k)=1$。另外，$\\frac{n!}{x_1!x_2!...x_k!}$ 也是一个常数。所以：\n",
    "\n",
    "$$P(p_1,...,p_k|x_1,...,x_k) \\propto \\prod_{i=1}^k p_i^{x_i}$$\n",
    "\n",
    "## 具体例子\n",
    "\n",
    "为了简化，我们假设有 3 面的骰子，投掷 10 次，观测到的数据为\n",
    "\n",
    "$$x_1 = 2, x_2 = 3, x_3 = 5$$\n",
    "\n",
    "我们知道 $p_i \\ge 0$ 且 $p_1 + p_2 + p_3 = 1$\n",
    "\n",
    "在不考虑归一化的情况下，$P(p_1 = 0.1, p_2 = 0.7, p_3 = 0.2)$ 的概率密度是\n",
    "\n",
    "$$\\prod_{i=1}^3 p_i^{x_i} = 0.1^2 \\cdot 0.7^3 \\cdot 0.2^5$$\n",
    "\n",
    "它肯定没有 $P(p_1 = 0.1, p_2 = 0.2, p_3 = 0.7)$ 的概率密度大：\n",
    "\n",
    "$$\\prod_{i=1}^3 p_i^{x_i} = 0.1^2 \\cdot 0.2^3 \\cdot 0.7^5$$"
   ]
  },
  {
   "cell_type": "markdown",
   "metadata": {},
   "source": [
    "## 标准公式 \n",
    "\n",
    "记 $\\alpha_i$ 为\n",
    "\n",
    "$$\\alpha_i = x_i + 1$$\n",
    "\n",
    "所以\n",
    "\n",
    "$$P(p_1,...,p_k|\\alpha_1,...,\\alpha_k) \\propto \\prod_{i=1}^k p_i^{\\alpha_i - 1}$$\n",
    "\n",
    "最后要除以一个归一化的常数，我们用 $\\mathrm {B}(\\alpha)$ 表示：\n",
    "\n",
    "$$\\mathrm {B} ({\\boldsymbol {\\alpha }})={\\frac {\\prod \\limits _{i=1}^{K}\\Gamma (\\alpha _{i})}{\\Gamma \\left(\\sum \\limits _{i=1}^{K}\\alpha _{i}\\right)}},\\qquad {\\boldsymbol {\\alpha }}=(\\alpha _{1},\\ldots ,\\alpha _{K})$$\n",
    "\n",
    "这个比较复杂，我们这里不讲如何推导 $\\mathrm {B}(\\alpha)$。\n",
    "\n",
    "最后，Dirchlet Distribution 的完整表达式为\n",
    "\n",
    "$$P(p_1,...,p_k|\\alpha_1,...,\\alpha_k)= \\frac{1}{\\mathrm {B}(\\alpha)} \\prod_{i=1}^k p_i^{\\alpha_i - 1}$$\n",
    "\n",
    "## 可视化\n",
    "\n",
    "最后 Dirchlet Distribution 长什么样子呢？\n",
    "\n",
    "我们举一个例子。假如我们求的是 $p_1, p_2, p_3$。那我们知道 $p_i \\ge 0$ 且 $p_1+p_2+p_3 = 1$。\n",
    "\n",
    "我们可以画一个三角形，其内任何一点表示联合分布。然后每一个点上加一个高度，表示该联合概率分布的密度。"
   ]
  },
  {
   "cell_type": "code",
   "execution_count": 1,
   "metadata": {},
   "outputs": [
    {
     "data": {
      "image/png": "[encoded data removed]",
      "text/plain": [
       "<Figure size 600x400 with 1 Axes>"
      ]
     },
     "metadata": {},
     "output_type": "display_data"
    }
   ],
   "source": [
    "#| code-fold:true\n",
    "\n",
    "import numpy as np\n",
    "import matplotlib.pyplot as plt\n",
    "\n",
    "# 创建图形\n",
    "plt.figure(figsize=(6, 4))\n",
    "\n",
    "# 计算等边三角形的顶点\n",
    "height = np.sqrt(3)/2\n",
    "vertices = np.array([[0,0], [1,0], [0.5,height]])\n",
    "\n",
    "# 绘制三角形边\n",
    "plt.plot([0,1], [0,0], 'k-', linewidth=1)\n",
    "plt.plot([0,0.5], [0,height], 'k-', linewidth=1)\n",
    "plt.plot([1,0.5], [0,height], 'k-', linewidth=1)\n",
    "\n",
    "# 添加刻度\n",
    "# x3轴（底边）\n",
    "for i in np.linspace(0, 1, 6):\n",
    "    plt.plot([i,-0.05], [0,0], 'k-', linewidth=0.5)\n",
    "    plt.text(i, -0.05, f'{1-i:.1f}', ha='center', va='top')\n",
    "\n",
    "# x1轴（左边）\n",
    "for i in range(6):\n",
    "    x = i/10\n",
    "    y = i*height/5\n",
    "    plt.plot([x,x-0.05], [y,y], 'k-', linewidth=0.5)\n",
    "    plt.text(x-0.1, y, f'{1-i/5:.1f}', ha='right', va='center')\n",
    "\n",
    "# x2轴（右边）\n",
    "for i in range(6):\n",
    "    x = 1 - i/10\n",
    "    y = i*height/5\n",
    "    plt.plot([x,x+0.05], [y,y], 'k-', linewidth=0.5)\n",
    "    plt.text(x+0.1, y, f'{1-i/5:.1f}', ha='left', va='center')\n",
    "\n",
    "# 添加轴标签\n",
    "plt.text(0.5, -0.1, 'p3', ha='center', va='top')\n",
    "plt.text(-0.15, height/2, 'p2', ha='right', va='center')\n",
    "plt.text(1.15, height/2, 'p1', ha='left', va='center')\n",
    "\n",
    "# 设置图形范围和比例\n",
    "plt.xlim(-0.2, 1.2)\n",
    "plt.ylim(-0.2, 1)\n",
    "\n",
    "# 设置等比例\n",
    "plt.axis('equal')\n",
    "\n",
    "# 移除默认坐标轴\n",
    "plt.axis('off')\n",
    "\n",
    "plt.show()"
   ]
  },
  {
   "cell_type": "markdown",
   "metadata": {},
   "source": [
    "最后的结果如下：\n",
    "\n",
    "![dirichlet distribution](img/wikipedia-dirichlet-dist2.png)\n",
    "\n",
    "此图来自维基百科上的 [Dirichlet distribution 词条](https://en.wikipedia.org/wiki/Dirichlet_distribution)。"
   ]
  }
 ],
 "metadata": {
  "kernelspec": {
   "display_name": "bayes",
   "language": "python",
   "name": "python3"
  },
  "language_info": {
   "codemirror_mode": {
    "name": "ipython",
    "version": 3
   },
   "file_extension": ".py",
   "mimetype": "text/x-python",
   "name": "python",
   "nbconvert_exporter": "python",
   "pygments_lexer": "ipython3",
   "version": "3.8.19"
  }
 },
 "nbformat": 4,
 "nbformat_minor": 2
}

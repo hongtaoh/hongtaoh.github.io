{
 "cells": [
  {
   "cell_type": "markdown",
   "id": "11b59b78",
   "metadata": {},
   "source": [
    "# Re-Understanding Z Score\n",
    "\n",
    "date: 2022-08-20\n",
    "author: Hongtao Hao\n",
    "slug: zscore\n",
    "draft: false\n",
    "toc: false\n",
    "tags: ML\n",
    "\n",
    "<!--eofm-->"
   ]
  },
  {
   "cell_type": "markdown",
   "id": "98cfe696",
   "metadata": {},
   "source": [
    "Ask anyone who has attended Stats101 and s/he will tell you that they understand Z-score. But, really? Could you answer the following questions without thinking?\n",
    "\n",
    "1. What is the mean of z-scores?\n",
    "2. What is the standard deviation of z-scores?\n",
    "3. What is the sum of squared z-scores?\n",
    "4. Is the z-score distribution the same as the original distribution of sample values?\n",
    "5. What do z-scores above 0 mean?\n",
    "\n",
    "If you cannot answer them without thinking, then you don't really understand z-scores. \n",
    "\n",
    "Next, let's gain a deeper understanding of z-scores by looking at the above questions. \n",
    "\n",
    "The above questions are from [this post](https://www.uth.tmc.edu/uth_orgs/educ_dev/oser/L1_6.HTM)."
   ]
  },
  {
   "cell_type": "markdown",
   "id": "0832afb5",
   "metadata": {},
   "source": [
    "## What is z-score?\n",
    "\n",
    "Z-score is also called the standard score. In a one-dimensional array, i.e., a vector, the z-score of a number within this array indicates the distance between this number and the expected value of this array, i.e., the mean, measured by the standard deviation of this array. \n",
    "\n",
    "$$z = \\frac{x_i - \\mu}{\\sigma}$$\n",
    "\n",
    "Where $x_i$ is a number in an array, $\\mu$ is the mean of this array and $\\sigma$ is the standard deviation. \n",
    "\n",
    "Before we can calcuate z-scores,we need to calculate the mean and the standard deviation:"
   ]
  },
  {
   "cell_type": "code",
   "execution_count": 1,
   "id": "7e2923cb",
   "metadata": {},
   "outputs": [],
   "source": [
    "import math \n",
    "\n",
    "def my_mean(array):\n",
    "    return sum(array)/len(array)\n",
    "\n",
    "def my_std(array):\n",
    "    mn = my_mean(array)\n",
    "    my_sum = 0\n",
    "    for i in array:\n",
    "        my_sum += (i - mn)**2\n",
    "    return math.sqrt(my_sum/len(array))"
   ]
  },
  {
   "cell_type": "markdown",
   "id": "d6a501f5",
   "metadata": {},
   "source": [
    "<!-- While I was writing the function to calcuate the standard deviation, it came to me that the essence of standard deviation is **the expected absolute distance between an item in an array and the mean of this array**. \n",
    "\n",
    "How to understand it?\n",
    "\n",
    "For example, you are given an array: `a = [1,4,6,8,10]`. Its mean is 5.8 -->"
   ]
  },
  {
   "cell_type": "code",
   "execution_count": 2,
   "id": "203a6e9b",
   "metadata": {},
   "outputs": [
    {
     "data": {
      "text/plain": [
       "5.8"
      ]
     },
     "execution_count": 2,
     "metadata": {},
     "output_type": "execute_result"
    }
   ],
   "source": [
    "# an example, \n",
    "a = [1,4,6,8,10]\n",
    "my_mean(a)"
   ]
  },
  {
   "cell_type": "code",
   "execution_count": 3,
   "id": "f14463fd",
   "metadata": {},
   "outputs": [
    {
     "data": {
      "text/plain": [
       "3.1240998703626617"
      ]
     },
     "execution_count": 3,
     "metadata": {},
     "output_type": "execute_result"
    }
   ],
   "source": [
    "my_std(a)"
   ]
  },
  {
   "cell_type": "code",
   "execution_count": 4,
   "id": "e2ba776a",
   "metadata": {},
   "outputs": [],
   "source": [
    "def zscores(array):\n",
    "    mn = my_mean(array)\n",
    "    std = my_std(array)\n",
    "    return [(i-mn)/std for i in array]"
   ]
  },
  {
   "cell_type": "code",
   "execution_count": 5,
   "id": "0599f6d9",
   "metadata": {},
   "outputs": [
    {
     "data": {
      "text/plain": [
       "[-1.5364425591947517,\n",
       " -0.5761659596980319,\n",
       " 0.06401843996644804,\n",
       " 0.7042028396309279,\n",
       " 1.3443872392954077]"
      ]
     },
     "execution_count": 5,
     "metadata": {},
     "output_type": "execute_result"
    }
   ],
   "source": [
    "z_scores = zscores(a)\n",
    "z_scores"
   ]
  },
  {
   "cell_type": "markdown",
   "id": "7416068e",
   "metadata": {},
   "source": [
    "## The sum and the mean of z-scores"
   ]
  },
  {
   "cell_type": "markdown",
   "id": "a62a03ad",
   "metadata": {},
   "source": [
    "The sum, and the mean of z-scores are always zero. Why?\n",
    "\n",
    "$$\\sum_{i=1}^n z_i = \\sum_{i=1}^n \\frac{x_i - \\mu}{\\sigma} = \\frac{\\sum_{i=1}^n (x_i - \\mu)}{\\sigma}$$\n",
    "\n",
    "We have:\n",
    "\n",
    "$$$$"
   ]
  },
  {
   "cell_type": "markdown",
   "id": "058903df",
   "metadata": {},
   "source": [
    "$$\\sum_{i=1}^n (x_i - \\mu) = \\sum_{i=1}^n x_i - n\\cdot \\mu$$\n",
    "\n",
    "Because \n",
    "\n",
    "$$\\mu = \\frac{\\sum_{i=1}^n x_i}{n}$$\n",
    "\n",
    "We have \n",
    "\n",
    "$$\\sum_{i=1}^n (x_i - \\mu) = 0$$\n",
    "\n",
    "So the sum of z-scores is zero. When the sum is zero, the mean is of course zero as well. "
   ]
  },
  {
   "cell_type": "markdown",
   "id": "96d601d3",
   "metadata": {},
   "source": [
    "## The standard deviation of z-scores\n",
    "\n",
    "Let's calculate the standard devitaiton of z-scores. \n",
    "\n",
    "$$\\sigma_z = \\sqrt{\\frac{\\sum_{i=1}^n (z_i - E(z))^2}{n}}$$\n",
    "\n",
    "Because $E(z) = 0$, we have:\n",
    "\n",
    "$$\\sigma_z = \\sqrt{\\frac{\\sum_{i=1}^n (z_i)^2}{n}}$$\n",
    "\n",
    "This, in fact, leads to our third question:"
   ]
  },
  {
   "cell_type": "markdown",
   "id": "2dc2f156",
   "metadata": {},
   "source": [
    "## The sum of squared z-scores\n",
    "\n",
    "$$\\sum_{i=1}^n (z_i)^2 = \\sum_{i=1}^n \\frac{(x_i - \\mu)^2}{\\sigma^2} = \\frac{\\sum_{i=1}^n (x_i - \\mu)^2}{\\sigma^2}$$\n",
    "\n",
    "Because \n",
    "\n",
    "$$\\sigma = \\sqrt{\\frac{\\sum_{i=1}^n{(x_i - \\mu)^2}}{n}}$$\n",
    "\n",
    "So we have\n",
    "\n",
    "$$\\sigma^2 = \\frac{\\sum_{i=1}^n{(x_i - \\mu)^2}}{n}$$\n",
    "\n",
    "Therefore\n",
    "\n",
    "$$\\sum_{i=1}^n (z_i)^2 = n$$\n",
    "\n",
    "That is to say, **the sum of squared z-scores is the number of items in an array.**\n",
    "\n",
    "Then, go back to the standard deviation of z-scores, we can know that\n",
    "\n",
    "$$\\sigma_z = \\sqrt{\\frac{\\sum_{i=1}^n (z_i)^2}{n}} = \\sqrt{\\frac{n}{n}} = 1$$"
   ]
  },
  {
   "cell_type": "markdown",
   "id": "96f3ea05",
   "metadata": {},
   "source": [
    "## The distribution of z-scores\n",
    "\n",
    "The distribution of z-scores is the same as the original array. I think of it this way: the z-scores are the result of original numbers moving leftward horizontally by $\\mu$ and squeezed vertically by $\\sigma$. Because they all move together, their relative positions stay the same. And that's why their distributions are also the same. "
   ]
  },
  {
   "cell_type": "markdown",
   "id": "b3e01b23",
   "metadata": {},
   "source": [
    "## The meaning of the sign of z-scores\n",
    "\n",
    "From the formula of z-scores, we know that if a z-score is above zero, it means the corresponding number in the array is bigger than the mean of the array. If a z-scores is below zero, it means the corresponding number in the array is smaller than the mean. "
   ]
  }
 ],
 "metadata": {
  "kernelspec": {
   "display_name": "Python 3 (ipykernel)",
   "language": "python",
   "name": "python3"
  },
  "language_info": {
   "codemirror_mode": {
    "name": "ipython",
    "version": 3
   },
   "file_extension": ".py",
   "mimetype": "text/x-python",
   "name": "python",
   "nbconvert_exporter": "python",
   "pygments_lexer": "ipython3",
   "version": "3.10.4"
  }
 },
 "nbformat": 4,
 "nbformat_minor": 5
}

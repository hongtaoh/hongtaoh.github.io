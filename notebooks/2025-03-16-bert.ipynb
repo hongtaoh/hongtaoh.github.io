{
 "cells": [
  {
   "cell_type": "markdown",
   "metadata": {},
   "source": [
    "---\n",
    "\n",
    "title: \"一文简介 Bert 模型、向量表示、向量搜索、向量库、API 构建、API 接口、并行计算、RAG、Next.js、React.js、LangChain\"\n",
    "date: 2025-03-16\n",
    "author: 郝鸿涛\n",
    "slug: bert\n",
    "draft: false\n",
    "toc: true\n",
    "tags: ML\n",
    "---"
   ]
  },
  {
   "cell_type": "markdown",
   "metadata": {},
   "source": [
    "{{< figure src=\"/media/cnblog/htmovies.png\" title=\"本文成品，一个简易 RAG 应用，网址为 https://htmovies.vercel.app/，检索需梯子\" width=\"700\">}}\n",
    "\n",
    "假设我们现在有一万个电影的文字描述，如何根据用户的搜索，推荐给用户最相关的几个电影？比如，用户输入「NASA 努力救一个困在火星的宇航员」，那我们肯定会导出《火星救援》。如何实现呢？\n",
    "\n",
    "办法是，假设我们有一个神奇的工具，你可以把它想象成一张网。任何一串文字通过它之后，都会变成一个高维空间里的一个向量，也就是高维空间里的一个坐标。然后我们让这一万条电影的文字描述经过这张网，我们得到一万个坐标。用户输入搜索，我们让这个搜索也经过这张网，得到一个坐标。最后的结果，我们计算这个搜索对应的坐标与每一个电影坐标的余弦相似度 (Cosine Similarity)，然后找到结果最大的几个，就是我们的搜索结果。\n",
    "\n",
    "这里涉及到一个问题。如果我们把每串文字经过网后的结果看成是一个坐标，那么寻找相似的点，可以用[欧几里得距离](https://zh.wikipedia.org/zh-hans/%E6%AC%A7%E5%87%A0%E9%87%8C%E5%BE%97%E8%B7%9D%E7%A6%BB)。如果我们把每个结果看成是一个向量，那么需要用余弦相似度。那具体用什么方法呢？[OpenAI Platform](https://platform.openai.com/docs/guides/embeddings#which-distance-function-should-i-use) 给出的答案是：\n",
    "\n",
    "```md\n",
    "We recommend cosine similarity. The choice of distance function typically doesn't matter much.\n",
    "\n",
    "OpenAI embeddings are normalized to length 1, which means that:\n",
    "    - Cosine similarity can be computed slightly faster using just a dot product\n",
    "    - Cosine similarity and Euclidean distance will result in the identical rankings\n",
    "```\n",
    "\n",
    "也就是说，先把每一个点的坐标归一化，也就是确保每一个向量长度为 1，然后，不管我们用欧几里得距离还是余弦相似度，不影响搜索结果。为什么？我们来证明一下：\n",
    "\n",
    "归一化之后，余弦相似度为：\n",
    "\n",
    "$$\\text{Cosine Similarity(A, B)} = \\frac{\\vec{A} \\cdot \\vec{B}}{|A||B|} = \\sum_{i=1}^{n}a_i b_i$$\n",
    "\n",
    "$$\\begin{aligned} \n",
    "    \\text{Euclidean Distance(A, B)}^2 &\n",
    "    = (a_1 - b_1)^2 + (a_2 - b_2)^2 + ... + (a_n - b_n)^2 \\\\ &\n",
    "    = (a_1 + a_2 + ... a_n)^2 + (b_1 + b_2 + ... b_n)^2 - 2(a_1 b_1 + a_2 b_2 + ... + a_n b_n)\\\\ &\n",
    "    = |A|^2 + |B|^2 - 2\\sum_{i=1}^{n}a_i b_i  \\\\ &\n",
    "    = 2 - 2 \\cdot \\text{Cosine Similarity(A, B)}\n",
    "\\end{aligned}$$\n",
    "\n",
    "也就是说这两个是完全正相关的关系，余弦相似度越大，欧几里得距离也越大。所以两者虽然具体数值不同，但是排序的结果一样。那为什么 OpenAI 推荐用余弦相似度呢？因为它的运算更少。我们来看：\n",
    "\n",
    "$$\\text{Cosine Similarity(A, B)} = \\sum_{i=1}^{n}a_i b_i$$\n",
    "\n",
    "这里我们只需要 $n$ 次乘法和 $n-1$ 次加法。\n",
    "\n",
    "$$\\text{Euclidean Distance(A, B)} = \\sqrt{\\sum_{i=1}^n (a_i - b_i)^2}$$\n",
    "\n",
    "我们需要：\n",
    "\n",
    "- $n$ 次减法\n",
    "- $n$ 次平方\n",
    "- $n - 1$ 次加法\n",
    "- $1$ 次开方\n",
    "\n",
    "虽然时间复杂度都是 $O(n)$，但欧几里得距离明显比余弦相似度运算量要大。\n",
    "\n",
    "回到正题，这张神奇的网是「向量表示 (Embedding)」。比较知名的是 Bert，它比较大，我们这里用 Sentence Transformers。更神奇的是，如果我们用多语言的模型，比如 `paraphrase-multilingual-mpnet-base-v2`，那即使我们的训练数据是英文的，我们也可以用中文搜索。不过，多语言模型也比较大，我们这里不用。我们用比较小的 `all-MiniLM-L6-v2`。\n",
    "\n",
    "另外，我们用 [FAISS](https://pypi.org/project/faiss-cpu/) (Facebook AI Similarity Search) 计算余弦相似度，因为这比较快。\n",
    "\n",
    "关于 Embedding Models，请参考 [Ollama 的这篇教程](https://ollama.com/blog/embedding-models)。"
   ]
  },
  {
   "cell_type": "markdown",
   "metadata": {},
   "source": [
    "## 原始数据\n",
    "\n",
    "数据下载地址：[https://hongtaoh.com/files/tmdb-movies.csv](/../files/tmdb-movies.csv)。\n",
    "\n",
    "最原始的数据来自于 Kaggle 上的 [Full TMDB Movies Dataset 2024 (1M Movies)](https://www.kaggle.com/datasets/asaniczka/tmdb-movies-dataset-2023-930k-movies)，包含一百万条电影数据。我检查了一些关键条目，去掉了在这些条目上信息不全的电影，最后得到大约一万条电影数据。"
   ]
  },
  {
   "cell_type": "code",
   "execution_count": 15,
   "metadata": {},
   "outputs": [],
   "source": [
    "import pandas as pd \n",
    "import numpy as np \n",
    "import uuid"
   ]
  },
  {
   "cell_type": "code",
   "execution_count": 16,
   "metadata": {},
   "outputs": [],
   "source": [
    "#|code-fold:true \n",
    "\n",
    "# 去掉了关键条目上信息不全的电影，最后得到大约一万条电影数据\n",
    "\n",
    "# df = pd.read_csv('./data/tmdb_large.csv')\n",
    "# corecols = ['id', 'title', 'vote_average', 'vote_count', 'release_date',\n",
    "#        'revenue', 'runtime', 'backdrop_path', 'budget', 'homepage', 'original_language', 'overview',\n",
    "#        'popularity', 'poster_path', 'tagline', 'genres',\n",
    "#        'production_companies', 'production_countries', 'spoken_languages',\n",
    "#        'keywords']\n",
    "# df_clean = df.dropna(subset=corecols)\n",
    "# df_clean.to_csv('../static/files/tmdb-movies.csv', index=False)"
   ]
  },
  {
   "cell_type": "code",
   "execution_count": 17,
   "metadata": {},
   "outputs": [
    {
     "data": {
      "text/plain": [
       "(10575, 24)"
      ]
     },
     "execution_count": 17,
     "metadata": {},
     "output_type": "execute_result"
    }
   ],
   "source": [
    "df = pd.read_csv('../static/files/tmdb-movies.csv')\n",
    "df.shape"
   ]
  },
  {
   "cell_type": "code",
   "execution_count": 18,
   "metadata": {},
   "outputs": [
    {
     "data": {
      "text/plain": [
       "Index(['id', 'title', 'vote_average', 'vote_count', 'status', 'release_date',\n",
       "       'revenue', 'runtime', 'adult', 'backdrop_path', 'budget', 'homepage',\n",
       "       'imdb_id', 'original_language', 'original_title', 'overview',\n",
       "       'popularity', 'poster_path', 'tagline', 'genres',\n",
       "       'production_companies', 'production_countries', 'spoken_languages',\n",
       "       'keywords'],\n",
       "      dtype='object')"
      ]
     },
     "execution_count": 18,
     "metadata": {},
     "output_type": "execute_result"
    }
   ],
   "source": [
    "df.columns "
   ]
  },
  {
   "cell_type": "markdown",
   "metadata": {},
   "source": [
    "数据很大，我只选取几个关键的列："
   ]
  },
  {
   "cell_type": "code",
   "execution_count": 19,
   "metadata": {},
   "outputs": [
    {
     "data": {
      "text/html": [
       "<div>\n",
       "<style scoped>\n",
       "    .dataframe tbody tr th:only-of-type {\n",
       "        vertical-align: middle;\n",
       "    }\n",
       "\n",
       "    .dataframe tbody tr th {\n",
       "        vertical-align: top;\n",
       "    }\n",
       "\n",
       "    .dataframe thead th {\n",
       "        text-align: right;\n",
       "    }\n",
       "</style>\n",
       "<table border=\"1\" class=\"dataframe\">\n",
       "  <thead>\n",
       "    <tr style=\"text-align: right;\">\n",
       "      <th></th>\n",
       "      <th>id</th>\n",
       "      <th>title</th>\n",
       "      <th>overview</th>\n",
       "      <th>revenue</th>\n",
       "      <th>poster_path</th>\n",
       "    </tr>\n",
       "  </thead>\n",
       "  <tbody>\n",
       "    <tr>\n",
       "      <th>0</th>\n",
       "      <td>27205</td>\n",
       "      <td>Inception</td>\n",
       "      <td>Cobb, a skilled thief who commits corporate es...</td>\n",
       "      <td>825532764</td>\n",
       "      <td>/oYuLEt3zVCKq57qu2F8dT7NIa6f.jpg</td>\n",
       "    </tr>\n",
       "    <tr>\n",
       "      <th>1</th>\n",
       "      <td>157336</td>\n",
       "      <td>Interstellar</td>\n",
       "      <td>The adventures of a group of explorers who mak...</td>\n",
       "      <td>701729206</td>\n",
       "      <td>/gEU2QniE6E77NI6lCU6MxlNBvIx.jpg</td>\n",
       "    </tr>\n",
       "    <tr>\n",
       "      <th>2</th>\n",
       "      <td>155</td>\n",
       "      <td>The Dark Knight</td>\n",
       "      <td>Batman raises the stakes in his war on crime. ...</td>\n",
       "      <td>1004558444</td>\n",
       "      <td>/qJ2tW6WMUDux911r6m7haRef0WH.jpg</td>\n",
       "    </tr>\n",
       "    <tr>\n",
       "      <th>3</th>\n",
       "      <td>19995</td>\n",
       "      <td>Avatar</td>\n",
       "      <td>In the 22nd century, a paraplegic Marine is di...</td>\n",
       "      <td>2923706026</td>\n",
       "      <td>/kyeqWdyUXW608qlYkRqosgbbJyK.jpg</td>\n",
       "    </tr>\n",
       "    <tr>\n",
       "      <th>4</th>\n",
       "      <td>24428</td>\n",
       "      <td>The Avengers</td>\n",
       "      <td>When an unexpected enemy emerges and threatens...</td>\n",
       "      <td>1518815515</td>\n",
       "      <td>/RYMX2wcKCBAr24UyPD7xwmjaTn.jpg</td>\n",
       "    </tr>\n",
       "  </tbody>\n",
       "</table>\n",
       "</div>"
      ],
      "text/plain": [
       "       id            title                                           overview  \\\n",
       "0   27205        Inception  Cobb, a skilled thief who commits corporate es...   \n",
       "1  157336     Interstellar  The adventures of a group of explorers who mak...   \n",
       "2     155  The Dark Knight  Batman raises the stakes in his war on crime. ...   \n",
       "3   19995           Avatar  In the 22nd century, a paraplegic Marine is di...   \n",
       "4   24428     The Avengers  When an unexpected enemy emerges and threatens...   \n",
       "\n",
       "      revenue                       poster_path  \n",
       "0   825532764  /oYuLEt3zVCKq57qu2F8dT7NIa6f.jpg  \n",
       "1   701729206  /gEU2QniE6E77NI6lCU6MxlNBvIx.jpg  \n",
       "2  1004558444  /qJ2tW6WMUDux911r6m7haRef0WH.jpg  \n",
       "3  2923706026  /kyeqWdyUXW608qlYkRqosgbbJyK.jpg  \n",
       "4  1518815515   /RYMX2wcKCBAr24UyPD7xwmjaTn.jpg  "
      ]
     },
     "execution_count": 19,
     "metadata": {},
     "output_type": "execute_result"
    }
   ],
   "source": [
    "df[['id', 'title', 'overview', 'revenue', 'poster_path']].head(5)"
   ]
  },
  {
   "cell_type": "code",
   "execution_count": 20,
   "metadata": {},
   "outputs": [],
   "source": [
    "movie_ids = df.id.tolist()\n",
    "movie_overviews = df.overview.tolist()\n",
    "# Create dictionaries\n",
    "Id2Title = dict(zip(df.id, df.original_title))\n",
    "Id2Overview = dict(zip(df.id, df.overview))\n",
    "Id2PosterPath = dict(zip(df.id, df.poster_path))\n",
    "Id2Revenue = dict(zip(df.id, df.revenue))"
   ]
  },
  {
   "cell_type": "markdown",
   "metadata": {},
   "source": [
    "## 向量表示"
   ]
  },
  {
   "cell_type": "code",
   "execution_count": 21,
   "metadata": {},
   "outputs": [],
   "source": [
    "from sentence_transformers import SentenceTransformer\n",
    "from sklearn.preprocessing import normalize\n",
    "model = SentenceTransformer('all-MiniLM-L6-v2')\n",
    "from typing import List, Dict, Tuple\n",
    "import faiss "
   ]
  },
  {
   "cell_type": "code",
   "execution_count": 22,
   "metadata": {},
   "outputs": [],
   "source": [
    "def get_movie_embeddings(\n",
    "    movie_ids:List[str], \n",
    "    movie_overviews:List[str], \n",
    "    model: SentenceTransformer,\n",
    "    batch_size: int = 32, \n",
    "    ) -> Dict[str, np.ndarray]:\n",
    "    \"\"\"\n",
    "    Generates normalized embeddings for movie overviews.\n",
    "\n",
    "    Args:\n",
    "        movie_ids: List of movie IDs.\n",
    "        movie_overviews: List of movie overviews.\n",
    "        model: Embedding model (e.g., SentenceTransformer).\n",
    "        batch_size: Batch size for processing.\n",
    "\n",
    "    Returns:\n",
    "        Dictionary mapping movie IDs to normalized embeddings.\n",
    "    \"\"\"\n",
    "    if len(movie_ids) != len(movie_overviews):\n",
    "        raise ValueError(\"movie_ids and movie_overviews must have the same length.\")\n",
    "\n",
    "    all_embeddings = []\n",
    "    for i in range(0, len(movie_ids), batch_size):\n",
    "        batch_movies = movie_overviews[i:i+batch_size]\n",
    "        try:\n",
    "            batch_embeddings = model.encode(batch_movies)\n",
    "            all_embeddings.extend(batch_embeddings)\n",
    "        except Exception as e:\n",
    "            print(f\"Error encoding batch {i}: {e}\")\n",
    "            raise\n",
    "    try:\n",
    "        all_embeddings_np = np.array(all_embeddings) #added numpy array conversion.\n",
    "        normalized_embeddings = normalize(all_embeddings_np, axis=1, norm='l2')\n",
    "    except Exception as e:\n",
    "        print(f\"Error normalizing embeddings: {e}\")\n",
    "        raise\n",
    "    # Create a hashmap; otherwise we cannot map from embeddings to distinct movies\n",
    "    # starting from Python 3.7, dictionaries (dict) preserve insertion order by default.\n",
    "    # Therefore, there is no need to sort\n",
    "    movie_embeddings = dict(zip(movie_ids, normalized_embeddings))\n",
    "    return movie_embeddings"
   ]
  },
  {
   "cell_type": "code",
   "execution_count": 23,
   "metadata": {},
   "outputs": [],
   "source": [
    "movie_embeddings = get_movie_embeddings(movie_ids, movie_overviews, model)"
   ]
  },
  {
   "cell_type": "markdown",
   "metadata": {},
   "source": [
    "## 搜索"
   ]
  },
  {
   "cell_type": "code",
   "execution_count": 24,
   "metadata": {},
   "outputs": [],
   "source": [
    "def prepare_faiss_index(\n",
    "    movie_embeddings: Dict[str, np.ndarray]) -> Tuple[faiss.Index, List[str]]:\n",
    "    \"\"\"\n",
    "    Prepares a FAISS index from movie embeddings.\n",
    "    \n",
    "    Args:\n",
    "        movie_embeddings: Dictionary of movie IDs to normalized embeddings.\n",
    "    \n",
    "    Returns:\n",
    "        Tuple of (FAISS index, ordered list of movie IDs)\n",
    "    \"\"\"\n",
    "    movie_ids = list(movie_embeddings.keys())\n",
    "    embeddings = np.array([movie_embeddings[mid] for mid in movie_ids])\n",
    "\n",
    "    #create and populate the index\n",
    "    dim = embeddings.shape[1]\n",
    "    index = faiss.IndexFlatIP(dim)\n",
    "    index.add(embeddings)\n",
    "\n",
    "    return index, movie_ids\n",
    "\n",
    "def search_movies(\n",
    "    faiss_index: faiss.Index,\n",
    "    movie_ids: List[str],\n",
    "    id2title_dict: Dict[int, str],\n",
    "    user_query: str,\n",
    "    model: SentenceTransformer,\n",
    "    k: int = 10,\n",
    ") -> Tuple[List[str], List[float]]:\n",
    "    \"\"\"\n",
    "    Searches movies based on a user query using Faiss and cosine similarity.\n",
    "\n",
    "    Args:\n",
    "        faiss_index: Pre-built FAISS index\n",
    "        movie_ids: Ordered list of movie IDs that corresponds to the index\n",
    "        id2title_dict: Dict mapping from movie IDs to movie titles\n",
    "        user_query: The user's search query.\n",
    "        model: SentenceTransformer model.\n",
    "        k: Number of results to return.\n",
    "\n",
    "    Returns:\n",
    "        Tuple, top K movie titles and their associated cosine similarity scores\n",
    "    \"\"\"\n",
    "    #embed and normalize the user query\n",
    "    query_embedding = model.encode([user_query])\n",
    "    normalized_query_embedding = normalize(query_embedding, axis = 1, norm = 'l2')\n",
    "\n",
    "    #search the index\n",
    "    similarities, indices = faiss_index.search(normalized_query_embedding, k)\n",
    "\n",
    "    #retrieve movie ids and similarity scores\n",
    "    top_k_ids = [movie_ids[i] for i in indices[0]]\n",
    "    top_k_titles = [id2title_dict[x] for x in top_k_ids]\n",
    "    top_k_scores = similarities[0]\n",
    "    return top_k_titles, top_k_scores"
   ]
  },
  {
   "cell_type": "code",
   "execution_count": 25,
   "metadata": {},
   "outputs": [],
   "source": [
    "faiss_index, movie_ids = prepare_faiss_index(movie_embeddings)\n",
    "user_query = \"NASA tried to rescue an astronaut stranded on Mars.\"\n",
    "results = search_movies(\n",
    "    faiss_index,\n",
    "    movie_ids,\n",
    "    Id2Title,\n",
    "    user_query,\n",
    "    model\n",
    ")"
   ]
  },
  {
   "cell_type": "code",
   "execution_count": 26,
   "metadata": {},
   "outputs": [
    {
     "data": {
      "text/plain": [
       "(['Infinity 7',\n",
       "  '2036 Origin Unknown',\n",
       "  'The Martian',\n",
       "  'Expedition Mars',\n",
       "  'Good Night Oppy',\n",
       "  'Infini',\n",
       "  'The Crystal Crypt',\n",
       "  'Life',\n",
       "  'Stowaway',\n",
       "  'Space Chimps'],\n",
       " array([0.5605497 , 0.5572939 , 0.55047965, 0.5243796 , 0.4685108 ,\n",
       "        0.46683478, 0.46465227, 0.4630142 , 0.462315  , 0.45956635],\n",
       "       dtype=float32))"
      ]
     },
     "execution_count": 26,
     "metadata": {},
     "output_type": "execute_result"
    }
   ],
   "source": [
    "results "
   ]
  },
  {
   "cell_type": "markdown",
   "metadata": {},
   "source": [
    "结果正确。"
   ]
  },
  {
   "cell_type": "markdown",
   "metadata": {},
   "source": [
    "## 走向云端\n",
    "\n",
    "现在的问题是，一个不懂计算机的用户，需要搜索电影，怎么办？他不会下载数据，也不会运行上面的代码。这是大部分用户的现状。解决办法是把我们算好的 `movie_embedding` 存在云端。\n",
    "\n",
    "我首先想到的一个办法是把我们的电影原始数据以及我们得到的向量表示 (Embedding) 储存在 MongoDB。然后，在一个 Web App (网页应用程序，你可以理解为一个网站) 上，把这个数据和向量表示下载下来，然后根据用户的搜索，给出最相似的电影推荐。这个办法可行，但是很慢。\n",
    "\n",
    "更好的办法是使用专门用来做向量搜索的数据库。这些向量库有自己的储存和搜索方法，我们不需要用上面的 FAISS。只需要把所有的 embedding 存入。搜索的时候，给一个向量，这些向量库会进行优化搜素，快速给出结果。\n",
    "\n",
    "### Qdrant\n",
    "\n",
    "我先试了一下 [Qdrant](https://qdrant.tech/)。\n",
    "\n",
    "免费版暂时够用了。\n",
    "\n",
    "首先需要运行：\n",
    "\n",
    "```sh\n",
    "pip install qdrant-client\n",
    "```"
   ]
  },
  {
   "cell_type": "code",
   "execution_count": 27,
   "metadata": {},
   "outputs": [],
   "source": [
    "import os \n",
    "# `pip install python-dotenv` first\n",
    "from dotenv import load_dotenv\n",
    "load_dotenv()\n",
    "url = os.getenv(\"QDRANT_MOVIE\")\n",
    "api_key = os.getenv(\"QDRANT_API_KEY\")\n",
    "\n",
    "from qdrant_client import QdrantClient\n",
    "from qdrant_client.models import VectorParams, Distance\n",
    "import uuid\n",
    "\n",
    "qdrant_client = QdrantClient(\n",
    "    url=url,\n",
    "    api_key=api_key\n",
    ")"
   ]
  },
  {
   "cell_type": "code",
   "execution_count": 28,
   "metadata": {},
   "outputs": [
    {
     "name": "stdout",
     "output_type": "stream",
     "text": [
      "Deleted existing collection\n",
      "Uploaded batch 1/11\n",
      "Uploaded batch 2/11\n",
      "Uploaded batch 3/11\n",
      "Uploaded batch 4/11\n",
      "Uploaded batch 5/11\n",
      "Uploaded batch 6/11\n",
      "Uploaded batch 7/11\n",
      "Uploaded batch 8/11\n",
      "Uploaded batch 9/11\n",
      "Uploaded batch 10/11\n",
      "Uploaded batch 11/11\n"
     ]
    }
   ],
   "source": [
    "try:\n",
    "    qdrant_client.delete_collection(collection_name='movies')\n",
    "    print(\"Deleted existing collection\")\n",
    "except Exception as e:\n",
    "    print(f\"Collection might not exist yet: {e}\")\n",
    "\n",
    "# Create the collection first\n",
    "vector_size = len(next(iter(movie_embeddings.values())))\n",
    "qdrant_client.create_collection(\n",
    "    collection_name=\"movies\",\n",
    "    vectors_config=VectorParams(\n",
    "        size=vector_size,\n",
    "        distance=Distance.COSINE\n",
    "    )\n",
    ")\n",
    "\n",
    "# Qdrant requires ids to be strs, not int\n",
    "def int2uuid(i:int):\n",
    "    return str(uuid.uuid5(uuid.NAMESPACE_DNS, str(i)))\n",
    "\n",
    "batch_size = 1_000 \n",
    "for i in range(0, len(movie_ids), batch_size):\n",
    "    batch_ids = movie_ids[i:i+batch_size]\n",
    "    batch_vectors = []\n",
    "    for movie_id in batch_ids:\n",
    "        batch_vectors.append({\n",
    "        'id': movie_id,\n",
    "        'vector': movie_embeddings[movie_id].tolist(),\n",
    "        'payload': {\n",
    "            'title': Id2Title.get(movie_id, ''),\n",
    "            'overview': Id2Overview.get(movie_id, \"\"),\n",
    "            'poster_path': Id2PosterPath.get(movie_id, \"\"),\n",
    "            'revenue': Id2Revenue.get(movie_id, \"\")\n",
    "        }\n",
    "    })\n",
    "    qdrant_client.upsert(\n",
    "        collection_name = 'movies',\n",
    "        points = batch_vectors\n",
    "    )\n",
    "    print(f\"Uploaded batch {i//batch_size + 1}/{(len(movie_ids)-1)//batch_size + 1}\")"
   ]
  },
  {
   "cell_type": "markdown",
   "metadata": {},
   "source": [
    "这里上传的时候我们为什么用到批量处理？\n",
    "\n",
    "首先，为什么我们不一个一个上传？\n",
    "- 第一，速度慢。每一个 `upsert` 都是一次独立的网络请求。网络请求会带来一些固定的开销，比如建立连接、发送请求头、等待服务器响应等。如果逐个上传，这些开销会累积起来，导致传输速度非常慢。\n",
    "- 第二，服务器端数据库的处理速度。向量库的设计就是为了批量处理。批量上传可以使数据库更快完成数据处理 (建立索引和其他操作)。逐个上传会增加数据库的负担，降低效率。\n",
    "\n",
    "那为什么不一次把一万个上传上去，而是分成 11 个批次？\n",
    "- 第一，一般 API 每次请求都有文件大小限制，一万条数据我怕超额。\n",
    "- 第二，内存消耗，大型请求无论是在客户端还是服务器端都需要大量内存。一次上传所有数据可能导致内存不足，引发程序崩溃或降低性能。\n",
    "- 第三，网络稳定性。大型请求容易造成网络中断。如果上传过程中出现中断，那整个操作都失败了，我们一条数据都没上传成功，需要从头开始。"
   ]
  },
  {
   "cell_type": "code",
   "execution_count": 29,
   "metadata": {},
   "outputs": [],
   "source": [
    "def search_qdrant(\n",
    "    query_text:str, model:SentenceTransformer, top_k:int = 5):\n",
    "    query_embedding = model.encode([query_text])\n",
    "    normalized_query = normalize(query_embedding, axis = 1, norm='l2')\n",
    "\n",
    "    results = qdrant_client.query_points(\n",
    "        collection_name = 'movies',\n",
    "        query=normalized_query[0].tolist(),\n",
    "        limit=top_k\n",
    "    )\n",
    "    movies = []\n",
    "    for result in results.points:\n",
    "        movies.append({\n",
    "            'title': result.payload['title'],\n",
    "            'overview': result.payload['overview'],\n",
    "            'similarity_score': result.score\n",
    "        })\n",
    "    return movies "
   ]
  },
  {
   "cell_type": "markdown",
   "metadata": {},
   "source": [
    "更多的 Qdrant Search 请参考官方文档：[https://qdrant.tech/documentation/concepts/search/](https://qdrant.tech/documentation/concepts/search/)。"
   ]
  },
  {
   "cell_type": "code",
   "execution_count": 30,
   "metadata": {},
   "outputs": [
    {
     "data": {
      "text/plain": [
       "[{'title': 'Infinity 7',\n",
       "  'overview': 'A lone astronaut’s spacecraft malfunctions, threatening to leave him stranded in orbit forever.',\n",
       "  'similarity_score': 0.5605497},\n",
       " {'title': '2036 Origin Unknown',\n",
       "  'overview': \"After the first manned mission to Mars ends in a deadly crash, mission controller Mackenzie 'Mack' Wilson assists an artificial intelligence system, A.R.T.I. Their investigation uncovers a mysterious object under the surface of Mars that could change the future of our planet as we know it.\",\n",
       "  'similarity_score': 0.55729395},\n",
       " {'title': 'The Martian',\n",
       "  'overview': 'During a manned mission to Mars, Astronaut Mark Watney is presumed dead after a fierce storm and left behind by his crew. But Watney has survived and finds himself stranded and alone on the hostile planet. With only meager supplies, he must draw upon his ingenuity, wit and spirit to subsist and find a way to signal to Earth that he is alive.',\n",
       "  'similarity_score': 0.55047965},\n",
       " {'title': 'Expedition Mars',\n",
       "  'overview': \"Expedition Mars brings to life one of the greatest sagas of the Space Age, the epic adventures of Spirit and Opportunity, the rovers that saved NASA's Mars program after a string of failures in the 1990's.\",\n",
       "  'similarity_score': 0.5243797},\n",
       " {'title': 'Good Night Oppy',\n",
       "  'overview': 'The inspirational true story of Opportunity, a rover that was sent to Mars for a 90-day mission but ended up surviving for 15 years. Follow Opportunity’s groundbreaking journey on Mars and the remarkable bond forged between a robot and her humans millions of miles away.',\n",
       "  'similarity_score': 0.4685108}]"
      ]
     },
     "execution_count": 30,
     "metadata": {},
     "output_type": "execute_result"
    }
   ],
   "source": [
    "user_query = \"NASA tried to rescue an astronaut stranded on Mars.\"\n",
    "search_qdrant(query_text=user_query, model=model)"
   ]
  },
  {
   "cell_type": "markdown",
   "metadata": {},
   "source": [
    "### Pinecone\n",
    "\n",
    "也可以用 [Pinecone](https://www.pinecone.io/)。首先，\n",
    "\n",
    "```bash\n",
    "pip install pinecone\n",
    "```"
   ]
  },
  {
   "cell_type": "code",
   "execution_count": 31,
   "metadata": {},
   "outputs": [
    {
     "name": "stdout",
     "output_type": "stream",
     "text": [
      "Deleting existing index: movies!\n",
      "Uploaded batch 1/11\n",
      "Uploaded batch 2/11\n",
      "Uploaded batch 3/11\n",
      "Uploaded batch 4/11\n",
      "Uploaded batch 5/11\n",
      "Uploaded batch 6/11\n",
      "Uploaded batch 7/11\n",
      "Uploaded batch 8/11\n",
      "Uploaded batch 9/11\n",
      "Uploaded batch 10/11\n",
      "Uploaded batch 11/11\n"
     ]
    }
   ],
   "source": [
    "\n",
    "from pinecone import Pinecone, ServerlessSpec\n",
    "\n",
    "pinecone_api_key = api_key = os.getenv(\"PINECONE_API_KEY\")\n",
    "pc = Pinecone(api_key=pinecone_api_key)\n",
    "\n",
    "index_name = \"movies\"\n",
    "\n",
    "# Get the list of index names from the dictionaries\n",
    "existing_indexes = [index[\"name\"] for index in pc.list_indexes()]\n",
    "\n",
    "if index_name in existing_indexes:\n",
    "    print(f\"Deleting existing index: {index_name}!\")\n",
    "    pc.delete_index(index_name)\n",
    "else:\n",
    "    print(f\"Index '{index_name}' does not exist.\")\n",
    "\n",
    "vector_size = len(next(iter(movie_embeddings.values())))\n",
    "\n",
    "pc.create_index(\n",
    "    name=index_name,\n",
    "    dimension=vector_size, # Replace with your model dimensions\n",
    "    metric=\"cosine\", # Replace with your model metric\n",
    "    spec=ServerlessSpec(\n",
    "        cloud=\"aws\",\n",
    "        region=\"us-east-1\"\n",
    "    ) \n",
    ")\n",
    "\n",
    "# Get the index object\n",
    "index = pc.Index(index_name)\n",
    "\n",
    "batch_size = 1_000\n",
    "for i in range(0, len(movie_ids), batch_size):\n",
    "    batch_ids = movie_ids[i:i+batch_size]\n",
    "    batch_vectors = []\n",
    "    for movie_id in batch_ids:\n",
    "        batch_vectors.append({\n",
    "            'id': str(movie_id),\n",
    "            'values': movie_embeddings[movie_id].tolist(),\n",
    "            'metadata':{\n",
    "                'title': Id2Title.get(movie_id, ''),\n",
    "                'overview': Id2Overview.get(movie_id, \"\"),\n",
    "                'poster_path': Id2PosterPath.get(movie_id, \"\"),\n",
    "                'revenue': Id2Revenue.get(movie_id, \"\")\n",
    "            }\n",
    "        })\n",
    "    index.upsert(vectors = batch_vectors)\n",
    "    print(f\"Uploaded batch {i//batch_size + 1}/{(len(movie_ids)-1)//batch_size + 1}\")"
   ]
  },
  {
   "cell_type": "markdown",
   "metadata": {},
   "source": [
    "这里我的直观感受是 Qdrant 的上传速度比 Pinecone 快一倍。"
   ]
  },
  {
   "cell_type": "code",
   "execution_count": 32,
   "metadata": {},
   "outputs": [],
   "source": [
    "def search_pinecone(\n",
    "    query_text:str, \n",
    "    model:SentenceTransformer, \n",
    "    top_k:int = 5):\n",
    "    query_embedding = model.encode([query_text])\n",
    "    normalized_query = normalize(query_embedding, axis = 1, norm='l2')\n",
    "\n",
    "    results = index.query(\n",
    "        vector=normalized_query[0].tolist(),\n",
    "        top_k=top_k,\n",
    "        include_metadata=True\n",
    "    )\n",
    "\n",
    "    # Format results\n",
    "    movies = []\n",
    "    for match in results['matches']:\n",
    "        movies.append({\n",
    "            \"title\": match['metadata']['title'],\n",
    "            \"overview\": match['metadata']['overview'],\n",
    "            \"similarity_score\": match['score']\n",
    "        })\n",
    "    \n",
    "    return movies"
   ]
  },
  {
   "cell_type": "code",
   "execution_count": 33,
   "metadata": {},
   "outputs": [
    {
     "data": {
      "text/plain": [
       "[{'title': 'Infinity 7',\n",
       "  'overview': 'A lone astronaut’s spacecraft malfunctions, threatening to leave him stranded in orbit forever.',\n",
       "  'similarity_score': 0.560549676},\n",
       " {'title': '2036 Origin Unknown',\n",
       "  'overview': \"After the first manned mission to Mars ends in a deadly crash, mission controller Mackenzie 'Mack' Wilson assists an artificial intelligence system, A.R.T.I. Their investigation uncovers a mysterious object under the surface of Mars that could change the future of our planet as we know it.\",\n",
       "  'similarity_score': 0.557293892},\n",
       " {'title': 'The Martian',\n",
       "  'overview': 'During a manned mission to Mars, Astronaut Mark Watney is presumed dead after a fierce storm and left behind by his crew. But Watney has survived and finds himself stranded and alone on the hostile planet. With only meager supplies, he must draw upon his ingenuity, wit and spirit to subsist and find a way to signal to Earth that he is alive.',\n",
       "  'similarity_score': 0.55047965},\n",
       " {'title': 'Expedition Mars',\n",
       "  'overview': \"Expedition Mars brings to life one of the greatest sagas of the Space Age, the epic adventures of Spirit and Opportunity, the rovers that saved NASA's Mars program after a string of failures in the 1990's.\",\n",
       "  'similarity_score': 0.524379611},\n",
       " {'title': 'Good Night Oppy',\n",
       "  'overview': 'The inspirational true story of Opportunity, a rover that was sent to Mars for a 90-day mission but ended up surviving for 15 years. Follow Opportunity’s groundbreaking journey on Mars and the remarkable bond forged between a robot and her humans millions of miles away.',\n",
       "  'similarity_score': 0.468510807}]"
      ]
     },
     "execution_count": 33,
     "metadata": {},
     "output_type": "execute_result"
    }
   ],
   "source": [
    "user_query = \"NASA tried to rescue an astronaut stranded on Mars.\"\n",
    "search_pinecone(query_text=user_query, model=model)"
   ]
  },
  {
   "cell_type": "markdown",
   "metadata": {},
   "source": [
    "结果和上面一样。\n",
    "\n",
    "### 其他选择\n",
    "\n",
    "- [Chroma](https://www.trychroma.com/) 看上去也不错，但是需要 self-host，比较麻烦。\n",
    "- [Azure Cosmos DB](https://learn.microsoft.com/en-us/azure/cosmos-db/vector-database)\n",
    "- [Milvus](https://milvus.io/) 和 [zilliz](https://zilliz.com/pricing) 一起。\n",
    "\n",
    "## 构建 API\n",
    "\n",
    "现在的问题是，我们依然是用代码才能做这些事情。而真正的用户大部分是不懂代码的。我们如何让他们直接输入搜索文本，然后给他们返回结果？这就需要用到 API。也就是说，把搜索文本向量化、搜索、返回搜索结果，都在网络上完成。\n",
    "\n",
    "比如，打开 [https://htmovies.vercel.app/api/search?q=%22NASA%22&k=5](https://htmovies.vercel.app/api/search?q=%22NASA%22&k=5)。你会看到 JSON 结果。这就是 API 的作用。\n",
    "\n",
    "我用 [FastAPI](/cn/2024/09/01/fastapi/) 做了一个 API。代码如下："
   ]
  },
  {
   "cell_type": "code",
   "execution_count": 34,
   "metadata": {},
   "outputs": [],
   "source": [
    "#|code-fold:true\n",
    "\n",
    "from fastapi import FastAPI, HTTPException, Query\n",
    "from fastapi.middleware.cors import CORSMiddleware\n",
    "from pydantic import BaseModel\n",
    "from typing import List, Optional\n",
    "from sentence_transformers import SentenceTransformer\n",
    "from sklearn.preprocessing import normalize\n",
    "from qdrant_client import QdrantClient\n",
    "import os\n",
    "from dotenv import load_dotenv\n",
    "import numpy as np\n",
    "\n",
    "# Load environment variables\n",
    "load_dotenv()\n",
    "\n",
    "# Initialize FastAPI app\n",
    "app = FastAPI(\n",
    "    title=\"Movie Search API\",\n",
    "    description=\"Search for movies using semantic similarity\",\n",
    "    version=\"1.0.0\"\n",
    ")\n",
    "\n",
    "# Add CORS middleware to allow cross-origin requests (important for web clients)\n",
    "app.add_middleware(\n",
    "    CORSMiddleware,\n",
    "    allow_origins=[\"*\"],  # Allows all origins\n",
    "    allow_credentials=True,\n",
    "    allow_methods=[\"*\"],  # Allows all methods\n",
    "    allow_headers=[\"*\"],  # Allows all headers\n",
    ")\n",
    "\n",
    "# Initialize Qdrant client\n",
    "qdrant_url = os.getenv(\"QDRANT_MOVIE\")\n",
    "qdrant_api_key = os.getenv(\"QDRANT_API_KEY\")\n",
    "\n",
    "qdrant_client = QdrantClient(\n",
    "    url=qdrant_url,\n",
    "    api_key=qdrant_api_key\n",
    ")\n",
    "\n",
    "# Initialize the SentenceTransformer model (load it only once at startup)\n",
    "model = SentenceTransformer('all-MiniLM-L6-v2')\n",
    "\n",
    "# Define response model for better documentation and type checking\n",
    "class MovieSearchResult(BaseModel):\n",
    "    title: str\n",
    "    overview: str\n",
    "    imdb_id: str\n",
    "    similarity_score: float\n",
    "\n",
    "class SearchResponse(BaseModel):\n",
    "    movies: List[MovieSearchResult]\n",
    "    query: str\n",
    "\n",
    "@app.get(\"/\")\n",
    "async def root():\n",
    "    return {\n",
    "        \"message\": \"Welcome to Movie Search API!\",\n",
    "        \"docs\": \"/docs\",\n",
    "        \"usage\": \"Send GET requests to /search?query=your search text\"\n",
    "    }\n",
    "\n",
    "@app.get(\"/search\", response_model=SearchResponse)\n",
    "async def search_movies(\n",
    "    query: str = Query(..., description=\"The search query to find similar movies\"),\n",
    "    top_k: int = Query(5, ge=1, le=50, description=\"Number of results to return\")\n",
    "):\n",
    "    try:\n",
    "        # Encode the query text\n",
    "        query_embedding = model.encode([query])\n",
    "        normalized_query = normalize(query_embedding, axis=1, norm='l2')\n",
    "        \n",
    "        # Search in Qdrant\n",
    "        results = qdrant_client.search(\n",
    "            collection_name='movies',\n",
    "            query_vector=normalized_query[0].tolist(),\n",
    "            limit=top_k\n",
    "        )\n",
    "        \n",
    "        # Format the results\n",
    "        movies = []\n",
    "        for result in results:\n",
    "            movies.append(MovieSearchResult(\n",
    "                title=result.payload['title'],\n",
    "                overview=result.payload['overview'],\n",
    "                imdb_id=result.payload['imdb_id'],\n",
    "                similarity_score=result.score\n",
    "            ))\n",
    "        \n",
    "        return SearchResponse(\n",
    "            movies=movies,\n",
    "            query=query\n",
    "        )\n",
    "    \n",
    "    except Exception as e:\n",
    "        # Log the error (you might want to use a proper logging system)\n",
    "        print(f\"Error during search: {e}\")\n",
    "        raise HTTPException(status_code=500, detail=f\"Search failed: {str(e)}\")\n",
    "\n",
    "@app.get(\"/health\")\n",
    "async def health_check():\n",
    "    \"\"\"Health check endpoint to verify the service is running\"\"\"\n",
    "    return {\"status\": \"healthy\"}"
   ]
  },
  {
   "cell_type": "markdown",
   "metadata": {},
   "source": [
    "在本地运行没问题：\n",
    "\n",
    "{{< figure src=\"/media/cnblog/movie_api_search1.png\" title=\"本地运行 FastAPI\">}}\n",
    "\n",
    "{{< figure src=\"/media/cnblog/movie_api_search2.png\" title=\"本地运行 FastAPI\">}}\n",
    "\n",
    "但是部署到 Vercel 没成功：\n",
    "\n",
    "{{< figure src=\"/media/cnblog/movie_api_search3.png\" title=\"Vercel 部署 FastAPI 失败\">}}\n",
    "\n",
    "这是因为我们需要的包太多了\n",
    "\n",
    "```md\n",
    "fastapi[standard]\n",
    "sentence_transformers\n",
    "qdrant_client\n",
    "python-dotenv==1.0.0\n",
    "scikit-learn==1.3.2\n",
    "```\n",
    "\n",
    "超过了 Vercel 允许的大小限制。\n",
    "\n",
    "最好的办法是找一个适合 ML/LLM 项目的部署平台。我试过免费的 render.com 但是太慢了，因为有休眠限制。\n",
    "\n",
    "第一个解决办法是用封装好的 embedding，比如 DeepSeek OpenAI Gemini 等，这样就不需要 `sentence_transformer` 这么大的包。按道理就可以部署到 Vercel。\n",
    "\n",
    "第二个解决办法是使用专业的 API 部署平台，比如 Google Cloud Platform, Azure, AWS 或者小公司，比如 fly.io, railway.app, heroku.com 等。\n",
    "\n",
    "## 选择大语言模型\n",
    "\n",
    "具体用哪条路需要结合具体的需求。\n",
    "\n",
    "如果使用第一种办法，也就是用大公司提供的 embedding 接口，好处是这意味着我都不需要有后端 (backend)。为什么？因为原始数据的存储和向量搜索都在向量库进行，那我用前端直接处理用户搜索文本，然后导出结果，只需要和 embedding 接口交流就好，根本不需要自己部署后端。\n",
    "\n",
    "第二种办法的好处是，如果是一个大型项目，需要用户注册、登陆，那一般情况下就需要自己部署 API 了。那既然自己都部署了，何不一步到位，用 Python 进行向量搜索？\n",
    "\n",
    "我这里暂时用第一种办法。理由有两个：1）我想试一下 DeepSeek 的 embedding；2）我暂时不需要用户注册、登陆。\n",
    "\n",
    "开工！\n",
    "\n",
    "我首先想到去 [DeepSeek Platform](https://platform.deepseek.com/) 申请 API Key，但是发现 [DeepSeek 暂未支持 embedding model](https://github.com/deepseek-ai/DeepSeek-V2/issues/67#issuecomment-2560536750)。\n",
    "\n",
    "我目前想到的有以下几个：\n",
    "\n",
    "- [Google Gemini](https://ai.google.dev/gemini-api/docs/embeddings)。他家四天前刚出了 [gemini-embedding-exp-03-07](https://developers.googleblog.com/en/gemini-embedding-text-model-now-available-gemini-api/)，我还挺想用一下。\n",
    "- [OpenAI Vector Embeddings](https://platform.openai.com/docs/guides/embeddings)，老熟人了。不免费，但 embedding 这种一般不太贵。\n",
    "- [Cohere Embed](https://docs.cohere.com/v2/reference/embed)，有[免费的额度](https://docs.cohere.com/v2/docs/rate-limits)。\n",
    "\n",
    "咱们来试一下 Google 吧。"
   ]
  },
  {
   "cell_type": "code",
   "execution_count": 35,
   "metadata": {},
   "outputs": [],
   "source": [
    "import google.generativeai as genai\n",
    "import os\n",
    "\n",
    "GEMINI_API_KEY = os.getenv(\"GEMINI_API_KEY\")\n",
    "\n",
    "genai.configure(api_key=GEMINI_API_KEY)"
   ]
  },
  {
   "cell_type": "code",
   "execution_count": 36,
   "metadata": {},
   "outputs": [
    {
     "name": "stdout",
     "output_type": "stream",
     "text": [
      "gemini-embedding-exp-03-07 的 output 维度为 3072\n",
      "text-embedding-004 的 output 维度为 768\n"
     ]
    }
   ],
   "source": [
    "#|code-fold:true\n",
    "\n",
    "#测试embedding\n",
    "embedding_model = genai.embed_content(model=\"models/gemini-embedding-exp-03-07\", content=\"test\")\n",
    "\n",
    "print(f\"gemini-embedding-exp-03-07 的 output 维度为 {len(embedding_model['embedding'])}\")\n",
    "\n",
    "embedding_model = genai.embed_content(model=\"models/text-embedding-004\", content=\"Where is France?\")\n",
    "\n",
    "print(f\"text-embedding-004 的 output 维度为 {len(embedding_model['embedding'])}\")"
   ]
  },
  {
   "cell_type": "markdown",
   "metadata": {},
   "source": [
    "虽然 `gemini-embedding-exp-03-07` 效能好，但是它太大了啊，弃用之。使用 `text-embedding-004` 模型。\n",
    "\n",
    "另外，我好奇 `text-embedding-004` 的结果是否已经归一化："
   ]
  },
  {
   "cell_type": "code",
   "execution_count": 37,
   "metadata": {},
   "outputs": [
    {
     "name": "stdout",
     "output_type": "stream",
     "text": [
      "L2 范数：0.9999994075498208\n",
      "向量已进行 L2 归一化\n"
     ]
    }
   ],
   "source": [
    "norm = np.linalg.norm(embedding_model['embedding'])\n",
    "\n",
    "print(f\"L2 范数：{norm}\")\n",
    "if np.isclose(norm, 1):\n",
    "    print(\"向量已进行 L2 归一化\")\n",
    "else:\n",
    "    print(\"向量未进行 L2 归一化\")"
   ]
  },
  {
   "cell_type": "markdown",
   "metadata": {},
   "source": [
    "既然它已经进行归一化，我们就不用操作了，直接用它的结果就好。"
   ]
  },
  {
   "cell_type": "code",
   "execution_count": 38,
   "metadata": {},
   "outputs": [],
   "source": [
    "def get_gemini_embeddings(texts:List[str]) -> np.ndarray:\n",
    "    embeddings = []\n",
    "    for text in texts:\n",
    "        response = genai.embed_content(\n",
    "            model=\"models/text-embedding-004\", \n",
    "            content=text)\n",
    "        embeddings.append(response['embedding'])\n",
    "    return np.array(embeddings)"
   ]
  },
  {
   "cell_type": "markdown",
   "metadata": {},
   "source": [
    "然后我们直接用上面的代码，只需要加入 `get_gemini_embeddings` 即可："
   ]
  },
  {
   "cell_type": "code",
   "execution_count": 39,
   "metadata": {},
   "outputs": [
    {
     "name": "stdout",
     "output_type": "stream",
     "text": [
      "Deleted existing collection\n"
     ]
    },
    {
     "data": {
      "text/plain": [
       "True"
      ]
     },
     "execution_count": 39,
     "metadata": {},
     "output_type": "execute_result"
    }
   ],
   "source": [
    "try:\n",
    "    qdrant_client.delete_collection(collection_name='movies_genai')\n",
    "    print(\"Deleted existing collection\")\n",
    "except Exception as e:\n",
    "    print(f\"Collection might not exist yet: {e}\")\n",
    "\n",
    "# Create the collection first\n",
    "embeddings = get_gemini_embeddings([movie_overviews[0]])\n",
    "vector_size = len(embeddings[0])\n",
    "qdrant_client.create_collection(\n",
    "    collection_name=\"movies_genai\",\n",
    "    vectors_config=VectorParams(\n",
    "        size=vector_size,\n",
    "        distance=Distance.COSINE\n",
    "    )\n",
    ")"
   ]
  },
  {
   "cell_type": "markdown",
   "metadata": {},
   "source": [
    "我一开始的代码在这里："
   ]
  },
  {
   "cell_type": "code",
   "execution_count": 40,
   "metadata": {},
   "outputs": [],
   "source": [
    "#|code-fold:true \n",
    "\n",
    "# batch_size = 100 \n",
    "# total_batches = (len(movie_ids) - 1)//batch_size + 1\n",
    "# for i in tqdm(\n",
    "#     range(0, len(movie_ids), batch_size), \n",
    "#     total=total_batches,\n",
    "#     desc=\"Uploading batches\"\n",
    "# ):\n",
    "#     batch_ids = movie_ids[i:i+batch_size]\n",
    "#     batch_overviews = movie_overviews[i:i + batch_size]\n",
    "#     try:\n",
    "#         batch_embeddings = get_gemini_embeddings(batch_overviews)\n",
    "\n",
    "#         points = []\n",
    "#         for j, movie_id in enumerate(batch_ids):\n",
    "#             # Generate a UUID for each movie ID\n",
    "#             point_id = str(uuid.uuid4()) \n",
    "#             points.append({\n",
    "#                 'id': point_id,\n",
    "#                 'vector': batch_embeddings[j].tolist(),\n",
    "#                 'payload': {\n",
    "#                     'title': Id2Title.get(movie_id, ''),\n",
    "#                     'overview': Id2Overview.get(movie_id, \"\"),\n",
    "#                     'imdb_id': movie_id,\n",
    "#                 }\n",
    "#             })\n",
    "#         qdrant_client.upsert(\n",
    "#             collection_name = 'movies_gemini',\n",
    "#             points = points\n",
    "#         )\n",
    "#         time.sleep(1)\n",
    "#     except Exception as e:\n",
    "#         print(f\"Error uploading batch {i //batch_size + 1}: {e}\")"
   ]
  },
  {
   "cell_type": "markdown",
   "metadata": {},
   "source": [
    "问题是太慢了。下面我们用到多线程并行计算。具体来说，是 Task parallelism。教程可以参考我写的 [A Super Brief Introduction to Parallel Computing](https://github.com/hongtaoh/paracomputing)。\n",
    "\n",
    "需要注意的是，谷歌的限制是每分钟 1500 个请求。不要超过。"
   ]
  },
  {
   "cell_type": "code",
   "execution_count": 41,
   "metadata": {},
   "outputs": [],
   "source": [
    "from concurrent.futures import ThreadPoolExecutor\n",
    "import threading \n",
    "from tqdm import tqdm \n",
    "\n",
    "def process_one_batch(batch_ids, batch_overviews):\n",
    "    try:\n",
    "        batch_embeddings = get_gemini_embeddings(batch_overviews)\n",
    "        points = []\n",
    "        for j, movie_id in enumerate(batch_ids):\n",
    "            points.append({\n",
    "                'id': movie_id,\n",
    "                'vector': batch_embeddings[j].tolist(),\n",
    "                'payload': {\n",
    "                    'title': Id2Title.get(movie_id, ''),\n",
    "                    'overview': Id2Overview.get(movie_id, \"\"),\n",
    "                    'poster_path': Id2PosterPath.get(movie_id, \"\"),\n",
    "                    'revenue': Id2Revenue.get(movie_id, \"\")\n",
    "                }\n",
    "            })\n",
    "        qdrant_client.upsert(\n",
    "            collection_name = 'movies_genai',\n",
    "            points = points\n",
    "        )\n",
    "        return True \n",
    "    except Exception as e:\n",
    "        print(f\"Error uploading batch: {e}\")\n",
    "        return False "
   ]
  },
  {
   "cell_type": "code",
   "execution_count": 42,
   "metadata": {},
   "outputs": [
    {
     "name": "stderr",
     "output_type": "stream",
     "text": [
      "Uploading batches: 100%|██████████| 59/59 [09:48<00:00,  9.98s/it]"
     ]
    },
    {
     "name": "stdout",
     "output_type": "stream",
     "text": [
      "成功处理 59/59 批次\n"
     ]
    },
    {
     "name": "stderr",
     "output_type": "stream",
     "text": [
      "\n"
     ]
    }
   ],
   "source": [
    "# #|code-fold:true\n",
    "\n",
    "# batch_size = 180\n",
    "# all_batches = []\n",
    "# for i in range(0, len(movie_ids), batch_size):\n",
    "#     batch_ids = movie_ids[i:i+batch_size]\n",
    "#     batch_overviews = movie_overviews[i:i + batch_size]\n",
    "#     all_batches.append((batch_ids, batch_overviews))\n",
    "\n",
    "# max_workers = 3 # 同时进行 3 个线程\n",
    "# with ThreadPoolExecutor(max_workers=max_workers) as executor:\n",
    "#     results = list(tqdm(\n",
    "#         executor.map(lambda batch: process_one_batch(batch[0], batch[1]), all_batches),\n",
    "#         total=len(all_batches),\n",
    "#         desc=\"Uploading batches\"\n",
    "#     ))\n",
    "\n",
    "# # 统计成功数量\n",
    "# successful_batches = results.count(True)\n",
    "# print(f\"成功处理 {successful_batches}/{len(all_batches)} 批次\")"
   ]
  },
  {
   "cell_type": "markdown",
   "metadata": {},
   "source": [
    "我们看到用了 10 分钟处理完了。\n",
    "\n",
    "![](./img/qdrant-movies-gemini.png)\n",
    "\n",
    "接下来，我们来试一下搜索。需要重新写 `search_qdrant` 因为我们需要用 Google-Gemini 来给搜索文本一个向量表示，而不是之前的 `sentence_transformer` 模型。"
   ]
  },
  {
   "cell_type": "code",
   "execution_count": 43,
   "metadata": {},
   "outputs": [],
   "source": [
    "def search_qdrant(\n",
    "    query_text:str, top_k:int = 5):\n",
    "    # 使用 Google-Gemini 而不是我们之前的 model\n",
    "    query_embeddings = get_gemini_embeddings([query_text])\n",
    "\n",
    "    results = qdrant_client.query_points(\n",
    "        collection_name = 'movies_genai',\n",
    "        query=query_embeddings[0].tolist(),\n",
    "        limit=top_k\n",
    "    )\n",
    "    movies = []\n",
    "    for result in results.points:\n",
    "        movies.append({\n",
    "            'title': result.payload['title'],\n",
    "            'overview': result.payload['overview'],\n",
    "            'similarity_score': result.score\n",
    "        })\n",
    "    return movies "
   ]
  },
  {
   "cell_type": "code",
   "execution_count": 44,
   "metadata": {},
   "outputs": [
    {
     "data": {
      "text/plain": [
       "[{'title': 'Infinity 7',\n",
       "  'overview': 'A lone astronaut’s spacecraft malfunctions, threatening to leave him stranded in orbit forever.',\n",
       "  'similarity_score': 0.66411316},\n",
       " {'title': 'The Martian',\n",
       "  'overview': 'During a manned mission to Mars, Astronaut Mark Watney is presumed dead after a fierce storm and left behind by his crew. But Watney has survived and finds himself stranded and alone on the hostile planet. With only meager supplies, he must draw upon his ingenuity, wit and spirit to subsist and find a way to signal to Earth that he is alive.',\n",
       "  'similarity_score': 0.6351051},\n",
       " {'title': 'Stowaway',\n",
       "  'overview': 'A three-person crew on a mission to Mars faces an impossible choice when an unplanned passenger jeopardizes the lives of everyone on board.',\n",
       "  'similarity_score': 0.6208103},\n",
       " {'title': 'Passage to Mars',\n",
       "  'overview': 'A NASA Arctic expedition designed to be the first Martian road trip on Earth becomes an epic two-year odyssey of human adventure and survival.',\n",
       "  'similarity_score': 0.57813585},\n",
       " {'title': 'The Space Between Us',\n",
       "  'overview': 'A young man raised by scientists on Mars returns to Earth to find his father.',\n",
       "  'similarity_score': 0.5646328}]"
      ]
     },
     "execution_count": 44,
     "metadata": {},
     "output_type": "execute_result"
    }
   ],
   "source": [
    "user_query = \"NASA tried to rescue an astronaut stranded on Mars.\"\n",
    "search_qdrant(query_text=user_query)"
   ]
  },
  {
   "cell_type": "markdown",
   "metadata": {},
   "source": [
    "结果和上面不一样。但都差不多。\n",
    "\n",
    "我们来看一下用中文怎么样："
   ]
  },
  {
   "cell_type": "code",
   "execution_count": 45,
   "metadata": {},
   "outputs": [
    {
     "data": {
      "text/plain": [
       "[{'title': 'Operation Avalanche',\n",
       "  'overview': 'In 1967, four undercover CIA agents were sent to NASA posing as a documentary film crew. What they discovered led to one of the biggest conspiracies in American history.',\n",
       "  'similarity_score': 0.5311955},\n",
       " {'title': 'Apollo 18',\n",
       "  'overview': \"Officially, Apollo 17 was the last manned mission to the moon. But a year later in 1973, three American astronauts were sent on a secret mission to the moon funded by the US Department of Defense. What you are about to see is the actual footage which the astronauts captured on that mission. While NASA denies its authenticity, others say it's the real reason we've never gone back to the moon.\",\n",
       "  'similarity_score': 0.52906084},\n",
       " {'title': 'Journey to Space',\n",
       "  'overview': 'A sweeping overview of humanity’s accomplishments in space, as well as our ongoing activities and future plans.',\n",
       "  'similarity_score': 0.5120001},\n",
       " {'title': 'A Beautiful Planet',\n",
       "  'overview': 'A breathtaking portrait of Earth from space, providing a unique perspective and increased understanding of our planet and galaxy as never seen before. Made in cooperation with the National Aeronautics and Space Administration (NASA), the film features stunning footage of our magnificent blue planet — and the effects humanity has had on it over time — captured by the astronauts aboard the International Space Station (ISS).',\n",
       "  'similarity_score': 0.50156087},\n",
       " {'title': 'Walden',\n",
       "  'overview': 'After returning from a year-long Moon mission, Cassie, a NASA botanist, finds herself in a remote cabin in the woods, where her estranged twin sister, Stella, a former NASA architect, has found a new life with climate activist Bryan. Old wounds resurface as the sisters attempt to pick up the pieces of the rivalry that broke them apart.',\n",
       "  'similarity_score': 0.49168825}]"
      ]
     },
     "execution_count": 45,
     "metadata": {},
     "output_type": "execute_result"
    }
   ],
   "source": [
    "user_query = \"NASA尝试营救一名滞留在火星上的宇航员。\"\n",
    "search_qdrant(query_text=user_query)"
   ]
  },
  {
   "cell_type": "markdown",
   "metadata": {},
   "source": [
    "结果很糟糕。说明 `text-embedding-004` 无法很好地支持多语言。\n",
    "\n",
    "## 重新构建 API \n",
    "\n",
    "我先试着用 FastAPI 重新做了一下，这次省去了 `sentence-transformers` 这么大的包，改用 Google Gemini 的 API 接口。代码在 [https://github.com/hongtaoh/TheMovieApp](https://github.com/hongtaoh/TheMovieApp)。API 网址是 [https://the-movie-app-gamma.vercel.app/](https://the-movie-app-gamma.vercel.app/)。我们看到 API 部署成功，但是我试了一下，显示 Timedout，说明超过了 Vercel 允许的运算时间。毕竟是免费的。\n",
    "\n",
    "我试了试 PythonAnywhere 和 Replit。前者实在是太远古，操作太复杂，我直接放弃。后者没有免费的部署选项。\n",
    "\n",
    "结论就是，如果想使用 Python 作为后端，免费的部署服务几乎不存在。\n",
    "\n",
    "## 构建 RAG\n",
    "\n",
    "RAG 听起来高大上，但其实我们上面已经完成了一大部分。在这里，我们如何用 RAG？\n",
    "\n",
    "很简单。比如，一个用户搜索 \"NASA tried to rescue an astronaut stranded on Mars.\" 之后，我们可以返回结果，就像上面展示的那样。但是，我如果想用自然语言 (也就是人类语言) 解释为什么这些结果匹配用户的搜索，这就需要用到语言模型。这个过程就用到了 RAG。\n",
    "\n",
    "具体怎么操作呢？很简单，就像你在 DeepSeek 上直接问：这是用户的搜索，\"NASA tried to rescue an astronaut stranded on Mars.\"，这是结果，blablabla。请告诉我为什么结果匹配搜索。然后 DeepSeek 就会把答案给你。RAG 的作用是把这个过程整合起来、自动化。\n",
    "\n",
    "为了演示具体怎么操作，在 DeepSeek + Claude 的帮助下，再加上我之前学过的一些零散的全栈知识，用 Next.js 做了一个很简单的网站应用：[https://htmovies.vercel.app/](https://htmovies.vercel.app/)。需要梯子。源代码在 [https://github.com/hongtaoh/Movie_Recommendations_Easy](https://github.com/hongtaoh/Movie_Recommendations_Easy)。\n",
    "\n",
    "下面，我会一步一步介绍，这个是如何做出来的。即使你完全不懂 Next/React，大概也能看懂。\n",
    "\n",
    "Next.js 的好处是，连后端的 API 接口都可以一起做好，\n",
    "\n",
    "比如，你在浏览器输入\n",
    "\n",
    "- [https://htmovies.vercel.app/api/movies/27205](https://htmovies.vercel.app/api/movies/27205)\n",
    "- [https://htmovies.vercel.app/api/movies/random](https://htmovies.vercel.app/api/movies/random)\n",
    "- [https://htmovies.vercel.app/api/movies/random?k=10](https://htmovies.vercel.app/api/movies/random?k=10)\n",
    "- [https://htmovies.vercel.app/api/search?q=%22NASA%22&k=5](https://htmovies.vercel.app/api/search?q=%22NASA%22&k=5)\n",
    "\n",
    "### 数据\n",
    "\n",
    "第一步是把数据转换成 JSON 格式："
   ]
  },
  {
   "cell_type": "code",
   "execution_count": 46,
   "metadata": {},
   "outputs": [],
   "source": [
    "df[['id', 'overview', 'revenue', 'title', 'poster_path']].to_json(\n",
    "        './data/movies.json', orient='records', indent=4)"
   ]
  },
  {
   "cell_type": "markdown",
   "metadata": {},
   "source": [
    "### 安装 Node.js\n",
    "\n",
    "如果你还没下载，请到 https://nodejs.org/en 下载。\n",
    "\n",
    "完成后，验证：\n",
    "\n",
    "```sh\n",
    "node -v\n",
    "npm -v\n",
    "```\n",
    "\n",
    "`cd` 到自己的想要的路径，然后\n",
    "\n",
    "### 新建 Next.js 项目\n",
    "\n",
    "```sh\n",
    "npx create-next-app@latest my-next-app\n",
    "```\n",
    "\n",
    "选择：\n",
    "\n",
    "- TypeScript -> No\n",
    "- ESLint -> Yes\n",
    "- Tailwind CSS -> Yes\n",
    "- src directory -> No \n",
    "- App router -> Yes\n",
    "- Turbopack -> No\n",
    "- customize the import alias -> No\n",
    "\n",
    "然后\n",
    "\n",
    "```sh\n",
    "cd my-next-app\n",
    "```\n",
    "\n",
    "接着在根目录创建 `data` 文件夹，然后把上面那个 json 文件放进去。\n",
    "\n",
    "### 解释\n",
    "\n",
    "如果你嫌麻烦，直接 git clone 我的源代码就好 https://github.com/hongtaoh/Movie_Recommendations_Easy。\n",
    "\n",
    "我简单解释一下整个构架。\n",
    "\n",
    "`app/layout.js` 这个主要负责整体的样式和目录。比如，The Movie App 和 AI Recommendations 这两个路径就是在这里创建的。之后如果需要用的 useContext 也最好在这里放 ContextProvider.\n",
    "\n",
    "`app/page.js` 这是一进来后的主页面，展示了许多电影。这里面每一个电影，都是用 `components/MovieCard.js` 来制定样式的。\n",
    "\n",
    "当我们选中其中任何一个电影后，就会进入具体电影的页面，这是由 `app/movies/[id]/page.js` 渲染的。\n",
    "\n",
    "当我们点开 AI Recommendations，点击搜索后，具体的流程就是，我们先在 `app/recommendation/page.js` 中点击，然后 `app/api/recommend/route.js` 就会运行，连带着运行 `lib/geminiEmbedding.js`、`lib/qdrant.js` 和 `lib/explain.js`。然后结果返回 `app/recommendation/page.js`。\n",
    "\n",
    "上面提到的 API 接口，也都是在 `app/api` 完成的。\n",
    "\n",
    "这里简单说一下 Langchain。在 `lib/explain.js` 中我用了 langchain 而不是具体的 Gemini 或者 DeepSeek 的接口。这是因为，这样的话，换语言模型比较简单。这也是 langchain 的作用之一。"
   ]
  }
 ],
 "metadata": {
  "language_info": {
   "name": "python"
  }
 },
 "nbformat": 4,
 "nbformat_minor": 2
}

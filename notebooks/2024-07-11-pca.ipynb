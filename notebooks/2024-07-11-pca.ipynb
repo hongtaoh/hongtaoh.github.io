{
 "cells": [
  {
   "cell_type": "markdown",
   "metadata": {},
   "source": [
    "---\n",
    "\n",
    "title: \"主成分分析 （Principla Component Analysis）\"\n",
    "date: 2024-07-11\n",
    "author: 郝鸿涛\n",
    "slug: pca\n",
    "draft: false\n",
    "toc: true\n",
    "tags: ML\n",
    "\n",
    "---"
   ]
  },
  {
   "cell_type": "markdown",
   "metadata": {},
   "source": [
    "katherine schulte"
   ]
  }
 ],
 "metadata": {
  "language_info": {
   "name": "python"
  }
 },
 "nbformat": 4,
 "nbformat_minor": 2
}

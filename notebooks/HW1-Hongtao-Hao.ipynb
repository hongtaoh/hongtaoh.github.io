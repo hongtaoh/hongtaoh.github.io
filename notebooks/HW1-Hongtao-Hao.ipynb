{
 "cells": [
  {
   "cell_type": "code",
   "execution_count": 131,
   "id": "e22fd362",
   "metadata": {},
   "outputs": [],
   "source": [
    "import numpy as np\n",
    "import matplotlib.pyplot as plt\n",
    "import pandas as pd\n",
    "from scipy import stats"
   ]
  },
  {
   "cell_type": "markdown",
   "id": "627d0bf6",
   "metadata": {},
   "source": [
    "# Problem 1\n",
    "\n",
    "The following table shows the gray scale pixel values of a video of a one-dimensional space (e.g., along a one-lane road segment) at different time stamps."
   ]
  },
  {
   "cell_type": "code",
   "execution_count": 132,
   "id": "cb962f40",
   "metadata": {},
   "outputs": [
    {
     "data": {
      "text/plain": [
       "array([[22, 23,  9,  1,  8,  8,  3,  1,  0,  2,  3],\n",
       "       [ 4, 18, 15,  1,  2,  0,  0,  4,  6,  4,  3],\n",
       "       [ 3,  3, 22, 20,  1,  5,  1,  7,  1,  0,  5],\n",
       "       [ 5,  5,  5,  3, 22, 25,  6,  7,  8,  2,  8],\n",
       "       [ 3,  4,  9,  1,  5,  2, 24, 21,  0,  1,  5],\n",
       "       [ 4,  5,  0,  6,  1,  5,  3,  9,  2, 20, 15]])"
      ]
     },
     "execution_count": 132,
     "metadata": {},
     "output_type": "execute_result"
    }
   ],
   "source": [
    "traj = np.array([[22, 23, 9, 1, 8, 8, 3, 1, 0, 2, 3],\n",
    "           [4, 18, 15, 1, 2, 0, 0, 4, 6, 4, 3],\n",
    "           [3, 3, 22, 20, 1, 5, 1, 7, 1, 0, 5],\n",
    "           [5, 5, 5, 3, 22, 25, 6, 7, 8, 2, 8],\n",
    "           [3, 4, 9, 1, 5, 2, 24, 21, 0, 1, 5],\n",
    "           [4, 5, 0, 6, 1, 5, 3, 9, 2, 20, 15]\n",
    "          ])\n",
    "traj"
   ]
  },
  {
   "cell_type": "markdown",
   "id": "42456e4f",
   "metadata": {},
   "source": [
    "## a) Please identify the background image. (15 pt)\n",
    "\n"
   ]
  },
  {
   "cell_type": "markdown",
   "id": "4192481c",
   "metadata": {},
   "source": [
    "### Method one: Trimmean\n",
    "\n",
    "The key idea is to get the mean without the smallest and the largest number. The rationale is that the background stays the same, so the largest and the smallest one are more likely to be the moving objects. "
   ]
  },
  {
   "cell_type": "code",
   "execution_count": 133,
   "id": "fc6df65e",
   "metadata": {},
   "outputs": [
    {
     "data": {
      "text/plain": [
       "array([4.  , 8.  , 9.5 , 2.75, 4.  , 5.  , 3.25, 6.75, 2.25, 2.25, 5.25])"
      ]
     },
     "execution_count": 133,
     "metadata": {},
     "output_type": "execute_result"
    }
   ],
   "source": [
    "stats.trim_mean(traj, 0.25)"
   ]
  },
  {
   "cell_type": "markdown",
   "id": "f701189a",
   "metadata": {},
   "source": [
    "### Method two: identify the moving object first (the cell with largest value)\n",
    "\n",
    "To get the background image, my method is as follows: for each column, get the average of cells without the largest cell. The rationale behind this is that the cell(s) with largest values are the moving object. To get the background image, I need to remove it. "
   ]
  },
  {
   "cell_type": "code",
   "execution_count": 134,
   "id": "72fdc485",
   "metadata": {},
   "outputs": [
    {
     "data": {
      "text/plain": [
       "array([41, 58, 60, 32, 39, 45, 37, 49, 17, 29, 39])"
      ]
     },
     "execution_count": 134,
     "metadata": {},
     "output_type": "execute_result"
    }
   ],
   "source": [
    "# column wise sum: \n",
    "col_sum = np.sum(traj, axis = 0)\n",
    "col_sum"
   ]
  },
  {
   "cell_type": "code",
   "execution_count": 135,
   "id": "36f06437",
   "metadata": {},
   "outputs": [
    {
     "data": {
      "text/plain": [
       "array([22, 23, 22, 20, 22, 25, 24, 21,  8, 20, 15])"
      ]
     },
     "execution_count": 135,
     "metadata": {},
     "output_type": "execute_result"
    }
   ],
   "source": [
    "# largest value in each column\n",
    "col_max = np.max(traj, axis = 0)\n",
    "col_max"
   ]
  },
  {
   "cell_type": "code",
   "execution_count": 136,
   "id": "0e69e2ac",
   "metadata": {},
   "outputs": [
    {
     "data": {
      "text/plain": [
       "array([3.8, 7. , 7.6, 2.4, 3.4, 4. , 2.6, 5.6, 1.8, 1.8, 4.8])"
      ]
     },
     "execution_count": 136,
     "metadata": {},
     "output_type": "execute_result"
    }
   ],
   "source": [
    "# background image: \n",
    "((col_sum - col_max )/ 5)"
   ]
  },
  {
   "cell_type": "markdown",
   "id": "2b154c66",
   "metadata": {},
   "source": [
    "## b) Please identify the object on each frame. (15 pt)\n",
    "\n",
    "For each frame, I consider the exceptionally large value cells as the moving object:"
   ]
  },
  {
   "cell_type": "markdown",
   "id": "7a6480b0",
   "metadata": {},
   "source": [
    "- First frame: 1 & 2 cell\n",
    "- Second frame: 2 & 3 cell \n",
    "- Third frame: 3 & 4 cell\n",
    "- Fourth frame: 5 & 6 cell\n",
    "- Fifth frame:  7 & 8 cell\n",
    "- Sixth frame: 10 & 11 cell\n",
    "\n",
    "![](objects.png)"
   ]
  },
  {
   "cell_type": "markdown",
   "id": "158dc28d",
   "metadata": {},
   "source": [
    "## c) Please plot the identified trajectory over the time-space diagram. (15 pt)"
   ]
  },
  {
   "cell_type": "code",
   "execution_count": 137,
   "id": "70e16caf",
   "metadata": {},
   "outputs": [],
   "source": [
    "times = [0.1, 0.2, 0.3, 0.4, 0.5, 0.6]\n",
    "pix = [0.5, 1, 1.5, 2.5, 3.5, 5]"
   ]
  },
  {
   "cell_type": "code",
   "execution_count": 138,
   "id": "71c3b2e3",
   "metadata": {},
   "outputs": [
    {
     "data": {
      "text/plain": [
       "Text(0.5, 1.0, 'Trajectory over time-space diagram')"
      ]
     },
     "execution_count": 138,
     "metadata": {},
     "output_type": "execute_result"
    },
    {
     "data": {
      "image/png": "[encoded data removed]",
      "text/plain": [
       "<Figure size 432x288 with 1 Axes>"
      ]
     },
     "metadata": {
      "needs_background": "light"
     },
     "output_type": "display_data"
    }
   ],
   "source": [
    "plt.plot(times, pix, marker='o', color='b',)\n",
    "plt.xlabel('Frame time', fontsize = 12)\n",
    "plt.ylabel('Pix location (in meter)', fontsize = 12)\n",
    "plt.title('Trajectory over time-space diagram', fontsize = 14)"
   ]
  },
  {
   "cell_type": "markdown",
   "id": "6372b24d",
   "metadata": {},
   "source": [
    "## d) Please calculate speed and acceleration at each time point. (15 pt)\n",
    "\n",
    "add units\n",
    "\n",
    "- time # 1, speed: (1-0.5)/0.1 = 5 $m/s$ (meter/second), acceleration: do not have enough information \n",
    "- time # 2, spped: (1.5-1)/0.1 = 5 $m/s$, acceleration: (5-5) / 0.1 = 0 $m/s^2$\n",
    "- time # 3, speed: (2.5-1.5)/0.1 = 10 $m/s$, acceleration: (10-5)/0.1 = 50 $m/s^2$\n",
    "- time # 4: speed: (3.5-2.5)/0.1 = 10 $m/s$, acceleration: (10-10)/0.1 = 0 $m/s^2$\n",
    "- time # 5: speed: (5-3.5)/0.1 = 15 $m/s$, acceleration: (15-10)/0.1 = 50 $m/s^2$"
   ]
  },
  {
   "cell_type": "markdown",
   "id": "ff9a4445",
   "metadata": {},
   "source": [
    "# Problem 2"
   ]
  },
  {
   "cell_type": "code",
   "execution_count": 139,
   "id": "8c4d1fd8",
   "metadata": {},
   "outputs": [
    {
     "data": {
      "text/plain": [
       "array([[ 2,  3,  2,  0,  0,  4],\n",
       "       [ 3, 23, 53, 53, 23,  2],\n",
       "       [ 1, 32,  0,  3, 25,  0],\n",
       "       [ 0, 25,  4,  1, 23,  0],\n",
       "       [ 0, 25,  2,  4, 23,  3],\n",
       "       [ 2, 42, 23, 23, 25,  1],\n",
       "       [ 2,  1,  4,  3,  0,  2],\n",
       "       [ 0,  0,  0,  4,  4,  3]])"
      ]
     },
     "execution_count": 139,
     "metadata": {},
     "output_type": "execute_result"
    }
   ],
   "source": [
    "img = np.array([[2, 3, 2, 0, 0, 4], \n",
    "                      [3, 23, 53, 53, 23, 2],\n",
    "                     [1, 32, 0, 3, 25, 0],\n",
    "                      [0, 25, 4, 1, 23, 0],\n",
    "                      [0, 25, 2, 4, 23, 3],\n",
    "                      [2, 42, 23, 23, 25, 1],\n",
    "                      [2, 1, 4, 3, 0, 2],\n",
    "                      [0,0,0,4,4,3]\n",
    "                     ])\n",
    "img"
   ]
  },
  {
   "cell_type": "code",
   "execution_count": 140,
   "id": "a44d582d",
   "metadata": {},
   "outputs": [
    {
     "data": {
      "text/plain": [
       "(8, 6)"
      ]
     },
     "execution_count": 140,
     "metadata": {},
     "output_type": "execute_result"
    }
   ],
   "source": [
    "img.shape"
   ]
  },
  {
   "cell_type": "code",
   "execution_count": 141,
   "id": "9e2128af",
   "metadata": {},
   "outputs": [],
   "source": [
    "# vertical filter\n",
    "v_filter = np.array([\n",
    "    [1,0,-1],\n",
    "    [1,0,-1],\n",
    "    [1,0,-1],\n",
    "])\n",
    "\n",
    "# horizontal filter\n",
    "h_filter = np.array([\n",
    "    [1,1,1],\n",
    "    [0,0,0],\n",
    "    [-1,-1,-1]\n",
    "])"
   ]
  },
  {
   "cell_type": "code",
   "execution_count": 142,
   "id": "36b4462b",
   "metadata": {},
   "outputs": [],
   "source": [
    "# chunks of codes taken from\n",
    "# https://www.math.purdue.edu/~bradfor3/ProgrammingFundamentals/NumPy/matrices/\n",
    "\n",
    "def convolve_1d(array, kernel):\n",
    "    ks = kernel.shape[0]\n",
    "    final_length = array.shape[0] - ks + 1\n",
    "    return np.array([(array[i:i+ks]*kernel).sum() for i in range(final_length)])\n",
    "\n",
    "def convolve_2d(array, kernel):\n",
    "    ks = kernel.shape[1]\n",
    "    final_height = array.shape[1] - ks + 1\n",
    "    return np.array([convolve_1d(array[:, i:i+ks], kernel) for i in range(final_height)]).T"
   ]
  },
  {
   "cell_type": "markdown",
   "id": "0bd0c090",
   "metadata": {},
   "source": [
    "## a) Please identify the vertical edges (20 pt)"
   ]
  },
  {
   "cell_type": "code",
   "execution_count": 143,
   "id": "c5ce31ce",
   "metadata": {},
   "outputs": [
    {
     "data": {
      "text/plain": [
       "array([[-49,   2,   7,  50],\n",
       "       [-53,  23, -14,  55],\n",
       "       [ -5,  74, -65,   5],\n",
       "       [-27,  64, -42,  24],\n",
       "       [-25,  38, -19,  24],\n",
       "       [-23,  13,  -2,  24]])"
      ]
     },
     "execution_count": 143,
     "metadata": {},
     "output_type": "execute_result"
    }
   ],
   "source": [
    "convolve_2d(img, v_filter)"
   ]
  },
  {
   "cell_type": "markdown",
   "id": "70a1c3eb",
   "metadata": {},
   "source": [
    "In grayscale, $0$ indicates black. Higher values indicate white. After applying the filter, the desired edges will become white. So I only need to find the higher values in the output above. The 2nd and the 4th column are white. \n",
    "\n",
    "To be honest, this is where I got a little bit confused. I know the above operation is correct, but I do not know how to identify the edges in the original image according to the above results. In fact, the vertical edges in the original image are very obvious:\n",
    "\n",
    "![](vertical.png)"
   ]
  },
  {
   "cell_type": "markdown",
   "id": "08422d0f",
   "metadata": {},
   "source": [
    "## b) Please identify the horizontal edges (20 pt)"
   ]
  },
  {
   "cell_type": "code",
   "execution_count": 144,
   "id": "abd916bf",
   "metadata": {},
   "outputs": [
    {
     "data": {
      "text/plain": [
       "array([[-26, -30, -26, -24],\n",
       "       [ 50,  99, 101,  54],\n",
       "       [  6,   4,  -1,  -2],\n",
       "       [-38, -58, -43, -25],\n",
       "       [ 20,  23,  22,  25],\n",
       "       [ 67,  84,  63,  38]])"
      ]
     },
     "execution_count": 144,
     "metadata": {},
     "output_type": "execute_result"
    }
   ],
   "source": [
    "convolve_2d(img, h_filter)"
   ]
  },
  {
   "cell_type": "markdown",
   "id": "ce2ff7d9",
   "metadata": {},
   "source": [
    "Same as above. I have the results after the covolution operation but I do not know how to get the answer based on it. I got the answer directly from the original grayscale image.\n",
    "\n",
    "![](horizontal.png)"
   ]
  }
 ],
 "metadata": {
  "kernelspec": {
   "display_name": "Python 3 (ipykernel)",
   "language": "python",
   "name": "python3"
  },
  "language_info": {
   "codemirror_mode": {
    "name": "ipython",
    "version": 3
   },
   "file_extension": ".py",
   "mimetype": "text/x-python",
   "name": "python",
   "nbconvert_exporter": "python",
   "pygments_lexer": "ipython3",
   "version": "3.10.4"
  }
 },
 "nbformat": 4,
 "nbformat_minor": 5
}

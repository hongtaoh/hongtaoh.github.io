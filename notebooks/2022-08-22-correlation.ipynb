{
 "cells": [
  {
   "cell_type": "markdown",
   "id": "be743695",
   "metadata": {},
   "source": [
    "# Re-Understanding Pearson Correlation Coefficient\n",
    "\n",
    "date: 2022-08-22\n",
    "author: Hongtao Hao\n",
    "slug: corr2\n",
    "draft: false\n",
    "toc: false\n",
    "tags: stats\n",
    "\n",
    "<!--eofm-->\n",
    "\n",
    "Everyone seems to know correlation but they do not. At least I didn't. \n",
    "\n",
    "To understand correlation, we need to first understand covariance. As the name suggests, covariance measures the extent to which two variables **covary**, i.e., vary together. But the questions are: what does \"vary\" mean, and how do we quantify \"together\"?\n",
    "\n",
    "For example, I give you these two vectors:"
   ]
  },
  {
   "cell_type": "code",
   "execution_count": 12,
   "id": "ec87b4ff",
   "metadata": {},
   "outputs": [],
   "source": [
    "import matplotlib.pyplot as plt\n",
    "\n",
    "a = [2, 4, 6, 8]\n",
    "b = [1, 2, 3, 8]"
   ]
  },
  {
   "cell_type": "markdown",
   "id": "9b0a904d",
   "metadata": {},
   "source": [
    "Can you tell me the extent to which they \"vary together\"?"
   ]
  },
  {
   "cell_type": "code",
   "execution_count": 13,
   "id": "40911aa4",
   "metadata": {},
   "outputs": [],
   "source": [
    "# [a[i] - b[i] for i in range(4)]"
   ]
  },
  {
   "cell_type": "code",
   "execution_count": 14,
   "id": "ea5c8d2a",
   "metadata": {},
   "outputs": [
    {
     "data": {
      "text/plain": [
       "Text(0, 0.5, 'b')"
      ]
     },
     "execution_count": 14,
     "metadata": {},
     "output_type": "execute_result"
    },
    {
     "data": {
      "image/png": "[encoded data removed]",
      "text/plain": [
       "<Figure size 432x288 with 1 Axes>"
      ]
     },
     "metadata": {
      "needs_background": "light"
     },
     "output_type": "display_data"
    }
   ],
   "source": [
    "fig1, ax = plt.subplots(1, 1)\n",
    "ax.scatter(a,b)\n",
    "plt.xlabel('a')\n",
    "plt.ylabel('b')"
   ]
  },
  {
   "cell_type": "markdown",
   "id": "3d71d4ed",
   "metadata": {},
   "source": [
    "## What do we mean by \"Covary\"?\n",
    "\n",
    "When two variables vary together:\n",
    "  1. If an item in one variable increases, then the corresponding item in the other variable increases as well. \n",
    "  2. If an item in one variable increases considerably, then the corresponding item in the other variable increases considerably as well.\n",
    "  \n",
    "The same applies when variables decrease. \n",
    "\n",
    "The above statements answer our question of \"what 'together' means\". But what does \"vary\" mean? What do we mean by \"an item in one variable increases\"? Increase or decrease compared to what?\n",
    "\n",
    "We have a bunch of choices: mean, median, mode, quartile, maximum, minimum, etc. I might revisit this question later, but right now, let's choose an intuitive one: the mean. \n",
    "\n",
    "Then we can rewrite the above statements this way:\n",
    "\n",
    "  1. If an item in `a` increases compared to the mean of `a`, then the corresponding item in `b` increases as well, compared to the mean of `b`. \n",
    "  2. If an item in `a` increases considerably compared to the mean of `a`, then the corresponding item in `b` increases considerably as well, compared to the mean of `b`. \n",
    "  \n",
    "The same applies to when items decrease. \n",
    "\n",
    "Therefore, if `a` and `b` covary, then $a_i - \\bar{a}$ and $b_i - \\bar{b}$ should have these properties:\n",
    "\n",
    "  1. They should have the same sign. That is to say, if $a_i - \\bar{a}$ is positive, then $b_i - \\bar{b}$ should be positive as well. \n",
    "  2. If $a_i - \\bar{a}$ is big, then $b_i - \\bar{b}$ should be big as well. \n",
    "  \n",
    "## Same sign\n",
    "  \n",
    "Let's focus on the first property: same sign. This shouldn't be very difficult to solve. To make sure they have the same sign, we can multiply the two, i.e., $(a_i - \\bar{a}) \\cdot (b_i - \\bar{b})$."
   ]
  },
  {
   "cell_type": "markdown",
   "id": "dbbaf30b",
   "metadata": {},
   "source": [
    "However, we are talking about the covariance of two variables, not two individual items. Therefore, we need to consider the cumulative effect of all **deviation pairs**, i.e., $a_i - \\bar{a}$ and $b_i - \\bar{b}$. That's why why need the sum of $(a_i - \\bar{a}) \\cdot (b_i - \\bar{b})$:\n",
    "\n",
    "$$\\sum_{i=1}^N (a_i - \\bar{a}) \\cdot (b_i - \\bar{b})$$\n",
    "\n",
    "It's even better if we can devide it by the number of deviation pairs, so that we can know the average effect of all deviation pairs:\n",
    "\n",
    "$$\\frac{\\sum_{i=1}^N (a_i - \\bar{a}) \\cdot (b_i - \\bar{b})}{N}$$\n",
    "\n",
    "where $N$ is the deviation pairs. Note that, if we are esitmating a population based on samples, we need [Bessel’s Correction](https://en.wikipedia.org/wiki/Bessel%27s_correction):\n",
    "\n",
    "$$Cov(a,b) = \\frac{\\sum_{i=1}^N (a_i - \\bar{a}) \\cdot (b_i - \\bar{b})}{N-1}$$"
   ]
  },
  {
   "cell_type": "markdown",
   "id": "4baea782",
   "metadata": {},
   "source": [
    "This, in fact, is the definition of [covariance](https://en.wikipedia.org/wiki/Covariance). \n",
    "\n",
    "(I know you may wonder why on earth the sum, or the mean, of $(a_i - \\bar{a}) \\cdot (b_i - \\bar{b})$ tells us whether in general $(a_i - \\bar{a})$ and  $(b_i - \\bar{b})$ have the same sign. Bear with me for now, and you'll know why below.)\n",
    "\n",
    "## Proportional deviations \n",
    "\n",
    "The question now is, does the above equation solve the second property? The answer is NO. Why?\n",
    "\n",
    "First, our statment is ambiguous: what does it mean by \"when A is big then B should be big as well\"? How to quantify it? We can defign it this way: **$(a_i - \\bar{a})$ should be proportional to $(b_i - \\bar{b})$**.\n",
    "\n",
    "Then, the question is, does the above eqution tell us how proportional the deviation pairs are? The answer is: NO. If the answer is Yes, then when two deviation pairs are both perfectly proportional, then the two results from the equation should be exactly the same. But they aren't. \n",
    "\n",
    "For example, "
   ]
  },
  {
   "cell_type": "code",
   "execution_count": 15,
   "id": "2d69ba7d",
   "metadata": {},
   "outputs": [
    {
     "data": {
      "text/plain": [
       "Text(0, 0.5, 'b')"
      ]
     },
     "execution_count": 15,
     "metadata": {},
     "output_type": "execute_result"
    },
    {
     "data": {
      "image/png": "[encoded data removed]",
      "text/plain": [
       "<Figure size 432x288 with 1 Axes>"
      ]
     },
     "metadata": {
      "needs_background": "light"
     },
     "output_type": "display_data"
    }
   ],
   "source": [
    "a = [2, 4, 6, 8]\n",
    "b = [1, 2, 3, 4]\n",
    "plt.scatter(a,b)\n",
    "plt.xlabel('a')\n",
    "plt.ylabel('b')"
   ]
  },
  {
   "cell_type": "code",
   "execution_count": 16,
   "id": "0fc5aea5",
   "metadata": {},
   "outputs": [
    {
     "data": {
      "text/plain": [
       "Text(0, 0.5, 'd')"
      ]
     },
     "execution_count": 16,
     "metadata": {},
     "output_type": "execute_result"
    },
    {
     "data": {
      "image/png": "[encoded data removed]",
      "text/plain": [
       "<Figure size 432x288 with 1 Axes>"
      ]
     },
     "metadata": {
      "needs_background": "light"
     },
     "output_type": "display_data"
    }
   ],
   "source": [
    "c = [3, 6, 9, 15]\n",
    "d = [1, 2, 3, 5]\n",
    "plt.scatter(c,d)\n",
    "plt.xlabel('c')\n",
    "plt.ylabel('d')"
   ]
  },
  {
   "cell_type": "code",
   "execution_count": 17,
   "id": "178d586d",
   "metadata": {},
   "outputs": [],
   "source": [
    "def my_average(array):\n",
    "    '''calculate the average of an array\n",
    "    '''\n",
    "    my_sum = 0\n",
    "    for i in array:\n",
    "        my_sum += i\n",
    "    return my_sum/len(array)"
   ]
  },
  {
   "cell_type": "code",
   "execution_count": 18,
   "id": "3a906e23",
   "metadata": {},
   "outputs": [
    {
     "data": {
      "text/plain": [
       "[2.0, 2.0, 2.0, 2.0]"
      ]
     },
     "execution_count": 18,
     "metadata": {},
     "output_type": "execute_result"
    }
   ],
   "source": [
    "deviation_a = [(i - my_average(a)) for i in a ]\n",
    "deviation_b = [(i - my_average(b)) for i in b ]\n",
    "[deviation_a[i]/deviation_b[i] for i in range(len(deviation_a))]"
   ]
  },
  {
   "cell_type": "code",
   "execution_count": 19,
   "id": "a664a9da",
   "metadata": {},
   "outputs": [
    {
     "data": {
      "text/plain": [
       "[3.0, 3.0, 3.0, 3.0]"
      ]
     },
     "execution_count": 19,
     "metadata": {},
     "output_type": "execute_result"
    }
   ],
   "source": [
    "deviation_c = [(i - my_average(c)) for i in c ]\n",
    "deviation_d = [(i - my_average(d)) for i in d ]\n",
    "[deviation_c[i]/deviation_d[i] for i in range(len(deviation_c))]"
   ]
  },
  {
   "cell_type": "markdown",
   "id": "fdb73f0f",
   "metadata": {},
   "source": [
    "We can see that both deviation pairs are perfectly proportional, which means that both (a,b) and (c,d) covary perfectly. However, their covariance are different:"
   ]
  },
  {
   "cell_type": "code",
   "execution_count": 20,
   "id": "690646d0",
   "metadata": {},
   "outputs": [],
   "source": [
    "def covariance(xs, ys):\n",
    "    '''calculate covariance of two arrays\n",
    "    '''\n",
    "    assert len(xs) == len(ys), 'The lengths of the two arrays are not equal!'\n",
    "    x_mean = my_average(xs)\n",
    "    y_mean = my_average(ys)\n",
    "    cov_sum = 0\n",
    "    for i in range(len(xs)):\n",
    "        cov_sum += xs[i] * ys[i]\n",
    "    return cov_sum / (len(xs) - 1)"
   ]
  },
  {
   "cell_type": "code",
   "execution_count": 21,
   "id": "1091d527",
   "metadata": {},
   "outputs": [
    {
     "data": {
      "text/plain": [
       "20.0"
      ]
     },
     "execution_count": 21,
     "metadata": {},
     "output_type": "execute_result"
    }
   ],
   "source": [
    "covariance(a,b)"
   ]
  },
  {
   "cell_type": "code",
   "execution_count": 22,
   "id": "c1d77016",
   "metadata": {},
   "outputs": [
    {
     "data": {
      "text/plain": [
       "39.0"
      ]
     },
     "execution_count": 22,
     "metadata": {},
     "output_type": "execute_result"
    }
   ],
   "source": [
    "covariance(c,d)"
   ]
  },
  {
   "cell_type": "markdown",
   "id": "b9f3f26c",
   "metadata": {},
   "source": [
    "## Understanding covariance through linear algebra\n",
    "\n",
    "If you are familiar with linear algebra, you'll know that \n",
    "\n",
    "$$\\sum_{i=1}^N (a_i - \\bar{a}) \\cdot (b_i - \\bar{b})$$\n",
    "\n",
    "is the dot product of two vectors: $\\vec{d_a} = a_i - \\bar{a}$ and $\\vec{d_b} = b_i - \\bar{b}$, where $d$ denotes deviation. These vectors are $N$-dimensional, where $N$ is the size of $d_a$ (or $d_b$, which must be the same). \n",
    "\n",
    "When the dot product of two vectors is positive, then these two vectors are generally pointing to the same direction; when negative, different direction. However, the magnitude of the dot product doesn't translate into **the extent to which** two vectors are pointing to the same direction. \n",
    "\n",
    "![](files/corr-a-b.png)\n",
    "\n"
   ]
  },
  {
   "cell_type": "markdown",
   "id": "a5edc32b",
   "metadata": {},
   "source": [
    "Suppose in two dimensional space, we have the above two vectors, $\\vec{d_a}$ and $\\vec{d_b}$. Then, imagine we indefinitly extend $\\vec{d_b}$, which we call $\\vec{db_e}$. The dot product of $\\vec{d_a}$ and $\\vec{d_b}$ is definitly different from (smaller than) that of $\\vec{d_a}$ and $\\vec{db_e}$. However, the extent to which $\\vec{d_a}$ and $\\vec{d_b}$ are pointing to the same direction is the same as that to which $\\vec{d_a}$ and $\\vec{db_e}$ are pointing to the same direction. \n",
    "\n",
    "Wait, you may say, above, we were talking about **the extent to which $d_a = (a_i - \\bar{a})$ is proportional to $d_b = (b_i - \\bar{b})$**, but right now we are talking about the extent to which $\\vec{d_a}$ and $\\vec{d_b}$ are pointing to the same direction. Are they the same?\n",
    "\n",
    "Yes. They are the same. I am not capable of mathematically proving that they are the same but I will illustrate it this way. Imagaine in a three dimensional space, the coordinates of $\\vec{m}$ is $x_m$, $y_m$, and $z_m$ and those of $\\vec{t}$ is $x_t$, $y_t$, and $z_t$. If $m_i$ is perfectly positively proportional to $t_i$, then $\\vec{m}$ and $\\vec{t}$ will overlap and point to the same direction. Then, $\\theta = 0$. If they are perfectly negatively proportional to each other, then they will overlpa but point to exactly the opposite direction. Then $\\theta = 180$. If they are perfectly not proportional to each other, then they are perpendicular to each other and $\\theta = 90$. \n",
    "\n",
    "Therefore, it seems that the extent to which $d_a = (a_i - \\bar{a})$ is proportional to $d_b = (b_i - \\bar{b})$ is related to $\\theta$:\n",
    "\n",
    "  - When $0 \\leq \\theta \\lt 90$, $d_a$ is positively proportional to $d_b$. As $\\theta$ increases, the extent the extent to which $d_a = (a_i - \\bar{a})$ is proportional to $d_b = (b_i - \\bar{b})$ decreases. \n",
    "  - When $\\theta = 90$, $d_a$ is not proportional to $d_b$ at all. \n",
    "  - When $90 \\lt \\theta \\leq 180$, $d_a$ is negatively proportional to $d_b$. As $\\theta$ increases, the extent the extent to which $d_a = (a_i - \\bar{a})$ is proportional to $d_b = (b_i - \\bar{b})$ increases. \n",
    "  \n",
    "When we know the items in $a$ and $b$, we will know $a_i - \\bar{a}$ and $b_i - \\bar{b}$, so we will know the coordinates of $\\vec{d_a}$ and $\\vec{d_b}$, then we can know $\\theta$ through:\n",
    "\n",
    "$$\\vec{d_a} \\cdot \\vec{d_b} = ||\\vec{d_a}||\\cdot||\\vec{d_b}||\\cdot \\cos\\theta$$\n",
    "\n",
    "BTW, if you wonder how the above equation came from, refer to [my post here](/en/2022/07/07/la/#lesson-9-dot-products-and-duality).\n",
    "\n",
    "Therefore, \n",
    "\n",
    "$$\\cos\\theta = \\frac{\\vec{d_a} \\cdot \\vec{d_b}}{||\\vec{d_a}||\\cdot||\\vec{d_b}||}$$\n",
    "\n",
    "**This, in fact, is the same as the formula of [Pearson's correlation coefficient](https://en.wikipedia.org/wiki/Pearson_correlation_coefficient)** :"
   ]
  },
  {
   "cell_type": "markdown",
   "id": "617c0632",
   "metadata": {},
   "source": [
    "\\begin{align}\n",
    "\\rho(a,b) & =  \\frac{Cov(a,b)}{\\sigma_a \\sigma_b} \\\\\\\\\n",
    " & = \\frac{\\frac{1}{N-1}\\cdot\\sum_{i=1}^N (a_i - \\bar{a}) \\cdot (b_i - \\bar{b})}{\\sigma_a \\sigma_b} \\\\\\\\ \n",
    " & = \\frac{\\frac{1}{N-1}\\cdot \\vec{d_a} \\cdot \\vec{d_b}}{\\sigma_a \\sigma_b} \\\\\\\\\n",
    " & = \\frac{\\frac{1}{N-1}\\cdot \\vec{d_a} \\cdot \\vec{d_b}}{\\sqrt{\\frac{\\sum_{i=1}^N (a_i - \\bar{a})^2}{N-1}} \\sqrt{\\frac{\\sum_{i=1}^N (b_i - \\bar{b})^2}{N-1}}} \\\\\\\\\n",
    " & = \\frac{\\frac{1}{N-1}\\cdot \\vec{d_a} \\cdot \\vec{d_b}}{\\frac{1}{N-1} \\sqrt{\\sum_{i=1}^N (a_i - \\bar{a})^2} \\sqrt{\\sum_{i=1}^N (b_i - \\bar{b})^2}} \\\\\\\\\n",
    " & = \\frac{\\vec{d_a} \\cdot \\vec{d_b}}{\\sqrt{\\sum_{i=1}^N (a_i - \\bar{a})^2} \\sqrt{\\sum_{i=1}^N (b_i - \\bar{b})^2}} \\\\\\\\\n",
    " & = \\frac{\\vec{d_a} \\cdot \\vec{d_b}}{||\\vec{d_a}||\\cdot||\\vec{d_b}||} \\\\\\\\\n",
    " & = \\cos \\theta \\\\\\\\\n",
    "\\end{align}\n",
    "\n",
    "Therefore, correlation between two variables $\\rho(a,b)$ **measures the cosine of the angle between the two corresponding deviation vectors in N-dimensional space where N is size of a (or b)**. By deviation vector, I mean the vector of differences between each item in a (and b) and its corresponding mean, i.e., $\\bar{a}$ (and $\\bar{b}$)."
   ]
  },
  {
   "cell_type": "markdown",
   "id": "a2973116",
   "metadata": {},
   "source": [
    "## Recap\n",
    "\n",
    "We want to understand the extent to which two variables covary, i.e., vary together. For each item in the two variables, say, $a$ and $b$, we calculate its deviation from its corresponding mean. Then we have two **deviation vectors**: $\\vec{d_a} = a_i - \\bar{a}$ and $\\vec{d_b} = b_i - \\bar{b}$. If $a$ and $b$ vary together, then the two deviation vectors should have the following two properties:\n",
    "\n",
    "  1. $a_i - \\bar{a}$ and $b_i - \\bar{b}$ in general should have the same sign. \n",
    "  2. When $a_i - \\bar{a}$ is big, $b_i - \\bar{b}$ should be big as well. \n",
    "  \n",
    "To meet the first property, we calculate the sum of product of $a_i - \\bar{a}$ and $b_i - \\bar{b}$. We find that this is equal to the dot product of $\\vec{d_a}$ and $\\vec{d_b}$. When the result is positive, then $\\vec{d_a}$ and $\\vec{d_b}$ are in general pointing to the same direction, and therefore, $a_i - \\bar{a}$ and $b_i - \\bar{b}$ in general share the same sign. However, the dot product does not meet the second property. We find that the second property is measuring **the extent to which** $\\vec{d_a}$ and $\\vec{d_b}$ are pointing to the same direction. Dot products do not tell us this. \n",
    "\n",
    "To know the extent to which $\\vec{d_a}$ and $\\vec{d_b}$ are pointing to the same direction, we divide the dot product by the product of these two vectors' lengths (in Euclidean distance). This quotient is the cosine of the angle between $\\vec{d_a}$ and $\\vec{d_b}$. This explains why the correlation between two variables is always between $-1$ and $1$. "
   ]
  }
 ],
 "metadata": {
  "kernelspec": {
   "display_name": "Python 3 (ipykernel)",
   "language": "python",
   "name": "python3"
  },
  "language_info": {
   "codemirror_mode": {
    "name": "ipython",
    "version": 3
   },
   "file_extension": ".py",
   "mimetype": "text/x-python",
   "name": "python",
   "nbconvert_exporter": "python",
   "pygments_lexer": "ipython3",
   "version": "3.10.4"
  }
 },
 "nbformat": 4,
 "nbformat_minor": 5
}

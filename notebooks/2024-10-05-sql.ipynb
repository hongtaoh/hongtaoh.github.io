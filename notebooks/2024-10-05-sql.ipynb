{
 "cells": [
  {
   "cell_type": "markdown",
   "metadata": {},
   "source": [
    "---\n",
    "\n",
    "title: SQL 简易教程\n",
    "date: 2024-10-05\n",
    "author: 郝鸿涛\n",
    "slug: sql\n",
    "draft: false\n",
    "toc: true\n",
    "tags: 编程\n",
    "\n",
    "---"
   ]
  },
  {
   "cell_type": "markdown",
   "metadata": {},
   "source": [
    "说实话，平常我用不到 SQL，所以一直没有去学。因为要面试，在准备 SQL 方面的知识，就快速学习了一下。我的感觉是和 Pandas 没差多少。\n",
    "\n",
    "我用的是苹果电脑，Windows 的会不太一样。\n",
    "\n",
    "我选择用 [Sqlite](https://www.sqlite.org/)，因为这个最简单，不需要服务器。\n",
    "\n",
    "首先检查 `sqlite3` 是否安装：\n",
    "\n",
    "```sh\n",
    "sqlite3 --version\n",
    "```\n",
    "\n",
    "我假设你已经安装了 Anaconda。接着，我们建一个虚拟环境\n",
    "\n",
    "```sh\n",
    "conda create --name sql\n",
    "conda activate sql\n",
    "conda install pandas jupyter ipython-sql \n",
    "pip install SQLAlchemy==1.4.46 # 因为最新版本的 sqlalchemy 和 ipython-sql 有冲突\n",
    "```\n",
    "\n",
    "然后创建一个文件夹\n",
    "\n",
    "```sh\n",
    "mkdir sql-learn\n",
    "cd sql-learn \n",
    "```\n",
    "\n",
    "下载两个文档：\n",
    "\n",
    "```sh\n",
    "curl -o sqlite.txt https://www.sqltutorial.org/wp-content/uploads/2020/04/sqlite.txt\n",
    "curl -o sqlite-data.txt https://www.sqltutorial.org/wp-content/uploads/2020/04/sqlite-data.txt\n",
    "```\n",
    "\n",
    "如果你怕安全性有问题，我建议你把两个网址打开，确认是单纯的 `txt` 文档。\n",
    "\n",
    "然后：\n",
    "\n",
    "```sh\n",
    "sqlite3 tutorial.db\n",
    "```\n",
    "接着\n",
    "\n",
    "```sh\n",
    ".read sqlite.txt\n",
    "```\n",
    "\n",
    "继续\n",
    "\n",
    "```sh\n",
    ".read sqlite-data.txt\n",
    "```\n",
    "\n",
    "检查一下\n",
    "\n",
    "```sh\n",
    ".tables\n",
    "```\n",
    "\n",
    "结果应该是\n",
    "\n",
    "```sh\n",
    "sqlite> .tables\n",
    "countries    dependents   jobs         regions    \n",
    "departments  employees    locations  \n",
    "```\n",
    "\n",
    "```sh\n",
    "SELECT * FROM countries LIMIT 5;\n",
    "```\n",
    "\n",
    "结果应该是\n",
    "\n",
    "```sh\n",
    "sqlite> SELECT * FROM countries LIMIT 5;\n",
    "AR|Argentina|2\n",
    "AU|Australia|3\n",
    "BE|Belgium|1\n",
    "BR|Brazil|2\n",
    "CA|Canada|2\n",
    "```\n",
    "\n",
    "如果没问题，就可以继续开始了。\n",
    "\n",
    "我在 VS Code 里用 Jupyter Notebook。建一个 `ipynb` 文档，然后下面的都是在那里面操作。\n",
    "\n",
    "本文严重参考 [https://www.sqltutorial.org/](https://www.sqltutorial.org/) 上的内容。\n",
    "\n",
    "首先\n",
    "\n",
    "```py\n",
    "%load_ext sql\n",
    "%sql sqlite:///tutorial.db\n",
    "```\n",
    "\n",
    "但是我这个博客里因为数据在别的地方，所以第二行会不一样："
   ]
  },
  {
   "cell_type": "code",
   "execution_count": 1,
   "metadata": {},
   "outputs": [
    {
     "data": {
      "text/plain": [
       "'Connected: @../static/files/cnblog/sql-learn/tutorial.db'"
      ]
     },
     "execution_count": 1,
     "metadata": {},
     "output_type": "execute_result"
    }
   ],
   "source": [
    "%load_ext sql\n",
    "%sql sqlite:///../static/files/cnblog/sql-learn/tutorial.db"
   ]
  },
  {
   "cell_type": "markdown",
   "metadata": {},
   "source": [
    "## All tables"
   ]
  },
  {
   "cell_type": "code",
   "execution_count": 2,
   "metadata": {},
   "outputs": [
    {
     "name": "stdout",
     "output_type": "stream",
     "text": [
      " * sqlite:///../static/files/cnblog/sql-learn/tutorial.db\n",
      "Done.\n"
     ]
    },
    {
     "data": {
      "text/html": [
       "<table>\n",
       "    <thead>\n",
       "        <tr>\n",
       "            <th>name</th>\n",
       "        </tr>\n",
       "    </thead>\n",
       "    <tbody>\n",
       "        <tr>\n",
       "            <td>regions</td>\n",
       "        </tr>\n",
       "        <tr>\n",
       "            <td>sqlite_sequence</td>\n",
       "        </tr>\n",
       "        <tr>\n",
       "            <td>countries</td>\n",
       "        </tr>\n",
       "        <tr>\n",
       "            <td>locations</td>\n",
       "        </tr>\n",
       "        <tr>\n",
       "            <td>departments</td>\n",
       "        </tr>\n",
       "        <tr>\n",
       "            <td>jobs</td>\n",
       "        </tr>\n",
       "        <tr>\n",
       "            <td>employees</td>\n",
       "        </tr>\n",
       "        <tr>\n",
       "            <td>dependents</td>\n",
       "        </tr>\n",
       "    </tbody>\n",
       "</table>"
      ],
      "text/plain": [
       "[('regions',),\n",
       " ('sqlite_sequence',),\n",
       " ('countries',),\n",
       " ('locations',),\n",
       " ('departments',),\n",
       " ('jobs',),\n",
       " ('employees',),\n",
       " ('dependents',)]"
      ]
     },
     "execution_count": 2,
     "metadata": {},
     "output_type": "execute_result"
    }
   ],
   "source": [
    "%%sql\n",
    "SELECT name FROM sqlite_master WHERE type='table';"
   ]
  },
  {
   "cell_type": "markdown",
   "metadata": {},
   "source": [
    "## Query"
   ]
  },
  {
   "cell_type": "code",
   "execution_count": 212,
   "metadata": {},
   "outputs": [
    {
     "name": "stdout",
     "output_type": "stream",
     "text": [
      "Done.\n"
     ]
    },
    {
     "data": {
      "text/html": [
       "<table>\n",
       "    <thead>\n",
       "        <tr>\n",
       "            <th>location_id</th>\n",
       "            <th>street_address</th>\n",
       "            <th>postal_code</th>\n",
       "            <th>city</th>\n",
       "            <th>state_province</th>\n",
       "            <th>country_id</th>\n",
       "        </tr>\n",
       "    </thead>\n",
       "    <tbody>\n",
       "        <tr>\n",
       "            <td>1400</td>\n",
       "            <td>2014 Jabberwocky Rd</td>\n",
       "            <td>26192</td>\n",
       "            <td>Southlake</td>\n",
       "            <td>Texas</td>\n",
       "            <td>US</td>\n",
       "        </tr>\n",
       "        <tr>\n",
       "            <td>1500</td>\n",
       "            <td>2011 Interiors Blvd</td>\n",
       "            <td>99236</td>\n",
       "            <td>South San Francisco</td>\n",
       "            <td>California</td>\n",
       "            <td>US</td>\n",
       "        </tr>\n",
       "        <tr>\n",
       "            <td>1700</td>\n",
       "            <td>2004 Charade Rd</td>\n",
       "            <td>98199</td>\n",
       "            <td>Seattle</td>\n",
       "            <td>Washington</td>\n",
       "            <td>US</td>\n",
       "        </tr>\n",
       "        <tr>\n",
       "            <td>1800</td>\n",
       "            <td>147 Spadina Ave</td>\n",
       "            <td>M5V 2L7</td>\n",
       "            <td>Toronto</td>\n",
       "            <td>Ontario</td>\n",
       "            <td>CA</td>\n",
       "        </tr>\n",
       "        <tr>\n",
       "            <td>2400</td>\n",
       "            <td>8204 Arthur St</td>\n",
       "            <td>None</td>\n",
       "            <td>London</td>\n",
       "            <td>None</td>\n",
       "            <td>UK</td>\n",
       "        </tr>\n",
       "    </tbody>\n",
       "</table>"
      ],
      "text/plain": [
       "[(1400, '2014 Jabberwocky Rd', '26192', 'Southlake', 'Texas', 'US'),\n",
       " (1500, '2011 Interiors Blvd', '99236', 'South San Francisco', 'California', 'US'),\n",
       " (1700, '2004 Charade Rd', '98199', 'Seattle', 'Washington', 'US'),\n",
       " (1800, '147 Spadina Ave', 'M5V 2L7', 'Toronto', 'Ontario', 'CA'),\n",
       " (2400, '8204 Arthur St', None, 'London', None, 'UK')]"
      ]
     },
     "execution_count": 212,
     "metadata": {},
     "output_type": "execute_result"
    }
   ],
   "source": [
    "%%sql\n",
    "select * from locations limit 5"
   ]
  },
  {
   "cell_type": "code",
   "execution_count": 213,
   "metadata": {},
   "outputs": [
    {
     "name": "stdout",
     "output_type": "stream",
     "text": [
      "Done.\n"
     ]
    },
    {
     "data": {
      "text/html": [
       "<table>\n",
       "    <thead>\n",
       "        <tr>\n",
       "            <th>first_name</th>\n",
       "            <th>last_name</th>\n",
       "        </tr>\n",
       "    </thead>\n",
       "    <tbody>\n",
       "        <tr>\n",
       "            <td>Steven</td>\n",
       "            <td>King</td>\n",
       "        </tr>\n",
       "        <tr>\n",
       "            <td>Neena</td>\n",
       "            <td>Kochhar</td>\n",
       "        </tr>\n",
       "        <tr>\n",
       "            <td>Lex</td>\n",
       "            <td>De Haan</td>\n",
       "        </tr>\n",
       "        <tr>\n",
       "            <td>Alexander</td>\n",
       "            <td>Hunold</td>\n",
       "        </tr>\n",
       "        <tr>\n",
       "            <td>Bruce</td>\n",
       "            <td>Ernst</td>\n",
       "        </tr>\n",
       "        <tr>\n",
       "            <td>David</td>\n",
       "            <td>Austin</td>\n",
       "        </tr>\n",
       "        <tr>\n",
       "            <td>Valli</td>\n",
       "            <td>Pataballa</td>\n",
       "        </tr>\n",
       "        <tr>\n",
       "            <td>Diana</td>\n",
       "            <td>Lorentz</td>\n",
       "        </tr>\n",
       "        <tr>\n",
       "            <td>Nancy</td>\n",
       "            <td>Greenberg</td>\n",
       "        </tr>\n",
       "        <tr>\n",
       "            <td>Daniel</td>\n",
       "            <td>Faviet</td>\n",
       "        </tr>\n",
       "    </tbody>\n",
       "</table>"
      ],
      "text/plain": [
       "[('Steven', 'King'),\n",
       " ('Neena', 'Kochhar'),\n",
       " ('Lex', 'De Haan'),\n",
       " ('Alexander', 'Hunold'),\n",
       " ('Bruce', 'Ernst'),\n",
       " ('David', 'Austin'),\n",
       " ('Valli', 'Pataballa'),\n",
       " ('Diana', 'Lorentz'),\n",
       " ('Nancy', 'Greenberg'),\n",
       " ('Daniel', 'Faviet')]"
      ]
     },
     "execution_count": 213,
     "metadata": {},
     "output_type": "execute_result"
    }
   ],
   "source": [
    "%%sql \n",
    "select first_name, last_name from employees limit 10"
   ]
  },
  {
   "cell_type": "code",
   "execution_count": 214,
   "metadata": {},
   "outputs": [
    {
     "name": "stdout",
     "output_type": "stream",
     "text": [
      "Done.\n"
     ]
    },
    {
     "data": {
      "text/html": [
       "<table>\n",
       "    <thead>\n",
       "        <tr>\n",
       "            <th>employee_id</th>\n",
       "            <th>salary</th>\n",
       "        </tr>\n",
       "    </thead>\n",
       "    <tbody>\n",
       "        <tr>\n",
       "            <td>118</td>\n",
       "            <td>2866.5</td>\n",
       "        </tr>\n",
       "        <tr>\n",
       "            <td>119</td>\n",
       "            <td>2756.25</td>\n",
       "        </tr>\n",
       "        <tr>\n",
       "            <td>126</td>\n",
       "            <td>2976.75</td>\n",
       "        </tr>\n",
       "    </tbody>\n",
       "</table>"
      ],
      "text/plain": [
       "[(118, 2866.5), (119, 2756.25), (126, 2976.75)]"
      ]
     },
     "execution_count": 214,
     "metadata": {},
     "output_type": "execute_result"
    }
   ],
   "source": [
    "%%sql\n",
    "select employee_id, salary from employees where salary < 3000;"
   ]
  },
  {
   "cell_type": "code",
   "execution_count": 215,
   "metadata": {},
   "outputs": [],
   "source": [
    "# %%sql \n",
    "# delete from employees where hire_date < '1990-01-01';"
   ]
  },
  {
   "cell_type": "code",
   "execution_count": 216,
   "metadata": {},
   "outputs": [
    {
     "name": "stdout",
     "output_type": "stream",
     "text": [
      "Done.\n"
     ]
    },
    {
     "data": {
      "text/html": [
       "<table>\n",
       "    <thead>\n",
       "        <tr>\n",
       "            <th>first_name</th>\n",
       "            <th>last_name</th>\n",
       "            <th>salary</th>\n",
       "            <th>salary * 1.5</th>\n",
       "        </tr>\n",
       "    </thead>\n",
       "    <tbody>\n",
       "        <tr>\n",
       "            <td>Steven</td>\n",
       "            <td>King</td>\n",
       "            <td>24000.0</td>\n",
       "            <td>36000.0</td>\n",
       "        </tr>\n",
       "        <tr>\n",
       "            <td>Neena</td>\n",
       "            <td>Kochhar</td>\n",
       "            <td>17000.0</td>\n",
       "            <td>25500.0</td>\n",
       "        </tr>\n",
       "        <tr>\n",
       "            <td>Lex</td>\n",
       "            <td>De Haan</td>\n",
       "            <td>17000.0</td>\n",
       "            <td>25500.0</td>\n",
       "        </tr>\n",
       "        <tr>\n",
       "            <td>Alexander</td>\n",
       "            <td>Hunold</td>\n",
       "            <td>9000.0</td>\n",
       "            <td>13500.0</td>\n",
       "        </tr>\n",
       "        <tr>\n",
       "            <td>Bruce</td>\n",
       "            <td>Ernst</td>\n",
       "            <td>6000.0</td>\n",
       "            <td>9000.0</td>\n",
       "        </tr>\n",
       "        <tr>\n",
       "            <td>David</td>\n",
       "            <td>Austin</td>\n",
       "            <td>4800.0</td>\n",
       "            <td>7200.0</td>\n",
       "        </tr>\n",
       "        <tr>\n",
       "            <td>Valli</td>\n",
       "            <td>Pataballa</td>\n",
       "            <td>4800.0</td>\n",
       "            <td>7200.0</td>\n",
       "        </tr>\n",
       "        <tr>\n",
       "            <td>Diana</td>\n",
       "            <td>Lorentz</td>\n",
       "            <td>4200.0</td>\n",
       "            <td>6300.0</td>\n",
       "        </tr>\n",
       "        <tr>\n",
       "            <td>Nancy</td>\n",
       "            <td>Greenberg</td>\n",
       "            <td>12000.0</td>\n",
       "            <td>18000.0</td>\n",
       "        </tr>\n",
       "        <tr>\n",
       "            <td>Daniel</td>\n",
       "            <td>Faviet</td>\n",
       "            <td>9000.0</td>\n",
       "            <td>13500.0</td>\n",
       "        </tr>\n",
       "    </tbody>\n",
       "</table>"
      ],
      "text/plain": [
       "[('Steven', 'King', 24000.0, 36000.0),\n",
       " ('Neena', 'Kochhar', 17000.0, 25500.0),\n",
       " ('Lex', 'De Haan', 17000.0, 25500.0),\n",
       " ('Alexander', 'Hunold', 9000.0, 13500.0),\n",
       " ('Bruce', 'Ernst', 6000.0, 9000.0),\n",
       " ('David', 'Austin', 4800.0, 7200.0),\n",
       " ('Valli', 'Pataballa', 4800.0, 7200.0),\n",
       " ('Diana', 'Lorentz', 4200.0, 6300.0),\n",
       " ('Nancy', 'Greenberg', 12000.0, 18000.0),\n",
       " ('Daniel', 'Faviet', 9000.0, 13500.0)]"
      ]
     },
     "execution_count": 216,
     "metadata": {},
     "output_type": "execute_result"
    }
   ],
   "source": [
    "%%sql \n",
    "select first_name, last_name, salary, salary * 1.5 \n",
    "from employees limit 10;"
   ]
  },
  {
   "cell_type": "code",
   "execution_count": 217,
   "metadata": {},
   "outputs": [
    {
     "name": "stdout",
     "output_type": "stream",
     "text": [
      "Done.\n"
     ]
    },
    {
     "data": {
      "text/html": [
       "<table>\n",
       "    <thead>\n",
       "        <tr>\n",
       "            <th>first_name</th>\n",
       "            <th>last_name</th>\n",
       "            <th>salary</th>\n",
       "            <th>new_salary</th>\n",
       "        </tr>\n",
       "    </thead>\n",
       "    <tbody>\n",
       "        <tr>\n",
       "            <td>Steven</td>\n",
       "            <td>King</td>\n",
       "            <td>24000.0</td>\n",
       "            <td>36000.0</td>\n",
       "        </tr>\n",
       "        <tr>\n",
       "            <td>Neena</td>\n",
       "            <td>Kochhar</td>\n",
       "            <td>17000.0</td>\n",
       "            <td>25500.0</td>\n",
       "        </tr>\n",
       "        <tr>\n",
       "            <td>Lex</td>\n",
       "            <td>De Haan</td>\n",
       "            <td>17000.0</td>\n",
       "            <td>25500.0</td>\n",
       "        </tr>\n",
       "        <tr>\n",
       "            <td>Alexander</td>\n",
       "            <td>Hunold</td>\n",
       "            <td>9000.0</td>\n",
       "            <td>13500.0</td>\n",
       "        </tr>\n",
       "        <tr>\n",
       "            <td>Bruce</td>\n",
       "            <td>Ernst</td>\n",
       "            <td>6000.0</td>\n",
       "            <td>9000.0</td>\n",
       "        </tr>\n",
       "        <tr>\n",
       "            <td>David</td>\n",
       "            <td>Austin</td>\n",
       "            <td>4800.0</td>\n",
       "            <td>7200.0</td>\n",
       "        </tr>\n",
       "        <tr>\n",
       "            <td>Valli</td>\n",
       "            <td>Pataballa</td>\n",
       "            <td>4800.0</td>\n",
       "            <td>7200.0</td>\n",
       "        </tr>\n",
       "        <tr>\n",
       "            <td>Diana</td>\n",
       "            <td>Lorentz</td>\n",
       "            <td>4200.0</td>\n",
       "            <td>6300.0</td>\n",
       "        </tr>\n",
       "        <tr>\n",
       "            <td>Nancy</td>\n",
       "            <td>Greenberg</td>\n",
       "            <td>12000.0</td>\n",
       "            <td>18000.0</td>\n",
       "        </tr>\n",
       "        <tr>\n",
       "            <td>Daniel</td>\n",
       "            <td>Faviet</td>\n",
       "            <td>9000.0</td>\n",
       "            <td>13500.0</td>\n",
       "        </tr>\n",
       "    </tbody>\n",
       "</table>"
      ],
      "text/plain": [
       "[('Steven', 'King', 24000.0, 36000.0),\n",
       " ('Neena', 'Kochhar', 17000.0, 25500.0),\n",
       " ('Lex', 'De Haan', 17000.0, 25500.0),\n",
       " ('Alexander', 'Hunold', 9000.0, 13500.0),\n",
       " ('Bruce', 'Ernst', 6000.0, 9000.0),\n",
       " ('David', 'Austin', 4800.0, 7200.0),\n",
       " ('Valli', 'Pataballa', 4800.0, 7200.0),\n",
       " ('Diana', 'Lorentz', 4200.0, 6300.0),\n",
       " ('Nancy', 'Greenberg', 12000.0, 18000.0),\n",
       " ('Daniel', 'Faviet', 9000.0, 13500.0)]"
      ]
     },
     "execution_count": 217,
     "metadata": {},
     "output_type": "execute_result"
    }
   ],
   "source": [
    "%%sql \n",
    "select \n",
    "    first_name, \n",
    "    last_name, \n",
    "    salary, \n",
    "    salary * 1.5 as new_salary \n",
    "from employees limit 10;"
   ]
  },
  {
   "cell_type": "markdown",
   "metadata": {},
   "source": [
    "## Sort"
   ]
  },
  {
   "cell_type": "code",
   "execution_count": 218,
   "metadata": {},
   "outputs": [
    {
     "name": "stdout",
     "output_type": "stream",
     "text": [
      "Done.\n"
     ]
    },
    {
     "data": {
      "text/html": [
       "<table>\n",
       "    <thead>\n",
       "        <tr>\n",
       "            <th>employee_id</th>\n",
       "            <th>first_name</th>\n",
       "            <th>last_name</th>\n",
       "            <th>hire_date</th>\n",
       "            <th>salary</th>\n",
       "        </tr>\n",
       "    </thead>\n",
       "    <tbody>\n",
       "        <tr>\n",
       "            <td>100</td>\n",
       "            <td>Steven</td>\n",
       "            <td>King</td>\n",
       "            <td>1987-06-17</td>\n",
       "            <td>24000.0</td>\n",
       "        </tr>\n",
       "        <tr>\n",
       "            <td>101</td>\n",
       "            <td>Neena</td>\n",
       "            <td>Kochhar</td>\n",
       "            <td>1989-09-21</td>\n",
       "            <td>17000.0</td>\n",
       "        </tr>\n",
       "        <tr>\n",
       "            <td>102</td>\n",
       "            <td>Lex</td>\n",
       "            <td>De Haan</td>\n",
       "            <td>1993-01-13</td>\n",
       "            <td>17000.0</td>\n",
       "        </tr>\n",
       "        <tr>\n",
       "            <td>103</td>\n",
       "            <td>Alexander</td>\n",
       "            <td>Hunold</td>\n",
       "            <td>1990-01-03</td>\n",
       "            <td>9000.0</td>\n",
       "        </tr>\n",
       "        <tr>\n",
       "            <td>104</td>\n",
       "            <td>Bruce</td>\n",
       "            <td>Ernst</td>\n",
       "            <td>1991-05-21</td>\n",
       "            <td>6000.0</td>\n",
       "        </tr>\n",
       "        <tr>\n",
       "            <td>105</td>\n",
       "            <td>David</td>\n",
       "            <td>Austin</td>\n",
       "            <td>1997-06-25</td>\n",
       "            <td>4800.0</td>\n",
       "        </tr>\n",
       "        <tr>\n",
       "            <td>106</td>\n",
       "            <td>Valli</td>\n",
       "            <td>Pataballa</td>\n",
       "            <td>1998-02-05</td>\n",
       "            <td>4800.0</td>\n",
       "        </tr>\n",
       "        <tr>\n",
       "            <td>107</td>\n",
       "            <td>Diana</td>\n",
       "            <td>Lorentz</td>\n",
       "            <td>1999-02-07</td>\n",
       "            <td>4200.0</td>\n",
       "        </tr>\n",
       "        <tr>\n",
       "            <td>108</td>\n",
       "            <td>Nancy</td>\n",
       "            <td>Greenberg</td>\n",
       "            <td>1994-08-17</td>\n",
       "            <td>12000.0</td>\n",
       "        </tr>\n",
       "        <tr>\n",
       "            <td>109</td>\n",
       "            <td>Daniel</td>\n",
       "            <td>Faviet</td>\n",
       "            <td>1994-08-16</td>\n",
       "            <td>9000.0</td>\n",
       "        </tr>\n",
       "    </tbody>\n",
       "</table>"
      ],
      "text/plain": [
       "[(100, 'Steven', 'King', '1987-06-17', 24000.0),\n",
       " (101, 'Neena', 'Kochhar', '1989-09-21', 17000.0),\n",
       " (102, 'Lex', 'De Haan', '1993-01-13', 17000.0),\n",
       " (103, 'Alexander', 'Hunold', '1990-01-03', 9000.0),\n",
       " (104, 'Bruce', 'Ernst', '1991-05-21', 6000.0),\n",
       " (105, 'David', 'Austin', '1997-06-25', 4800.0),\n",
       " (106, 'Valli', 'Pataballa', '1998-02-05', 4800.0),\n",
       " (107, 'Diana', 'Lorentz', '1999-02-07', 4200.0),\n",
       " (108, 'Nancy', 'Greenberg', '1994-08-17', 12000.0),\n",
       " (109, 'Daniel', 'Faviet', '1994-08-16', 9000.0)]"
      ]
     },
     "execution_count": 218,
     "metadata": {},
     "output_type": "execute_result"
    }
   ],
   "source": [
    "%%sql \n",
    "select \n",
    "    employee_id,\n",
    "    first_name,\n",
    "    last_name,\n",
    "    hire_date,\n",
    "    salary \n",
    "from \n",
    "    employees\n",
    "limit \n",
    "    10;"
   ]
  },
  {
   "cell_type": "code",
   "execution_count": 219,
   "metadata": {},
   "outputs": [
    {
     "name": "stdout",
     "output_type": "stream",
     "text": [
      "Done.\n"
     ]
    },
    {
     "data": {
      "text/html": [
       "<table>\n",
       "    <thead>\n",
       "        <tr>\n",
       "            <th>employee_id</th>\n",
       "            <th>first_name</th>\n",
       "            <th>last_name</th>\n",
       "            <th>hire_date</th>\n",
       "            <th>salary</th>\n",
       "        </tr>\n",
       "    </thead>\n",
       "    <tbody>\n",
       "        <tr>\n",
       "            <td>121</td>\n",
       "            <td>Adam</td>\n",
       "            <td>Fripp</td>\n",
       "            <td>1997-04-10</td>\n",
       "            <td>8200.0</td>\n",
       "        </tr>\n",
       "        <tr>\n",
       "            <td>103</td>\n",
       "            <td>Alexander</td>\n",
       "            <td>Hunold</td>\n",
       "            <td>1990-01-03</td>\n",
       "            <td>9000.0</td>\n",
       "        </tr>\n",
       "        <tr>\n",
       "            <td>115</td>\n",
       "            <td>Alexander</td>\n",
       "            <td>Khoo</td>\n",
       "            <td>1995-05-18</td>\n",
       "            <td>3100.0</td>\n",
       "        </tr>\n",
       "        <tr>\n",
       "            <td>193</td>\n",
       "            <td>Britney</td>\n",
       "            <td>Everett</td>\n",
       "            <td>1997-03-03</td>\n",
       "            <td>3900.0</td>\n",
       "        </tr>\n",
       "        <tr>\n",
       "            <td>104</td>\n",
       "            <td>Bruce</td>\n",
       "            <td>Ernst</td>\n",
       "            <td>1991-05-21</td>\n",
       "            <td>6000.0</td>\n",
       "        </tr>\n",
       "        <tr>\n",
       "            <td>179</td>\n",
       "            <td>Charles</td>\n",
       "            <td>Johnson</td>\n",
       "            <td>2000-01-04</td>\n",
       "            <td>6200.0</td>\n",
       "        </tr>\n",
       "        <tr>\n",
       "            <td>109</td>\n",
       "            <td>Daniel</td>\n",
       "            <td>Faviet</td>\n",
       "            <td>1994-08-16</td>\n",
       "            <td>9000.0</td>\n",
       "        </tr>\n",
       "        <tr>\n",
       "            <td>105</td>\n",
       "            <td>David</td>\n",
       "            <td>Austin</td>\n",
       "            <td>1997-06-25</td>\n",
       "            <td>4800.0</td>\n",
       "        </tr>\n",
       "        <tr>\n",
       "            <td>114</td>\n",
       "            <td>Den</td>\n",
       "            <td>Raphaely</td>\n",
       "            <td>1994-12-07</td>\n",
       "            <td>11000.0</td>\n",
       "        </tr>\n",
       "        <tr>\n",
       "            <td>107</td>\n",
       "            <td>Diana</td>\n",
       "            <td>Lorentz</td>\n",
       "            <td>1999-02-07</td>\n",
       "            <td>4200.0</td>\n",
       "        </tr>\n",
       "    </tbody>\n",
       "</table>"
      ],
      "text/plain": [
       "[(121, 'Adam', 'Fripp', '1997-04-10', 8200.0),\n",
       " (103, 'Alexander', 'Hunold', '1990-01-03', 9000.0),\n",
       " (115, 'Alexander', 'Khoo', '1995-05-18', 3100.0),\n",
       " (193, 'Britney', 'Everett', '1997-03-03', 3900.0),\n",
       " (104, 'Bruce', 'Ernst', '1991-05-21', 6000.0),\n",
       " (179, 'Charles', 'Johnson', '2000-01-04', 6200.0),\n",
       " (109, 'Daniel', 'Faviet', '1994-08-16', 9000.0),\n",
       " (105, 'David', 'Austin', '1997-06-25', 4800.0),\n",
       " (114, 'Den', 'Raphaely', '1994-12-07', 11000.0),\n",
       " (107, 'Diana', 'Lorentz', '1999-02-07', 4200.0)]"
      ]
     },
     "execution_count": 219,
     "metadata": {},
     "output_type": "execute_result"
    }
   ],
   "source": [
    "%%sql \n",
    "select \n",
    "    employee_id,\n",
    "    first_name,\n",
    "    last_name,\n",
    "    hire_date,\n",
    "    salary \n",
    "from \n",
    "    employees\n",
    "order by   \n",
    "    first_name\n",
    "limit \n",
    "    10;"
   ]
  },
  {
   "cell_type": "code",
   "execution_count": 220,
   "metadata": {},
   "outputs": [
    {
     "name": "stdout",
     "output_type": "stream",
     "text": [
      "Done.\n"
     ]
    },
    {
     "data": {
      "text/html": [
       "<table>\n",
       "    <thead>\n",
       "        <tr>\n",
       "            <th>employee_id</th>\n",
       "            <th>first_name</th>\n",
       "            <th>last_name</th>\n",
       "            <th>hire_date</th>\n",
       "            <th>salary</th>\n",
       "        </tr>\n",
       "    </thead>\n",
       "    <tbody>\n",
       "        <tr>\n",
       "            <td>121</td>\n",
       "            <td>Adam</td>\n",
       "            <td>Fripp</td>\n",
       "            <td>1997-04-10</td>\n",
       "            <td>8200.0</td>\n",
       "        </tr>\n",
       "        <tr>\n",
       "            <td>115</td>\n",
       "            <td>Alexander</td>\n",
       "            <td>Khoo</td>\n",
       "            <td>1995-05-18</td>\n",
       "            <td>3100.0</td>\n",
       "        </tr>\n",
       "        <tr>\n",
       "            <td>103</td>\n",
       "            <td>Alexander</td>\n",
       "            <td>Hunold</td>\n",
       "            <td>1990-01-03</td>\n",
       "            <td>9000.0</td>\n",
       "        </tr>\n",
       "        <tr>\n",
       "            <td>193</td>\n",
       "            <td>Britney</td>\n",
       "            <td>Everett</td>\n",
       "            <td>1997-03-03</td>\n",
       "            <td>3900.0</td>\n",
       "        </tr>\n",
       "        <tr>\n",
       "            <td>104</td>\n",
       "            <td>Bruce</td>\n",
       "            <td>Ernst</td>\n",
       "            <td>1991-05-21</td>\n",
       "            <td>6000.0</td>\n",
       "        </tr>\n",
       "        <tr>\n",
       "            <td>179</td>\n",
       "            <td>Charles</td>\n",
       "            <td>Johnson</td>\n",
       "            <td>2000-01-04</td>\n",
       "            <td>6200.0</td>\n",
       "        </tr>\n",
       "        <tr>\n",
       "            <td>109</td>\n",
       "            <td>Daniel</td>\n",
       "            <td>Faviet</td>\n",
       "            <td>1994-08-16</td>\n",
       "            <td>9000.0</td>\n",
       "        </tr>\n",
       "        <tr>\n",
       "            <td>105</td>\n",
       "            <td>David</td>\n",
       "            <td>Austin</td>\n",
       "            <td>1997-06-25</td>\n",
       "            <td>4800.0</td>\n",
       "        </tr>\n",
       "        <tr>\n",
       "            <td>114</td>\n",
       "            <td>Den</td>\n",
       "            <td>Raphaely</td>\n",
       "            <td>1994-12-07</td>\n",
       "            <td>11000.0</td>\n",
       "        </tr>\n",
       "        <tr>\n",
       "            <td>107</td>\n",
       "            <td>Diana</td>\n",
       "            <td>Lorentz</td>\n",
       "            <td>1999-02-07</td>\n",
       "            <td>4200.0</td>\n",
       "        </tr>\n",
       "    </tbody>\n",
       "</table>"
      ],
      "text/plain": [
       "[(121, 'Adam', 'Fripp', '1997-04-10', 8200.0),\n",
       " (115, 'Alexander', 'Khoo', '1995-05-18', 3100.0),\n",
       " (103, 'Alexander', 'Hunold', '1990-01-03', 9000.0),\n",
       " (193, 'Britney', 'Everett', '1997-03-03', 3900.0),\n",
       " (104, 'Bruce', 'Ernst', '1991-05-21', 6000.0),\n",
       " (179, 'Charles', 'Johnson', '2000-01-04', 6200.0),\n",
       " (109, 'Daniel', 'Faviet', '1994-08-16', 9000.0),\n",
       " (105, 'David', 'Austin', '1997-06-25', 4800.0),\n",
       " (114, 'Den', 'Raphaely', '1994-12-07', 11000.0),\n",
       " (107, 'Diana', 'Lorentz', '1999-02-07', 4200.0)]"
      ]
     },
     "execution_count": 220,
     "metadata": {},
     "output_type": "execute_result"
    }
   ],
   "source": [
    "%%sql \n",
    "select \n",
    "    employee_id,\n",
    "    first_name,\n",
    "    last_name,\n",
    "    hire_date,\n",
    "    salary \n",
    "from \n",
    "    employees\n",
    "order by   \n",
    "    first_name,\n",
    "    last_name desc\n",
    "limit \n",
    "    10;"
   ]
  },
  {
   "cell_type": "markdown",
   "metadata": {},
   "source": [
    "## Filter data\n",
    "### DISTINCT"
   ]
  },
  {
   "cell_type": "code",
   "execution_count": 221,
   "metadata": {},
   "outputs": [
    {
     "name": "stdout",
     "output_type": "stream",
     "text": [
      "Done.\n"
     ]
    },
    {
     "data": {
      "text/html": [
       "<table>\n",
       "    <thead>\n",
       "        <tr>\n",
       "            <th>salary</th>\n",
       "        </tr>\n",
       "    </thead>\n",
       "    <tbody>\n",
       "        <tr>\n",
       "            <td>24000.0</td>\n",
       "        </tr>\n",
       "        <tr>\n",
       "            <td>17000.0</td>\n",
       "        </tr>\n",
       "        <tr>\n",
       "            <td>17000.0</td>\n",
       "        </tr>\n",
       "        <tr>\n",
       "            <td>14000.0</td>\n",
       "        </tr>\n",
       "        <tr>\n",
       "            <td>13500.0</td>\n",
       "        </tr>\n",
       "        <tr>\n",
       "            <td>13000.0</td>\n",
       "        </tr>\n",
       "        <tr>\n",
       "            <td>12000.0</td>\n",
       "        </tr>\n",
       "        <tr>\n",
       "            <td>12000.0</td>\n",
       "        </tr>\n",
       "        <tr>\n",
       "            <td>11000.0</td>\n",
       "        </tr>\n",
       "        <tr>\n",
       "            <td>10000.0</td>\n",
       "        </tr>\n",
       "    </tbody>\n",
       "</table>"
      ],
      "text/plain": [
       "[(24000.0,),\n",
       " (17000.0,),\n",
       " (17000.0,),\n",
       " (14000.0,),\n",
       " (13500.0,),\n",
       " (13000.0,),\n",
       " (12000.0,),\n",
       " (12000.0,),\n",
       " (11000.0,),\n",
       " (10000.0,)]"
      ]
     },
     "execution_count": 221,
     "metadata": {},
     "output_type": "execute_result"
    }
   ],
   "source": [
    "%%sql \n",
    "select \n",
    "    salary \n",
    "from \n",
    "    employees \n",
    "order by \n",
    "    salary desc \n",
    "limit 10;"
   ]
  },
  {
   "cell_type": "code",
   "execution_count": 222,
   "metadata": {},
   "outputs": [
    {
     "name": "stdout",
     "output_type": "stream",
     "text": [
      "Done.\n"
     ]
    },
    {
     "data": {
      "text/html": [
       "<table>\n",
       "    <thead>\n",
       "        <tr>\n",
       "            <th>salary</th>\n",
       "        </tr>\n",
       "    </thead>\n",
       "    <tbody>\n",
       "        <tr>\n",
       "            <td>24000.0</td>\n",
       "        </tr>\n",
       "        <tr>\n",
       "            <td>17000.0</td>\n",
       "        </tr>\n",
       "        <tr>\n",
       "            <td>14000.0</td>\n",
       "        </tr>\n",
       "        <tr>\n",
       "            <td>13500.0</td>\n",
       "        </tr>\n",
       "        <tr>\n",
       "            <td>13000.0</td>\n",
       "        </tr>\n",
       "        <tr>\n",
       "            <td>12000.0</td>\n",
       "        </tr>\n",
       "        <tr>\n",
       "            <td>11000.0</td>\n",
       "        </tr>\n",
       "        <tr>\n",
       "            <td>10000.0</td>\n",
       "        </tr>\n",
       "        <tr>\n",
       "            <td>9000.0</td>\n",
       "        </tr>\n",
       "        <tr>\n",
       "            <td>8600.0</td>\n",
       "        </tr>\n",
       "    </tbody>\n",
       "</table>"
      ],
      "text/plain": [
       "[(24000.0,),\n",
       " (17000.0,),\n",
       " (14000.0,),\n",
       " (13500.0,),\n",
       " (13000.0,),\n",
       " (12000.0,),\n",
       " (11000.0,),\n",
       " (10000.0,),\n",
       " (9000.0,),\n",
       " (8600.0,)]"
      ]
     },
     "execution_count": 222,
     "metadata": {},
     "output_type": "execute_result"
    }
   ],
   "source": [
    "%%sql \n",
    "select distinct \n",
    "    salary \n",
    "from \n",
    "    employees \n",
    "order by \n",
    "    salary desc \n",
    "limit 10;"
   ]
  },
  {
   "cell_type": "code",
   "execution_count": 223,
   "metadata": {},
   "outputs": [
    {
     "name": "stdout",
     "output_type": "stream",
     "text": [
      "Done.\n"
     ]
    },
    {
     "data": {
      "text/html": [
       "<table>\n",
       "    <thead>\n",
       "        <tr>\n",
       "            <th>job_id</th>\n",
       "            <th>salary</th>\n",
       "        </tr>\n",
       "    </thead>\n",
       "    <tbody>\n",
       "        <tr>\n",
       "            <td>1</td>\n",
       "            <td>8300.0</td>\n",
       "        </tr>\n",
       "        <tr>\n",
       "            <td>2</td>\n",
       "            <td>12000.0</td>\n",
       "        </tr>\n",
       "        <tr>\n",
       "            <td>3</td>\n",
       "            <td>4400.0</td>\n",
       "        </tr>\n",
       "        <tr>\n",
       "            <td>4</td>\n",
       "            <td>24000.0</td>\n",
       "        </tr>\n",
       "        <tr>\n",
       "            <td>5</td>\n",
       "            <td>17000.0</td>\n",
       "        </tr>\n",
       "        <tr>\n",
       "            <td>5</td>\n",
       "            <td>17000.0</td>\n",
       "        </tr>\n",
       "        <tr>\n",
       "            <td>6</td>\n",
       "            <td>9000.0</td>\n",
       "        </tr>\n",
       "        <tr>\n",
       "            <td>6</td>\n",
       "            <td>8200.0</td>\n",
       "        </tr>\n",
       "        <tr>\n",
       "            <td>6</td>\n",
       "            <td>7800.0</td>\n",
       "        </tr>\n",
       "        <tr>\n",
       "            <td>6</td>\n",
       "            <td>7700.0</td>\n",
       "        </tr>\n",
       "    </tbody>\n",
       "</table>"
      ],
      "text/plain": [
       "[(1, 8300.0),\n",
       " (2, 12000.0),\n",
       " (3, 4400.0),\n",
       " (4, 24000.0),\n",
       " (5, 17000.0),\n",
       " (5, 17000.0),\n",
       " (6, 9000.0),\n",
       " (6, 8200.0),\n",
       " (6, 7800.0),\n",
       " (6, 7700.0)]"
      ]
     },
     "execution_count": 223,
     "metadata": {},
     "output_type": "execute_result"
    }
   ],
   "source": [
    "%%sql \n",
    "select \n",
    "    job_id,\n",
    "    salary\n",
    "from \n",
    "    employees\n",
    "order by\n",
    "    job_id,\n",
    "    salary desc\n",
    "limit 10;"
   ]
  },
  {
   "cell_type": "code",
   "execution_count": 224,
   "metadata": {},
   "outputs": [
    {
     "name": "stdout",
     "output_type": "stream",
     "text": [
      "Done.\n"
     ]
    },
    {
     "data": {
      "text/html": [
       "<table>\n",
       "    <thead>\n",
       "        <tr>\n",
       "            <th>job_id</th>\n",
       "            <th>salary</th>\n",
       "        </tr>\n",
       "    </thead>\n",
       "    <tbody>\n",
       "        <tr>\n",
       "            <td>1</td>\n",
       "            <td>8300.0</td>\n",
       "        </tr>\n",
       "        <tr>\n",
       "            <td>2</td>\n",
       "            <td>12000.0</td>\n",
       "        </tr>\n",
       "        <tr>\n",
       "            <td>3</td>\n",
       "            <td>4400.0</td>\n",
       "        </tr>\n",
       "        <tr>\n",
       "            <td>4</td>\n",
       "            <td>24000.0</td>\n",
       "        </tr>\n",
       "        <tr>\n",
       "            <td>5</td>\n",
       "            <td>17000.0</td>\n",
       "        </tr>\n",
       "        <tr>\n",
       "            <td>6</td>\n",
       "            <td>9000.0</td>\n",
       "        </tr>\n",
       "        <tr>\n",
       "            <td>6</td>\n",
       "            <td>8200.0</td>\n",
       "        </tr>\n",
       "        <tr>\n",
       "            <td>6</td>\n",
       "            <td>7800.0</td>\n",
       "        </tr>\n",
       "        <tr>\n",
       "            <td>6</td>\n",
       "            <td>7700.0</td>\n",
       "        </tr>\n",
       "        <tr>\n",
       "            <td>6</td>\n",
       "            <td>6900.0</td>\n",
       "        </tr>\n",
       "    </tbody>\n",
       "</table>"
      ],
      "text/plain": [
       "[(1, 8300.0),\n",
       " (2, 12000.0),\n",
       " (3, 4400.0),\n",
       " (4, 24000.0),\n",
       " (5, 17000.0),\n",
       " (6, 9000.0),\n",
       " (6, 8200.0),\n",
       " (6, 7800.0),\n",
       " (6, 7700.0),\n",
       " (6, 6900.0)]"
      ]
     },
     "execution_count": 224,
     "metadata": {},
     "output_type": "execute_result"
    }
   ],
   "source": [
    "%%sql \n",
    "select distinct\n",
    "    job_id,\n",
    "    salary\n",
    "from \n",
    "    employees\n",
    "order by\n",
    "    job_id,\n",
    "    salary desc\n",
    "limit 10;"
   ]
  },
  {
   "cell_type": "markdown",
   "metadata": {},
   "source": [
    "`DISTINCT` only keeps one `NULL`. "
   ]
  },
  {
   "cell_type": "code",
   "execution_count": 225,
   "metadata": {},
   "outputs": [
    {
     "name": "stdout",
     "output_type": "stream",
     "text": [
      "Done.\n"
     ]
    },
    {
     "data": {
      "text/html": [
       "<table>\n",
       "    <thead>\n",
       "        <tr>\n",
       "            <th>phone_number</th>\n",
       "        </tr>\n",
       "    </thead>\n",
       "    <tbody>\n",
       "        <tr>\n",
       "            <td>None</td>\n",
       "        </tr>\n",
       "        <tr>\n",
       "            <td>515.123.4444</td>\n",
       "        </tr>\n",
       "        <tr>\n",
       "            <td>515.123.4567</td>\n",
       "        </tr>\n",
       "        <tr>\n",
       "            <td>515.123.4568</td>\n",
       "        </tr>\n",
       "        <tr>\n",
       "            <td>515.123.4569</td>\n",
       "        </tr>\n",
       "        <tr>\n",
       "            <td>515.123.5555</td>\n",
       "        </tr>\n",
       "        <tr>\n",
       "            <td>515.123.7777</td>\n",
       "        </tr>\n",
       "        <tr>\n",
       "            <td>515.123.8080</td>\n",
       "        </tr>\n",
       "        <tr>\n",
       "            <td>515.123.8181</td>\n",
       "        </tr>\n",
       "        <tr>\n",
       "            <td>515.123.8888</td>\n",
       "        </tr>\n",
       "    </tbody>\n",
       "</table>"
      ],
      "text/plain": [
       "[(None,),\n",
       " ('515.123.4444',),\n",
       " ('515.123.4567',),\n",
       " ('515.123.4568',),\n",
       " ('515.123.4569',),\n",
       " ('515.123.5555',),\n",
       " ('515.123.7777',),\n",
       " ('515.123.8080',),\n",
       " ('515.123.8181',),\n",
       " ('515.123.8888',)]"
      ]
     },
     "execution_count": 225,
     "metadata": {},
     "output_type": "execute_result"
    }
   ],
   "source": [
    "%%sql \n",
    "select distinct\n",
    "    phone_number\n",
    "from \n",
    "    employees \n",
    "order by \n",
    "    phone_number\n",
    "limit 10;"
   ]
  },
  {
   "cell_type": "markdown",
   "metadata": {},
   "source": [
    "### LIMIT & OFFSET\n",
    "\n",
    "`LIMIT` means to show many many rows. `OFFSET` means starting from which row. First row is 0. So `OFFSET 3` means starting from the fourth row. "
   ]
  },
  {
   "cell_type": "code",
   "execution_count": 226,
   "metadata": {},
   "outputs": [
    {
     "name": "stdout",
     "output_type": "stream",
     "text": [
      "Done.\n"
     ]
    },
    {
     "data": {
      "text/html": [
       "<table>\n",
       "    <thead>\n",
       "        <tr>\n",
       "            <th>employee_id</th>\n",
       "            <th>first_name</th>\n",
       "            <th>last_name</th>\n",
       "        </tr>\n",
       "    </thead>\n",
       "    <tbody>\n",
       "        <tr>\n",
       "            <td>121</td>\n",
       "            <td>Adam</td>\n",
       "            <td>Fripp</td>\n",
       "        </tr>\n",
       "        <tr>\n",
       "            <td>103</td>\n",
       "            <td>Alexander</td>\n",
       "            <td>Hunold</td>\n",
       "        </tr>\n",
       "        <tr>\n",
       "            <td>115</td>\n",
       "            <td>Alexander</td>\n",
       "            <td>Khoo</td>\n",
       "        </tr>\n",
       "        <tr>\n",
       "            <td>193</td>\n",
       "            <td>Britney</td>\n",
       "            <td>Everett</td>\n",
       "        </tr>\n",
       "        <tr>\n",
       "            <td>104</td>\n",
       "            <td>Bruce</td>\n",
       "            <td>Ernst</td>\n",
       "        </tr>\n",
       "        <tr>\n",
       "            <td>179</td>\n",
       "            <td>Charles</td>\n",
       "            <td>Johnson</td>\n",
       "        </tr>\n",
       "        <tr>\n",
       "            <td>109</td>\n",
       "            <td>Daniel</td>\n",
       "            <td>Faviet</td>\n",
       "        </tr>\n",
       "        <tr>\n",
       "            <td>105</td>\n",
       "            <td>David</td>\n",
       "            <td>Austin</td>\n",
       "        </tr>\n",
       "        <tr>\n",
       "            <td>114</td>\n",
       "            <td>Den</td>\n",
       "            <td>Raphaely</td>\n",
       "        </tr>\n",
       "        <tr>\n",
       "            <td>107</td>\n",
       "            <td>Diana</td>\n",
       "            <td>Lorentz</td>\n",
       "        </tr>\n",
       "    </tbody>\n",
       "</table>"
      ],
      "text/plain": [
       "[(121, 'Adam', 'Fripp'),\n",
       " (103, 'Alexander', 'Hunold'),\n",
       " (115, 'Alexander', 'Khoo'),\n",
       " (193, 'Britney', 'Everett'),\n",
       " (104, 'Bruce', 'Ernst'),\n",
       " (179, 'Charles', 'Johnson'),\n",
       " (109, 'Daniel', 'Faviet'),\n",
       " (105, 'David', 'Austin'),\n",
       " (114, 'Den', 'Raphaely'),\n",
       " (107, 'Diana', 'Lorentz')]"
      ]
     },
     "execution_count": 226,
     "metadata": {},
     "output_type": "execute_result"
    }
   ],
   "source": [
    "%%sql \n",
    "select \n",
    "    employee_id,\n",
    "    first_name,\n",
    "    last_name\n",
    "from    \n",
    "    employees\n",
    "order by\n",
    "    first_name\n",
    "limit 10;"
   ]
  },
  {
   "cell_type": "code",
   "execution_count": 227,
   "metadata": {},
   "outputs": [
    {
     "name": "stdout",
     "output_type": "stream",
     "text": [
      "Done.\n"
     ]
    },
    {
     "data": {
      "text/html": [
       "<table>\n",
       "    <thead>\n",
       "        <tr>\n",
       "            <th>employee_id</th>\n",
       "            <th>first_name</th>\n",
       "            <th>last_name</th>\n",
       "        </tr>\n",
       "    </thead>\n",
       "    <tbody>\n",
       "        <tr>\n",
       "            <td>193</td>\n",
       "            <td>Britney</td>\n",
       "            <td>Everett</td>\n",
       "        </tr>\n",
       "        <tr>\n",
       "            <td>104</td>\n",
       "            <td>Bruce</td>\n",
       "            <td>Ernst</td>\n",
       "        </tr>\n",
       "        <tr>\n",
       "            <td>179</td>\n",
       "            <td>Charles</td>\n",
       "            <td>Johnson</td>\n",
       "        </tr>\n",
       "        <tr>\n",
       "            <td>109</td>\n",
       "            <td>Daniel</td>\n",
       "            <td>Faviet</td>\n",
       "        </tr>\n",
       "        <tr>\n",
       "            <td>105</td>\n",
       "            <td>David</td>\n",
       "            <td>Austin</td>\n",
       "        </tr>\n",
       "    </tbody>\n",
       "</table>"
      ],
      "text/plain": [
       "[(193, 'Britney', 'Everett'),\n",
       " (104, 'Bruce', 'Ernst'),\n",
       " (179, 'Charles', 'Johnson'),\n",
       " (109, 'Daniel', 'Faviet'),\n",
       " (105, 'David', 'Austin')]"
      ]
     },
     "execution_count": 227,
     "metadata": {},
     "output_type": "execute_result"
    }
   ],
   "source": [
    "%%sql \n",
    "select \n",
    "    employee_id,\n",
    "    first_name,\n",
    "    last_name\n",
    "from    \n",
    "    employees\n",
    "order by\n",
    "    first_name\n",
    "limit 5 offset 3;"
   ]
  },
  {
   "cell_type": "markdown",
   "metadata": {},
   "source": [
    "### Where"
   ]
  },
  {
   "cell_type": "code",
   "execution_count": 228,
   "metadata": {},
   "outputs": [
    {
     "name": "stdout",
     "output_type": "stream",
     "text": [
      "Done.\n"
     ]
    },
    {
     "data": {
      "text/html": [
       "<table>\n",
       "    <thead>\n",
       "        <tr>\n",
       "            <th>employee_id</th>\n",
       "            <th>first_name</th>\n",
       "            <th>last_name</th>\n",
       "            <th>salary</th>\n",
       "        </tr>\n",
       "    </thead>\n",
       "    <tbody>\n",
       "        <tr>\n",
       "            <td>100</td>\n",
       "            <td>Steven</td>\n",
       "            <td>King</td>\n",
       "            <td>24000.0</td>\n",
       "        </tr>\n",
       "        <tr>\n",
       "            <td>101</td>\n",
       "            <td>Neena</td>\n",
       "            <td>Kochhar</td>\n",
       "            <td>17000.0</td>\n",
       "        </tr>\n",
       "        <tr>\n",
       "            <td>102</td>\n",
       "            <td>Lex</td>\n",
       "            <td>De Haan</td>\n",
       "            <td>17000.0</td>\n",
       "        </tr>\n",
       "    </tbody>\n",
       "</table>"
      ],
      "text/plain": [
       "[(100, 'Steven', 'King', 24000.0),\n",
       " (101, 'Neena', 'Kochhar', 17000.0),\n",
       " (102, 'Lex', 'De Haan', 17000.0)]"
      ]
     },
     "execution_count": 228,
     "metadata": {},
     "output_type": "execute_result"
    }
   ],
   "source": [
    "%%sql \n",
    "select  \n",
    "    employee_id,\n",
    "    first_name,\n",
    "    last_name,\n",
    "    salary\n",
    "from \n",
    "    employees \n",
    "where\n",
    "    salary > 14000 \n",
    "order by \n",
    "    salary desc "
   ]
  },
  {
   "cell_type": "code",
   "execution_count": 229,
   "metadata": {},
   "outputs": [
    {
     "name": "stdout",
     "output_type": "stream",
     "text": [
      "Done.\n"
     ]
    },
    {
     "data": {
      "text/html": [
       "<table>\n",
       "    <thead>\n",
       "        <tr>\n",
       "            <th>employee_id</th>\n",
       "            <th>first_name</th>\n",
       "            <th>last_name</th>\n",
       "            <th>department_id</th>\n",
       "        </tr>\n",
       "    </thead>\n",
       "    <tbody>\n",
       "        <tr>\n",
       "            <td>121</td>\n",
       "            <td>Adam</td>\n",
       "            <td>Fripp</td>\n",
       "            <td>5</td>\n",
       "        </tr>\n",
       "        <tr>\n",
       "            <td>193</td>\n",
       "            <td>Britney</td>\n",
       "            <td>Everett</td>\n",
       "            <td>5</td>\n",
       "        </tr>\n",
       "        <tr>\n",
       "            <td>126</td>\n",
       "            <td>Irene</td>\n",
       "            <td>Mikkilineni</td>\n",
       "            <td>5</td>\n",
       "        </tr>\n",
       "        <tr>\n",
       "            <td>120</td>\n",
       "            <td>Matthew</td>\n",
       "            <td>Weiss</td>\n",
       "            <td>5</td>\n",
       "        </tr>\n",
       "        <tr>\n",
       "            <td>122</td>\n",
       "            <td>Payam</td>\n",
       "            <td>Kaufling</td>\n",
       "            <td>5</td>\n",
       "        </tr>\n",
       "        <tr>\n",
       "            <td>192</td>\n",
       "            <td>Sarah</td>\n",
       "            <td>Bell</td>\n",
       "            <td>5</td>\n",
       "        </tr>\n",
       "        <tr>\n",
       "            <td>123</td>\n",
       "            <td>Shanta</td>\n",
       "            <td>Vollman</td>\n",
       "            <td>5</td>\n",
       "        </tr>\n",
       "    </tbody>\n",
       "</table>"
      ],
      "text/plain": [
       "[(121, 'Adam', 'Fripp', 5),\n",
       " (193, 'Britney', 'Everett', 5),\n",
       " (126, 'Irene', 'Mikkilineni', 5),\n",
       " (120, 'Matthew', 'Weiss', 5),\n",
       " (122, 'Payam', 'Kaufling', 5),\n",
       " (192, 'Sarah', 'Bell', 5),\n",
       " (123, 'Shanta', 'Vollman', 5)]"
      ]
     },
     "execution_count": 229,
     "metadata": {},
     "output_type": "execute_result"
    }
   ],
   "source": [
    "%%sql \n",
    "select  \n",
    "    employee_id,\n",
    "    first_name,\n",
    "    last_name,\n",
    "    department_id\n",
    "from \n",
    "    employees \n",
    "where\n",
    "    department_id = 5\n",
    "order by \n",
    "    first_name;"
   ]
  },
  {
   "cell_type": "code",
   "execution_count": 230,
   "metadata": {},
   "outputs": [
    {
     "name": "stdout",
     "output_type": "stream",
     "text": [
      "Done.\n"
     ]
    },
    {
     "data": {
      "text/html": [
       "<table>\n",
       "    <thead>\n",
       "        <tr>\n",
       "            <th>employee_id</th>\n",
       "            <th>first_name</th>\n",
       "            <th>last_name</th>\n",
       "        </tr>\n",
       "    </thead>\n",
       "    <tbody>\n",
       "        <tr>\n",
       "            <td>110</td>\n",
       "            <td>John</td>\n",
       "            <td>Chen</td>\n",
       "        </tr>\n",
       "    </tbody>\n",
       "</table>"
      ],
      "text/plain": [
       "[(110, 'John', 'Chen')]"
      ]
     },
     "execution_count": 230,
     "metadata": {},
     "output_type": "execute_result"
    }
   ],
   "source": [
    "%%sql \n",
    "select  \n",
    "    employee_id,\n",
    "    first_name,\n",
    "    last_name\n",
    "from \n",
    "    employees \n",
    "where\n",
    "    last_name = \"Chen\""
   ]
  },
  {
   "cell_type": "markdown",
   "metadata": {},
   "source": [
    "### Comparison oprators\n",
    "\n",
    "- `=`: equal\n",
    "- `<>`: not equal \n",
    "- `>`\n",
    "- `>=`\n",
    "- `<`\n",
    "- `<=`\n",
    "\n",
    "### Logical operators \n",
    "- `ALL`\n",
    "- `AND`\n",
    "- `ANY`\n",
    "- `BETWEEN`\n",
    "- `EXISTS`\n",
    "- `IN`\n",
    "- `LIKE`\n",
    "- `NOT`\n",
    "- `OR`\n",
    "- `SOME`\n",
    "- `IS NULL` \n",
    "\n",
    "#### AND"
   ]
  },
  {
   "cell_type": "code",
   "execution_count": 231,
   "metadata": {},
   "outputs": [
    {
     "name": "stdout",
     "output_type": "stream",
     "text": [
      "Done.\n"
     ]
    },
    {
     "data": {
      "text/html": [
       "<table>\n",
       "    <thead>\n",
       "        <tr>\n",
       "            <th>first_name</th>\n",
       "            <th>last_name</th>\n",
       "            <th>salary</th>\n",
       "        </tr>\n",
       "    </thead>\n",
       "    <tbody>\n",
       "        <tr>\n",
       "            <td>Luis</td>\n",
       "            <td>Popp</td>\n",
       "            <td>6900.0</td>\n",
       "        </tr>\n",
       "        <tr>\n",
       "            <td>Shanta</td>\n",
       "            <td>Vollman</td>\n",
       "            <td>6500.0</td>\n",
       "        </tr>\n",
       "        <tr>\n",
       "            <td>Susan</td>\n",
       "            <td>Mavris</td>\n",
       "            <td>6500.0</td>\n",
       "        </tr>\n",
       "        <tr>\n",
       "            <td>Charles</td>\n",
       "            <td>Johnson</td>\n",
       "            <td>6200.0</td>\n",
       "        </tr>\n",
       "        <tr>\n",
       "            <td>Bruce</td>\n",
       "            <td>Ernst</td>\n",
       "            <td>6000.0</td>\n",
       "        </tr>\n",
       "        <tr>\n",
       "            <td>Pat</td>\n",
       "            <td>Fay</td>\n",
       "            <td>6000.0</td>\n",
       "        </tr>\n",
       "    </tbody>\n",
       "</table>"
      ],
      "text/plain": [
       "[('Luis', 'Popp', 6900.0),\n",
       " ('Shanta', 'Vollman', 6500.0),\n",
       " ('Susan', 'Mavris', 6500.0),\n",
       " ('Charles', 'Johnson', 6200.0),\n",
       " ('Bruce', 'Ernst', 6000.0),\n",
       " ('Pat', 'Fay', 6000.0)]"
      ]
     },
     "execution_count": 231,
     "metadata": {},
     "output_type": "execute_result"
    }
   ],
   "source": [
    "%%sql \n",
    "select first_name, last_name, salary \n",
    "from employees \n",
    "where salary > 5000 AND salary < 7000 \n",
    "order by salary desc;"
   ]
  },
  {
   "cell_type": "markdown",
   "metadata": {},
   "source": [
    "#### OR"
   ]
  },
  {
   "cell_type": "code",
   "execution_count": 232,
   "metadata": {},
   "outputs": [
    {
     "name": "stdout",
     "output_type": "stream",
     "text": [
      "Done.\n"
     ]
    },
    {
     "data": {
      "text/html": [
       "<table>\n",
       "    <thead>\n",
       "        <tr>\n",
       "            <th>first_name</th>\n",
       "            <th>last_name</th>\n",
       "            <th>salary</th>\n",
       "        </tr>\n",
       "    </thead>\n",
       "    <tbody>\n",
       "        <tr>\n",
       "            <td>Matthew</td>\n",
       "            <td>Weiss</td>\n",
       "            <td>8000.0</td>\n",
       "        </tr>\n",
       "        <tr>\n",
       "            <td>Kimberely</td>\n",
       "            <td>Grant</td>\n",
       "            <td>7000.0</td>\n",
       "        </tr>\n",
       "    </tbody>\n",
       "</table>"
      ],
      "text/plain": [
       "[('Matthew', 'Weiss', 8000.0), ('Kimberely', 'Grant', 7000.0)]"
      ]
     },
     "execution_count": 232,
     "metadata": {},
     "output_type": "execute_result"
    }
   ],
   "source": [
    "%%sql \n",
    "select first_name, last_name, salary \n",
    "from employees \n",
    "where salary = 7000 OR salary = 8000; "
   ]
  },
  {
   "cell_type": "markdown",
   "metadata": {},
   "source": [
    "#### IS NULL"
   ]
  },
  {
   "cell_type": "code",
   "execution_count": 233,
   "metadata": {},
   "outputs": [
    {
     "name": "stdout",
     "output_type": "stream",
     "text": [
      "Done.\n"
     ]
    },
    {
     "data": {
      "text/html": [
       "<table>\n",
       "    <thead>\n",
       "        <tr>\n",
       "            <th>first_name</th>\n",
       "            <th>last_name</th>\n",
       "            <th>phone_number</th>\n",
       "        </tr>\n",
       "    </thead>\n",
       "    <tbody>\n",
       "        <tr>\n",
       "            <td>Charles</td>\n",
       "            <td>Johnson</td>\n",
       "            <td>None</td>\n",
       "        </tr>\n",
       "        <tr>\n",
       "            <td>Jack</td>\n",
       "            <td>Livingston</td>\n",
       "            <td>None</td>\n",
       "        </tr>\n",
       "        <tr>\n",
       "            <td>John</td>\n",
       "            <td>Russell</td>\n",
       "            <td>None</td>\n",
       "        </tr>\n",
       "        <tr>\n",
       "            <td>Jonathon</td>\n",
       "            <td>Taylor</td>\n",
       "            <td>None</td>\n",
       "        </tr>\n",
       "        <tr>\n",
       "            <td>Karen</td>\n",
       "            <td>Partners</td>\n",
       "            <td>None</td>\n",
       "        </tr>\n",
       "        <tr>\n",
       "            <td>Kimberely</td>\n",
       "            <td>Grant</td>\n",
       "            <td>None</td>\n",
       "        </tr>\n",
       "    </tbody>\n",
       "</table>"
      ],
      "text/plain": [
       "[('Charles', 'Johnson', None),\n",
       " ('Jack', 'Livingston', None),\n",
       " ('John', 'Russell', None),\n",
       " ('Jonathon', 'Taylor', None),\n",
       " ('Karen', 'Partners', None),\n",
       " ('Kimberely', 'Grant', None)]"
      ]
     },
     "execution_count": 233,
     "metadata": {},
     "output_type": "execute_result"
    }
   ],
   "source": [
    "%%sql \n",
    "select first_name, last_name, phone_number \n",
    "from employees \n",
    "where phone_number IS NULL \n",
    "order by first_name, last_name;"
   ]
  },
  {
   "cell_type": "markdown",
   "metadata": {},
   "source": [
    "#### BETWEEN"
   ]
  },
  {
   "cell_type": "code",
   "execution_count": 234,
   "metadata": {},
   "outputs": [
    {
     "name": "stdout",
     "output_type": "stream",
     "text": [
      "Done.\n"
     ]
    },
    {
     "data": {
      "text/html": [
       "<table>\n",
       "    <thead>\n",
       "        <tr>\n",
       "            <th>first_name</th>\n",
       "            <th>last_name</th>\n",
       "            <th>salary</th>\n",
       "        </tr>\n",
       "    </thead>\n",
       "    <tbody>\n",
       "        <tr>\n",
       "            <td>Nancy</td>\n",
       "            <td>Greenberg</td>\n",
       "            <td>12000.0</td>\n",
       "        </tr>\n",
       "        <tr>\n",
       "            <td>Shelley</td>\n",
       "            <td>Higgins</td>\n",
       "            <td>12000.0</td>\n",
       "        </tr>\n",
       "        <tr>\n",
       "            <td>Den</td>\n",
       "            <td>Raphaely</td>\n",
       "            <td>11000.0</td>\n",
       "        </tr>\n",
       "        <tr>\n",
       "            <td>Hermann</td>\n",
       "            <td>Baer</td>\n",
       "            <td>10000.0</td>\n",
       "        </tr>\n",
       "        <tr>\n",
       "            <td>Alexander</td>\n",
       "            <td>Hunold</td>\n",
       "            <td>9000.0</td>\n",
       "        </tr>\n",
       "        <tr>\n",
       "            <td>Daniel</td>\n",
       "            <td>Faviet</td>\n",
       "            <td>9000.0</td>\n",
       "        </tr>\n",
       "    </tbody>\n",
       "</table>"
      ],
      "text/plain": [
       "[('Nancy', 'Greenberg', 12000.0),\n",
       " ('Shelley', 'Higgins', 12000.0),\n",
       " ('Den', 'Raphaely', 11000.0),\n",
       " ('Hermann', 'Baer', 10000.0),\n",
       " ('Alexander', 'Hunold', 9000.0),\n",
       " ('Daniel', 'Faviet', 9000.0)]"
      ]
     },
     "execution_count": 234,
     "metadata": {},
     "output_type": "execute_result"
    }
   ],
   "source": [
    "%%sql \n",
    "select first_name, last_name, salary \n",
    "from employees \n",
    "where salary BETWEEN 9000 and 12000 \n",
    "order by salary desc;"
   ]
  },
  {
   "cell_type": "markdown",
   "metadata": {},
   "source": [
    "#### IN"
   ]
  },
  {
   "cell_type": "code",
   "execution_count": 235,
   "metadata": {},
   "outputs": [
    {
     "name": "stdout",
     "output_type": "stream",
     "text": [
      "Done.\n"
     ]
    },
    {
     "data": {
      "text/html": [
       "<table>\n",
       "    <thead>\n",
       "        <tr>\n",
       "            <th>first_name</th>\n",
       "            <th>last_name</th>\n",
       "            <th>department_id</th>\n",
       "        </tr>\n",
       "    </thead>\n",
       "    <tbody>\n",
       "        <tr>\n",
       "            <td>Alexander</td>\n",
       "            <td>Hunold</td>\n",
       "            <td>6</td>\n",
       "        </tr>\n",
       "        <tr>\n",
       "            <td>Bruce</td>\n",
       "            <td>Ernst</td>\n",
       "            <td>6</td>\n",
       "        </tr>\n",
       "        <tr>\n",
       "            <td>David</td>\n",
       "            <td>Austin</td>\n",
       "            <td>6</td>\n",
       "        </tr>\n",
       "        <tr>\n",
       "            <td>Valli</td>\n",
       "            <td>Pataballa</td>\n",
       "            <td>6</td>\n",
       "        </tr>\n",
       "        <tr>\n",
       "            <td>Diana</td>\n",
       "            <td>Lorentz</td>\n",
       "            <td>6</td>\n",
       "        </tr>\n",
       "        <tr>\n",
       "            <td>John</td>\n",
       "            <td>Russell</td>\n",
       "            <td>8</td>\n",
       "        </tr>\n",
       "        <tr>\n",
       "            <td>Karen</td>\n",
       "            <td>Partners</td>\n",
       "            <td>8</td>\n",
       "        </tr>\n",
       "        <tr>\n",
       "            <td>Jonathon</td>\n",
       "            <td>Taylor</td>\n",
       "            <td>8</td>\n",
       "        </tr>\n",
       "        <tr>\n",
       "            <td>Jack</td>\n",
       "            <td>Livingston</td>\n",
       "            <td>8</td>\n",
       "        </tr>\n",
       "        <tr>\n",
       "            <td>Kimberely</td>\n",
       "            <td>Grant</td>\n",
       "            <td>8</td>\n",
       "        </tr>\n",
       "        <tr>\n",
       "            <td>Charles</td>\n",
       "            <td>Johnson</td>\n",
       "            <td>8</td>\n",
       "        </tr>\n",
       "        <tr>\n",
       "            <td>Steven</td>\n",
       "            <td>King</td>\n",
       "            <td>9</td>\n",
       "        </tr>\n",
       "        <tr>\n",
       "            <td>Neena</td>\n",
       "            <td>Kochhar</td>\n",
       "            <td>9</td>\n",
       "        </tr>\n",
       "        <tr>\n",
       "            <td>Lex</td>\n",
       "            <td>De Haan</td>\n",
       "            <td>9</td>\n",
       "        </tr>\n",
       "    </tbody>\n",
       "</table>"
      ],
      "text/plain": [
       "[('Alexander', 'Hunold', 6),\n",
       " ('Bruce', 'Ernst', 6),\n",
       " ('David', 'Austin', 6),\n",
       " ('Valli', 'Pataballa', 6),\n",
       " ('Diana', 'Lorentz', 6),\n",
       " ('John', 'Russell', 8),\n",
       " ('Karen', 'Partners', 8),\n",
       " ('Jonathon', 'Taylor', 8),\n",
       " ('Jack', 'Livingston', 8),\n",
       " ('Kimberely', 'Grant', 8),\n",
       " ('Charles', 'Johnson', 8),\n",
       " ('Steven', 'King', 9),\n",
       " ('Neena', 'Kochhar', 9),\n",
       " ('Lex', 'De Haan', 9)]"
      ]
     },
     "execution_count": 235,
     "metadata": {},
     "output_type": "execute_result"
    }
   ],
   "source": [
    "%%sql \n",
    "select first_name, last_name, department_id \n",
    "from employees \n",
    "where department_id IN (6, 8, 9)\n",
    "order by department_id;"
   ]
  },
  {
   "cell_type": "markdown",
   "metadata": {},
   "source": [
    "#### LIKE"
   ]
  },
  {
   "cell_type": "code",
   "execution_count": 236,
   "metadata": {},
   "outputs": [
    {
     "name": "stdout",
     "output_type": "stream",
     "text": [
      "Done.\n"
     ]
    },
    {
     "data": {
      "text/html": [
       "<table>\n",
       "    <thead>\n",
       "        <tr>\n",
       "            <th>employee_id</th>\n",
       "            <th>first_name</th>\n",
       "            <th>last_name</th>\n",
       "        </tr>\n",
       "    </thead>\n",
       "    <tbody>\n",
       "        <tr>\n",
       "            <td>179</td>\n",
       "            <td>Charles</td>\n",
       "            <td>Johnson</td>\n",
       "        </tr>\n",
       "        <tr>\n",
       "            <td>123</td>\n",
       "            <td>Shanta</td>\n",
       "            <td>Vollman</td>\n",
       "        </tr>\n",
       "        <tr>\n",
       "            <td>205</td>\n",
       "            <td>Shelley</td>\n",
       "            <td>Higgins</td>\n",
       "        </tr>\n",
       "        <tr>\n",
       "            <td>116</td>\n",
       "            <td>Shelli</td>\n",
       "            <td>Baida</td>\n",
       "        </tr>\n",
       "    </tbody>\n",
       "</table>"
      ],
      "text/plain": [
       "[(179, 'Charles', 'Johnson'),\n",
       " (123, 'Shanta', 'Vollman'),\n",
       " (205, 'Shelley', 'Higgins'),\n",
       " (116, 'Shelli', 'Baida')]"
      ]
     },
     "execution_count": 236,
     "metadata": {},
     "output_type": "execute_result"
    }
   ],
   "source": [
    "%%sql \n",
    "select employee_id, first_name, last_name \n",
    "from employees \n",
    "where first_name LIKE '_h%'\n",
    "order by first_name;"
   ]
  },
  {
   "cell_type": "markdown",
   "metadata": {},
   "source": [
    "`_` represents a single character. \n",
    "\n",
    "`%` represents `0`, `1`, or multiple characters.\n",
    "\n",
    "#### ALL, ANY\n",
    "\n",
    "SQLITE does not support `ALL` or `ANY`. But there are alternatives. \n",
    "\n",
    "For example\n",
    "\n",
    "```sql\n",
    "SELECT * FROM employees\n",
    "WHERE salary >= ALL (\n",
    "    SELECT salary FROM employees WHERE department_id = 8\n",
    ");\n",
    "```\n",
    "\n",
    "can be done via\n",
    "\n",
    "```sql\n",
    "SELECT * FROM employees\n",
    "WHERE salary >= (\n",
    "    SELECT MAX(salary) FROM employees WHERE department_id = 8\n",
    ")\n",
    "```\n",
    "\n",
    "And\n",
    "\n",
    "```sql\n",
    "SELECT * FROM employees\n",
    "WHERE salary >= ANY (\n",
    "    SELECT salary FROM employees WHERE department_id = 8\n",
    ");\n",
    "```\n",
    "\n",
    "can be achieved through\n",
    "\n",
    "```sql\n",
    "SELECT * FROM employees\n",
    "WHERE salary >= (\n",
    "    SELECT MIN(salary) FROM employees WHERE department_id = 8\n",
    ");\n",
    "```\n",
    "\n",
    "or \n",
    "\n",
    "```sql\n",
    "SELECT * FROM employees\n",
    "WHERE salary IN (\n",
    "    SELECT salary FROM employees WHERE department_id = 8\n",
    ");\n",
    "```"
   ]
  },
  {
   "cell_type": "markdown",
   "metadata": {},
   "source": [
    "#### EXISTS\n",
    "\n",
    "For example, show names of those who have dependents:"
   ]
  },
  {
   "cell_type": "code",
   "execution_count": 237,
   "metadata": {},
   "outputs": [
    {
     "name": "stdout",
     "output_type": "stream",
     "text": [
      "Done.\n"
     ]
    },
    {
     "data": {
      "text/html": [
       "<table>\n",
       "    <thead>\n",
       "        <tr>\n",
       "            <th>first_name</th>\n",
       "            <th>last_name</th>\n",
       "        </tr>\n",
       "    </thead>\n",
       "    <tbody>\n",
       "        <tr>\n",
       "            <td>Steven</td>\n",
       "            <td>King</td>\n",
       "        </tr>\n",
       "        <tr>\n",
       "            <td>Neena</td>\n",
       "            <td>Kochhar</td>\n",
       "        </tr>\n",
       "        <tr>\n",
       "            <td>Lex</td>\n",
       "            <td>De Haan</td>\n",
       "        </tr>\n",
       "        <tr>\n",
       "            <td>Alexander</td>\n",
       "            <td>Hunold</td>\n",
       "        </tr>\n",
       "        <tr>\n",
       "            <td>Bruce</td>\n",
       "            <td>Ernst</td>\n",
       "        </tr>\n",
       "        <tr>\n",
       "            <td>David</td>\n",
       "            <td>Austin</td>\n",
       "        </tr>\n",
       "        <tr>\n",
       "            <td>Valli</td>\n",
       "            <td>Pataballa</td>\n",
       "        </tr>\n",
       "        <tr>\n",
       "            <td>Diana</td>\n",
       "            <td>Lorentz</td>\n",
       "        </tr>\n",
       "        <tr>\n",
       "            <td>Nancy</td>\n",
       "            <td>Greenberg</td>\n",
       "        </tr>\n",
       "        <tr>\n",
       "            <td>Daniel</td>\n",
       "            <td>Faviet</td>\n",
       "        </tr>\n",
       "    </tbody>\n",
       "</table>"
      ],
      "text/plain": [
       "[('Steven', 'King'),\n",
       " ('Neena', 'Kochhar'),\n",
       " ('Lex', 'De Haan'),\n",
       " ('Alexander', 'Hunold'),\n",
       " ('Bruce', 'Ernst'),\n",
       " ('David', 'Austin'),\n",
       " ('Valli', 'Pataballa'),\n",
       " ('Diana', 'Lorentz'),\n",
       " ('Nancy', 'Greenberg'),\n",
       " ('Daniel', 'Faviet')]"
      ]
     },
     "execution_count": 237,
     "metadata": {},
     "output_type": "execute_result"
    }
   ],
   "source": [
    "%%sql \n",
    "select first_name, last_name \n",
    "from employees e \n",
    "where EXISTS(\n",
    "    select * from dependents d \n",
    "    where d.employee_id = e.employee_id\n",
    ")\n",
    "limit 10;"
   ]
  },
  {
   "cell_type": "markdown",
   "metadata": {},
   "source": [
    "在我看来，上面的这行就说明了 sql 相比于 csv 的优势。通过 `employee_id` 这一栏，我们把两个数据连在一起，放在了一个数据库。\n",
    "\n",
    "## Conditional Expression"
   ]
  },
  {
   "cell_type": "code",
   "execution_count": 238,
   "metadata": {},
   "outputs": [
    {
     "name": "stdout",
     "output_type": "stream",
     "text": [
      "Done.\n"
     ]
    },
    {
     "data": {
      "text/html": [
       "<table>\n",
       "    <thead>\n",
       "        <tr>\n",
       "            <th>first_name</th>\n",
       "            <th>last_name</th>\n",
       "            <th>evaluation</th>\n",
       "        </tr>\n",
       "    </thead>\n",
       "    <tbody>\n",
       "        <tr>\n",
       "            <td>Steven</td>\n",
       "            <td>King</td>\n",
       "            <td>high</td>\n",
       "        </tr>\n",
       "        <tr>\n",
       "            <td>Neena</td>\n",
       "            <td>Kochhar</td>\n",
       "            <td>high</td>\n",
       "        </tr>\n",
       "        <tr>\n",
       "            <td>Lex</td>\n",
       "            <td>De Haan</td>\n",
       "            <td>high</td>\n",
       "        </tr>\n",
       "        <tr>\n",
       "            <td>Alexander</td>\n",
       "            <td>Hunold</td>\n",
       "            <td>high</td>\n",
       "        </tr>\n",
       "        <tr>\n",
       "            <td>Bruce</td>\n",
       "            <td>Ernst</td>\n",
       "            <td>high</td>\n",
       "        </tr>\n",
       "        <tr>\n",
       "            <td>David</td>\n",
       "            <td>Austin</td>\n",
       "            <td>average</td>\n",
       "        </tr>\n",
       "        <tr>\n",
       "            <td>Valli</td>\n",
       "            <td>Pataballa</td>\n",
       "            <td>average</td>\n",
       "        </tr>\n",
       "        <tr>\n",
       "            <td>Diana</td>\n",
       "            <td>Lorentz</td>\n",
       "            <td>average</td>\n",
       "        </tr>\n",
       "        <tr>\n",
       "            <td>Nancy</td>\n",
       "            <td>Greenberg</td>\n",
       "            <td>high</td>\n",
       "        </tr>\n",
       "        <tr>\n",
       "            <td>Daniel</td>\n",
       "            <td>Faviet</td>\n",
       "            <td>high</td>\n",
       "        </tr>\n",
       "    </tbody>\n",
       "</table>"
      ],
      "text/plain": [
       "[('Steven', 'King', 'high'),\n",
       " ('Neena', 'Kochhar', 'high'),\n",
       " ('Lex', 'De Haan', 'high'),\n",
       " ('Alexander', 'Hunold', 'high'),\n",
       " ('Bruce', 'Ernst', 'high'),\n",
       " ('David', 'Austin', 'average'),\n",
       " ('Valli', 'Pataballa', 'average'),\n",
       " ('Diana', 'Lorentz', 'average'),\n",
       " ('Nancy', 'Greenberg', 'high'),\n",
       " ('Daniel', 'Faviet', 'high')]"
      ]
     },
     "execution_count": 238,
     "metadata": {},
     "output_type": "execute_result"
    }
   ],
   "source": [
    "%%sql \n",
    "SELECT first_name, last_name,\n",
    "CASE \n",
    "    when salary < 3000 then 'low'\n",
    "    when salary >= 3000 and salary <= 5000 then 'average'\n",
    "    ELSE 'high'\n",
    "END AS evaluation \n",
    "FROM employees\n",
    "LIMIT 10;"
   ]
  },
  {
   "cell_type": "code",
   "execution_count": 239,
   "metadata": {},
   "outputs": [
    {
     "name": "stdout",
     "output_type": "stream",
     "text": [
      "Done.\n"
     ]
    },
    {
     "data": {
      "text/html": [
       "<table>\n",
       "    <thead>\n",
       "        <tr>\n",
       "            <th>first_name</th>\n",
       "            <th>last_name</th>\n",
       "            <th>phone_number</th>\n",
       "            <th>final_phone_number</th>\n",
       "        </tr>\n",
       "    </thead>\n",
       "    <tbody>\n",
       "        <tr>\n",
       "            <td>John</td>\n",
       "            <td>Russell</td>\n",
       "            <td>None</td>\n",
       "            <td>No phone number</td>\n",
       "        </tr>\n",
       "        <tr>\n",
       "            <td>Karen</td>\n",
       "            <td>Partners</td>\n",
       "            <td>None</td>\n",
       "            <td>No phone number</td>\n",
       "        </tr>\n",
       "        <tr>\n",
       "            <td>Jonathon</td>\n",
       "            <td>Taylor</td>\n",
       "            <td>None</td>\n",
       "            <td>No phone number</td>\n",
       "        </tr>\n",
       "        <tr>\n",
       "            <td>Jack</td>\n",
       "            <td>Livingston</td>\n",
       "            <td>None</td>\n",
       "            <td>No phone number</td>\n",
       "        </tr>\n",
       "        <tr>\n",
       "            <td>Kimberely</td>\n",
       "            <td>Grant</td>\n",
       "            <td>None</td>\n",
       "            <td>No phone number</td>\n",
       "        </tr>\n",
       "        <tr>\n",
       "            <td>Charles</td>\n",
       "            <td>Johnson</td>\n",
       "            <td>None</td>\n",
       "            <td>No phone number</td>\n",
       "        </tr>\n",
       "    </tbody>\n",
       "</table>"
      ],
      "text/plain": [
       "[('John', 'Russell', None, 'No phone number'),\n",
       " ('Karen', 'Partners', None, 'No phone number'),\n",
       " ('Jonathon', 'Taylor', None, 'No phone number'),\n",
       " ('Jack', 'Livingston', None, 'No phone number'),\n",
       " ('Kimberely', 'Grant', None, 'No phone number'),\n",
       " ('Charles', 'Johnson', None, 'No phone number')]"
      ]
     },
     "execution_count": 239,
     "metadata": {},
     "output_type": "execute_result"
    }
   ],
   "source": [
    "%%sql \n",
    "SELECT \n",
    "    first_name, \n",
    "    last_name,\n",
    "    phone_number,\n",
    "    CASE\n",
    "        WHEN phone_number IS NULL THEN 'No phone number'\n",
    "        ELSE phone_number \n",
    "    END AS final_phone_number\n",
    "FROM employees \n",
    "where phone_number IS NULL \n",
    "LIMIT 10"
   ]
  },
  {
   "cell_type": "markdown",
   "metadata": {},
   "source": [
    "## Join multiple tables\n",
    "\n",
    "### Alias"
   ]
  },
  {
   "cell_type": "code",
   "execution_count": 240,
   "metadata": {},
   "outputs": [
    {
     "name": "stdout",
     "output_type": "stream",
     "text": [
      "Done.\n"
     ]
    },
    {
     "data": {
      "text/html": [
       "<table>\n",
       "    <thead>\n",
       "        <tr>\n",
       "            <th>first_name</th>\n",
       "            <th>last_name</th>\n",
       "            <th>new_salary</th>\n",
       "        </tr>\n",
       "    </thead>\n",
       "    <tbody>\n",
       "        <tr>\n",
       "            <td>Steven</td>\n",
       "            <td>King</td>\n",
       "            <td>26400.000000000004</td>\n",
       "        </tr>\n",
       "        <tr>\n",
       "            <td>Neena</td>\n",
       "            <td>Kochhar</td>\n",
       "            <td>18700.0</td>\n",
       "        </tr>\n",
       "        <tr>\n",
       "            <td>Lex</td>\n",
       "            <td>De Haan</td>\n",
       "            <td>18700.0</td>\n",
       "        </tr>\n",
       "        <tr>\n",
       "            <td>John</td>\n",
       "            <td>Russell</td>\n",
       "            <td>15400.000000000002</td>\n",
       "        </tr>\n",
       "        <tr>\n",
       "            <td>Karen</td>\n",
       "            <td>Partners</td>\n",
       "            <td>14850.000000000002</td>\n",
       "        </tr>\n",
       "        <tr>\n",
       "            <td>Michael</td>\n",
       "            <td>Hartstein</td>\n",
       "            <td>14300.000000000002</td>\n",
       "        </tr>\n",
       "        <tr>\n",
       "            <td>Nancy</td>\n",
       "            <td>Greenberg</td>\n",
       "            <td>13200.000000000002</td>\n",
       "        </tr>\n",
       "        <tr>\n",
       "            <td>Shelley</td>\n",
       "            <td>Higgins</td>\n",
       "            <td>13200.000000000002</td>\n",
       "        </tr>\n",
       "        <tr>\n",
       "            <td>Den</td>\n",
       "            <td>Raphaely</td>\n",
       "            <td>12100.000000000002</td>\n",
       "        </tr>\n",
       "        <tr>\n",
       "            <td>Hermann</td>\n",
       "            <td>Baer</td>\n",
       "            <td>11000.0</td>\n",
       "        </tr>\n",
       "    </tbody>\n",
       "</table>"
      ],
      "text/plain": [
       "[('Steven', 'King', 26400.000000000004),\n",
       " ('Neena', 'Kochhar', 18700.0),\n",
       " ('Lex', 'De Haan', 18700.0),\n",
       " ('John', 'Russell', 15400.000000000002),\n",
       " ('Karen', 'Partners', 14850.000000000002),\n",
       " ('Michael', 'Hartstein', 14300.000000000002),\n",
       " ('Nancy', 'Greenberg', 13200.000000000002),\n",
       " ('Shelley', 'Higgins', 13200.000000000002),\n",
       " ('Den', 'Raphaely', 12100.000000000002),\n",
       " ('Hermann', 'Baer', 11000.0)]"
      ]
     },
     "execution_count": 240,
     "metadata": {},
     "output_type": "execute_result"
    }
   ],
   "source": [
    "%%sql \n",
    "\n",
    "SELECT first_name, last_name, salary * 1.1 AS new_salary \n",
    "FROM employees \n",
    "ORDER BY new_salary DESC\n",
    "LIMIT 10;"
   ]
  },
  {
   "cell_type": "code",
   "execution_count": 241,
   "metadata": {},
   "outputs": [
    {
     "name": "stdout",
     "output_type": "stream",
     "text": [
      "Done.\n"
     ]
    },
    {
     "data": {
      "text/html": [
       "<table>\n",
       "    <thead>\n",
       "        <tr>\n",
       "            <th>first_name</th>\n",
       "            <th>last_name</th>\n",
       "        </tr>\n",
       "    </thead>\n",
       "    <tbody>\n",
       "        <tr>\n",
       "            <td>Steven</td>\n",
       "            <td>King</td>\n",
       "        </tr>\n",
       "        <tr>\n",
       "            <td>Neena</td>\n",
       "            <td>Kochhar</td>\n",
       "        </tr>\n",
       "        <tr>\n",
       "            <td>Lex</td>\n",
       "            <td>De Haan</td>\n",
       "        </tr>\n",
       "        <tr>\n",
       "            <td>Alexander</td>\n",
       "            <td>Hunold</td>\n",
       "        </tr>\n",
       "        <tr>\n",
       "            <td>Bruce</td>\n",
       "            <td>Ernst</td>\n",
       "        </tr>\n",
       "        <tr>\n",
       "            <td>David</td>\n",
       "            <td>Austin</td>\n",
       "        </tr>\n",
       "        <tr>\n",
       "            <td>Valli</td>\n",
       "            <td>Pataballa</td>\n",
       "        </tr>\n",
       "        <tr>\n",
       "            <td>Diana</td>\n",
       "            <td>Lorentz</td>\n",
       "        </tr>\n",
       "        <tr>\n",
       "            <td>Nancy</td>\n",
       "            <td>Greenberg</td>\n",
       "        </tr>\n",
       "        <tr>\n",
       "            <td>Daniel</td>\n",
       "            <td>Faviet</td>\n",
       "        </tr>\n",
       "    </tbody>\n",
       "</table>"
      ],
      "text/plain": [
       "[('Steven', 'King'),\n",
       " ('Neena', 'Kochhar'),\n",
       " ('Lex', 'De Haan'),\n",
       " ('Alexander', 'Hunold'),\n",
       " ('Bruce', 'Ernst'),\n",
       " ('David', 'Austin'),\n",
       " ('Valli', 'Pataballa'),\n",
       " ('Diana', 'Lorentz'),\n",
       " ('Nancy', 'Greenberg'),\n",
       " ('Daniel', 'Faviet')]"
      ]
     },
     "execution_count": 241,
     "metadata": {},
     "output_type": "execute_result"
    }
   ],
   "source": [
    "%%sql \n",
    "\n",
    "SELECT e.first_name, e.last_name \n",
    "FROM employees AS e\n",
    "LIMIT 10;"
   ]
  },
  {
   "cell_type": "markdown",
   "metadata": {},
   "source": [
    "### Inner Join\n",
    "\n",
    "取共有的。\n",
    "\n",
    "![](https://www.sqltutorial.org/wp-content/uploads/2016/03/SQL-INNER-JOIN.png)\n",
    "\n",
    "图片来源: https://www.sqltutorial.org/wp-content/uploads/2016/03/SQL-INNER-JOIN.png\n",
    "\n",
    "我们来看一个例子：\n",
    "\n",
    "![](https://www.sqltutorial.org/wp-content/uploads/2016/03/emp_dept_tables.png)\n",
    "\n",
    "图片来源：https://www.sqltutorial.org/wp-content/uploads/2016/03/emp_dept_tables.png"
   ]
  },
  {
   "cell_type": "code",
   "execution_count": 242,
   "metadata": {},
   "outputs": [
    {
     "name": "stdout",
     "output_type": "stream",
     "text": [
      "Done.\n"
     ]
    },
    {
     "data": {
      "text/html": [
       "<table>\n",
       "    <thead>\n",
       "        <tr>\n",
       "            <th>department_id</th>\n",
       "            <th>department_name</th>\n",
       "        </tr>\n",
       "    </thead>\n",
       "    <tbody>\n",
       "        <tr>\n",
       "            <td>1</td>\n",
       "            <td>Administration</td>\n",
       "        </tr>\n",
       "        <tr>\n",
       "            <td>2</td>\n",
       "            <td>Marketing</td>\n",
       "        </tr>\n",
       "        <tr>\n",
       "            <td>3</td>\n",
       "            <td>Purchasing</td>\n",
       "        </tr>\n",
       "    </tbody>\n",
       "</table>"
      ],
      "text/plain": [
       "[(1, 'Administration'), (2, 'Marketing'), (3, 'Purchasing')]"
      ]
     },
     "execution_count": 242,
     "metadata": {},
     "output_type": "execute_result"
    }
   ],
   "source": [
    "%%sql \n",
    "\n",
    "SELECT department_id, department_name \n",
    "FROM departments \n",
    "WHERE department_id IN (1, 2, 3)"
   ]
  },
  {
   "cell_type": "code",
   "execution_count": 243,
   "metadata": {},
   "outputs": [
    {
     "name": "stdout",
     "output_type": "stream",
     "text": [
      "Done.\n"
     ]
    },
    {
     "data": {
      "text/html": [
       "<table>\n",
       "    <thead>\n",
       "        <tr>\n",
       "            <th>first_name</th>\n",
       "            <th>last_name</th>\n",
       "            <th>department_id</th>\n",
       "        </tr>\n",
       "    </thead>\n",
       "    <tbody>\n",
       "        <tr>\n",
       "            <td>Jennifer</td>\n",
       "            <td>Whalen</td>\n",
       "            <td>1</td>\n",
       "        </tr>\n",
       "        <tr>\n",
       "            <td>Michael</td>\n",
       "            <td>Hartstein</td>\n",
       "            <td>2</td>\n",
       "        </tr>\n",
       "        <tr>\n",
       "            <td>Pat</td>\n",
       "            <td>Fay</td>\n",
       "            <td>2</td>\n",
       "        </tr>\n",
       "        <tr>\n",
       "            <td>Den</td>\n",
       "            <td>Raphaely</td>\n",
       "            <td>3</td>\n",
       "        </tr>\n",
       "        <tr>\n",
       "            <td>Alexander</td>\n",
       "            <td>Khoo</td>\n",
       "            <td>3</td>\n",
       "        </tr>\n",
       "        <tr>\n",
       "            <td>Shelli</td>\n",
       "            <td>Baida</td>\n",
       "            <td>3</td>\n",
       "        </tr>\n",
       "        <tr>\n",
       "            <td>Sigal</td>\n",
       "            <td>Tobias</td>\n",
       "            <td>3</td>\n",
       "        </tr>\n",
       "        <tr>\n",
       "            <td>Guy</td>\n",
       "            <td>Himuro</td>\n",
       "            <td>3</td>\n",
       "        </tr>\n",
       "        <tr>\n",
       "            <td>Karen</td>\n",
       "            <td>Colmenares</td>\n",
       "            <td>3</td>\n",
       "        </tr>\n",
       "    </tbody>\n",
       "</table>"
      ],
      "text/plain": [
       "[('Jennifer', 'Whalen', 1),\n",
       " ('Michael', 'Hartstein', 2),\n",
       " ('Pat', 'Fay', 2),\n",
       " ('Den', 'Raphaely', 3),\n",
       " ('Alexander', 'Khoo', 3),\n",
       " ('Shelli', 'Baida', 3),\n",
       " ('Sigal', 'Tobias', 3),\n",
       " ('Guy', 'Himuro', 3),\n",
       " ('Karen', 'Colmenares', 3)]"
      ]
     },
     "execution_count": 243,
     "metadata": {},
     "output_type": "execute_result"
    }
   ],
   "source": [
    "%%sql \n",
    "SELECT first_name, last_name, department_id \n",
    "FROM employees \n",
    "WHERE department_id IN (1, 2, 3)\n",
    "ORDER BY department_id"
   ]
  },
  {
   "cell_type": "code",
   "execution_count": 244,
   "metadata": {},
   "outputs": [
    {
     "name": "stdout",
     "output_type": "stream",
     "text": [
      "Done.\n"
     ]
    },
    {
     "data": {
      "text/html": [
       "<table>\n",
       "    <thead>\n",
       "        <tr>\n",
       "            <th>first_name</th>\n",
       "            <th>last_name</th>\n",
       "            <th>department_id</th>\n",
       "            <th>department_id_1</th>\n",
       "            <th>department_name</th>\n",
       "        </tr>\n",
       "    </thead>\n",
       "    <tbody>\n",
       "        <tr>\n",
       "            <td>Jennifer</td>\n",
       "            <td>Whalen</td>\n",
       "            <td>1</td>\n",
       "            <td>1</td>\n",
       "            <td>Administration</td>\n",
       "        </tr>\n",
       "        <tr>\n",
       "            <td>Michael</td>\n",
       "            <td>Hartstein</td>\n",
       "            <td>2</td>\n",
       "            <td>2</td>\n",
       "            <td>Marketing</td>\n",
       "        </tr>\n",
       "        <tr>\n",
       "            <td>Pat</td>\n",
       "            <td>Fay</td>\n",
       "            <td>2</td>\n",
       "            <td>2</td>\n",
       "            <td>Marketing</td>\n",
       "        </tr>\n",
       "        <tr>\n",
       "            <td>Den</td>\n",
       "            <td>Raphaely</td>\n",
       "            <td>3</td>\n",
       "            <td>3</td>\n",
       "            <td>Purchasing</td>\n",
       "        </tr>\n",
       "        <tr>\n",
       "            <td>Alexander</td>\n",
       "            <td>Khoo</td>\n",
       "            <td>3</td>\n",
       "            <td>3</td>\n",
       "            <td>Purchasing</td>\n",
       "        </tr>\n",
       "        <tr>\n",
       "            <td>Shelli</td>\n",
       "            <td>Baida</td>\n",
       "            <td>3</td>\n",
       "            <td>3</td>\n",
       "            <td>Purchasing</td>\n",
       "        </tr>\n",
       "        <tr>\n",
       "            <td>Sigal</td>\n",
       "            <td>Tobias</td>\n",
       "            <td>3</td>\n",
       "            <td>3</td>\n",
       "            <td>Purchasing</td>\n",
       "        </tr>\n",
       "        <tr>\n",
       "            <td>Guy</td>\n",
       "            <td>Himuro</td>\n",
       "            <td>3</td>\n",
       "            <td>3</td>\n",
       "            <td>Purchasing</td>\n",
       "        </tr>\n",
       "        <tr>\n",
       "            <td>Karen</td>\n",
       "            <td>Colmenares</td>\n",
       "            <td>3</td>\n",
       "            <td>3</td>\n",
       "            <td>Purchasing</td>\n",
       "        </tr>\n",
       "    </tbody>\n",
       "</table>"
      ],
      "text/plain": [
       "[('Jennifer', 'Whalen', 1, 1, 'Administration'),\n",
       " ('Michael', 'Hartstein', 2, 2, 'Marketing'),\n",
       " ('Pat', 'Fay', 2, 2, 'Marketing'),\n",
       " ('Den', 'Raphaely', 3, 3, 'Purchasing'),\n",
       " ('Alexander', 'Khoo', 3, 3, 'Purchasing'),\n",
       " ('Shelli', 'Baida', 3, 3, 'Purchasing'),\n",
       " ('Sigal', 'Tobias', 3, 3, 'Purchasing'),\n",
       " ('Guy', 'Himuro', 3, 3, 'Purchasing'),\n",
       " ('Karen', 'Colmenares', 3, 3, 'Purchasing')]"
      ]
     },
     "execution_count": 244,
     "metadata": {},
     "output_type": "execute_result"
    }
   ],
   "source": [
    "%%sql \n",
    "\n",
    "SELECT \n",
    "    e.first_name,\n",
    "    e.last_name, \n",
    "    e.department_id, \n",
    "    d.department_id,\n",
    "    d.department_name \n",
    "FROM \n",
    "    employees AS e\n",
    "        INNER JOIN\n",
    "    departments AS d ON d.department_id = e.department_id \n",
    "WHERE \n",
    "    e.department_id IN (1, 2, 3)"
   ]
  },
  {
   "cell_type": "markdown",
   "metadata": {},
   "source": [
    "### LEFT JOIN \n",
    "\n",
    "![](https://www.sqltutorial.org/wp-content/uploads/2016/03/SQL-LEFT-JOIN.png)\n",
    "\n",
    "图片来源：https://www.sqltutorial.org/wp-content/uploads/2016/03/SQL-LEFT-JOIN.png"
   ]
  },
  {
   "cell_type": "code",
   "execution_count": 245,
   "metadata": {},
   "outputs": [
    {
     "name": "stdout",
     "output_type": "stream",
     "text": [
      "Done.\n"
     ]
    },
    {
     "data": {
      "text/html": [
       "<table>\n",
       "    <thead>\n",
       "        <tr>\n",
       "            <th>country_id</th>\n",
       "            <th>country_name</th>\n",
       "        </tr>\n",
       "    </thead>\n",
       "    <tbody>\n",
       "        <tr>\n",
       "            <td>CN</td>\n",
       "            <td>China</td>\n",
       "        </tr>\n",
       "        <tr>\n",
       "            <td>UK</td>\n",
       "            <td>United Kingdom</td>\n",
       "        </tr>\n",
       "        <tr>\n",
       "            <td>US</td>\n",
       "            <td>United States of America</td>\n",
       "        </tr>\n",
       "    </tbody>\n",
       "</table>"
      ],
      "text/plain": [
       "[('CN', 'China'), ('UK', 'United Kingdom'), ('US', 'United States of America')]"
      ]
     },
     "execution_count": 245,
     "metadata": {},
     "output_type": "execute_result"
    }
   ],
   "source": [
    "%%sql \n",
    "\n",
    "SELECT country_id, country_name \n",
    "FROM countries \n",
    "WHERE country_id IN ('US', 'UK', 'CN')"
   ]
  },
  {
   "cell_type": "code",
   "execution_count": 246,
   "metadata": {},
   "outputs": [
    {
     "name": "stdout",
     "output_type": "stream",
     "text": [
      "Done.\n"
     ]
    },
    {
     "data": {
      "text/html": [
       "<table>\n",
       "    <thead>\n",
       "        <tr>\n",
       "            <th>country_id</th>\n",
       "            <th>street_address</th>\n",
       "            <th>city</th>\n",
       "        </tr>\n",
       "    </thead>\n",
       "    <tbody>\n",
       "        <tr>\n",
       "            <td>US</td>\n",
       "            <td>2014 Jabberwocky Rd</td>\n",
       "            <td>Southlake</td>\n",
       "        </tr>\n",
       "        <tr>\n",
       "            <td>US</td>\n",
       "            <td>2011 Interiors Blvd</td>\n",
       "            <td>South San Francisco</td>\n",
       "        </tr>\n",
       "        <tr>\n",
       "            <td>US</td>\n",
       "            <td>2004 Charade Rd</td>\n",
       "            <td>Seattle</td>\n",
       "        </tr>\n",
       "        <tr>\n",
       "            <td>UK</td>\n",
       "            <td>8204 Arthur St</td>\n",
       "            <td>London</td>\n",
       "        </tr>\n",
       "        <tr>\n",
       "            <td>UK</td>\n",
       "            <td>Magdalen Centre, The Oxford Science Park</td>\n",
       "            <td>Oxford</td>\n",
       "        </tr>\n",
       "    </tbody>\n",
       "</table>"
      ],
      "text/plain": [
       "[('US', '2014 Jabberwocky Rd', 'Southlake'),\n",
       " ('US', '2011 Interiors Blvd', 'South San Francisco'),\n",
       " ('US', '2004 Charade Rd', 'Seattle'),\n",
       " ('UK', '8204 Arthur St', 'London'),\n",
       " ('UK', 'Magdalen Centre, The Oxford Science Park', 'Oxford')]"
      ]
     },
     "execution_count": 246,
     "metadata": {},
     "output_type": "execute_result"
    }
   ],
   "source": [
    "%%sql \n",
    "\n",
    "SELECT country_id, street_address, city \n",
    "FROM locations \n",
    "WHERE country_id IN ('US', 'UK', 'CN')"
   ]
  },
  {
   "cell_type": "code",
   "execution_count": 247,
   "metadata": {},
   "outputs": [
    {
     "name": "stdout",
     "output_type": "stream",
     "text": [
      "Done.\n"
     ]
    },
    {
     "data": {
      "text/html": [
       "<table>\n",
       "    <thead>\n",
       "        <tr>\n",
       "            <th>country_name</th>\n",
       "            <th>country_id</th>\n",
       "            <th>country_id_1</th>\n",
       "            <th>street_address</th>\n",
       "            <th>city</th>\n",
       "        </tr>\n",
       "    </thead>\n",
       "    <tbody>\n",
       "        <tr>\n",
       "            <td>China</td>\n",
       "            <td>CN</td>\n",
       "            <td>None</td>\n",
       "            <td>None</td>\n",
       "            <td>None</td>\n",
       "        </tr>\n",
       "        <tr>\n",
       "            <td>United Kingdom</td>\n",
       "            <td>UK</td>\n",
       "            <td>UK</td>\n",
       "            <td>8204 Arthur St</td>\n",
       "            <td>London</td>\n",
       "        </tr>\n",
       "        <tr>\n",
       "            <td>United Kingdom</td>\n",
       "            <td>UK</td>\n",
       "            <td>UK</td>\n",
       "            <td>Magdalen Centre, The Oxford Science Park</td>\n",
       "            <td>Oxford</td>\n",
       "        </tr>\n",
       "        <tr>\n",
       "            <td>United States of America</td>\n",
       "            <td>US</td>\n",
       "            <td>US</td>\n",
       "            <td>2014 Jabberwocky Rd</td>\n",
       "            <td>Southlake</td>\n",
       "        </tr>\n",
       "        <tr>\n",
       "            <td>United States of America</td>\n",
       "            <td>US</td>\n",
       "            <td>US</td>\n",
       "            <td>2011 Interiors Blvd</td>\n",
       "            <td>South San Francisco</td>\n",
       "        </tr>\n",
       "        <tr>\n",
       "            <td>United States of America</td>\n",
       "            <td>US</td>\n",
       "            <td>US</td>\n",
       "            <td>2004 Charade Rd</td>\n",
       "            <td>Seattle</td>\n",
       "        </tr>\n",
       "    </tbody>\n",
       "</table>"
      ],
      "text/plain": [
       "[('China', 'CN', None, None, None),\n",
       " ('United Kingdom', 'UK', 'UK', '8204 Arthur St', 'London'),\n",
       " ('United Kingdom', 'UK', 'UK', 'Magdalen Centre, The Oxford Science Park', 'Oxford'),\n",
       " ('United States of America', 'US', 'US', '2014 Jabberwocky Rd', 'Southlake'),\n",
       " ('United States of America', 'US', 'US', '2011 Interiors Blvd', 'South San Francisco'),\n",
       " ('United States of America', 'US', 'US', '2004 Charade Rd', 'Seattle')]"
      ]
     },
     "execution_count": 247,
     "metadata": {},
     "output_type": "execute_result"
    }
   ],
   "source": [
    "%%sql \n",
    "SELECT \n",
    "    c.country_name,\n",
    "    c.country_id,\n",
    "    l.country_id,\n",
    "    l.street_address,\n",
    "    l.city \n",
    "FROM \n",
    "    countries AS c \n",
    "LEFT JOIN locations AS l on l.country_id = c.country_id \n",
    "WHERE \n",
    "    c.country_id IN ('US', 'UK', 'CN')"
   ]
  },
  {
   "cell_type": "code",
   "execution_count": 248,
   "metadata": {},
   "outputs": [
    {
     "name": "stdout",
     "output_type": "stream",
     "text": [
      "Done.\n"
     ]
    },
    {
     "data": {
      "text/html": [
       "<table>\n",
       "    <thead>\n",
       "        <tr>\n",
       "            <th>country_name</th>\n",
       "            <th>country_id</th>\n",
       "            <th>country_id_1</th>\n",
       "            <th>street_address</th>\n",
       "            <th>city</th>\n",
       "        </tr>\n",
       "    </thead>\n",
       "    <tbody>\n",
       "        <tr>\n",
       "            <td>United Kingdom</td>\n",
       "            <td>UK</td>\n",
       "            <td>UK</td>\n",
       "            <td>8204 Arthur St</td>\n",
       "            <td>London</td>\n",
       "        </tr>\n",
       "        <tr>\n",
       "            <td>United Kingdom</td>\n",
       "            <td>UK</td>\n",
       "            <td>UK</td>\n",
       "            <td>Magdalen Centre, The Oxford Science Park</td>\n",
       "            <td>Oxford</td>\n",
       "        </tr>\n",
       "        <tr>\n",
       "            <td>United States of America</td>\n",
       "            <td>US</td>\n",
       "            <td>US</td>\n",
       "            <td>2014 Jabberwocky Rd</td>\n",
       "            <td>Southlake</td>\n",
       "        </tr>\n",
       "        <tr>\n",
       "            <td>United States of America</td>\n",
       "            <td>US</td>\n",
       "            <td>US</td>\n",
       "            <td>2011 Interiors Blvd</td>\n",
       "            <td>South San Francisco</td>\n",
       "        </tr>\n",
       "        <tr>\n",
       "            <td>United States of America</td>\n",
       "            <td>US</td>\n",
       "            <td>US</td>\n",
       "            <td>2004 Charade Rd</td>\n",
       "            <td>Seattle</td>\n",
       "        </tr>\n",
       "    </tbody>\n",
       "</table>"
      ],
      "text/plain": [
       "[('United Kingdom', 'UK', 'UK', '8204 Arthur St', 'London'),\n",
       " ('United Kingdom', 'UK', 'UK', 'Magdalen Centre, The Oxford Science Park', 'Oxford'),\n",
       " ('United States of America', 'US', 'US', '2014 Jabberwocky Rd', 'Southlake'),\n",
       " ('United States of America', 'US', 'US', '2011 Interiors Blvd', 'South San Francisco'),\n",
       " ('United States of America', 'US', 'US', '2004 Charade Rd', 'Seattle')]"
      ]
     },
     "execution_count": 248,
     "metadata": {},
     "output_type": "execute_result"
    }
   ],
   "source": [
    "%%sql \n",
    "SELECT \n",
    "    c.country_name,\n",
    "    c.country_id,\n",
    "    l.country_id,\n",
    "    l.street_address,\n",
    "    l.city \n",
    "FROM \n",
    "    locations AS l\n",
    "LEFT JOIN countries AS c on l.country_id = c.country_id \n",
    "WHERE \n",
    "    c.country_id IN ('US', 'UK', 'CN')"
   ]
  },
  {
   "cell_type": "code",
   "execution_count": 249,
   "metadata": {},
   "outputs": [
    {
     "name": "stdout",
     "output_type": "stream",
     "text": [
      "Done.\n"
     ]
    },
    {
     "data": {
      "text/html": [
       "<table>\n",
       "    <thead>\n",
       "        <tr>\n",
       "            <th>country_name</th>\n",
       "            <th>country_id</th>\n",
       "            <th>country_id_1</th>\n",
       "            <th>street_address</th>\n",
       "            <th>city</th>\n",
       "        </tr>\n",
       "    </thead>\n",
       "    <tbody>\n",
       "        <tr>\n",
       "            <td>United Kingdom</td>\n",
       "            <td>UK</td>\n",
       "            <td>UK</td>\n",
       "            <td>8204 Arthur St</td>\n",
       "            <td>London</td>\n",
       "        </tr>\n",
       "        <tr>\n",
       "            <td>United Kingdom</td>\n",
       "            <td>UK</td>\n",
       "            <td>UK</td>\n",
       "            <td>Magdalen Centre, The Oxford Science Park</td>\n",
       "            <td>Oxford</td>\n",
       "        </tr>\n",
       "        <tr>\n",
       "            <td>United States of America</td>\n",
       "            <td>US</td>\n",
       "            <td>US</td>\n",
       "            <td>2014 Jabberwocky Rd</td>\n",
       "            <td>Southlake</td>\n",
       "        </tr>\n",
       "        <tr>\n",
       "            <td>United States of America</td>\n",
       "            <td>US</td>\n",
       "            <td>US</td>\n",
       "            <td>2011 Interiors Blvd</td>\n",
       "            <td>South San Francisco</td>\n",
       "        </tr>\n",
       "        <tr>\n",
       "            <td>United States of America</td>\n",
       "            <td>US</td>\n",
       "            <td>US</td>\n",
       "            <td>2004 Charade Rd</td>\n",
       "            <td>Seattle</td>\n",
       "        </tr>\n",
       "    </tbody>\n",
       "</table>"
      ],
      "text/plain": [
       "[('United Kingdom', 'UK', 'UK', '8204 Arthur St', 'London'),\n",
       " ('United Kingdom', 'UK', 'UK', 'Magdalen Centre, The Oxford Science Park', 'Oxford'),\n",
       " ('United States of America', 'US', 'US', '2014 Jabberwocky Rd', 'Southlake'),\n",
       " ('United States of America', 'US', 'US', '2011 Interiors Blvd', 'South San Francisco'),\n",
       " ('United States of America', 'US', 'US', '2004 Charade Rd', 'Seattle')]"
      ]
     },
     "execution_count": 249,
     "metadata": {},
     "output_type": "execute_result"
    }
   ],
   "source": [
    "%%sql \n",
    "SELECT \n",
    "    c.country_name,\n",
    "    c.country_id,\n",
    "    l.country_id,\n",
    "    l.street_address,\n",
    "    l.city \n",
    "FROM \n",
    "    countries AS c \n",
    "INNER JOIN locations AS l on l.country_id = c.country_id \n",
    "WHERE \n",
    "    c.country_id IN ('US', 'UK', 'CN')"
   ]
  },
  {
   "cell_type": "markdown",
   "metadata": {},
   "source": [
    "## Aggregate functions\n",
    "\n",
    "待续"
   ]
  }
 ],
 "metadata": {
  "kernelspec": {
   "display_name": "bayes",
   "language": "python",
   "name": "python3"
  },
  "language_info": {
   "codemirror_mode": {
    "name": "ipython",
    "version": 3
   },
   "file_extension": ".py",
   "mimetype": "text/x-python",
   "name": "python",
   "nbconvert_exporter": "python",
   "pygments_lexer": "ipython3",
   "version": "3.12.7"
  }
 },
 "nbformat": 4,
 "nbformat_minor": 2
}

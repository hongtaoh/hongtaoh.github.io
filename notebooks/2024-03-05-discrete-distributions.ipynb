{
 "cells": [
  {
   "cell_type": "markdown",
   "id": "273df3a0-2582-4d88-aff9-b0e79ad740b1",
   "metadata": {},
   "source": [
    "This is to describe and explain three discrete distributions: Bernoulli, Binomial, and Poisson.\n",
    "\n",
    "## Bernoulli\n",
    "\n",
    "(This part is inspired by [Ivan's Statistics for Business Analytics](https://openforecast.org/sba/distributionBernoulli.html))\n",
    "\n",
    "Think about flipping a fair coin. Let's say if it is a head, we denote it as `y = 1` and `y = 0` if it is a tail. Since it is a fair coin, the probability of each of these two events is equal: $0.5$. Bernoulli is one single experiment. So we will have the following distribution:"
   ]
  },
  {
   "cell_type": "code",
   "execution_count": 16,
   "id": "73f8865d-2cb9-4bf5-b59c-070665ab3d44",
   "metadata": {
    "tags": []
   },
   "outputs": [],
   "source": [
    "import pandas as pd\n",
    "import altair as alt"
   ]
  },
  {
   "cell_type": "code",
   "execution_count": 17,
   "id": "3c726c79",
   "metadata": {},
   "outputs": [],
   "source": [
    "data = pd.DataFrame({\n",
    "    \"y\": [\"0\", \"1\"],\n",
    "    \"probability\": [0.5, 0.5]\n",
    "})\n",
    "chart = alt.Chart(data).mark_bar().encode(\n",
    "    x=\"y\",\n",
    "    y = alt.Y('probability', scale=alt.Scale(domain=[0, 1]))\n",
    ")\n",
    "# chart.save('img/bernoulli-0.5.png')"
   ]
  },
  {
   "cell_type": "markdown",
   "id": "395c909a",
   "metadata": {},
   "source": [
    "![](img/bernoulli-0.5.png)\n",
    "\n",
    "Bernoulli distribution can be expressed in the following format:\n",
    "\n",
    "$f(y, p) = p^y (1-p)^{1-y}$\n",
    "\n",
    "Coins do not have to be fair; they can also be biased. If we toss a biased coin, say, with the probability of a head being $0.8$ (`p=0.8`), then we have the following distribution:"
   ]
  },
  {
   "cell_type": "code",
   "execution_count": 18,
   "id": "4ae41546",
   "metadata": {},
   "outputs": [],
   "source": [
    "data = pd.DataFrame({\n",
    "    \"y\": [\"0\", \"1\"],\n",
    "    \"probability\": [0.2, 0.8]\n",
    "})\n",
    "chart = alt.Chart(data).mark_bar().encode(\n",
    "    x=\"y\",\n",
    "    y = alt.Y('probability', scale=alt.Scale(domain=[0, 1]))\n",
    ")\n",
    "# chart.save('img/bernoulli-0.8.png')"
   ]
  },
  {
   "cell_type": "markdown",
   "id": "81cacc00",
   "metadata": {},
   "source": [
    "![](img/bernoulli-0.8.png)"
   ]
  },
  {
   "cell_type": "markdown",
   "id": "5040fea7",
   "metadata": {},
   "source": [
    "## Binomial "
   ]
  }
 ],
 "metadata": {
  "kernelspec": {
   "display_name": "Python 3 (ipykernel)",
   "language": "python",
   "name": "python3"
  },
  "language_info": {
   "codemirror_mode": {
    "name": "ipython",
    "version": 3
   },
   "file_extension": ".py",
   "mimetype": "text/x-python",
   "name": "python",
   "nbconvert_exporter": "python",
   "pygments_lexer": "ipython3",
   "version": "3.11.6"
  }
 },
 "nbformat": 4,
 "nbformat_minor": 5
}

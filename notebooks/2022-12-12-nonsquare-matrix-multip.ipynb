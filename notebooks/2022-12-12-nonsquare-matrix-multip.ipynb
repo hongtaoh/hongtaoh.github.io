{
 "cells": [
  {
   "cell_type": "markdown",
   "id": "1364fe8c",
   "metadata": {},
   "source": [
    "---\n",
    "\n",
    "title: Understanding Non-Square Matrix Multiplication\n",
    "date: 2022-12-12\n",
    "author: Hongtao Hao\n",
    "slug: matrix-multiplication\n",
    "draft: false\n",
    "toc: false\n",
    "tags: ML\n",
    "\n",
    "---"
   ]
  },
  {
   "cell_type": "markdown",
   "id": "b0cfa90e",
   "metadata": {},
   "source": [
    "Through this tutorial, I want to explain how to compuate the multiplications of non-square matrix; for example, the result of multiplying a $2 \\times 5$ matrix by a $5 \\times 2$ matrix (`a` by `c` in the following example.)"
   ]
  },
  {
   "cell_type": "code",
   "execution_count": 1,
   "id": "3b1bfa63",
   "metadata": {},
   "outputs": [],
   "source": [
    "import numpy as np"
   ]
  },
  {
   "cell_type": "code",
   "execution_count": 2,
   "id": "f5d99c78",
   "metadata": {},
   "outputs": [
    {
     "data": {
      "text/plain": [
       "array([[ 1,  2,  7,  9, 10],\n",
       "       [ 3,  4,  5, 12, 11]])"
      ]
     },
     "execution_count": 2,
     "metadata": {},
     "output_type": "execute_result"
    }
   ],
   "source": [
    "a = np.array([[1, 2,7,9,10], [3, 4,5,12,11]])\n",
    "a"
   ]
  },
  {
   "cell_type": "markdown",
   "id": "cc73c622",
   "metadata": {},
   "source": [
    "`a` is a $2 \\times 5$ matrix. It means the transformation from a 5d space to a 2d space. You can consider each column of `a` as the corresponding coordinates of each of the five axes (of the original `5d` space).  \n",
    "\n",
    "Suppose we have a vector in a 5d space, i.e., a $5 \\times 1$ vector:"
   ]
  },
  {
   "cell_type": "code",
   "execution_count": 3,
   "id": "d2750be1",
   "metadata": {},
   "outputs": [
    {
     "data": {
      "text/plain": [
       "array([[1],\n",
       "       [2],\n",
       "       [3],\n",
       "       [4],\n",
       "       [5]])"
      ]
     },
     "execution_count": 3,
     "metadata": {},
     "output_type": "execute_result"
    }
   ],
   "source": [
    "b= np.array([1,2,3,4,5]).reshape(-1, 1)\n",
    "b"
   ]
  },
  {
   "cell_type": "markdown",
   "id": "f71a68b2",
   "metadata": {},
   "source": [
    "Multiplying `a` by `b` means mapping `b` onto `a`. The resulting $2 \\times 1$ matrix is the result vector. "
   ]
  },
  {
   "cell_type": "code",
   "execution_count": 4,
   "id": "e909d6a7",
   "metadata": {},
   "outputs": [
    {
     "data": {
      "text/plain": [
       "array([[112],\n",
       "       [129]])"
      ]
     },
     "execution_count": 4,
     "metadata": {},
     "output_type": "execute_result"
    }
   ],
   "source": [
    "a @ b"
   ]
  },
  {
   "cell_type": "markdown",
   "id": "76b7970e",
   "metadata": {},
   "source": [
    "## Matrix multiplication"
   ]
  },
  {
   "cell_type": "markdown",
   "id": "0a55659c",
   "metadata": {},
   "source": [
    "Suppose we have a $5 \\times 2$ matrix:"
   ]
  },
  {
   "cell_type": "code",
   "execution_count": 5,
   "id": "11ba88c5",
   "metadata": {},
   "outputs": [
    {
     "data": {
      "text/plain": [
       "array([[ 1,  2],\n",
       "       [ 3,  4],\n",
       "       [ 4,  7],\n",
       "       [ 9, 10],\n",
       "       [11, -1]])"
      ]
     },
     "execution_count": 5,
     "metadata": {},
     "output_type": "execute_result"
    }
   ],
   "source": [
    "c = np.array([[1,2], [3,4], [4,7], [9,10], [11,-1]])\n",
    "c"
   ]
  },
  {
   "cell_type": "markdown",
   "id": "8a5a2dec",
   "metadata": {},
   "source": [
    "`c` means transforming a `2d` space to `5d`. A `2d` space has two axes ($\\vec{x}$ and $\\vec{y}$). The first column of `c` is the coordinates of $\\vec{x}$ in the new `5d` space, and the second column, $\\vec{y}$. \n",
    "\n",
    "What does $c \\times a$ means? This matrix multiplication is the result of two space transformations: first `a` and then `c`. That is to say, it means we first transform a `5d` space to `2d` and then transform `2d` space to `5d`. \n",
    "\n",
    "To understand what $c \\times a$ means, let's first consider multiplying a $2 \\times 1$ matrix, i.e., a vector in two-dimensional space, by `c`:"
   ]
  },
  {
   "cell_type": "code",
   "execution_count": 6,
   "id": "8c6a25db",
   "metadata": {},
   "outputs": [
    {
     "data": {
      "text/plain": [
       "array([[1],\n",
       "       [2]])"
      ]
     },
     "execution_count": 6,
     "metadata": {},
     "output_type": "execute_result"
    }
   ],
   "source": [
    "d = np.array([[1], [2]])\n",
    "d"
   ]
  },
  {
   "cell_type": "markdown",
   "id": "31c83264",
   "metadata": {},
   "source": [
    "$\\vec{d}$ means $1 \\vec{x} + 2 \\vec{y}$. Since in the new `5d` space, the coordinates of $\\vec{x}$ is `[1, 3, 4, 9, 11]` and the coordinates of $\\vec{y}$ is `[2, 4, 7, 10, -1]`, the result of $c \\times d$ will be:"
   ]
  },
  {
   "cell_type": "code",
   "execution_count": 7,
   "id": "06cec96c",
   "metadata": {},
   "outputs": [
    {
     "data": {
      "text/plain": [
       "array([[ 5],\n",
       "       [11],\n",
       "       [18],\n",
       "       [29],\n",
       "       [ 9]])"
      ]
     },
     "execution_count": 7,
     "metadata": {},
     "output_type": "execute_result"
    }
   ],
   "source": [
    "c @ d"
   ]
  },
  {
   "cell_type": "markdown",
   "id": "f95d9cbd",
   "metadata": {},
   "source": [
    "That is the coordinates of $\\vec{d}$ in the new `5d` space. \n",
    "\n",
    "The calculation of $c \\times a$ is the same. You can view each column of `a` as a $\\vec{d}$. "
   ]
  },
  {
   "cell_type": "code",
   "execution_count": 8,
   "id": "c5d54326",
   "metadata": {},
   "outputs": [
    {
     "data": {
      "text/plain": [
       "array([[  7,  10,  17,  33,  32],\n",
       "       [ 15,  22,  41,  75,  74],\n",
       "       [ 25,  36,  63, 120, 117],\n",
       "       [ 39,  58, 113, 201, 200],\n",
       "       [  8,  18,  72,  87,  99]])"
      ]
     },
     "execution_count": 8,
     "metadata": {},
     "output_type": "execute_result"
    }
   ],
   "source": [
    "e = c @ a\n",
    "e"
   ]
  },
  {
   "cell_type": "markdown",
   "id": "bea70006",
   "metadata": {},
   "source": [
    "For any vector in a five-dimensional space, say `f = [1, 5, -9, 9, 8]`, multiplying it by `a` and then by `c` is the same as multiplying it by `e` directly. "
   ]
  },
  {
   "cell_type": "code",
   "execution_count": 9,
   "id": "6f35fec5",
   "metadata": {},
   "outputs": [
    {
     "data": {
      "text/plain": [
       "array([[ 457],\n",
       "       [1023],\n",
       "       [1654],\n",
       "       [2721],\n",
       "       [1025]])"
      ]
     },
     "execution_count": 9,
     "metadata": {},
     "output_type": "execute_result"
    }
   ],
   "source": [
    "f = np.array([[1], [5], [-9], [9], [8]])\n",
    "g = a @ f\n",
    "h = c @ g\n",
    "h"
   ]
  },
  {
   "cell_type": "code",
   "execution_count": 10,
   "id": "2afe6576",
   "metadata": {},
   "outputs": [
    {
     "data": {
      "text/plain": [
       "array([[ 457],\n",
       "       [1023],\n",
       "       [1654],\n",
       "       [2721],\n",
       "       [1025]])"
      ]
     },
     "execution_count": 10,
     "metadata": {},
     "output_type": "execute_result"
    }
   ],
   "source": [
    "e @ f"
   ]
  }
 ],
 "metadata": {
  "kernelspec": {
   "display_name": "Python 3 (ipykernel)",
   "language": "python",
   "name": "python3"
  },
  "language_info": {
   "codemirror_mode": {
    "name": "ipython",
    "version": 3
   },
   "file_extension": ".py",
   "mimetype": "text/x-python",
   "name": "python",
   "nbconvert_exporter": "python",
   "pygments_lexer": "ipython3",
   "version": "3.10.4"
  }
 },
 "nbformat": 4,
 "nbformat_minor": 5
}

{
 "cells": [
  {
   "cell_type": "markdown",
   "id": "cbd8bcd6",
   "metadata": {},
   "source": [
    "---\n",
    "\n",
    "title: \"逻辑回归讲解\"\n",
    "date: 2023-04-24\n",
    "author: 郝鸿涛\n",
    "slug: lr\n",
    "draft: false\n",
    "toc: true\n",
    "tags: ML\n",
    "\n",
    "---"
   ]
  },
  {
   "cell_type": "code",
   "execution_count": 238,
   "id": "5a359293",
   "metadata": {},
   "outputs": [],
   "source": [
    "import pandas as pd\n",
    "import numpy as np\n",
    "import matplotlib.pyplot as plt\n",
    "import seaborn as sns\n",
    "from collections import Counter\n",
    "import random"
   ]
  },
  {
   "cell_type": "markdown",
   "id": "1740f90b",
   "metadata": {},
   "source": [
    "## 数据介绍\n",
    "\n",
    "更多关于 MNIST 数据的介绍请看 [这里](/en/2022/09/26/knn/#introduction-to-mnist-dataset)"
   ]
  },
  {
   "cell_type": "code",
   "execution_count": 239,
   "id": "a31a6067",
   "metadata": {},
   "outputs": [],
   "source": [
    "file = '../static/files/large/mnist_train.csv'"
   ]
  },
  {
   "cell_type": "code",
   "execution_count": 240,
   "id": "71dc7205",
   "metadata": {},
   "outputs": [],
   "source": [
    "df = pd.read_csv(file)"
   ]
  },
  {
   "cell_type": "code",
   "execution_count": 241,
   "id": "6f11c087",
   "metadata": {},
   "outputs": [
    {
     "data": {
      "text/plain": [
       "(59999, 785)"
      ]
     },
     "execution_count": 241,
     "metadata": {},
     "output_type": "execute_result"
    }
   ],
   "source": [
    "df.shape"
   ]
  },
  {
   "cell_type": "code",
   "execution_count": 242,
   "id": "6ede4fc1",
   "metadata": {},
   "outputs": [
    {
     "data": {
      "text/html": [
       "<div>\n",
       "<style scoped>\n",
       "    .dataframe tbody tr th:only-of-type {\n",
       "        vertical-align: middle;\n",
       "    }\n",
       "\n",
       "    .dataframe tbody tr th {\n",
       "        vertical-align: top;\n",
       "    }\n",
       "\n",
       "    .dataframe thead th {\n",
       "        text-align: right;\n",
       "    }\n",
       "</style>\n",
       "<table border=\"1\" class=\"dataframe\">\n",
       "  <thead>\n",
       "    <tr style=\"text-align: right;\">\n",
       "      <th></th>\n",
       "      <th>5</th>\n",
       "      <th>0</th>\n",
       "      <th>0.1</th>\n",
       "      <th>0.2</th>\n",
       "      <th>0.3</th>\n",
       "      <th>0.4</th>\n",
       "      <th>0.5</th>\n",
       "      <th>0.6</th>\n",
       "      <th>0.7</th>\n",
       "      <th>0.8</th>\n",
       "      <th>...</th>\n",
       "      <th>0.608</th>\n",
       "      <th>0.609</th>\n",
       "      <th>0.610</th>\n",
       "      <th>0.611</th>\n",
       "      <th>0.612</th>\n",
       "      <th>0.613</th>\n",
       "      <th>0.614</th>\n",
       "      <th>0.615</th>\n",
       "      <th>0.616</th>\n",
       "      <th>0.617</th>\n",
       "    </tr>\n",
       "  </thead>\n",
       "  <tbody>\n",
       "    <tr>\n",
       "      <th>0</th>\n",
       "      <td>0</td>\n",
       "      <td>0</td>\n",
       "      <td>0</td>\n",
       "      <td>0</td>\n",
       "      <td>0</td>\n",
       "      <td>0</td>\n",
       "      <td>0</td>\n",
       "      <td>0</td>\n",
       "      <td>0</td>\n",
       "      <td>0</td>\n",
       "      <td>...</td>\n",
       "      <td>0</td>\n",
       "      <td>0</td>\n",
       "      <td>0</td>\n",
       "      <td>0</td>\n",
       "      <td>0</td>\n",
       "      <td>0</td>\n",
       "      <td>0</td>\n",
       "      <td>0</td>\n",
       "      <td>0</td>\n",
       "      <td>0</td>\n",
       "    </tr>\n",
       "    <tr>\n",
       "      <th>1</th>\n",
       "      <td>4</td>\n",
       "      <td>0</td>\n",
       "      <td>0</td>\n",
       "      <td>0</td>\n",
       "      <td>0</td>\n",
       "      <td>0</td>\n",
       "      <td>0</td>\n",
       "      <td>0</td>\n",
       "      <td>0</td>\n",
       "      <td>0</td>\n",
       "      <td>...</td>\n",
       "      <td>0</td>\n",
       "      <td>0</td>\n",
       "      <td>0</td>\n",
       "      <td>0</td>\n",
       "      <td>0</td>\n",
       "      <td>0</td>\n",
       "      <td>0</td>\n",
       "      <td>0</td>\n",
       "      <td>0</td>\n",
       "      <td>0</td>\n",
       "    </tr>\n",
       "  </tbody>\n",
       "</table>\n",
       "<p>2 rows × 785 columns</p>\n",
       "</div>"
      ],
      "text/plain": [
       "   5  0  0.1  0.2  0.3  0.4  0.5  0.6  0.7  0.8  ...  0.608  0.609  0.610  \\\n",
       "0  0  0    0    0    0    0    0    0    0    0  ...      0      0      0   \n",
       "1  4  0    0    0    0    0    0    0    0    0  ...      0      0      0   \n",
       "\n",
       "   0.611  0.612  0.613  0.614  0.615  0.616  0.617  \n",
       "0      0      0      0      0      0      0      0  \n",
       "1      0      0      0      0      0      0      0  \n",
       "\n",
       "[2 rows x 785 columns]"
      ]
     },
     "execution_count": 242,
     "metadata": {},
     "output_type": "execute_result"
    }
   ],
   "source": [
    "df.head(2)"
   ]
  },
  {
   "cell_type": "code",
   "execution_count": 243,
   "id": "d8878283",
   "metadata": {},
   "outputs": [
    {
     "data": {
      "text/plain": [
       "255"
      ]
     },
     "execution_count": 243,
     "metadata": {},
     "output_type": "execute_result"
    }
   ],
   "source": [
    "df.iloc[1,:].max()"
   ]
  },
  {
   "cell_type": "code",
   "execution_count": 244,
   "id": "ff8af412",
   "metadata": {},
   "outputs": [],
   "source": [
    "def data_loader(file):\n",
    "    df = pd.read_csv(file)\n",
    "    x = (df.iloc[:, 1:]/255.0).to_numpy()\n",
    "    y = df.iloc[:, 0].to_numpy()\n",
    "    return (x, y)"
   ]
  },
  {
   "cell_type": "code",
   "execution_count": 245,
   "id": "14a9fa46",
   "metadata": {},
   "outputs": [],
   "source": [
    "x_train, y_train = data_loader(file)"
   ]
  },
  {
   "cell_type": "code",
   "execution_count": 246,
   "id": "faa39df8",
   "metadata": {},
   "outputs": [
    {
     "data": {
      "text/plain": [
       "array([[0., 0., 0., ..., 0., 0., 0.],\n",
       "       [0., 0., 0., ..., 0., 0., 0.],\n",
       "       [0., 0., 0., ..., 0., 0., 0.],\n",
       "       ...,\n",
       "       [0., 0., 0., ..., 0., 0., 0.],\n",
       "       [0., 0., 0., ..., 0., 0., 0.],\n",
       "       [0., 0., 0., ..., 0., 0., 0.]])"
      ]
     },
     "execution_count": 246,
     "metadata": {},
     "output_type": "execute_result"
    }
   ],
   "source": [
    "x_train"
   ]
  },
  {
   "cell_type": "code",
   "execution_count": 247,
   "id": "c3d93a5f",
   "metadata": {},
   "outputs": [
    {
     "data": {
      "text/plain": [
       "array([0, 4, 1, ..., 5, 6, 8])"
      ]
     },
     "execution_count": 247,
     "metadata": {},
     "output_type": "execute_result"
    }
   ],
   "source": [
    "y_train"
   ]
  },
  {
   "cell_type": "code",
   "execution_count": 248,
   "id": "e580b9b3",
   "metadata": {},
   "outputs": [
    {
     "data": {
      "image/png": "[encoded data removed]",
      "text/plain": [
       "<Figure size 432x288 with 1 Axes>"
      ]
     },
     "metadata": {
      "needs_background": "light"
     },
     "output_type": "display_data"
    }
   ],
   "source": [
    "example_to_draw = x_train[0, :].reshape(28,28)\n",
    "plt.imshow(example_to_draw, cmap='gray')\n",
    "plt.show()"
   ]
  },
  {
   "cell_type": "code",
   "execution_count": 249,
   "id": "431e42e0",
   "metadata": {},
   "outputs": [],
   "source": [
    "test_labels = [8, 4]\n",
    "indices = np.where(np.isin(y_train, test_labels))[0]\n",
    "\n",
    "x = x_train[indices]\n",
    "y = y_train[indices]\n",
    "\n",
    "# 如果数字是 8， 我们把它变成 0\n",
    "y[y == test_labels[0]] = 0\n",
    "\n",
    "# 如果数字是 4， 我们把它变成 1\n",
    "y[y == test_labels[1]] = 1"
   ]
  },
  {
   "cell_type": "markdown",
   "id": "61ad13ed",
   "metadata": {},
   "source": [
    "## 逻辑回归的原理\n",
    "\n",
    "我们现在来看一下我们想干嘛。`x` 是训练数据，`y` 是我们想要的结果。我们来随便看一个例子："
   ]
  },
  {
   "cell_type": "code",
   "execution_count": 250,
   "id": "f2eae73b",
   "metadata": {},
   "outputs": [
    {
     "data": {
      "text/plain": [
       "((11693, 784), (11693,))"
      ]
     },
     "execution_count": 250,
     "metadata": {},
     "output_type": "execute_result"
    }
   ],
   "source": [
    "x.shape, y.shape\n",
    "\n",
    "# 我们总共有 11693 个例子。x 的每一行是一个数字。"
   ]
  },
  {
   "cell_type": "code",
   "execution_count": 251,
   "id": "97449684",
   "metadata": {},
   "outputs": [
    {
     "data": {
      "image/png": "[encoded data removed]",
      "text/plain": [
       "<Figure size 432x288 with 1 Axes>"
      ]
     },
     "metadata": {
      "needs_background": "light"
     },
     "output_type": "display_data"
    }
   ],
   "source": [
    "example_to_draw = x[345, :].reshape(28,28)\n",
    "plt.imshow(example_to_draw, cmap='gray')\n",
    "plt.show()\n",
    "\n",
    "# 这是一个 8"
   ]
  },
  {
   "cell_type": "markdown",
   "id": "c453f8f6",
   "metadata": {},
   "source": [
    "我们现在想做的是，我给你一个数字，也就是 x 中的随便一行，你要告诉我这个数字是几。人眼肯定很好识别，但现在我们需要让机器识别数字。\n",
    "\n",
    "我们注意看。x 的每一行是 784 个像素，每一个像素是一个数值，该数值介于 0 到 1 之间。数值越低，颜色越深。上图中白色部分，数字肯定很高，接近于 1.0。\n",
    "\n",
    "大体上是这样子：\n",
    "\n",
    "![](img/lr1.png)\n",
    "\n",
    "数字除以 255 就是我们想要的样子（虽然维度不同)。\n",
    "\n",
    "上图[来源](https://observablehq.com/d/01f7c541e3f547f2)"
   ]
  },
  {
   "cell_type": "code",
   "execution_count": 252,
   "id": "d988d869",
   "metadata": {},
   "outputs": [],
   "source": [
    "# x[0, :]"
   ]
  },
  {
   "cell_type": "markdown",
   "id": "e0c8b7e9",
   "metadata": {},
   "source": [
    "那我们一个很正常的想法是，给每一个像素加权。我们现在要识别的是 8 和 4. 当数字是 8 的时候，我们希望最后算出来的结果是 0。是 4 的时候，我们希望算出来的结果是 1. \n",
    "\n",
    "那如果你是机器，你怎么办？考虑到写 4 的时候，我们会在左侧写一个竖，靠右侧又写一个竖。那是不是那几个像素我们给它们比较大的加权，这样算出来的结果就比较大（我们之后会讲到，我们要给数值进行转化。结果越大，我们可以让转化后的结果越接近于 1）。我们写 8 的时候，会在中间上侧画一个弧，中间下侧也有一个弧，那是不是那几个像素我们给它们比较小的加权，这样算出的结果就比较小，也就是越接近于 0。\n",
    "\n",
    "我们来总结一下，每一个要猜的数字，也就是 x 的其中一行，一共有 784 个数，我们给每一个数一个加权值，设为 w。w 是一个 $784 \\times 1$ 的向量。除了 w，我们还需要一个数字，即「偏差」(bias)，这个偏差可以当作阀门一样来对加权运算后的结果进行微调。我们的目标是：没有蛀牙。不对，我们的目标是找到这样的 w 和 b，使得对于 x 的每一行（也就是每一个图像），加权运算与偏差调整之后的结果，也就是 $x_i w + b$，正好是 x 该行所显示的数字。也就是说，我们要让结果要么是 0， 要么是 1. \n",
    "\n",
    "然而，现在的问题是，$x_i w + b$，并不一定介于 0 与 1 之间，更不要说结果要么是 0， 要么是 1。怎么办？\n",
    "\n",
    "逻辑回归要登场了。\n",
    "\n",
    "我们现在来举个例子。我们知道 $w$ 是一个 $784 \\times 1$ 的向量，$b$ 是一个数字。我们给它们初始化一下，随便取值："
   ]
  },
  {
   "cell_type": "code",
   "execution_count": 253,
   "id": "ef70f870",
   "metadata": {},
   "outputs": [],
   "source": [
    "m = x.shape[1]\n",
    "\n",
    "w = np.random.rand(m)\n",
    "b = np.random.rand()"
   ]
  },
  {
   "cell_type": "code",
   "execution_count": 254,
   "id": "cf2b8768",
   "metadata": {},
   "outputs": [],
   "source": [
    "def check_random_pred_result(n):\n",
    "    \"\"\"随机抽 n 个在 0 和 len(x)+ 1 之间的整数，比较真实结果和基于 w, b 的预测结果\n",
    "    \"\"\"\n",
    "    rand_idxs = random.sample(range(0, len(x) + 1), n)\n",
    "    for i in rand_idxs:\n",
    "        h = x[i, :]@w + b\n",
    "        a = str(1/(1+np.exp(-h)))\n",
    "        result = str(y[i])\n",
    "        print(\"Actual result is \"+ result + \", prediction is \" + a)"
   ]
  },
  {
   "cell_type": "code",
   "execution_count": 255,
   "id": "9c284ad1",
   "metadata": {},
   "outputs": [
    {
     "name": "stdout",
     "output_type": "stream",
     "text": [
      "Actual result is 0, prediction is 1.0\n",
      "Actual result is 1, prediction is 0.9999999999999629\n",
      "Actual result is 0, prediction is 0.9999999999999998\n",
      "Actual result is 0, prediction is 0.9999999999999998\n",
      "Actual result is 0, prediction is 1.0\n",
      "Actual result is 0, prediction is 1.0\n",
      "Actual result is 0, prediction is 1.0\n",
      "Actual result is 1, prediction is 1.0\n",
      "Actual result is 1, prediction is 1.0\n",
      "Actual result is 1, prediction is 1.0\n"
     ]
    }
   ],
   "source": [
    "check_random_pred_result(10)"
   ]
  },
  {
   "cell_type": "code",
   "execution_count": 256,
   "id": "d25423d4",
   "metadata": {},
   "outputs": [
    {
     "data": {
      "text/plain": [
       "-2.3025850929940455"
      ]
     },
     "execution_count": 256,
     "metadata": {},
     "output_type": "execute_result"
    }
   ],
   "source": [
    "np.log(0.1)"
   ]
  },
  {
   "cell_type": "markdown",
   "id": "30ff9b1a",
   "metadata": {},
   "source": [
    "我们看到，预测总是 1，这说明上面的随机参数 w, b 是没办法帮我们完成任务的。我们要做的是根据真实结果和预测结果，来一步步调整参数，最终让我们的预测结果逼近真实结果。下一个关键问题是如何调整参数。\n",
    "\n",
    "我们首先需要关注的是真实结果和预测结果的误差。这个误差最简单粗暴的测量方法是两者相减，但这种方法不适合机器学习，我现在还没办法说明为什么。我们通常用的测量方法，也就是我们通常说的「损失函数」(loss function)，是 binary cross entropy。记真实结果为 $a$，预测结果为 $y$，那两者之间的差别我们用 binary cross entropy loss 来测量。\n",
    "\n",
    "$$L = - (y \\cdot log(a) + (1-y)\\cdot log(1-a))$$\n",
    "\n",
    "比如，当结果是 $ y = 0$，预测是 $a = 1$ 的时候，损失是：\n",
    "\n",
    "$$L = - (0 \\cdot log(1) - 1 \\cdot log(0.001))$$\n",
    "\n",
    "这里需要注意的是，$log(0)$ 是无定义的，所以我们算 $log(0.001)$，当然，你算 $log(0.1)$, $log(0.01)$ 等等都没什么问题。\n",
    "\n",
    "更多关于 cross entropy loss 的知识，可以看[这里](https://towardsdatascience.com/cross-entropy-loss-function-f38c4ec8643e)。关于 entropy，你可以看我写的[一篇科普](/en/2022/09/21/entropy/)。\n",
    "\n",
    "算出损失函数并不是目的，我们的目的是调整参数 $w$ 和 $b$，让每一次算出来的损失函数变小，也就是让预测结果逼近真实结果。所以我们的最终结果，是让损失函数变小。这是一个典型的优化问题。我们需要给 $L$ 求导。\n",
    "\n",
    "要给 $L$ 求导，我们先来回顾一下 $a$ 是怎么算出来的。根据上面的 `check_random_pred_result` 这个函数，我们可知：\n",
    "\n",
    "$$a = \\frac{1}{1 + e^{-h}}$$\n",
    "\n",
    "$$h = w^T \\cdot x + b$$\n",
    "\n",
    "其中 $x$ 是一个数字的图像，也就是一个 $784 \\times 1$ 的矩阵。"
   ]
  },
  {
   "cell_type": "markdown",
   "id": "1feda98a",
   "metadata": {},
   "source": [
    "根据 chain rule，我们可知：\n",
    "\n",
    "$$\\frac{\\partial L}{\\partial w} = \\frac{\\partial L}{\\partial a} \\cdot \\frac{\\partial a}{\\partial h} \\cdot \\frac{\\partial h}{\\partial w}$$"
   ]
  },
  {
   "cell_type": "markdown",
   "id": "0c62764f",
   "metadata": {},
   "source": [
    "根据微积分运算法则，我们知道：\n",
    "\n",
    "$$\\frac{\\partial L}{\\partial a} = \\frac{a - y}{a (1-a)}$$\n",
    "\n",
    "(如果上面这个你不知道是为啥，请看[这里](/en/2022/11/28/log-derivative/))。\n",
    "\n",
    "$$\\frac{\\partial a}{\\partial h} = a(1-a)$$\n",
    "\n",
    "(如果上面这个你不知道是为啥，请看[这里](/en/2022/10/30/sigmoid-derivative/))。\n",
    "\n",
    "$$\\frac{\\partial h}{\\partial w} = x$$\n",
    "\n",
    "所以，\n",
    "\n",
    "$$\\frac{\\partial L}{\\partial w} = x(a-y)$$\n",
    "\n",
    "以上运算过程参考 [Giang 的一篇帖子](https://math.stackexchange.com/a/3220477)."
   ]
  },
  {
   "cell_type": "markdown",
   "id": "19c438e1",
   "metadata": {},
   "source": [
    "如果你学过微积分，你会知道，$L(w)$ 函数上的每一个点，其斜率是 $x(a-y)$。我们想让 $L(w)$ 最小，也就是想让其斜率变成零。需要做的是朝着斜率 $x(a-y)$ **相反**的方向走就好。\n",
    "\n",
    "![](https://editor.analyticsvidhya.com/uploads/2260058912gradient%20decent.jpg)\n",
    "\n",
    "上图[来源](https://editor.analyticsvidhya.com/uploads/2260058912gradient%20decent.jpg)\n",
    "\n",
    "\n",
    "朝这个方向走迈的步子我们叫做 $\\alpha$。\n",
    "\n",
    "我们算了 $\\frac{\\partial L}{\\partial w}$，但还没有算 $\\frac{\\partial L}{\\partial b}$:\n",
    "\n",
    "同样根据 chain rule，我们可知：\n",
    "\n",
    "$$\\frac{\\partial L}{\\partial b} = \\frac{\\partial L}{\\partial a} \\cdot \\frac{\\partial a}{\\partial h} \\cdot \\frac{\\partial h}{\\partial b}$$\n",
    "\n",
    "因为\n",
    "\n",
    "$$\\frac{\\partial h}{\\partial b} = 1$$\n",
    "\n",
    "所以\n",
    "\n",
    "$$\\frac{\\partial L}{\\partial b} = a-y$$"
   ]
  },
  {
   "cell_type": "markdown",
   "id": "6778038f",
   "metadata": {},
   "source": [
    "## 逻辑回归的代码实现"
   ]
  },
  {
   "cell_type": "code",
   "execution_count": 257,
   "id": "b2d518c2",
   "metadata": {},
   "outputs": [
    {
     "name": "stdout",
     "output_type": "stream",
     "text": [
      "第 1 轮  损失为 40423.12  该轮中损失减少了 9.959577e+06  正确识别率为 49.9615%\n",
      "第 2 轮  损失为 40360.96  该轮中损失减少了 62.16079  正确识别率为 50.0385%\n",
      "第 3 轮  损失为 4434.966  该轮中损失减少了 35925.99  正确识别率为 93.5089%\n",
      "第 4 轮  损失为 3753.831  该轮中损失减少了 681.1356  正确识别率为 94.4839%\n",
      "第 5 轮  损失为 2997.665  该轮中损失减少了 756.1655  正确识别率为 95.4674%\n",
      "第 6 轮  损失为 2635.214  该轮中损失减少了 362.4509  正确识别率为 95.9634%\n",
      "第 7 轮  损失为 2308.995  该轮中损失减少了 326.219  正确识别率为 96.3910%\n",
      "第 8 轮  损失为 2072.306  该轮中损失减少了 236.6893  正确识别率为 96.7331%\n",
      "第 9 轮  损失为 1862.94  该轮中损失减少了 209.3665  正确识别率为 97.0581%\n",
      "第 10 轮  损失为 1712.142  该轮中损失减少了 150.7973  正确识别率为 97.2291%\n",
      "第 11 轮  损失为 1589.948  该轮中损失减少了 122.1944  正确识别率为 97.3745%\n",
      "第 12 轮  损失为 1488.339  该轮中损失减少了 101.6084  正确识别率为 97.5199%\n",
      "第 13 轮  损失为 1398.682  该轮中损失减少了 89.65783  正确识别率为 97.6653%\n",
      "第 14 轮  损失为 1321.616  该轮中损失减少了 77.0652  正确识别率为 97.8107%\n",
      "第 15 轮  损失为 1253.288  该轮中损失减少了 68.32872  正确识别率为 97.9560%\n",
      "第 16 轮  损失为 1194.084  该轮中损失减少了 59.20371  正确识别率为 98.0672%\n",
      "第 17 轮  损失为 1142.404  该轮中损失减少了 51.68004  正确识别率为 98.1955%\n",
      "第 18 轮  损失为 1097.171  该轮中损失减少了 45.23287  正确识别率为 98.2468%\n",
      "第 19 轮  损失为 1056.046  该轮中损失减少了 41.12477  正确识别率为 98.2810%\n",
      "第 20 轮  损失为 1017.52  该轮中损失减少了 38.52664  正确识别率为 98.3836%\n"
     ]
    }
   ],
   "source": [
    "epochs = 20\n",
    "alpha = 0.001\n",
    "loss_prev = 10e6\n",
    "\n",
    "w = np.random.rand(m)\n",
    "b = np.random.rand()\n",
    "\n",
    "for epoch in range(epochs):\n",
    "    # x: n * 784, w: 784 * 1, b: 1\n",
    "    # h: n * 1\n",
    "    a = x@w + b\n",
    "    \n",
    "    # a: n * 1\n",
    "    a = 1/(1+np.exp(-a))\n",
    "    \n",
    "    # 避免 log(0) 的情况\n",
    "    a = np.clip(a, .001, .999)\n",
    "    \n",
    "    # y: n * 1, a - y: n * 1, x.T: 784 * n\n",
    "    # w: 784 * 1\n",
    "    w -= alpha * (x.T)@(a-y)\n",
    "    \n",
    "    # 所有数据针对 b 的梯度下降取平均值\n",
    "    b -= alpha * np.mean(a - y)\n",
    "    \n",
    "    loss = - np.sum(y*np.log(a) + (1-y)*np.log(1-a))\n",
    "    loss_reduction = loss_prev - loss\n",
    "    loss_prev = loss\n",
    "    \n",
    "    accuracy = sum((a > 0.5).astype(int) == y)/len(y)\n",
    "    \n",
    "    print('第', epoch+1, '轮', ' 损失为 {:.7}'.format(loss), \\\n",
    "          ' 该轮中损失减少了 {:.7}'.format(loss_reduction), \\\n",
    "          ' 正确识别率为 {:.4%}'.format(accuracy)\n",
    "         )"
   ]
  },
  {
   "cell_type": "markdown",
   "id": "ae475882",
   "metadata": {},
   "source": [
    "## 检测"
   ]
  },
  {
   "cell_type": "code",
   "execution_count": 258,
   "id": "05c03bc8",
   "metadata": {},
   "outputs": [],
   "source": [
    "x_test, y_test = data_loader('../static/files/large/mnist_test.csv')\n",
    "test_labels = [8, 4]\n",
    "indices = np.where(np.isin(y_test, test_labels))[0]\n",
    "\n",
    "x = x_test[indices]\n",
    "y = y_test[indices]\n",
    "\n",
    "# 如果数字是 8， 我们把它变成 0\n",
    "y[y == test_labels[0]] = 0\n",
    "\n",
    "# 如果数字是 4， 我们把它变成 1\n",
    "y[y == test_labels[1]] = 1"
   ]
  },
  {
   "cell_type": "code",
   "execution_count": 259,
   "id": "26953e95",
   "metadata": {},
   "outputs": [
    {
     "name": "stdout",
     "output_type": "stream",
     "text": [
      " 正确识别率为 98.7219%\n"
     ]
    }
   ],
   "source": [
    "h = x@w + b\n",
    "a = 1/(1+np.exp(-h))\n",
    "accuracy = sum((a > 0.5).astype(int) == y)/len(y)\n",
    "print(' 正确识别率为 {:.4%}'.format(accuracy))"
   ]
  }
 ],
 "metadata": {
  "kernelspec": {
   "display_name": "Python 3 (ipykernel)",
   "language": "python",
   "name": "python3"
  },
  "language_info": {
   "codemirror_mode": {
    "name": "ipython",
    "version": 3
   },
   "file_extension": ".py",
   "mimetype": "text/x-python",
   "name": "python",
   "nbconvert_exporter": "python",
   "pygments_lexer": "ipython3",
   "version": "3.10.4"
  }
 },
 "nbformat": 4,
 "nbformat_minor": 5
}

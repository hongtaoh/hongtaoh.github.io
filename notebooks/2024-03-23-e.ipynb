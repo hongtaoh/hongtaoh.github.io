{
 "cells": [
  {
   "cell_type": "markdown",
   "metadata": {},
   "source": [
    "---\n",
    "\n",
    "title: \"关于自然指数的知识\"\n",
    "date: 2024-03-23\n",
    "author: 郝鸿涛\n",
    "slug: e\n",
    "draft: false\n",
    "toc: true\n",
    "tags: 统计\n",
    "\n",
    "---\n"
   ]
  },
  {
   "cell_type": "markdown",
   "metadata": {},
   "source": [
    "## 指数函数的导数 \n",
    "\n",
    "$2^x$ 的导数是什么？\n",
    "\n",
    "我们这样算：\n",
    "\n",
    "$$\\lim_{dx \\to 0} \\frac{2^{x + dx} - 2^x}{dx} = \\frac{2^{dx} - 1}{dx} \\cdot 2^x$$\n",
    "\n",
    "我们带入一个非常小的 $dx$ 看看："
   ]
  },
  {
   "cell_type": "code",
   "execution_count": 22,
   "metadata": {},
   "outputs": [
    {
     "data": {
      "text/plain": [
       "(0.6933874625807412, 0.6931712037649973, 0.6931472040783149)"
      ]
     },
     "execution_count": 22,
     "metadata": {},
     "output_type": "execute_result"
    }
   ],
   "source": [
    "def derivative_const(dx):\n",
    "    return (2**dx - 1)/dx \n",
    "\n",
    "derivative_const(0.001), derivative_const(0.0001), derivative_const(0.0000001)"
   ]
  },
  {
   "cell_type": "markdown",
   "metadata": {},
   "source": [
    "我们看到，当 $dx$ 越来越小， $\\frac{2^{dx} - 1}{dx}$ 越来越趋近于一个数。同样的情况也发生在：\n",
    "\n",
    "$$\\lim_{dx \\to 0} \\frac{8^{x + dx} - 8^x}{dx} = \\frac{8^{dx} - 1}{dx} \\cdot 8^x$$\n"
   ]
  },
  {
   "cell_type": "code",
   "execution_count": 23,
   "metadata": {},
   "outputs": [
    {
     "data": {
      "text/plain": [
       "(2.0816050796328422, 2.0796577605231015, 2.079441758784384)"
      ]
     },
     "execution_count": 23,
     "metadata": {},
     "output_type": "execute_result"
    }
   ],
   "source": [
    "\n",
    "def derivative_const(dx):\n",
    "    return (8**dx - 1)/dx \n",
    "\n",
    "derivative_const(0.001), derivative_const(0.0001), derivative_const(0.0000001)"
   ]
  },
  {
   "cell_type": "markdown",
   "metadata": {},
   "source": [
    "我们定义 $e$:\n",
    "\n",
    "$$\\lim_{dx \\to 0} \\frac{e^{dx} - 1}{dx} = 1$$\n",
    "\n",
    "所以 $e^x$ 的导数为其本身 $e^x$。\n",
    "\n",
    "我们用 $e$ 来表示 $2^x$ 的导数：\n",
    "\n",
    "因为 $e^{ln(2)} = 2$，所以\n",
    "\n",
    "$$2^x = e^{ln(2)\\cdot x}$$\n",
    "\n",
    "根据 Chain rule，我们知道 $y = e^{cx}$ 的导数为 $e^{cx}\\cdot c$\n",
    "\n",
    "所以\n",
    "\n",
    "$2^x = e^{ln(2)\\cdot x}$ 的导数为 \n",
    "\n",
    "$$ln(2) \\cdot e^{ln(2)\\cdot x} = ln(2)\\cdot 2^x$$\n",
    "\n",
    "推而广之，我们知道 $y = c^x$ 的导数为 $ln(c)\\cdot c^x$\n"
   ]
  },
  {
   "cell_type": "markdown",
   "metadata": {},
   "source": [
    "## 重新看数字 e 的定义\n",
    "\n",
    "数字 e 可以定义为满足以下条件的数：\n",
    "$$\n",
    "\\lim_{{dx \\to 0}} \\frac{{e^{dx} - 1}}{{dx}} = 1\n",
    "$$\n",
    "\n",
    "可以重写为\n",
    "$$\n",
    "\\lim_{{dx \\to 0}} e^{dx} = 1 + dx\n",
    "$$\n",
    "\n",
    "因此\n",
    "$$\n",
    "e^{dx \\cdot \\frac{1}{{dx}}} = (1 + dx)^{\\frac{1}{{dx}}}\n",
    "$$\n",
    "\n",
    "所以按定义\n",
    "$$\n",
    "e = \\lim_{{dx \\to 0}} (1 + dx)^{\\frac{1}{{dx}}}\n",
    "$$\n",
    "\n",
    "类比地，对于任意正整数 \\( n \\)，我们有\n",
    "\n",
    "$$\n",
    "\\lim_{{n \\to \\infty}} \\left(1 + \\frac{1}{n}\\right)^n = e \\tag{1}\n",
    "$$\n",
    "\n",
    "或者\n",
    "\n",
    "$$\n",
    "\\lim_{{n \\to \\infty}} \\left(1 + n\\right)^\\frac{1}{n} = e \\tag{2}\n",
    "$$"
   ]
  },
  {
   "cell_type": "markdown",
   "metadata": {},
   "source": [
    "对于任意实数 \\( x \\)，我们有\n",
    "\n",
    "$$\n",
    "\\lim_{{n \\to \\infty}} \\left(1 + n\\right)^\\frac{x}{n} = e^x\n",
    "$$\n",
    "\n",
    "若 $\\frac{x}{n} = t$\n",
    "\n",
    "有\n",
    "\n",
    "$$\n",
    "\\lim_{{n \\to \\infty}} \\left(1 + \\frac{x}{t}\\right)^t = e^x\n",
    "$$\n",
    "\n",
    "把 $t$ 用 $n$ 表示可能更加易于记忆：\n",
    "\n",
    "$$\n",
    "\\lim_{{n \\to \\infty}} \\left(1 + \\frac{x}{n}\\right)^n = e^x \\tag{3}\n",
    "$$"
   ]
  }
 ],
 "metadata": {
  "kernelspec": {
   "display_name": "bayes",
   "language": "python",
   "name": "python3"
  },
  "language_info": {
   "codemirror_mode": {
    "name": "ipython",
    "version": 3
   },
   "file_extension": ".py",
   "mimetype": "text/x-python",
   "name": "python",
   "nbconvert_exporter": "python",
   "pygments_lexer": "ipython3",
   "version": "3.8.19"
  }
 },
 "nbformat": 4,
 "nbformat_minor": 2
}

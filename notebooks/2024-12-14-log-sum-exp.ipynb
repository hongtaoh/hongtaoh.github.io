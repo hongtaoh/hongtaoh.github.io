{
 "cells": [
  {
   "cell_type": "markdown",
   "metadata": {},
   "source": [
    "---\n",
    "\n",
    "title: \"Explanining Log-Sum-Exp\"\n",
    "date: 2024-12-14T17:25:22-06:00\n",
    "author: Hongtao Hao\n",
    "slug: log-sum-exp\n",
    "draft: false\n",
    "toc: true\n",
    "tags: Math\n",
    "---"
   ]
  },
  {
   "cell_type": "markdown",
   "metadata": {},
   "source": [
    "## Motivationn & Definition\n",
    "\n",
    "In this post, we explain the concept of [Log-Sum-Exp](https://en.wikipedia.org/wiki/LogSumExp).\n",
    "\n",
    "Suppose we have three extremely small numbers: $a_1 = e^{-200}, a_2 = e^{-201}, a_3 = e^{-202}$. We are interested in the sum of these three numbers. \n",
    "\n",
    "There are two issues to solve here:\n",
    "\n",
    "1. The sum will still be very small. To make the result more readible, we want to take the logarithm of it. \n",
    "2. Dealing with extremely small numbers may lead to [aithmetic underflow](https://en.wikipedia.org/wiki/Arithmetic_underflow). \n",
    "\n",
    "To solve these two issues, we use the trick of Log-Sum-Exp. \n",
    "\n",
    "The result of direct computation is \n",
    "\n",
    "$$S = \\ln(a_1 + a_2 + a_3)$$\n",
    "\n",
    "Log-Sum-Exp will give this result:\n",
    "\n",
    "$$S = M + \\ln\\left(e^{a_1 - M} + e^{a_2 - M} + e^{a_3 - M}\\right)$$\n",
    "\n",
    "where $M = \\max(\\ln(a_1), \\ln(a_2), \\ln(a_3))$\n",
    "\n",
    "Note that the base for $\\ln$ is $e$, not $10$.\n",
    "\n",
    "## Proof\n",
    "\n",
    "### Direct computation\n",
    "\n",
    "Because $\\log(ab) = \\log(a) + \\log(b)$, we have:\n",
    "\n",
    "$$\n",
    "\\begin{align*}\n",
    "S & \n",
    "= \\ln(a_1 + a_2 + a_3) \\\\&\n",
    "= \\ln(e^{-200} + e^{-201} + e^{-202}) \\\\&\n",
    "= \\ln(e^{-200}(1 + e^{-1} + e^{-2})) \\\\&\n",
    "= \\ln(e^{-200}) + \\ln(1 + e^{-1} + e^{-2}) \\\\&\n",
    "= -200 + \\ln(1 + e^{-1} + e^{-2})\n",
    "\\end{align*}\n",
    "$$\n",
    "\n",
    "### Log-Sum-Exp\n",
    "\n",
    "$M = \\ln(a_1) = -200$\n",
    "\n",
    "$$\n",
    "\\begin{align*}\n",
    "S & \n",
    "= M + \\ln\\left(e^{a_1 - M} + e^{a_2 - M} + e^{a_3 - M}\\right) \\\\&\n",
    "= -200 + \\ln(e^0 + e^{-1} + e^{-2}) \\\\&\n",
    "= -200 + \\ln(1 + e^{-1} + e^{-2})\n",
    "\\end{align*}\n",
    "$$\n",
    "\n",
    "We can see that the results are the same. "
   ]
  }
 ],
 "metadata": {
  "language_info": {
   "name": "python"
  }
 },
 "nbformat": 4,
 "nbformat_minor": 2
}

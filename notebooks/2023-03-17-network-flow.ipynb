{
 "cells": [
  {
   "cell_type": "markdown",
   "id": "200bf7b9",
   "metadata": {},
   "source": [
    "---\n",
    "\n",
    "title: \"Optimization: Network Flow Problems\"\n",
    "date: 2023-03-17\n",
    "author: Hongtao Hao\n",
    "slug: optimization-network-flow\n",
    "draft: false\n",
    "toc: false\n",
    "tags: Optimization\n",
    "\n",
    "---"
   ]
  },
  {
   "cell_type": "markdown",
   "id": "cbcdea09",
   "metadata": {},
   "source": [
    "{{<block class = \"note\">}}\n",
    "Images in this posst came from the slides of [CS524 at UW-Madison](https://laurentlessard.com/teaching/524-intro-to-optimization/), 2023Spring\n",
    "{{<end>}}\n",
    "\n",
    "{{<block class = \"reminder\">}}\n",
    "This notebook runs in [Julia](https://julialang.org/) and is rendered by [Hupyter](https://github.com/hongtaoh/hupyter).\n",
    "{{<end>}}"
   ]
  },
  {
   "cell_type": "markdown",
   "id": "51b6505b",
   "metadata": {},
   "source": [
    "# Sailco, a simple example"
   ]
  },
  {
   "cell_type": "markdown",
   "id": "6dd48757",
   "metadata": {},
   "source": [
    "Sailco manufactures sailboats. During the next 4 months the company must meet the following demands for their sailboats:\n",
    "\n",
    "| Month      | 1 | 2 | 3 | 4|\n",
    "| ----------- | ----------- | ----------- | ----------- | ----------- |\n",
    "| Number of boats     | 40       | 60 | 70 | 25|\n",
    "\n",
    "At the beginning of Month 1, Sailco has 10 boats in inventory. Each month it must determine how many boats to produce. During any month, Sailco can produce up to 40 boats with regular labor and an unlimited number of boats with overtime labor. Boats produced with regular labor cost 400 USD each to produce, while boats produced with overtime labor cost 450 USD each. It costs 20 USD to hold a boat in inventory from one month to the next. Find the production and inventory schedule that minimizes the cost of meeting the next 4 months’ demands"
   ]
  },
  {
   "cell_type": "code",
   "execution_count": 18,
   "id": "db6b80a5",
   "metadata": {},
   "outputs": [],
   "source": [
    "using JuMP, HiGHS, DataStructures, NamedArrays"
   ]
  },
  {
   "cell_type": "markdown",
   "id": "646187a4",
   "metadata": {},
   "source": [
    "## Solution \n",
    "\n",
    "![](img/sailco.png)"
   ]
  },
  {
   "cell_type": "code",
   "execution_count": 19,
   "id": "a4bdfeb9",
   "metadata": {},
   "outputs": [
    {
     "name": "stdout",
     "output_type": "stream",
     "text": [
      "Running HiGHS 1.4.2 [date: 1970-01-01, git hash: f797c1ab6]\n",
      "Copyright (c) 2022 ERGO-Code under MIT licence terms\n",
      "Presolving model\n",
      "4 rows, 12 cols, 15 nonzeros\n",
      "4 rows, 12 cols, 15 nonzeros\n",
      "Presolve : Reductions: rows 4(-1); columns 12(-1); elements 15(-2)\n",
      "Solving the presolved LP\n",
      "Using EKK dual simplex solver - serial\n",
      "  Iteration        Objective     Infeasibilities num(sum)\n",
      "          0     2.0000000000e+02 Pr: 4(185) 0s\n",
      "          5     7.6400000000e+04 Pr: 0(0) 0s\n",
      "Solving the original LP from the solution after postsolve\n",
      "Model   status      : Optimal\n",
      "Simplex   iterations: 5\n",
      "Objective value     :  7.6400000000e+04\n",
      "HiGHS run time      :          0.00\n",
      "Solver terminated with status OPTIMAL\n"
     ]
    }
   ],
   "source": [
    "m = Model(HiGHS.Optimizer)\n",
    "\n",
    "demands = [40, 60, 70, 25]\n",
    "\n",
    "# boats built with regular labor\n",
    "@variable(m, 0 <= x[1:4] <= 40)\n",
    "# boats built with overtime labor\n",
    "@variable(m, y[1:4] >= 0)\n",
    "# inventory\n",
    "@variable(m, h[1:5] >= 0)\n",
    "\n",
    "# for each month\n",
    "for i in range(1,4)\n",
    "#     boats plus the inventory must be larger than the demand\n",
    "#     @constraint(m, x[i] + y[i] + h[i] >= demands[i])\n",
    "    \n",
    "    # inventory next month is equal to all boats available minus the demand of that month\n",
    "    @constraint(m, h[i+1] == h[i] + x[i] + y[i] - demands[i])\n",
    "end\n",
    "\n",
    "# first month inventory is 10\n",
    "@constraint(m, h[1] == 10)\n",
    "\n",
    "# minimize the total cost\n",
    "@objective(m, Min, 400*sum(x) + 450*sum(y) + 20*sum(h))\n",
    "\n",
    "optimize!(m)\n",
    "println(\"Solver terminated with status \", termination_status(m))"
   ]
  },
  {
   "cell_type": "code",
   "execution_count": 20,
   "id": "20ee8723",
   "metadata": {},
   "outputs": [
    {
     "name": "stdout",
     "output_type": "stream",
     "text": [
      "Boats built with regular labor each month: [40, 40, 40, 25]\n",
      "Boats built with overtime labor each month: [0, 10, 30, 0]\n",
      "Inventory: [10, 10, 0, 0, 0]\n",
      "Minimum cost: $76400.0\n"
     ]
    }
   ],
   "source": [
    "println(\"Boats built with regular labor each month: \", Array{Int}(value.(x)))\n",
    "println(\"Boats built with overtime labor each month: \", Array{Int}(value.(y)))\n",
    "println(\"Inventory: \", Array{Int}(value.(h)))\n",
    "println(\"Minimum cost: \\$\", objective_value(m))"
   ]
  },
  {
   "cell_type": "markdown",
   "id": "038c25a4",
   "metadata": {},
   "source": [
    "In above,\n",
    "\n",
    "```\n",
    "# for each month\n",
    "for i in range(1,4)\n",
    "    # inventory next month is equal to all boats available minus the demand of that month\n",
    "    @constraint(m, h[i+1] == h[i] + x[i] + y[i] - demands[i])\n",
    "end\n",
    "```\n",
    "\n",
    "can be rewritten as \n",
    "\n",
    "```\n",
    "@constraint(m, flows[i in 1:4], h[i] + x[i] + y[i] == demands[i] + h[i])\n",
    "```"
   ]
  },
  {
   "cell_type": "markdown",
   "id": "7e62bcc1",
   "metadata": {},
   "source": [
    "# Minimum-cost flow problem\n",
    "\n",
    "## Lumber transportation problem (J. Reeb and S. Leavengood)\n",
    "\n",
    "Millco has three wood mills and is planning three new logging sites. Each mill has a maximum capacity and each logging site can harvest a certain number of truckloads of lumber per day. The cost of a haul is 2 USD/mile of distance. If distances from logging sites to mills are given below, how should the hauls be routed to minimize hauling costs while meeting all demands?\n",
    "\n",
    "| Logging Site | Mill A | Mill B | Mill C | Max loads per day per logging site |\n",
    "|:------------:|:------:|:------:|:------:|:-----------------:|\n",
    "| 1            |  8     |  15    |  50    |  20               |\n",
    "| 2            |  10    |  17    |  20    |  30               |\n",
    "| 3            |  30    |  26    |  15    |  45               |\n",
    "| Mill demand (truckloads/day)  |  30    |  35    |  30    |                   |"
   ]
  },
  {
   "cell_type": "code",
   "execution_count": 21,
   "id": "0e3a98ad",
   "metadata": {},
   "outputs": [
    {
     "data": {
      "text/plain": [
       "3×3 Named Matrix{Int64}\n",
       "Sites ╲ Mills │ :A  :B  :C\n",
       "──────────────┼───────────\n",
       "1             │  8  15  50\n",
       "2             │ 10  17  20\n",
       "3             │ 30  26  15"
      ]
     },
     "execution_count": 21,
     "metadata": {},
     "output_type": "execute_result"
    }
   ],
   "source": [
    "m = Model(HiGHS.Optimizer)\n",
    "\n",
    "sites = [1, 2, 3]\n",
    "mills = [:A, :B, :C]\n",
    "\n",
    "cost_per_haul = 4\n",
    "\n",
    "supply = Dict(zip(sites, [20, 30, 45]))\n",
    "demand = Dict(zip(mills, [30, 35, 30]))\n",
    "\n",
    "dist = NamedArray([8 15 50; 10 17 20; 30 26 15], (sites, mills), (\"Sites\", \"Mills\"))"
   ]
  },
  {
   "cell_type": "code",
   "execution_count": 22,
   "id": "80aa851c",
   "metadata": {},
   "outputs": [
    {
     "name": "stdout",
     "output_type": "stream",
     "text": [
      "Running HiGHS 1.4.2 [date: 1970-01-01, git hash: f797c1ab6]\n",
      "Copyright (c) 2022 ERGO-Code under MIT licence terms\n",
      "Presolving model\n",
      "6 rows, 9 cols, 18 nonzeros\n",
      "5 rows, 9 cols, 15 nonzeros\n",
      "Presolve : Reductions: rows 5(-1); columns 9(-0); elements 15(-3)\n",
      "Solving the presolved LP\n",
      "Using EKK dual simplex solver - serial\n",
      "  Iteration        Objective     Infeasibilities num(sum)\n",
      "          0     0.0000000000e+00 Pr: 5(155) 0s\n",
      "          5     5.7600000000e+03 Pr: 0(0) 0s\n",
      "Solving the original LP from the solution after postsolve\n",
      "Model   status      : Optimal\n",
      "Simplex   iterations: 5\n",
      "Objective value     :  5.7600000000e+03\n",
      "HiGHS run time      :          0.00\n"
     ]
    }
   ],
   "source": [
    "@variable(m, x[sites, mills] >= 0)\n",
    "\n",
    "@constraint(m, sup[i in sites], sum(x[i,j] for j in mills) == supply[i])\n",
    "@constraint(m, dem[j in mills], sum(x[i,j] for i in sites) == demand[j])\n",
    "@objective(m, Min, cost_per_haul * sum( x[i,j]*dist[i,j] for i in sites, j in mills ))\n",
    "\n",
    "optimize!(m)"
   ]
  },
  {
   "cell_type": "code",
   "execution_count": 23,
   "id": "41f11271",
   "metadata": {},
   "outputs": [
    {
     "data": {
      "text/plain": [
       "3×3 Named Matrix{Int64}\n",
       "Sites ╲ Mills │ :A  :B  :C\n",
       "──────────────┼───────────\n",
       "1             │  0  20   0\n",
       "2             │ 30   0   0\n",
       "3             │  0  15  30"
      ]
     },
     "execution_count": 23,
     "metadata": {},
     "output_type": "execute_result"
    }
   ],
   "source": [
    "NamedArray(Int[value(x[i,j]) for i in sites, j in mills], (sites, mills), (\"Sites\", \"Mills\"))"
   ]
  },
  {
   "cell_type": "markdown",
   "id": "6e31dd86",
   "metadata": {},
   "source": [
    "# Swim relay problem (Van Roy and Mason)\n",
    "The coach of a swim team needs to assign swimmers to a 200-yard medley relay team to compete in a tournament. The problem is that his best swimmers are good in more than one stroke, so it's not clear which swimmer to assign to which stroke. Here are the best times for each swimmer:\n",
    "\n",
    "|Stroke       | Carl | Chris | David | Tony | Ken  |\n",
    "|-------------|:----:|:-----:|:-----:|:----:|:----:|\n",
    "|Backstroke   | 37.7 | 32.9  | 33.8  | 37.0 | 35.4 |\n",
    "|Breaststroke | 43.4 | 33.1  | 42.2  | 34.7 | 41.8 |\n",
    "|Butterfly    | 33.3 | 28.5  | 38.9  | 30.4 | 33.6 |\n",
    "|Freestyle    | 29.2 | 26.4  | 29.6  | 28.5 | 31.1 |\n",
    "\n",
    "This can be considered as a transportation problem like the Lumber transportation problem we talked about above. "
   ]
  },
  {
   "cell_type": "code",
   "execution_count": 24,
   "id": "2f3af4a3",
   "metadata": {},
   "outputs": [
    {
     "name": "stdout",
     "output_type": "stream",
     "text": [
      "Running HiGHS 1.4.2 [date: 1970-01-01, git hash: f797c1ab6]\n",
      "Copyright (c) 2022 ERGO-Code under MIT licence terms\n",
      "Presolving model\n",
      "9 rows, 20 cols, 40 nonzeros\n",
      "9 rows, 20 cols, 40 nonzeros\n",
      "Presolve : Reductions: rows 9(-0); columns 20(-0); elements 40(-0) - Not reduced\n",
      "Problem not reduced by presolve: solving the LP\n",
      "Using EKK dual simplex solver - serial\n",
      "  Iteration        Objective     Infeasibilities num(sum)\n",
      "          0     0.0000000000e+00 Pr: 4(4) 0s\n",
      "          8     1.2620000000e+02 Pr: 0(0) 0s\n",
      "Model   status      : Optimal\n",
      "Simplex   iterations: 8\n",
      "Objective value     :  1.2620000000e+02\n",
      "HiGHS run time      :          0.00\n"
     ]
    }
   ],
   "source": [
    "m = Model(HiGHS.Optimizer)\n",
    "\n",
    "strokes = [:ackstroke, :breaststroke, :butterfly, :freestyle]\n",
    "persons = [:carl, :chris, :david, :tony, :ken]\n",
    "\n",
    "speed = NamedArray(\n",
    "    [\n",
    "        37.7 32.9 33.8 37 35.4; \n",
    "        43.4 33.1 42.2 34.7 41.8;\n",
    "        33.3 28.5 38.9 30.4 33.6;\n",
    "        29.2 26.4 29.6 28.5 31.1 \n",
    "        ], (strokes, persons), (\"Stroke\", \"Person\"))\n",
    "\n",
    "supply = Dict(zip(strokes, [1,1,1,1]))\n",
    "\n",
    "@variable(m, x[strokes, persons] >= 0)\n",
    "\n",
    "# each person should swim at most once\n",
    "@constraint(m, swimmer[p in persons], sum(x[s, p] for s in strokes) <= 1)\n",
    "\n",
    "# each stroke should be assigned to exactly one person\n",
    "@constraint(m, assignment[s in strokes], sum(x[s, p] for p in persons) == 1)\n",
    "\n",
    "# minimize the time consumed\n",
    "@objective(m, Min, sum(x[s, p] * speed[s,p] for s in strokes, p in persons))\n",
    "\n",
    "optimize!(m)"
   ]
  },
  {
   "cell_type": "code",
   "execution_count": 25,
   "id": "dae7d938",
   "metadata": {},
   "outputs": [
    {
     "data": {
      "text/plain": [
       "4×5 Named Matrix{Float64}\n",
       "Stroke ╲ Person │  :carl  :chris  :david   :tony    :ken\n",
       "────────────────┼───────────────────────────────────────\n",
       ":ackstroke      │    0.0     0.0     1.0     0.0     0.0\n",
       ":breaststroke   │    0.0     0.0     0.0     1.0     0.0\n",
       ":butterfly      │    0.0     1.0     0.0    -0.0     0.0\n",
       ":freestyle      │    1.0    -0.0     0.0     0.0     0.0"
      ]
     },
     "execution_count": 25,
     "metadata": {},
     "output_type": "execute_result"
    }
   ],
   "source": [
    "NamedArray([value(x[s,p]) for s in strokes, p in persons], (strokes, persons), (\"Stroke\", \"Person\"))"
   ]
  }
 ],
 "metadata": {
  "kernelspec": {
   "display_name": "Julia 1.7.1",
   "language": "julia",
   "name": "julia-1.7"
  },
  "language_info": {
   "file_extension": ".jl",
   "mimetype": "application/julia",
   "name": "julia",
   "version": "1.7.1"
  }
 },
 "nbformat": 4,
 "nbformat_minor": 5
}

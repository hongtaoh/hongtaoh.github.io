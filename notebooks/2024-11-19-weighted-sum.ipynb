{
 "cells": [
  {
   "cell_type": "markdown",
   "metadata": {},
   "source": [
    "---\n",
    "\n",
    "title: \"加权平均\"\n",
    "date: 2024-11-19\n",
    "author: 郝鸿涛\n",
    "slug: weighted-sum\n",
    "draft: false\n",
    "toc: false\n",
    "tags: 统计\n",
    "\n",
    "---"
   ]
  },
  {
   "cell_type": "markdown",
   "metadata": {},
   "source": [
    "假设三个评委给一个选手打分: 85, 90, 95。三个评委评分的可信度分别为 0.8, 0.5, 0.2。请问如何计算该选手最后的分数？\n",
    "\n",
    "一个简单的办法是："
   ]
  },
  {
   "cell_type": "code",
   "execution_count": 10,
   "metadata": {},
   "outputs": [
    {
     "data": {
      "text/plain": [
       "132.0"
      ]
     },
     "execution_count": 10,
     "metadata": {},
     "output_type": "execute_result"
    }
   ],
   "source": [
    "import numpy as np \n",
    "scores = np.array([85, 90, 95])\n",
    "cred = np.array([0.8, 0.5, 0.2])\n",
    "final_scores = np.sum(scores * cred)\n",
    "final_scores"
   ]
  },
  {
   "cell_type": "markdown",
   "metadata": {},
   "source": [
    "这个方法有问题。\n",
    "\n",
    "第一，从最后结果来看，分数大于 100，不很直观。\n",
    "\n",
    "第二，这种方法意味着我们采纳评委一 80% 的意见，评委二 50% 的意见，评委三 20% 的意见。这样，我们总共采纳了 150% 的意见。\n",
    "\n",
    "那怎么解决这个问题？最后的结果除以 1.5 (0.8 + 0.5 + 0.2) 就可以了。这样我们就采纳了 100% 的意见。\n",
    "\n",
    "也可以这么理解。评委一，我们采纳其 0.8/1.5 的意见，评委二，采纳 0.5/1.5 的意见，评委三采纳 0.2/1.5 的意见。\n",
    "\n",
    "最后的结果是分数乘以权重，然后结果加起来。但需要注意的是，这里的权重是每个可信度除以可信度之和。"
   ]
  },
  {
   "cell_type": "code",
   "execution_count": 11,
   "metadata": {},
   "outputs": [
    {
     "data": {
      "text/plain": [
       "88.0"
      ]
     },
     "execution_count": 11,
     "metadata": {},
     "output_type": "execute_result"
    }
   ],
   "source": [
    "final_scores /= np.sum(cred)\n",
    "final_scores"
   ]
  }
 ],
 "metadata": {
  "kernelspec": {
   "display_name": "bayes",
   "language": "python",
   "name": "python3"
  },
  "language_info": {
   "codemirror_mode": {
    "name": "ipython",
    "version": 3
   },
   "file_extension": ".py",
   "mimetype": "text/x-python",
   "name": "python",
   "nbconvert_exporter": "python",
   "pygments_lexer": "ipython3",
   "version": "3.8.19"
  }
 },
 "nbformat": 4,
 "nbformat_minor": 2
}

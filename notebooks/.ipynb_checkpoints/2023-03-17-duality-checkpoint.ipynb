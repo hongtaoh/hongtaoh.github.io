{
 "cells": [
  {
   "cell_type": "markdown",
   "id": "228b40ca",
   "metadata": {},
   "source": [
    "---\n",
    "\n",
    "title: Optimization Duality Explained\n",
    "date: 2023-03-17\n",
    "author: Hongtao Hao\n",
    "slug: optimization-duality\n",
    "draft: false\n",
    "toc: false\n",
    "tags: Optimization\n",
    "\n",
    "---"
   ]
  },
  {
   "cell_type": "markdown",
   "id": "64d4e64f",
   "metadata": {},
   "source": [
    "{{<block class = \"note\">}}\n",
    "Images in this posst came from the slides of [CS524 at UW-Madison](https://laurentlessard.com/teaching/524-intro-to-optimization/), 2023Spring\n",
    "{{<end>}}\n",
    "\n",
    "{{<block class = \"reminder\">}}\n",
    "This notebook runs in [Julia](https://julialang.org/) and is rendered by [Hupyter](https://github.com/hongtaoh/hupyter).\n",
    "{{<end>}}"
   ]
  },
  {
   "cell_type": "markdown",
   "id": "9692db0e",
   "metadata": {},
   "source": [
    "# TopBrass Revisited\n",
    "\n",
    "Back to the TopBrass problem:\n",
    "\n",
    ">Top Brass Trophy Company makes large championship trophies for youth athletic leagues. At the moment, they are planning production for fall sports: football and soccer.\n",
    "Each football trophy has a wood base, an engraved plaque, a large brass football on top, and returns 12 USD in profit. \n",
    "\n",
    ">Soccer trophies are similar except that a brass soccer ball is on top, and the unit profit is 9 USD. \n",
    "\n",
    ">Since the football has an asymmetric shape, its base requires 4 board feet of wood; the soccer base requires only 2 board feet. \n",
    "\n",
    ">There are 1000 brass footballs in stock, 1500 soccer balls, 1750 plaques, and 4800 board feet of wood. What trophies should be produced from these supplies to maximize total profit assuming that all that are made can be sold?\n",
    "\n",
    "This translates into the following optimization problem:\n",
    "\n",
    "```\n",
    "Max 12 f + 9 s\n",
    "Subject to\n",
    " 4 f + 2 s ≤ 4800.0\n",
    " f + s ≤ 1750.0\n",
    " f ≥ 0.0\n",
    " s ≥ 0.0\n",
    " f ≤ 1000.0\n",
    " s ≤ 1500.0\n",
    "```\n",
    "\n",
    "What we want to do is to find the upper bound of $12f + 9s$. Given that $f \\le 1000$ and $s \\le 1500$, we know that \n",
    "\n",
    "$$12f + 9s \\le 12\\cdot 1000 + 9\\cdot 1500 = 25500$$\n",
    "\n",
    "But this is not the best upper bound. We can improve it:\n",
    "\n",
    "$$12f + 9s \\le f + (4f + 2s) + 7 \\cdot (f + s) \\le 1000 + 4800 + 1750 \\cdot 7 = 18050$$\n",
    "\n",
    "Again, it is not the best upper bound, and we can keep improving it. From $f + s ≤ 1750$, we know \n",
    "\n",
    "$$12f + 9s \\le 12f + 12s \\le 1750\\times 9 = 15750$$"
   ]
  },
  {
   "cell_type": "markdown",
   "id": "4cbbbe28",
   "metadata": {},
   "source": [
    "Is this the optimal upper bound? Definitly not. But you get the idea that if we have $\\lambda_1$, $\\lambda_2$, $\\lambda_3$, $\\lambda_4 \\ge 0$, then by choosing the best possible values of them, we can have the optimal upper bound for $12f + 9s$:\n",
    "\n",
    "$$12f + 9s \\le \\lambda_1(4f + 2s) + \\lambda_2 (f + s) + \\lambda_3 f + \\lambda_4 s$$\n",
    "\n",
    "Based on the constraints we have, we know:\n",
    "\n",
    "$$12f + 9s \\le 4800\\lambda_1 + 1750 \\lambda_2 + 1000 \\lambda_3 + 1500 \\lambda_4$$\n",
    "\n",
    "What we want is the lower bound of $4800\\lambda_1 + 1750 \\lambda_2 + 1000 \\lambda_3 + 1500 \\lambda_4$, i.e., **we want to minimize it**. \n",
    "\n",
    "Then, what are the new contraints?\n",
    "\n",
    "Based on \n",
    "\n",
    "$$12f + 9s \\le \\lambda_1(4f + 2s) + \\lambda_2 (f + s) + \\lambda_3 f + \\lambda_4 s$$\n",
    "\n",
    "we know \n",
    "\n",
    "$$0 \\le (4\\lambda_1 + \\lambda_2 + \\lambda_3 - 12)f + (2\\lambda_1 + \\lambda_2 + \\lambda_4 - 9)s$$"
   ]
  },
  {
   "cell_type": "markdown",
   "id": "ceb7f340",
   "metadata": {},
   "source": [
    "We also know that both $f$ and $s$ are larger than or equal to $0$, but we do not know which one ($f$ or $s$) is larger. Therefore, to make sure $0 \\le (4\\lambda_1 + \\lambda_2 + \\lambda_3 - 12)f + (2\\lambda_1 + \\lambda_2 + \\lambda_4 - 9)s$, we can ensure that \n",
    "\n",
    "$$4\\lambda_1 + \\lambda_2 + \\lambda_3 - 12 \\ge 0$$\n",
    "\n",
    "and \n",
    "\n",
    "$$2\\lambda_1 + \\lambda_2 + \\lambda_4 - 9 \\ge 0$$"
   ]
  },
  {
   "cell_type": "markdown",
   "id": "ea7308c8",
   "metadata": {},
   "source": [
    "Therefore, the original optimization problem is converted to:\n",
    "\n",
    "Minimize $4800\\lambda_1 + 1750 \\lambda_2 + 1000 \\lambda_3 + 1500 \\lambda_4$\n",
    "\n",
    "Subject to:\n",
    "   - $4\\lambda_1 + \\lambda_2 + \\lambda_3  \\ge 12$\n",
    "   - $2\\lambda_1 + \\lambda_2 + \\lambda_4  \\ge 9$\n",
    "   - $\\lambda_1$, $\\lambda_2$, $\\lambda_3$, $\\lambda_4 \\ge 0$\n",
    "   \n",
    "![](img/dual.png)\n",
    "   \n",
    "# Using matrix:\n",
    "\n",
    "## Primal problem\n",
    "\n",
    "$$\n",
    "\\begin{align*}\n",
    "\\underset{f,s}{\\text{maximize}}\\qquad& \\begin{bmatrix}\n",
    "    12 \\\\ 9\n",
    "  \\end{bmatrix}^{T} \\begin{bmatrix}\n",
    "    f \\\\ s\n",
    "  \\end{bmatrix}\\\\\n",
    "\\text{subject to:}\\qquad&  \\begin{bmatrix}\n",
    "    4 & 2 \\\\ 1 & 1 \\\\ 1 & 0 \\\\ 0 & 1\n",
    "  \\end{bmatrix} \\begin{bmatrix}\n",
    "    f \\\\ s\n",
    "  \\end{bmatrix} \\le \\begin{bmatrix}\n",
    "    4800 \\\\ 1750 \\\\ 1000 \\\\ 1500\n",
    "  \\end{bmatrix}\\\\ \n",
    "& f, s \\ge 0\n",
    "\\end{align*}\n",
    "$$\n",
    "\n",
    "## Dual problem\n",
    "\n",
    "$$\n",
    "\\begin{align*}\n",
    "\\underset{\\lambda_1, \\lambda_2, \\lambda_3, \\lambda_4}{\\text{minimize}}\\qquad& \\begin{bmatrix}\n",
    "    4800 \\\\ 1750 \\\\ 1000 \\\\ 1500\n",
    "  \\end{bmatrix}^{T} \\begin{bmatrix}\n",
    "    \\lambda_1 \\\\ \\lambda_2 \\\\ \\lambda_3 \\\\ \\lambda_4\n",
    "  \\end{bmatrix}\\\\\n",
    "\\text{subject to:}\\qquad&  \\begin{bmatrix}\n",
    "    4 & 1 & 1 & 0 \\\\ 2 & 1 & 0 & 1\n",
    "  \\end{bmatrix} \\begin{bmatrix}\n",
    "    \\lambda_1 \\\\ \\lambda_2 \\\\ \\lambda_3 \\\\ \\lambda_4\n",
    "  \\end{bmatrix} \\ge \\begin{bmatrix}\n",
    "    12 \\\\ 9\n",
    "  \\end{bmatrix}\\\\ \n",
    "& \\lambda_1, \\lambda_2, \\lambda_3, \\lambda_4 \\ge 0\n",
    "\\end{align*}\n",
    "$$\n",
    "\n",
    "## General form:\n",
    "\n",
    "![](img/dual-general.png)"
   ]
  },
  {
   "cell_type": "markdown",
   "id": "df70d484",
   "metadata": {},
   "source": [
    "## Implementation\n",
    "\n",
    "### Primal problem"
   ]
  },
  {
   "cell_type": "code",
   "execution_count": 50,
   "id": "bb32c1e4",
   "metadata": {},
   "outputs": [
    {
     "name": "stdout",
     "output_type": "stream",
     "text": [
      "Running HiGHS 1.4.2 [date: 1970-01-01, git hash: f797c1ab6]\n",
      "Copyright (c) 2022 ERGO-Code under MIT licence terms\n",
      "Presolving model\n",
      "2 rows, 2 cols, 4 nonzeros\n",
      "2 rows, 2 cols, 4 nonzeros\n",
      "Presolve : Reductions: rows 2(-0); columns 2(-0); elements 4(-0) - Not reduced\n",
      "Problem not reduced by presolve: solving the LP\n",
      "Using EKK dual simplex solver - serial\n",
      "  Iteration        Objective     Infeasibilities num(sum)\n",
      "          0     0.0000000000e+00 Ph1: 0(0) 0s\n",
      "          2     1.7700000000e+04 Pr: 0(0) 0s\n",
      "Model   status      : Optimal\n",
      "Simplex   iterations: 2\n",
      "Objective value     :  1.7700000000e+04\n",
      "HiGHS run time      :          0.00\n",
      "--------------------------------------------\n",
      "The total number of football trophies is 650\n",
      "The total number of soccer trophies is 1100\n",
      "The highest possible profit is $17700.0\n"
     ]
    }
   ],
   "source": [
    "using HiGHS, JuMP\n",
    "\n",
    "m = Model(HiGHS.Optimizer)\n",
    "\n",
    "@variable(m, 0<= f <= 1000)\n",
    "@variable(m, 0<= s <= 1500)\n",
    "@objective(m, Max, 12*f + 9*s)\n",
    "@constraint(m, 4*f + 2*s <= 4800) # board feet of wood\n",
    "@constraint(m, f + s <= 1750)\n",
    "\n",
    "optimize!(m)\n",
    "\n",
    "println(\"--------------------------------------------\")\n",
    "\n",
    "println(\"The total number of football trophies is \", Int(value(f)))\n",
    "println(\"The total number of soccer trophies is \", Int(value(s)))\n",
    "println(\"The highest possible profit is \\$\", objective_value(m))"
   ]
  },
  {
   "cell_type": "markdown",
   "id": "b53e91f0",
   "metadata": {},
   "source": [
    "### Dual problem"
   ]
  },
  {
   "cell_type": "code",
   "execution_count": 51,
   "id": "bb5f45d9",
   "metadata": {},
   "outputs": [
    {
     "name": "stdout",
     "output_type": "stream",
     "text": [
      "Running HiGHS 1.4.2 [date: 1970-01-01, git hash: f797c1ab6]\n",
      "Copyright (c) 2022 ERGO-Code under MIT licence terms\n",
      "Presolving model\n",
      "2 rows, 4 cols, 6 nonzeros\n",
      "2 rows, 4 cols, 6 nonzeros\n",
      "Presolve : Reductions: rows 2(-0); columns 4(-0); elements 6(-0) - Not reduced\n",
      "Problem not reduced by presolve: solving the LP\n",
      "Using EKK dual simplex solver - serial\n",
      "  Iteration        Objective     Infeasibilities num(sum)\n",
      "          0     0.0000000000e+00 Pr: 2(21) 0s\n",
      "          3     1.7700000000e+04 Pr: 0(0) 0s\n",
      "Model   status      : Optimal\n",
      "Simplex   iterations: 3\n",
      "Objective value     :  1.7700000000e+04\n",
      "HiGHS run time      :          0.00\n",
      "--------------------------------------------\n",
      "Obective $17700.0\n",
      "λ: [1.5, 6.0, 0.0, 0.0]\n"
     ]
    }
   ],
   "source": [
    "m = Model(HiGHS.Optimizer)\n",
    "vectorB = [4800, 1750, 1000, 1500]\n",
    "vectorA = [4 2 ; 1 1; 1 0; 0 1]\n",
    "vectorC = [12, 9]\n",
    "\n",
    "@variable(m, λ[1:4] >= 0)\n",
    "@objective(m, Min, vectorB'*λ)\n",
    "@constraint(m, vectorA'*λ .>= vectorC)\n",
    "optimize!(m)\n",
    "\n",
    "println(\"--------------------------------------------\")\n",
    "println(\"Obective \\$\", objective_value(m))\n",
    "println(\"λ: \", value.(λ))"
   ]
  },
  {
   "cell_type": "markdown",
   "id": "e7d075ec",
   "metadata": {},
   "source": [
    "# Sensitivity \n",
    "\n",
    "The dual has practical meanings. First, in our above example, the two problems have strong duality. That is to say, the maximum of $12f + 9s$ is equal to the minimum of $4800\\lambda_1 + 1750 \\lambda_2 + 1000 \\lambda_3 + 1500 \\lambda_4$.\n",
    "\n",
    "Both can be regarded as the total profits. Then, what $\\lambda_1$ mean here? Since the units is USD, and we have 4800 board feet of wood, $\\lambda_1$ here indicates the price that wood is worth. It is called **shadow price.**\n",
    "\n",
    "Through the results of the dual problem, we know $\\lambda_1 = 1.5$. That means that each board feet of wood is worth 1.5 USD.\n",
    "\n",
    "What if someone now is selling wood at 1 dollar per board feet. Is that a good offer? Of course! You see, if we buy 400 feet of wood at that price, which cose 400 Dollars. What will be the increase in the profits?\n",
    "\n",
    "Because the solution to the primal is the same as that to the dual, then we know the total profits are still \n",
    "\n",
    "$$4800\\lambda_1 + 1750 \\lambda_2 + 1000 \\lambda_3 + 1500 \\lambda_4$$\n",
    "\n",
    "But since we have 400 more feet of wood, the profits would be \n",
    "\n",
    "$(4800 + 400)\\lambda_1 + 1750 \\lambda_2 + 1000 \\lambda_3 + 1500 \\lambda_4$\n",
    "\n",
    "And because $\\lambda_1 = 1.5$, so the profits will go up by 600! It's a good deal, isn't it?"
   ]
  },
  {
   "cell_type": "markdown",
   "id": "adc9b1a9",
   "metadata": {},
   "source": [
    "# Complementary Slackness\n",
    "\n",
    "In the solution to the dual problem, we noticed that \n",
    "\n",
    "```\n",
    "λ: [1.5, 6.0, 0.0, 0.0]\n",
    "```\n",
    "\n",
    "We say that the contraints for wood and plague are becoming *tight* because $\\lambda_1$ and $\\lambda_2$ are non-zero. We say that the contraints for brass football and soccer ball have *slack*, because $\\lambda_3$ and $\\lambda_4$ are zero. "
   ]
  }
 ],
 "metadata": {
  "kernelspec": {
   "display_name": "Julia 1.7.1",
   "language": "julia",
   "name": "julia-1.7"
  },
  "language_info": {
   "file_extension": ".jl",
   "mimetype": "application/julia",
   "name": "julia",
   "version": "1.7.1"
  }
 },
 "nbformat": 4,
 "nbformat_minor": 5
}

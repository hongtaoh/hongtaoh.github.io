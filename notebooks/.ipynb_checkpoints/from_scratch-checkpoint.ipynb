{
 "cells": [
  {
   "cell_type": "code",
   "execution_count": 175,
   "id": "0df02681",
   "metadata": {},
   "outputs": [],
   "source": [
    "import pandas as pd\n",
    "import numpy as np\n",
    "import matplotlib.pyplot as plt\n",
    "# http://www.adeveloperdiary.com/data-science/deep-learning/neural-network-with-softmax-in-python/"
   ]
  },
  {
   "cell_type": "code",
   "execution_count": 176,
   "id": "6fb9fd6e",
   "metadata": {},
   "outputs": [],
   "source": [
    "def data_loader(file):\n",
    "    df = pd.read_csv(file)\n",
    "    x = (df.iloc[:, 1:]/255.0).to_numpy()\n",
    "    y = df.iloc[:, 0].to_numpy()\n",
    "    '''one hot encoding for y\n",
    "    y will be the dimension of (n, k) where n is the number of training instances\n",
    "    and k is the number of classes (0-9)\n",
    "    '''\n",
    "    y = pd.get_dummies(y).to_numpy()\n",
    "    return (x, y)"
   ]
  },
  {
   "cell_type": "code",
   "execution_count": 177,
   "id": "a4af0524",
   "metadata": {},
   "outputs": [],
   "source": [
    "# x train, y train\n",
    "x, y = data_loader('mnist_train.csv')"
   ]
  },
  {
   "cell_type": "code",
   "execution_count": 178,
   "id": "a0b1c57f",
   "metadata": {},
   "outputs": [],
   "source": [
    "x_test, y_test = data_loader('mnist_test.csv')"
   ]
  },
  {
   "cell_type": "code",
   "execution_count": 179,
   "id": "1495d8e0",
   "metadata": {},
   "outputs": [
    {
     "data": {
      "text/plain": [
       "((9999, 784), (9999, 10))"
      ]
     },
     "execution_count": 179,
     "metadata": {},
     "output_type": "execute_result"
    }
   ],
   "source": [
    "x_test.shape, y_test.shape"
   ]
  },
  {
   "cell_type": "code",
   "execution_count": 180,
   "id": "a7074a69",
   "metadata": {},
   "outputs": [
    {
     "data": {
      "text/plain": [
       "((59999, 784), (59999, 10))"
      ]
     },
     "execution_count": 180,
     "metadata": {},
     "output_type": "execute_result"
    }
   ],
   "source": [
    "x.shape, y.shape"
   ]
  },
  {
   "cell_type": "code",
   "execution_count": 181,
   "id": "a8a38fe0",
   "metadata": {},
   "outputs": [
    {
     "data": {
      "text/plain": [
       "array([0, 4, 1, ..., 5, 6, 8])"
      ]
     },
     "execution_count": 181,
     "metadata": {},
     "output_type": "execute_result"
    }
   ],
   "source": [
    "true_labels = np.where(y == 1)[1]\n",
    "true_labels"
   ]
  },
  {
   "cell_type": "code",
   "execution_count": 182,
   "id": "c9cc4bec",
   "metadata": {},
   "outputs": [
    {
     "data": {
      "text/plain": [
       "59999"
      ]
     },
     "execution_count": 182,
     "metadata": {},
     "output_type": "execute_result"
    }
   ],
   "source": [
    "sum(np.argmax(y, axis=1)  == true_labels)"
   ]
  },
  {
   "cell_type": "code",
   "execution_count": 183,
   "id": "eca13f35",
   "metadata": {},
   "outputs": [],
   "source": [
    "# derivative of sigmoid function\n",
    "# https://medium.com/@DannyDenenberg/derivative-of-the-sigmoid-function-774446dfa462\n",
    "\n",
    "## How sigmoid and softmax were derived:\n",
    "# https://towardsdatascience.com/sigmoid-and-softmax-functions-in-5-minutes-f516c80ea1f9\n",
    "\n",
    "## softmax and cross entropy derivative\n",
    "# https://eli.thegreenplace.net/2016/the-softmax-function-and-its-derivative/\n",
    "\n",
    "## number of units in the hidden layer\n",
    "h = 28\n",
    "\n",
    "# number of units in the input layer, i.e., 784\n",
    "m = x.shape[1]\n",
    "\n",
    "# number of classes, i.e., 10 (0-9)\n",
    "k = y.shape[1]\n",
    "\n",
    "def sigmoid(x):\n",
    "    return 1 / (1 + np.exp(-x + 10e-10))\n",
    "\n",
    "def sigmoid_derivative(o):\n",
    "    return sigmoid(o) * (1 - sigmoid(o))\n",
    "\n",
    "def softmax(x):\n",
    "    expz = np.exp(x - x.max())\n",
    "    return expz / np.sum(expz, axis = 0)"
   ]
  },
  {
   "cell_type": "code",
   "execution_count": 184,
   "id": "e95bc1d7",
   "metadata": {},
   "outputs": [
    {
     "data": {
      "text/plain": [
       "59999"
      ]
     },
     "execution_count": 184,
     "metadata": {},
     "output_type": "execute_result"
    }
   ],
   "source": [
    "len(y)"
   ]
  },
  {
   "cell_type": "code",
   "execution_count": 185,
   "id": "516fd410",
   "metadata": {},
   "outputs": [
    {
     "data": {
      "text/plain": [
       "(1, 784)"
      ]
     },
     "execution_count": 185,
     "metadata": {},
     "output_type": "execute_result"
    }
   ],
   "source": [
    "x[0, :].reshape(1, -1).shape"
   ]
  },
  {
   "cell_type": "code",
   "execution_count": 186,
   "id": "2fd762b5",
   "metadata": {},
   "outputs": [
    {
     "data": {
      "text/plain": [
       "(10, 1)"
      ]
     },
     "execution_count": 186,
     "metadata": {},
     "output_type": "execute_result"
    }
   ],
   "source": [
    "y[0, :].reshape(-1, 1).shape"
   ]
  },
  {
   "cell_type": "code",
   "execution_count": 187,
   "id": "3fb5dded",
   "metadata": {},
   "outputs": [
    {
     "data": {
      "text/plain": [
       "(30, 784)"
      ]
     },
     "execution_count": 187,
     "metadata": {},
     "output_type": "execute_result"
    }
   ],
   "source": [
    "x[0:30, :].shape"
   ]
  },
  {
   "cell_type": "code",
   "execution_count": 188,
   "id": "5f6e466f",
   "metadata": {},
   "outputs": [
    {
     "data": {
      "text/plain": [
       "(20, 10)"
      ]
     },
     "execution_count": 188,
     "metadata": {},
     "output_type": "execute_result"
    }
   ],
   "source": [
    "y[0:20, :].shape"
   ]
  },
  {
   "cell_type": "code",
   "execution_count": 189,
   "id": "c5714715",
   "metadata": {},
   "outputs": [
    {
     "data": {
      "text/plain": [
       "array([0.05, 0.2 , 0.1 , 0.15, 0.15, 0.05, 0.1 , 0.05, 0.05, 0.1 ])"
      ]
     },
     "execution_count": 189,
     "metadata": {},
     "output_type": "execute_result"
    }
   ],
   "source": [
    "np.mean(y[0:20, :], axis = 0)"
   ]
  },
  {
   "cell_type": "code",
   "execution_count": 190,
   "id": "78902f8f",
   "metadata": {},
   "outputs": [
    {
     "data": {
      "text/plain": [
       "(10, 1)"
      ]
     },
     "execution_count": 190,
     "metadata": {},
     "output_type": "execute_result"
    }
   ],
   "source": [
    "np.mean(y[0:20, :], axis = 0).reshape(-1, 1).shape"
   ]
  },
  {
   "cell_type": "markdown",
   "id": "f3737419",
   "metadata": {},
   "source": [
    "`*` is element wise multiplication. `@` is matrix multiplication. "
   ]
  },
  {
   "cell_type": "code",
   "execution_count": 191,
   "id": "ad3b3f01",
   "metadata": {},
   "outputs": [],
   "source": [
    "# def nnet(train_x, train_y, alpha, num_epochs, num_train, batch_size, true_labels):\n",
    "#     # initiate parameters\n",
    "#     # w1: h * 784\n",
    "#     w1 = np.random.uniform(low=-1, high = 1, size = (h, m))\n",
    "#     # w2: k * h\n",
    "#     w2 = np.random.uniform(low=-1, high = 1, size = (k, h))\n",
    "#     # b1: h * 1\n",
    "#     b1 = np.random.uniform(low=-1, high = 1, size = (h, 1))\n",
    "#     # b2: k * 1\n",
    "#     b2 = np.random.uniform(low=-1, high = 1, size = (k, 1))\n",
    "    \n",
    "#     # set a large number as the initial cost to be compared with in the 1st iteration\n",
    "#     loss_previous = 10e10\n",
    "    \n",
    "#     for epoch in range(1, num_epochs + 1):\n",
    "#         # shuffle the dataset\n",
    "#         train_index = np.arange(num_train)\n",
    "#         np.random.shuffle(train_index)\n",
    "\n",
    "#         # https://stackoverflow.com/a/48702959\n",
    "#         for index in range(0, len(train_x), batch_size):\n",
    "#             batch_x =train_x[index:min(index+batch_size,len(train_x)),:]\n",
    "#             batch_y =train_y[index:min(index+batch_size,len(train_y)),:]\n",
    "            \n",
    "#             z1 = batch_x @ w1.T + b1.T\n",
    "#             # a1 will be of the dimensionn of N * h\n",
    "#             a1 = sigmoid(z1)\n",
    "            \n",
    "# #             print(a1.shape)\n",
    "            \n",
    "#             z2 = a1 @ w2.T + b2.T\n",
    "#             # a2 will be of the dimension of N * k\n",
    "#             a2 = softmax(z2)\n",
    "            \n",
    "# #             print(a2.shape)\n",
    "            \n",
    "#             # N * k\n",
    "#             dcdb2 = a2 - batch_y\n",
    "            \n",
    "#             # k * h\n",
    "#             dcdw2 = dcdb2.T @ a1\n",
    "            \n",
    "#             # N * h\n",
    "#             dcdb1 = ((a2 - batch_y) @ w2) *  a1 * (1-a1)\n",
    "            \n",
    "# #             print(dcdb1.T.shape)\n",
    "# #             print(train_x[i, :].shape)\n",
    "            \n",
    "#             # h * m\n",
    "#             dcdw1 = dcdb1.T @ batch_x\n",
    "                     \n",
    "#             # update w1, b1, w2, b2\n",
    "#             w1 = w1 - alpha*dcdw1\n",
    "#             b1 = b1 - alpha*np.mean(dcdb1, axis = 0).reshape(-1, 1)\n",
    "#             w2 = w2- alpha*dcdw2\n",
    "#             b2 = b2 - alpha*np.mean(dcdb2, axis = 0).reshape(-1, 1)\n",
    "                     \n",
    "#         # the output of the hidden layer will be a num_train * h matrix\n",
    "#         out_h = sigmoid(train_x @ w1.T + b1.T)\n",
    "#         # the output of the output layer will be a num_train * k matrix\n",
    "#         out_o = softmax(out_h @ w2.T + b2.T)\n",
    "                     \n",
    "#         predicted_labels = np.argmax(out_o, axis=1)\n",
    "        \n",
    "#         loss = -np.sum(y * np.log(out_o + 10e-10))\n",
    "#         loss_reduction = loss_previous - loss\n",
    "#         loss_previous = loss\n",
    "#         correct = sum(true_labels == predicted_labels)\n",
    "#         accuracy = (correct / num_train)\n",
    "#         print('epoch = ', epoch, ' loss = {:.7}'.format(loss), \\\n",
    "#               ' loss reduction = {:.7}'.format(loss_reduction), \\\n",
    "#               ' correctly classified = {:.4%}'.format(accuracy))\n",
    "        \n",
    "#     return w1, b1, w2, b2"
   ]
  },
  {
   "cell_type": "code",
   "execution_count": 192,
   "id": "771ce22a",
   "metadata": {},
   "outputs": [],
   "source": [
    "def nnet(train_x, train_y, alpha, num_epochs, num_train, true_labels):\n",
    "    # initiate parameters\n",
    "    # w1: h * 784\n",
    "    w1 = np.random.uniform(low=-1, high = 1, size = (h, m))\n",
    "    # w2: 10 * h\n",
    "    w2 = np.random.uniform(low=-1, high = 1, size = (k, h))\n",
    "    # b1: h * 1\n",
    "    b1 = np.random.uniform(low=-1, high = 1, size = (h, 1))\n",
    "    # b2: 10 * 1\n",
    "    b2 = np.random.uniform(low=-1, high = 1, size = (k, 1))\n",
    "    \n",
    "    # set a large number as the initial cost to be compared with in the 1st iteration\n",
    "    loss_previous = 10e10\n",
    "    \n",
    "    for epoch in range(1, num_epochs + 1):\n",
    "        # shuffle the dataset\n",
    "        train_index = np.arange(num_train)\n",
    "        np.random.shuffle(train_index)\n",
    "        \n",
    "        for i in train_index:\n",
    "            # z1 will be of the dimensionn of h * 1\n",
    "            z1 = w1 @ train_x[i, :].reshape(-1, 1) + b1\n",
    "            \n",
    "            # a1 will be of the dimensionn of h * 1\n",
    "            a1 = sigmoid(z1)\n",
    "            \n",
    "            # z2 will be of the dimension of 10 * 1\n",
    "            z2 = w2 @ a1 + b2\n",
    "            \n",
    "            # a2 will be of the dimension of 10 * 1\n",
    "            a2 = softmax(z2)\n",
    "            \n",
    "            # 10 * 1\n",
    "            dcdb2 = a2 - train_y[i, :].reshape(-1, 1)\n",
    "            \n",
    "            # 10 * h\n",
    "            dcdw2 = dcdb2 @ a1.T\n",
    "            \n",
    "            # h * 1 \n",
    "            dcdb1 = (w2.T @ (a2 - train_y[i, :].reshape(-1, 1))) *  a1 * (1-a1)\n",
    "            \n",
    "            # h * 784 \n",
    "            dcdw1 = dcdb1 @ (train_x[i, :].reshape(-1, 1)).T\n",
    "                     \n",
    "            # update w1, b1, w2, b2\n",
    "            w1 = w1 - alpha*dcdw1\n",
    "            b1 = b1 - alpha*dcdb1\n",
    "            w2 = w2- alpha*dcdw2\n",
    "            b2 = b2 - alpha*dcdb2\n",
    "                     \n",
    "        # the output of the hidden layer will be a num_train * h matrix\n",
    "        out_h = sigmoid(train_x @ w1.T + b1.T)\n",
    "        # the output of the output layer will be a num_train * k matrix\n",
    "        out_o = softmax(out_h @ w2.T + b2.T)\n",
    "                     \n",
    "        predicted_labels = np.argmax(out_o, axis=1)\n",
    "        \n",
    "        loss = -np.sum(y * np.log(out_o + 10e-10))\n",
    "        loss_reduction = loss_previous - loss\n",
    "        loss_previous = loss\n",
    "        correct = sum(true_labels == predicted_labels)\n",
    "        accuracy = (correct / num_train)\n",
    "        print('epoch = ', epoch, ' loss = {:.7}'.format(loss), \\\n",
    "              ' loss reduction = {:.7}'.format(loss_reduction), \\\n",
    "              ' correctly classified = {:.4%}'.format(accuracy))\n",
    "        \n",
    "    return w1, b1, w2, b2"
   ]
  },
  {
   "cell_type": "code",
   "execution_count": 193,
   "id": "3d3e4423",
   "metadata": {},
   "outputs": [],
   "source": [
    "alpha = .5\n",
    "num_epochs = 5\n",
    "# batch_size = 32\n",
    "num_train = len(y)"
   ]
  },
  {
   "cell_type": "code",
   "execution_count": 194,
   "id": "b93682b4",
   "metadata": {},
   "outputs": [
    {
     "name": "stdout",
     "output_type": "stream",
     "text": [
      "epoch =  1  loss = 688574.6  loss reduction = 9.999931e+10  correctly classified = 73.0012%\n",
      "epoch =  2  loss = 691671.8  loss reduction = -3097.243  correctly classified = 70.8262%\n",
      "epoch =  3  loss = 696048.3  loss reduction = -4376.461  correctly classified = 68.6878%\n",
      "epoch =  4  loss = 715785.6  loss reduction = -19737.33  correctly classified = 74.3546%\n",
      "epoch =  5  loss = 711111.5  loss reduction = 4674.141  correctly classified = 72.6712%\n"
     ]
    }
   ],
   "source": [
    "w1, b1, w2, b2 = nnet(x, y, alpha, num_epochs, num_train, true_labels)"
   ]
  },
  {
   "cell_type": "code",
   "execution_count": 195,
   "id": "bebed9be",
   "metadata": {},
   "outputs": [],
   "source": [
    "def compute_accuracy(x_test, y_test, w1, b1, w2, b2):\n",
    "    # the output of the hidden layer will be a num_train * h matrix\n",
    "    out_h = sigmoid(x_test @ w1.T + b1.T)\n",
    "    # the output of the output layer will be a num_train * k matrix\n",
    "    out_o = softmax(out_h @ w2.T + b2.T)\n",
    "\n",
    "    true_labels = np.where(y_test == 1)[1]\n",
    "    predicted_labels = np.argmax(out_o, axis=1)\n",
    "    correct = sum(true_labels == predicted_labels)\n",
    "    accuracy = (correct / len(x_test))\n",
    "    return accuracy"
   ]
  },
  {
   "cell_type": "code",
   "execution_count": 196,
   "id": "1ca71a98",
   "metadata": {},
   "outputs": [
    {
     "data": {
      "text/plain": [
       "0.7317731773177317"
      ]
     },
     "execution_count": 196,
     "metadata": {},
     "output_type": "execute_result"
    }
   ],
   "source": [
    "# accuracy when alpha = 0.5, num_epochs = 5\n",
    "acc01 = compute_accuracy(x_test, y_test, w1, b1, w2, b2)\n",
    "acc01"
   ]
  },
  {
   "cell_type": "code",
   "execution_count": 197,
   "id": "ac2617d1",
   "metadata": {},
   "outputs": [
    {
     "data": {
      "text/plain": [
       "0.2682268226822683"
      ]
     },
     "execution_count": 197,
     "metadata": {},
     "output_type": "execute_result"
    }
   ],
   "source": [
    "1 - acc01"
   ]
  },
  {
   "cell_type": "markdown",
   "id": "d577890a",
   "metadata": {},
   "source": [
    "## Round 2"
   ]
  },
  {
   "cell_type": "code",
   "execution_count": 198,
   "id": "17bf8e35",
   "metadata": {},
   "outputs": [],
   "source": [
    "alpha = .3\n",
    "num_epochs = 10"
   ]
  },
  {
   "cell_type": "code",
   "execution_count": 199,
   "id": "615ea063",
   "metadata": {},
   "outputs": [
    {
     "name": "stdout",
     "output_type": "stream",
     "text": [
      "epoch =  1  loss = 641309.4  loss reduction = 9.999936e+10  correctly classified = 84.9847%\n",
      "epoch =  2  loss = 686734.1  loss reduction = -45424.72  correctly classified = 80.6680%\n",
      "epoch =  3  loss = 670585.7  loss reduction = 16148.39  correctly classified = 77.5096%\n",
      "epoch =  4  loss = 660587.2  loss reduction = 9998.515  correctly classified = 83.9014%\n",
      "epoch =  5  loss = 663142.2  loss reduction = -2555.025  correctly classified = 86.9714%\n",
      "epoch =  6  loss = 680786.6  loss reduction = -17644.39  correctly classified = 81.0947%\n",
      "epoch =  7  loss = 685813.0  loss reduction = -5026.384  correctly classified = 83.3781%\n",
      "epoch =  8  loss = 680576.0  loss reduction = 5236.961  correctly classified = 85.7464%\n",
      "epoch =  9  loss = 672710.2  loss reduction = 7865.797  correctly classified = 86.2031%\n",
      "epoch =  10  loss = 700287.0  loss reduction = -27576.74  correctly classified = 78.0146%\n"
     ]
    }
   ],
   "source": [
    "w1, b1, w2, b2 = nnet(x, y, alpha, num_epochs, num_train, true_labels)"
   ]
  },
  {
   "cell_type": "code",
   "execution_count": 200,
   "id": "8d65e4b8",
   "metadata": {},
   "outputs": [
    {
     "data": {
      "text/plain": [
       "0.7765776577657766"
      ]
     },
     "execution_count": 200,
     "metadata": {},
     "output_type": "execute_result"
    }
   ],
   "source": [
    "# accuracy when alpha = 0.3, num_epochs = 10\n",
    "acc02 = compute_accuracy(x_test, y_test, w1, b1, w2, b2)\n",
    "acc02"
   ]
  },
  {
   "cell_type": "code",
   "execution_count": 201,
   "id": "3073609d",
   "metadata": {},
   "outputs": [
    {
     "data": {
      "text/plain": [
       "0.22342234223422341"
      ]
     },
     "execution_count": 201,
     "metadata": {},
     "output_type": "execute_result"
    }
   ],
   "source": [
    "1 - acc02"
   ]
  },
  {
   "cell_type": "markdown",
   "id": "ada4b9f8",
   "metadata": {},
   "source": [
    "## Round 3"
   ]
  },
  {
   "cell_type": "code",
   "execution_count": 202,
   "id": "77c2ce18",
   "metadata": {},
   "outputs": [],
   "source": [
    "alpha = .1\n",
    "num_epochs = 20"
   ]
  },
  {
   "cell_type": "code",
   "execution_count": 203,
   "id": "6921be0c",
   "metadata": {},
   "outputs": [
    {
     "name": "stdout",
     "output_type": "stream",
     "text": [
      "epoch =  1  loss = 614265.2  loss reduction = 9.999939e+10  correctly classified = 90.2932%\n",
      "epoch =  2  loss = 623161.1  loss reduction = -8895.854  correctly classified = 91.1732%\n",
      "epoch =  3  loss = 645744.5  loss reduction = -22583.48  correctly classified = 89.4482%\n",
      "epoch =  4  loss = 650997.8  loss reduction = -5253.284  correctly classified = 90.9765%\n",
      "epoch =  5  loss = 657714.5  loss reduction = -6716.704  correctly classified = 90.9665%\n",
      "epoch =  6  loss = 663668.8  loss reduction = -5954.312  correctly classified = 91.4215%\n",
      "epoch =  7  loss = 666588.2  loss reduction = -2919.38  correctly classified = 91.9599%\n",
      "epoch =  8  loss = 669431.0  loss reduction = -2842.817  correctly classified = 91.9815%\n",
      "epoch =  9  loss = 684651.9  loss reduction = -15220.83  correctly classified = 91.6282%\n",
      "epoch =  10  loss = 690363.0  loss reduction = -5711.182  correctly classified = 91.0682%\n",
      "epoch =  11  loss = 685009.8  loss reduction = 5353.28  correctly classified = 90.8065%\n",
      "epoch =  12  loss = 687552.2  loss reduction = -2542.457  correctly classified = 92.3432%\n",
      "epoch =  13  loss = 698868.5  loss reduction = -11316.24  correctly classified = 90.6082%\n",
      "epoch =  14  loss = 704411.9  loss reduction = -5543.474  correctly classified = 91.0715%\n",
      "epoch =  15  loss = 701649.1  loss reduction = 2762.801  correctly classified = 91.4465%\n",
      "epoch =  16  loss = 717919.4  loss reduction = -16270.27  correctly classified = 91.0549%\n",
      "epoch =  17  loss = 713912.0  loss reduction = 4007.402  correctly classified = 88.6115%\n",
      "epoch =  18  loss = 716915.8  loss reduction = -3003.777  correctly classified = 89.7132%\n",
      "epoch =  19  loss = 717934.1  loss reduction = -1018.318  correctly classified = 91.7015%\n",
      "epoch =  20  loss = 731659.8  loss reduction = -13725.71  correctly classified = 91.4615%\n"
     ]
    }
   ],
   "source": [
    "w1, b1, w2, b2 = nnet(x, y, alpha, num_epochs, num_train, true_labels)"
   ]
  },
  {
   "cell_type": "code",
   "execution_count": 204,
   "id": "098678f6",
   "metadata": {},
   "outputs": [
    {
     "data": {
      "text/plain": [
       "0.8987898789878987"
      ]
     },
     "execution_count": 204,
     "metadata": {},
     "output_type": "execute_result"
    }
   ],
   "source": [
    "# accuracy when alpha = 0.1, num_epochs = 20\n",
    "acc03 = compute_accuracy(x_test, y_test, w1, b1, w2, b2)\n",
    "acc03"
   ]
  },
  {
   "cell_type": "code",
   "execution_count": 205,
   "id": "f91fcb83",
   "metadata": {},
   "outputs": [
    {
     "data": {
      "text/plain": [
       "0.10121012101210125"
      ]
     },
     "execution_count": 205,
     "metadata": {},
     "output_type": "execute_result"
    }
   ],
   "source": [
    "1 - acc03"
   ]
  },
  {
   "cell_type": "code",
   "execution_count": 218,
   "id": "6ef8be16",
   "metadata": {},
   "outputs": [
    {
     "data": {
      "image/png": "[encoded data removed]",
      "text/plain": [
       "<Figure size 432x288 with 1 Axes>"
      ]
     },
     "metadata": {
      "needs_background": "light"
     },
     "output_type": "display_data"
    }
   ],
   "source": [
    "plt.scatter([5, 10, 20], [acc01, acc02, acc03])\n",
    "plt.ylim(0, 1)\n",
    "plt.xlabel('Number of iterations')\n",
    "plt.ylabel('Accuracy')\n",
    "plt.title('Learning Curve')\n",
    "plt.savefig('lc01.png')"
   ]
  },
  {
   "cell_type": "markdown",
   "id": "f77f128a",
   "metadata": {},
   "source": [
    "## Using all zeros"
   ]
  },
  {
   "cell_type": "code",
   "execution_count": 210,
   "id": "c01567bd",
   "metadata": {},
   "outputs": [],
   "source": [
    "def nnet(train_x, train_y, alpha, num_epochs, num_train, true_labels):\n",
    "    # initiate parameters\n",
    "    # w1: h * 784\n",
    "    w1 = np.zeros((h, m))\n",
    "    # w2: 10 * h\n",
    "    w2 = np.zeros((k, h))\n",
    "    # b1: h * 1\n",
    "    b1 = np.zeros((h, 1))\n",
    "    # b2: 10 * 1\n",
    "    b2 = np.zeros((k, 1))\n",
    "    \n",
    "    # set a large number as the initial cost to be compared with in the 1st iteration\n",
    "    loss_previous = 10e10\n",
    "    \n",
    "    for epoch in range(1, num_epochs + 1):\n",
    "        # shuffle the dataset\n",
    "        train_index = np.arange(num_train)\n",
    "        np.random.shuffle(train_index)\n",
    "        \n",
    "        for i in train_index:\n",
    "            z1 = w1 @ train_x[i, :].reshape(-1, 1) + b1\n",
    "            # a1 will be of the dimensionn of h * 1\n",
    "            a1 = sigmoid(z1)\n",
    "            \n",
    "            z2 = w2 @ a1 + b2\n",
    "            # a2 will be of the dimension of 10 * 1\n",
    "            a2 = softmax(z2)\n",
    "            \n",
    "            # 10 * 1\n",
    "            dcdb2 = a2 - train_y[i, :].reshape(-1, 1)\n",
    "            \n",
    "            # 10 * h\n",
    "            dcdw2 = dcdb2 @ a1.T\n",
    "            \n",
    "            # h * 1 \n",
    "            dcdb1 = (w2.T @ (a2 - train_y[i, :].reshape(-1, 1))) *  a1 * (1-a1)\n",
    "            \n",
    "            # h * 784 \n",
    "            dcdw1 = dcdb1 @ (train_x[i, :].reshape(-1, 1)).T\n",
    "                     \n",
    "            # update w1, b1, w2, b2\n",
    "            w1 = w1 - alpha*dcdw1\n",
    "            b1 = b1 - alpha*dcdb1\n",
    "            w2 = w2- alpha*dcdw2\n",
    "            b2 = b2 - alpha*dcdb2\n",
    "                     \n",
    "        # the output of the hidden layer will be a num_train * h matrix\n",
    "        out_h = sigmoid(train_x @ w1.T + b1.T)\n",
    "        # the output of the output layer will be a num_train * k matrix\n",
    "        out_o = softmax(out_h @ w2.T + b2.T)\n",
    "                     \n",
    "        predicted_labels = np.argmax(out_o, axis=1)\n",
    "        \n",
    "        loss = -np.sum(y * np.log(out_o + 10e-10))\n",
    "        loss_reduction = loss_previous - loss\n",
    "        loss_previous = loss\n",
    "        correct = sum(true_labels == predicted_labels)\n",
    "        accuracy = (correct / num_train)\n",
    "        print('epoch = ', epoch, ' loss = {:.7}'.format(loss), \\\n",
    "              ' loss reduction = {:.7}'.format(loss_reduction), \\\n",
    "              ' correctly classified = {:.4%}'.format(accuracy))\n",
    "        \n",
    "    return w1, b1, w2, b2"
   ]
  },
  {
   "cell_type": "markdown",
   "id": "afe6f7a2",
   "metadata": {},
   "source": [
    "### Round 1"
   ]
  },
  {
   "cell_type": "code",
   "execution_count": 167,
   "id": "3cdd0bfa",
   "metadata": {},
   "outputs": [],
   "source": [
    "alpha = .5\n",
    "num_epochs = 5"
   ]
  },
  {
   "cell_type": "code",
   "execution_count": 168,
   "id": "0e2ba29d",
   "metadata": {},
   "outputs": [
    {
     "name": "stdout",
     "output_type": "stream",
     "text": [
      "epoch =  1  loss = 794830.4  loss reduction = 9.999921e+10  correctly classified = 13.5636%\n",
      "epoch =  2  loss = 805828.1  loss reduction = -10997.67  correctly classified = 12.4319%\n",
      "epoch =  3  loss = 830751.7  loss reduction = -24923.59  correctly classified = 15.8186%\n",
      "epoch =  4  loss = 867434.7  loss reduction = -36683.02  correctly classified = 15.9953%\n",
      "epoch =  5  loss = 839142.2  loss reduction = 28292.47  correctly classified = 14.7269%\n"
     ]
    }
   ],
   "source": [
    "w1, b1, w2, b2 = nnet(x, y, alpha, num_epochs, num_train, true_labels)"
   ]
  },
  {
   "cell_type": "code",
   "execution_count": 169,
   "id": "52d96e66",
   "metadata": {},
   "outputs": [
    {
     "data": {
      "text/plain": [
       "0.15011501150115011"
      ]
     },
     "execution_count": 169,
     "metadata": {},
     "output_type": "execute_result"
    }
   ],
   "source": [
    "# accuracy when alpha = 0.5, num_epochs = 5\n",
    "acc011 = compute_accuracy(x_test, y_test, w1, b1, w2, b2)\n",
    "acc011"
   ]
  },
  {
   "cell_type": "code",
   "execution_count": 214,
   "id": "88656a17",
   "metadata": {},
   "outputs": [
    {
     "data": {
      "text/plain": [
       "0.8498849884988499"
      ]
     },
     "execution_count": 214,
     "metadata": {},
     "output_type": "execute_result"
    }
   ],
   "source": [
    "1 - acc011"
   ]
  },
  {
   "cell_type": "markdown",
   "id": "29bc97f6",
   "metadata": {},
   "source": [
    "### Round 2"
   ]
  },
  {
   "cell_type": "code",
   "execution_count": 170,
   "id": "280b6058",
   "metadata": {},
   "outputs": [],
   "source": [
    "alpha = .3\n",
    "num_epochs = 10"
   ]
  },
  {
   "cell_type": "code",
   "execution_count": 171,
   "id": "8d151b01",
   "metadata": {},
   "outputs": [
    {
     "name": "stdout",
     "output_type": "stream",
     "text": [
      "epoch =  1  loss = 911809.0  loss reduction = 9.999909e+10  correctly classified = 13.2586%\n",
      "epoch =  2  loss = 964698.2  loss reduction = -52889.2  correctly classified = 12.4552%\n",
      "epoch =  3  loss = 987338.2  loss reduction = -22640.0  correctly classified = 10.1035%\n",
      "epoch =  4  loss = 1.007491e+06  loss reduction = -20152.55  correctly classified = 10.3285%\n",
      "epoch =  5  loss = 983613.9  loss reduction = 23876.81  correctly classified = 11.5485%\n",
      "epoch =  6  loss = 999315.4  loss reduction = -15701.49  correctly classified = 9.9802%\n",
      "epoch =  7  loss = 940512.2  loss reduction = 58803.18  correctly classified = 11.2919%\n",
      "epoch =  8  loss = 908557.9  loss reduction = 31954.37  correctly classified = 13.6002%\n",
      "epoch =  9  loss = 912310.4  loss reduction = -3752.515  correctly classified = 12.7935%\n",
      "epoch =  10  loss = 914383.1  loss reduction = -2072.708  correctly classified = 12.6552%\n"
     ]
    }
   ],
   "source": [
    "w1, b1, w2, b2 = nnet(x, y, alpha, num_epochs, num_train, true_labels)"
   ]
  },
  {
   "cell_type": "code",
   "execution_count": 172,
   "id": "449707bc",
   "metadata": {},
   "outputs": [
    {
     "data": {
      "text/plain": [
       "0.12841284128412842"
      ]
     },
     "execution_count": 172,
     "metadata": {},
     "output_type": "execute_result"
    }
   ],
   "source": [
    "# accuracy when alpha = 0.3, num_epochs = 10\n",
    "acc022 = compute_accuracy(x_test, y_test, w1, b1, w2, b2)\n",
    "acc022"
   ]
  },
  {
   "cell_type": "code",
   "execution_count": 215,
   "id": "afe2b16d",
   "metadata": {},
   "outputs": [
    {
     "data": {
      "text/plain": [
       "0.8715871587158716"
      ]
     },
     "execution_count": 215,
     "metadata": {},
     "output_type": "execute_result"
    }
   ],
   "source": [
    "1 - acc022"
   ]
  },
  {
   "cell_type": "markdown",
   "id": "c361421d",
   "metadata": {},
   "source": [
    "### Round 3"
   ]
  },
  {
   "cell_type": "code",
   "execution_count": 211,
   "id": "26c3d333",
   "metadata": {},
   "outputs": [],
   "source": [
    "alpha = .1\n",
    "num_epochs = 20"
   ]
  },
  {
   "cell_type": "code",
   "execution_count": 212,
   "id": "d987e0ff",
   "metadata": {},
   "outputs": [
    {
     "name": "stdout",
     "output_type": "stream",
     "text": [
      "epoch =  1  loss = 829027.0  loss reduction = 9.999917e+10  correctly classified = 13.8636%\n",
      "epoch =  2  loss = 913736.3  loss reduction = -84709.33  correctly classified = 12.2019%\n",
      "epoch =  3  loss = 932422.7  loss reduction = -18686.42  correctly classified = 12.2302%\n",
      "epoch =  4  loss = 967144.9  loss reduction = -34722.18  correctly classified = 12.6619%\n",
      "epoch =  5  loss = 989439.5  loss reduction = -22294.57  correctly classified = 13.1452%\n",
      "epoch =  6  loss = 997981.4  loss reduction = -8541.925  correctly classified = 12.4552%\n",
      "epoch =  7  loss = 997861.9  loss reduction = 119.4672  correctly classified = 13.7552%\n",
      "epoch =  8  loss = 1.008604e+06  loss reduction = -10742.01  correctly classified = 13.1002%\n",
      "epoch =  9  loss = 1.003792e+06  loss reduction = 4812.392  correctly classified = 14.0569%\n",
      "epoch =  10  loss = 1.020578e+06  loss reduction = -16786.8  correctly classified = 13.8469%\n",
      "epoch =  11  loss = 1.023858e+06  loss reduction = -3279.963  correctly classified = 13.6786%\n",
      "epoch =  12  loss = 1.026934e+06  loss reduction = -3075.944  correctly classified = 12.6469%\n",
      "epoch =  13  loss = 1.017064e+06  loss reduction = 9870.686  correctly classified = 15.1503%\n",
      "epoch =  14  loss = 1.045098e+06  loss reduction = -28034.75  correctly classified = 13.5102%\n",
      "epoch =  15  loss = 1.033583e+06  loss reduction = 11515.76  correctly classified = 12.7219%\n",
      "epoch =  16  loss = 1.038164e+06  loss reduction = -4581.01  correctly classified = 13.5486%\n",
      "epoch =  17  loss = 1.042809e+06  loss reduction = -4645.097  correctly classified = 12.5269%\n",
      "epoch =  18  loss = 1.042473e+06  loss reduction = 336.0035  correctly classified = 12.2552%\n",
      "epoch =  19  loss = 1.037464e+06  loss reduction = 5008.563  correctly classified = 14.0069%\n",
      "epoch =  20  loss = 1.046982e+06  loss reduction = -9517.933  correctly classified = 14.0286%\n"
     ]
    }
   ],
   "source": [
    "w1, b1, w2, b2 = nnet(x, y, alpha, num_epochs, num_train, true_labels)"
   ]
  },
  {
   "cell_type": "code",
   "execution_count": 213,
   "id": "4e029e67",
   "metadata": {},
   "outputs": [
    {
     "data": {
      "text/plain": [
       "0.1407140714071407"
      ]
     },
     "execution_count": 213,
     "metadata": {},
     "output_type": "execute_result"
    }
   ],
   "source": [
    "# accuracy when alpha = 0.1, num_epochs = 20\n",
    "acc033 = compute_accuracy(x_test, y_test, w1, b1, w2, b2)\n",
    "acc033"
   ]
  },
  {
   "cell_type": "code",
   "execution_count": 216,
   "id": "4f8769b4",
   "metadata": {},
   "outputs": [
    {
     "data": {
      "text/plain": [
       "0.8592859285928593"
      ]
     },
     "execution_count": 216,
     "metadata": {},
     "output_type": "execute_result"
    }
   ],
   "source": [
    "1 - acc033"
   ]
  },
  {
   "cell_type": "code",
   "execution_count": 219,
   "id": "9395b864",
   "metadata": {},
   "outputs": [
    {
     "data": {
      "image/png": "[encoded data removed]",
      "text/plain": [
       "<Figure size 432x288 with 1 Axes>"
      ]
     },
     "metadata": {
      "needs_background": "light"
     },
     "output_type": "display_data"
    }
   ],
   "source": [
    "plt.scatter([5, 10, 20], [acc011, acc022, acc033])\n",
    "plt.ylim(0, 1)\n",
    "plt.xlabel('Number of iterations')\n",
    "plt.ylabel('Accuracy')\n",
    "plt.title('Learning Curve')\n",
    "plt.savefig('lc02.png')"
   ]
  },
  {
   "cell_type": "code",
   "execution_count": null,
   "id": "1ff33252",
   "metadata": {},
   "outputs": [],
   "source": []
  }
 ],
 "metadata": {
  "kernelspec": {
   "display_name": "Python 3 (ipykernel)",
   "language": "python",
   "name": "python3"
  },
  "language_info": {
   "codemirror_mode": {
    "name": "ipython",
    "version": 3
   },
   "file_extension": ".py",
   "mimetype": "text/x-python",
   "name": "python",
   "nbconvert_exporter": "python",
   "pygments_lexer": "ipython3",
   "version": "3.10.4"
  }
 },
 "nbformat": 4,
 "nbformat_minor": 5
}

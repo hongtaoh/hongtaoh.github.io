{
 "cells": [
  {
   "cell_type": "markdown",
   "id": "9cc7125c",
   "metadata": {},
   "source": [
    "---\n",
    "\n",
    "title: Julia Try\n",
    "date: 2023-02-26\n",
    "author: Hongtao Hao\n",
    "slug: julia\n",
    "draft: false\n",
    "toc: true\n",
    "tags: Math\n",
    "\n",
    "---"
   ]
  },
  {
   "cell_type": "code",
   "execution_count": 5,
   "id": "ceae636b",
   "metadata": {},
   "outputs": [],
   "source": [
    "using Plots\n",
    "\n",
    "times = [0.1, 0.2, 0.3, 0.4, 0.5, 0.6] \n",
    "pix = [0.5, 1, 1.5, 2.5, 3.5, 5]\n",
    "Plots.plot(times, pix,\n",
    "    title=\"Trajectory over time-space diagram\",\n",
    "    label = \"trajectory\",\n",
    "    linewidth=3,\n",
    "    markershape = :auto,\n",
    "    mc=\"orange\",\n",
    "    xlabel = \"Time (in seconds)\",\n",
    "    ylabel = \"Pix location (in meter)\"\n",
    ")\n",
    "savefig(\"juliaplots/p1.png\")"
   ]
  },
  {
   "cell_type": "markdown",
   "id": "b8036da4",
   "metadata": {},
   "source": [
    "![](juliaplots/p1.png)"
   ]
  }
 ],
 "metadata": {
  "kernelspec": {
   "display_name": "Julia 1.7.1",
   "language": "julia",
   "name": "julia-1.7"
  },
  "language_info": {
   "file_extension": ".jl",
   "mimetype": "application/julia",
   "name": "julia",
   "version": "1.7.1"
  }
 },
 "nbformat": 4,
 "nbformat_minor": 5
}

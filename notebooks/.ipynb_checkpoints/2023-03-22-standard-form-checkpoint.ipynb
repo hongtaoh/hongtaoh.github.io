{
 "cells": [
  {
   "cell_type": "markdown",
   "id": "30e91874",
   "metadata": {},
   "source": [
    "---\n",
    "\n",
    "title: \"Optimization: Standard Form\"\n",
    "date: 2023-03-22\n",
    "author: Hongtao Hao\n",
    "slug: standard-form\n",
    "draft: false\n",
    "toc: false\n",
    "tags: Optimization\n",
    "\n",
    "---"
   ]
  },
  {
   "cell_type": "code",
   "execution_count": null,
   "id": "fe0039e4",
   "metadata": {},
   "outputs": [],
   "source": [
    "{{<block class = \"note\">}}\n",
    "Images in this posst came from the slides of [CS524 at UW-Madison](https://laurentlessard.com/teaching/524-intro-to-optimization/), 2023Spring\n",
    "{{<end>}}\n",
    "\n",
    "{{<block class = \"reminder\">}}\n",
    "This notebook runs in [Julia](https://julialang.org/) and is rendered by [Hupyter](https://github.com/hongtaoh/hupyter).\n",
    "{{<end>}}"
   ]
  },
  {
   "cell_type": "markdown",
   "id": "d4ee8844",
   "metadata": {},
   "source": [
    "The standard form of linear optimization problems is:\n",
    "\n",
    "$$\n",
    "\\begin{align*}\n",
    "\\underset{x\\in \\mathbb{R}^n}{\\text{maximize}}\\qquad& c^{T} x\\\\\n",
    "\\text{subject to:}\\qquad&  Ax \\le b\\\\ \n",
    "& x \\ge 0\n",
    "\\end{align*}\n",
    "$$"
   ]
  },
  {
   "cell_type": "markdown",
   "id": "dc89025b",
   "metadata": {},
   "source": [
    "## Transformation tricks\n",
    "- Conversion between min and max: $min f(x) = - max(-f(x))$\n",
    "- $Ax >= b$ <=> $-Ax <= -b$\n",
    "- $f(x) = 0$ <=> $f(x) >= 0$ and $f(x) <= 0$\n",
    "- $x \\in \\mathbb{R} <=> u \\ge 0, v \\ge 0, x = u - v$"
   ]
  },
  {
   "cell_type": "markdown",
   "id": "61fa37fd",
   "metadata": {},
   "source": [
    "## An example\n",
    "$$\n",
    "\\begin{align*}\n",
    "\\underset{p, q}{\\text{minimize}}\\qquad& p + q\\\\\n",
    "\\text{subject to:}\\qquad&  5p - 3q = 7\\\\ &\n",
    "2p + q \\ge 2 \\\\ &\n",
    "1 \\le q \\le 4\n",
    "\\end{align*}\n",
    "$$"
   ]
  },
  {
   "cell_type": "markdown",
   "id": "0a8f7931",
   "metadata": {},
   "source": [
    "Let us transform the above. \n",
    "\n",
    "First, $p$ is unbounded, so we have $p = u - v, u \\ge 0, v \\ge 0$. \n",
    "\n",
    "The standard form is $x \\ge 0$, but $q$ here does not conform to this format. We split $1 \\le q \\le 4$ into two parts: $q \\ge 1$ and $q \\le 4$. We can use the former one as something like $x \\ge 0$. We can have $w = q + 1$. Because $q \\ge 1$, so we have $w \\ge 0$; because $q \\le 4$, we have $w \\le 3$.\n",
    "\n",
    "Because the constraints of the standard form are like $Ax \\le b$, so we need to change the constraints as well. According to the conversion tricks, we can have:\n",
    "\n",
    "$$\n",
    "5p - 3q \\le 7 \\\\\n",
    "5p - 3q \\ge 7 \\\\\n",
    "-2p - q \\le -2\n",
    "$$\n",
    "\n",
    "Because \n",
    "\n",
    "$$\n",
    "p = u - v \\\\\n",
    "q = w + 1\n",
    "$$\n",
    "\n",
    "we have\n",
    "\n",
    "$$\n",
    "5u - 5v - 3w \\le 10 \\\\\n",
    "-5u + 5v + 3w \\le -10 \\\\\n",
    "-2u + 2v - w \\le -1\n",
    "$$\n",
    "\n",
    "Do not forget that we have another constraint:\n",
    "\n",
    "$$\n",
    "w \\le 3\n",
    "$$"
   ]
  },
  {
   "cell_type": "markdown",
   "id": "73093a97",
   "metadata": {},
   "source": [
    "## Solution\n",
    "\n",
    "Therefore, the standard form of the example linear problem is:\n",
    "\n",
    "$$\n",
    "\\begin{align*}\n",
    "\\underset{u, v, w}{\\text{maximize}}\\qquad& -u + v - w - 1\\\\\n",
    "\\text{subject to:}\\qquad&  5u - 5v - 3w \\le 10 \\\\&\n",
    "-5u + 5v + 3w \\le -10 \\\\&\n",
    "-2u + 2v - w \\le -1 \\\\&\n",
    "w \\le 3 \\\\&\n",
    "u \\ge 0 \\\\&\n",
    "v \\ge 0 \\\\&\n",
    "w \\ge 0 \n",
    "\\end{align*}\n",
    "$$\n",
    "\n",
    "It should be noted that the objective value of the standard form is the negative of that of the example problem. "
   ]
  }
 ],
 "metadata": {
  "kernelspec": {
   "display_name": "Julia 1.7.1",
   "language": "julia",
   "name": "julia-1.7"
  },
  "language_info": {
   "file_extension": ".jl",
   "mimetype": "application/julia",
   "name": "julia",
   "version": "1.7.1"
  }
 },
 "nbformat": 4,
 "nbformat_minor": 5
}

{
 "cells": [
  {
   "cell_type": "markdown",
   "id": "d32a2632",
   "metadata": {},
   "source": [
    "---\n",
    "\n",
    "title: \"Optimization: Multi-Period Planning\"\n",
    "date: 2023-03-17\n",
    "author: Hongtao Hao\n",
    "slug: optimization-multi-period\n",
    "draft: false\n",
    "toc: false\n",
    "tags: Optimization\n",
    "\n",
    "---"
   ]
  },
  {
   "cell_type": "markdown",
   "id": "e2ee2e26",
   "metadata": {},
   "source": [
    "{{<block class = \"note\">}}\n",
    "Images in this posst came from the slides of [CS524 at UW-Madison](https://laurentlessard.com/teaching/524-intro-to-optimization/), 2023Spring\n",
    "{{<end>}}\n",
    "\n",
    "{{<block class = \"reminder\">}}\n",
    "This notebook runs in [Julia](https://julialang.org/) and is rendered by [Hupyter](https://github.com/hongtaoh/hupyter).\n",
    "{{<end>}}"
   ]
  },
  {
   "cell_type": "markdown",
   "id": "c42911d0",
   "metadata": {},
   "source": [
    "![](img/tasks.png)"
   ]
  },
  {
   "cell_type": "markdown",
   "id": "bef1b989",
   "metadata": {},
   "source": [
    "If to complete a project, we need to finish all these tasks, from l to s. The number besides each task indicates the number of days it takes to complete that task. Note that we are allowed to work on multiple tasks simultaneously. "
   ]
  },
  {
   "cell_type": "code",
   "execution_count": 3,
   "id": "a6dbbc25",
   "metadata": {},
   "outputs": [],
   "source": [
    "using HiGHS, JuMP, DataStructures"
   ]
  },
  {
   "cell_type": "code",
   "execution_count": 4,
   "id": "998b912e",
   "metadata": {},
   "outputs": [
    {
     "data": {
      "text/plain": [
       "(Any[], [:l], [:l], [:l], [:m, :n], [:o, :t])"
      ]
     },
     "execution_count": 4,
     "metadata": {},
     "output_type": "execute_result"
    }
   ],
   "source": [
    "tasks = [:l, :o, :m, :n, :t, :s]\n",
    "durations = [3, 3, 1, 2, 3, 2]\n",
    "pre = ([], [:l], [:l], [:l], [:m, :n], [:o, :t])"
   ]
  },
  {
   "cell_type": "code",
   "execution_count": 5,
   "id": "3eed3353",
   "metadata": {},
   "outputs": [
    {
     "data": {
      "text/plain": [
       "OrderedDict{Symbol, Int64} with 6 entries:\n",
       "  :l => 3\n",
       "  :o => 3\n",
       "  :m => 1\n",
       "  :n => 2\n",
       "  :t => 3\n",
       "  :s => 2"
      ]
     },
     "execution_count": 5,
     "metadata": {},
     "output_type": "execute_result"
    }
   ],
   "source": [
    "preDict = OrderedDict(zip(tasks, pre))\n",
    "durDict = OrderedDict(zip(tasks, durations))"
   ]
  },
  {
   "cell_type": "markdown",
   "id": "ea5b01bc",
   "metadata": {},
   "source": [
    "The key idea behind the solution is that we set a start time for each task. That start time is at least the start time of any of the preceeding task plus the duration of that preceeding task. Therefore, the start time of task $l$ is zero. We want to minimize the starting time of task $s$. "
   ]
  },
  {
   "cell_type": "code",
   "execution_count": 6,
   "id": "f046f6d3",
   "metadata": {},
   "outputs": [
    {
     "name": "stdout",
     "output_type": "stream",
     "text": [
      "Running HiGHS 1.4.2 [date: 1970-01-01, git hash: f797c1ab6]\n",
      "Copyright (c) 2022 ERGO-Code under MIT licence terms\n",
      "Presolving model\n",
      "4 rows, 2 cols, 5 nonzeros\n",
      "0 rows, 0 cols, 0 nonzeros\n",
      "Presolve : Reductions: rows 0(-8); columns 0(-6); elements 0(-15) - Reduced to empty\n",
      "Solving the original LP from the solution after postsolve\n",
      "Model   status      : Optimal\n",
      "Objective value     :  1.0000000000e+01\n",
      "HiGHS run time      :          0.02\n"
     ]
    }
   ],
   "source": [
    "m = Model(HiGHS.Optimizer)\n",
    "# initiate start time for each task\n",
    "@variable(m, tstart[tasks])\n",
    "\n",
    "# for each task\n",
    "for t in tasks\n",
    "    for j in preDict[t]\n",
    "        # the start time is at least the start time of the preceeding task plus the duration of that \n",
    "        # preceeding task\n",
    "        @constraint(m, tstart[t] >= tstart[j] + durDict[j])\n",
    "    end\n",
    "end\n",
    "\n",
    "# start time for the first task is equal to 0\n",
    "@constraint(m, tstart[:l] == 0)\n",
    "\n",
    "# miminize the start time for the last time\n",
    "@objective(m, Min, tstart[:s] + durDict[:s])\n",
    "\n",
    "optimize!(m)"
   ]
  },
  {
   "cell_type": "code",
   "execution_count": 7,
   "id": "a2248ae3",
   "metadata": {},
   "outputs": [
    {
     "data": {
      "text/plain": [
       "10.0"
      ]
     },
     "execution_count": 7,
     "metadata": {},
     "output_type": "execute_result"
    }
   ],
   "source": [
    "objective_value(m)"
   ]
  },
  {
   "cell_type": "markdown",
   "id": "3a732df1",
   "metadata": {},
   "source": [
    "Therefore, this project takes at least 10 days. "
   ]
  }
 ],
 "metadata": {
  "kernelspec": {
   "display_name": "Julia 1.7.1",
   "language": "julia",
   "name": "julia-1.7"
  },
  "language_info": {
   "file_extension": ".jl",
   "mimetype": "application/julia",
   "name": "julia",
   "version": "1.7.1"
  }
 },
 "nbformat": 4,
 "nbformat_minor": 5
}

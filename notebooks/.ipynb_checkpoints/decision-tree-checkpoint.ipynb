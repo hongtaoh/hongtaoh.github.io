{
 "cells": [
  {
   "cell_type": "code",
   "execution_count": 1,
   "id": "80ffa3ea",
   "metadata": {},
   "outputs": [],
   "source": [
    "import pandas as pd\n",
    "import seaborn as sns\n",
    "import matplotlib.pyplot as plt\n",
    "import numpy as np"
   ]
  },
  {
   "cell_type": "code",
   "execution_count": 2,
   "id": "9269af72",
   "metadata": {},
   "outputs": [],
   "source": [
    "# x = np.random.RandomState(seed = 1).rand(120)\n",
    "# y = np.random.RandomState(seed = 2).rand(120)\n",
    "# labels = np.random.RandomState(seed = 3).permutation(np.arange(3))\n",
    "# labels = np.repeat(labels, 40)"
   ]
  },
  {
   "cell_type": "code",
   "execution_count": 3,
   "id": "2ead8e54",
   "metadata": {},
   "outputs": [],
   "source": [
    "# sns.scatterplot(x=x, y=y, hue=labels)"
   ]
  },
  {
   "cell_type": "code",
   "execution_count": 14,
   "id": "1ca2193d",
   "metadata": {},
   "outputs": [
    {
     "data": {
      "text/plain": [
       "array([[ 2,  0,  0],\n",
       "       [ 5,  1,  0],\n",
       "       [ 9,  2,  0],\n",
       "       [ 1,  4,  0],\n",
       "       [ 6,  6,  0],\n",
       "       [16,  3,  1],\n",
       "       [24, 10,  2],\n",
       "       [16,  8,  2],\n",
       "       [23,  5,  1],\n",
       "       [20, 12,  2]])"
      ]
     },
     "execution_count": 14,
     "metadata": {},
     "output_type": "execute_result"
    }
   ],
   "source": [
    "x = [2, 5, 9, 1, 6, 16, 24, 16, 23, 20]\n",
    "y = [0, 1, 2, 4, 6, 3, 10, 8, 5, 12]\n",
    "labels = [0,0,0,0,0,1,2,2,1,2,]\n",
    "data = np.array([x, y, labels]).T\n",
    "data"
   ]
  },
  {
   "cell_type": "code",
   "execution_count": 15,
   "id": "990a06df",
   "metadata": {},
   "outputs": [
    {
     "data": {
      "text/plain": [
       "Text(0, 0.5, 'Y')"
      ]
     },
     "execution_count": 15,
     "metadata": {},
     "output_type": "execute_result"
    },
    {
     "data": {
      "image/png": "[encoded data removed]",
      "text/plain": [
       "<Figure size 720x360 with 1 Axes>"
      ]
     },
     "metadata": {
      "needs_background": "light"
     },
     "output_type": "display_data"
    }
   ],
   "source": [
    "# sns.scatterplot(x=x, y=y, hue = labels)\n",
    "fig, ax = plt.subplots(figsize = (10, 5))\n",
    "colors = {'0': 'tab:gray', '1': 'tab:red', '2':'tab:blue'}\n",
    "ax.scatter(x, y, c=[colors[str(x)] for x in labels])\n",
    "plt.xlabel('X', fontsize = 14)\n",
    "plt.ylabel('Y', fontsize = 14)"
   ]
  },
  {
   "cell_type": "markdown",
   "id": "d7d38670",
   "metadata": {},
   "source": [
    "If we. have a new data point, `(3, 5)`, what color do you think it will have? Most likely gray, right? I guess you might have this mental model:\n",
    "\n",
    "```\n",
    "if x < 12 return gray\n",
    "    else \n",
    "        if y > 6 return blue\n",
    "        else return red\n",
    "```\n",
    "\n",
    "This mental model is easy to build when we have only a few data points. Things get complicated if we have millions of data points with dozens of different labels (rather than three as in our example). So we need to find a way to automate this procedure. BTW, the mental model above is an example of decision tree, which is the topic of this blog post. \n",
    "\n",
    "The first step is to find a split on x or y. For simplicity, we only make splits at values present in our data. The problem is, how do we find the split? Which metric should we apply to find the best split?\n",
    "\n",
    "If we have only two classes, i.e., labels, an intuitive metric would be the accuracy, or the error rate. For example, if the red here is also blue, then for any split at x, we simply calcuate the number of points that are different than the majority class in its side. \n",
    "\n",
    "For example, if `9 < T < 16`, then the split of `x < T` will be perfect and certaily is better than the split of `x < 20` simply because the former one makes fewer mistakes. "
   ]
  },
  {
   "cell_type": "code",
   "execution_count": null,
   "id": "1918472b",
   "metadata": {},
   "outputs": [],
   "source": []
  },
  {
   "cell_type": "markdown",
   "id": "925bdb99",
   "metadata": {},
   "source": [
    "However, right now, we have three classes, and this simple metric does not work. Why? For example, if we split at `x < 9`, it's hard to say how many errors we made on the left side, right? Because we have both the gray and the red class.  "
   ]
  },
  {
   "cell_type": "markdown",
   "id": "c14a3f03",
   "metadata": {},
   "source": [
    "A better option here should be the measure of impurity either through \"[entropy](/en/2022/09/21/entropy/)\" or \"[Gini index](https://victorzhou.com/blog/gini-impurity/)\". In this pose, I use entropy. If you do not fully understand what entropy is, make sure to read [my post on it](/en/2022/09/21/entropy/). \n",
    "\n",
    "The purpose of splitting is to have purity, i.e., to decrease entropy. Of course, we could compare the entropies to decide which split is better but a more conventional approach is to compare \"information gain\", which is in fact the same as compare entropies. \n",
    "\n",
    "What is information gain? \n",
    "\n",
    "First, we have an entropy for the data before any split, right? Let's first calculate that:"
   ]
  },
  {
   "cell_type": "code",
   "execution_count": 6,
   "id": "042f7ab2",
   "metadata": {},
   "outputs": [
    {
     "data": {
      "text/plain": [
       "1.49"
      ]
     },
     "execution_count": 6,
     "metadata": {},
     "output_type": "execute_result"
    }
   ],
   "source": [
    "p_red = 2/10\n",
    "p_blue = 3/10\n",
    "p_gray = 5/10\n",
    "initial_entropy = -p_red*np.log2(p_red) - p_blue*np.log2(p_blue) - p_gray*np.log2(p_gray)\n",
    "\n",
    "# this is the initial entropy\n",
    "round(initial_entropy, 2)"
   ]
  },
  {
   "cell_type": "markdown",
   "id": "8134fa72",
   "metadata": {},
   "source": [
    "Now, let's compare two splits: `x = 2` and `x = 8`. "
   ]
  }
 ],
 "metadata": {
  "kernelspec": {
   "display_name": "Python 3 (ipykernel)",
   "language": "python",
   "name": "python3"
  },
  "language_info": {
   "codemirror_mode": {
    "name": "ipython",
    "version": 3
   },
   "file_extension": ".py",
   "mimetype": "text/x-python",
   "name": "python",
   "nbconvert_exporter": "python",
   "pygments_lexer": "ipython3",
   "version": "3.10.4"
  }
 },
 "nbformat": 4,
 "nbformat_minor": 5
}

{
 "cells": [
  {
   "cell_type": "code",
   "execution_count": 1,
   "id": "5a359293",
   "metadata": {},
   "outputs": [],
   "source": [
    "import pandas as pd\n",
    "import numpy as np\n",
    "import matplotlib.pyplot as plt\n",
    "import seaborn as sns\n",
    "from collections import Counter"
   ]
  },
  {
   "cell_type": "code",
   "execution_count": 4,
   "id": "a31a6067",
   "metadata": {},
   "outputs": [],
   "source": [
    "file = '../static/files/large/mnist_train.csv'"
   ]
  },
  {
   "cell_type": "code",
   "execution_count": 5,
   "id": "71dc7205",
   "metadata": {},
   "outputs": [],
   "source": [
    "df = pd.read_csv(file)"
   ]
  },
  {
   "cell_type": "code",
   "execution_count": null,
   "id": "b1ea4c6a",
   "metadata": {},
   "outputs": [],
   "source": [
    "https://math.stackexchange.com/a/3220477"
   ]
  }
 ],
 "metadata": {
  "kernelspec": {
   "display_name": "Python 3 (ipykernel)",
   "language": "python",
   "name": "python3"
  },
  "language_info": {
   "codemirror_mode": {
    "name": "ipython",
    "version": 3
   },
   "file_extension": ".py",
   "mimetype": "text/x-python",
   "name": "python",
   "nbconvert_exporter": "python",
   "pygments_lexer": "ipython3",
   "version": "3.10.4"
  }
 },
 "nbformat": 4,
 "nbformat_minor": 5
}

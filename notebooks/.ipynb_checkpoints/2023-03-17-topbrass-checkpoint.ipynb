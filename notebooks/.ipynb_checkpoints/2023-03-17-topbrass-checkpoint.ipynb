{
 "cells": [
  {
   "cell_type": "markdown",
   "id": "b1b6a98c",
   "metadata": {},
   "source": [
    "---\n",
    "\n",
    "title: \"Optimization: Introduction (TopBrass)\"\n",
    "date: 2023-03-17\n",
    "author: Hongtao Hao\n",
    "slug: optimization-intro\n",
    "draft: false\n",
    "toc: false\n",
    "tags: Optimization\n",
    "\n",
    "---"
   ]
  },
  {
   "cell_type": "markdown",
   "id": "42ff1f40",
   "metadata": {},
   "source": [
    "{{<block class = \"note\">}}\n",
    "**Images in this posst came from the slides of [CS524 at UW-Madison](https://laurentlessard.com/teaching/524-intro-to-optimization/), 2023Spring**\n",
    "{{<end>}}\n",
    "\n",
    "{{<block class = \"reminder\">}}\n",
    "This notebook runs in [Julia](https://julialang.org/) and is rendered by [Hupyter](https://github.com/hongtaoh/hupyter).\n",
    "{{<end>}}"
   ]
  },
  {
   "cell_type": "markdown",
   "id": "46d81dce",
   "metadata": {},
   "source": [
    "This post introduces basic linear optimizaiton through the example of TopBrass. \n",
    "\n",
    "# TopBrass\n",
    "\n",
    "Top Brass Trophy Company makes large championship trophies for youth athletic leagues. At the moment, they are planning production for fall sports: football and soccer.\n",
    "Each football trophy has a wood base, an engraved plaque, a large brass football on top, and returns 12 USD in profit. \n",
    "\n",
    "Soccer trophies are similar except that a brass soccer ball is on top, and the unit profit is 9 USD. \n",
    "\n",
    "Since the football has an asymmetric shape, its base requires 4 board feet of wood; the soccer base requires only 2 board feet. \n",
    "\n",
    "There are 1000 brass footballs in stock, 1500 soccer balls, 1750 plaques, and 4800 board feet of wood. What trophies should be produced from these supplies to maximize total profit assuming that all that are made can be sold?"
   ]
  },
  {
   "cell_type": "code",
   "execution_count": 1,
   "id": "97eba686",
   "metadata": {},
   "outputs": [],
   "source": [
    "using HiGHS, JuMP"
   ]
  },
  {
   "cell_type": "markdown",
   "id": "5ecd72d5",
   "metadata": {},
   "source": [
    "![](img/pic1.png)\n",
    "\n",
    "![](img/pic2.png)"
   ]
  },
  {
   "cell_type": "code",
   "execution_count": 16,
   "id": "5de685ba",
   "metadata": {},
   "outputs": [
    {
     "data": {
      "text/latex": [
       "$$ f + s \\leq 1750.0 $$"
      ],
      "text/plain": [
       "f + s ≤ 1750.0"
      ]
     },
     "execution_count": 16,
     "metadata": {},
     "output_type": "execute_result"
    }
   ],
   "source": [
    "m = Model(HiGHS.Optimizer)\n",
    "\n",
    "@variable(m, 0<= f <= 1000)\n",
    "@variable(m, 0<= s <= 1500)\n",
    "@objective(m, Max, 12*f + 9*s)\n",
    "@constraint(m, 4*f + 2*s <= 4800) # board feet of wood\n",
    "@constraint(m, f + s <= 1750)"
   ]
  },
  {
   "cell_type": "code",
   "execution_count": 17,
   "id": "324d3d0d",
   "metadata": {},
   "outputs": [
    {
     "data": {
      "text/latex": [
       "$$ \\begin{aligned}\n",
       "\\max\\quad & 12 f + 9 s\\\\\n",
       "\\text{Subject to} \\quad & 4 f + 2 s \\leq 4800.0\\\\\n",
       " & f + s \\leq 1750.0\\\\\n",
       " & f \\geq 0.0\\\\\n",
       " & s \\geq 0.0\\\\\n",
       " & f \\leq 1000.0\\\\\n",
       " & s \\leq 1500.0\\\\\n",
       "\\end{aligned} $$"
      ]
     },
     "metadata": {},
     "output_type": "display_data"
    }
   ],
   "source": [
    "print(m)"
   ]
  },
  {
   "cell_type": "code",
   "execution_count": 18,
   "id": "f3feda0a",
   "metadata": {},
   "outputs": [
    {
     "name": "stdout",
     "output_type": "stream",
     "text": [
      "Max 12 f + 9 s\n",
      "Subject to\n",
      " 4 f + 2 s ≤ 4800.0\n",
      " f + s ≤ 1750.0\n",
      " f ≥ 0.0\n",
      " s ≥ 0.0\n",
      " f ≤ 1000.0\n",
      " s ≤ 1500.0\n",
      "\n"
     ]
    }
   ],
   "source": [
    "println(m)"
   ]
  },
  {
   "cell_type": "code",
   "execution_count": 19,
   "id": "a22079a1",
   "metadata": {},
   "outputs": [
    {
     "name": "stdout",
     "output_type": "stream",
     "text": [
      "Running HiGHS 1.4.2 [date: 1970-01-01, git hash: f797c1ab6]\n",
      "Copyright (c) 2022 ERGO-Code under MIT licence terms\n",
      "Presolving model\n",
      "2 rows, 2 cols, 4 nonzeros\n",
      "2 rows, 2 cols, 4 nonzeros\n",
      "Presolve : Reductions: rows 2(-0); columns 2(-0); elements 4(-0) - Not reduced\n",
      "Problem not reduced by presolve: solving the LP\n",
      "Using EKK dual simplex solver - serial\n",
      "  Iteration        Objective     Infeasibilities num(sum)\n",
      "          0     0.0000000000e+00 Ph1: 0(0) 0s\n",
      "          2     1.7700000000e+04 Pr: 0(0) 0s\n",
      "Model   status      : Optimal\n",
      "Simplex   iterations: 2\n",
      "Objective value     :  1.7700000000e+04\n",
      "HiGHS run time      :          0.02\n"
     ]
    }
   ],
   "source": [
    "optimize!(m)"
   ]
  },
  {
   "cell_type": "code",
   "execution_count": 22,
   "id": "016fe647",
   "metadata": {},
   "outputs": [
    {
     "name": "stdout",
     "output_type": "stream",
     "text": [
      "The total number of football trophies is 650.0\n",
      "The total number of soccer trophies is 1100.0\n",
      "The highest possible profit is $17700.0\n"
     ]
    }
   ],
   "source": [
    "println(\"The total number of football trophies is \", value(f))\n",
    "println(\"The total number of soccer trophies is \", value(s))\n",
    "println(\"The highest possible profit is \\$\", objective_value(m))"
   ]
  },
  {
   "cell_type": "markdown",
   "id": "2766ab20",
   "metadata": {},
   "source": [
    "## Geometry meaning\n",
    "\n",
    "![](img/pic3.png)"
   ]
  }
 ],
 "metadata": {
  "kernelspec": {
   "display_name": "Julia 1.7.1",
   "language": "julia",
   "name": "julia-1.7"
  },
  "language_info": {
   "file_extension": ".jl",
   "mimetype": "application/julia",
   "name": "julia",
   "version": "1.7.1"
  }
 },
 "nbformat": 4,
 "nbformat_minor": 5
}

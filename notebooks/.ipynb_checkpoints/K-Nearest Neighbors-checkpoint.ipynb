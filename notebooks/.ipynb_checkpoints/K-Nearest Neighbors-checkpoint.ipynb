{
 "cells": [
  {
   "cell_type": "markdown",
   "id": "a4ddba05",
   "metadata": {},
   "source": [
    "To me, K Nearest Neighbors (KNN) is very intuitive. Take classification tasks as an example, what KNN does is to find K training examples that are \"closest\" to the test example. These K training examples have K labels. We find the most common label and it is the predicted label for the test example in question. \n",
    "\n",
    "How to quantify \"closest\"? Two simple methods are Euclidean distance or Manhattan distance. \\\\\n",
    "\n",
    "I'll take the MNIST dataset as an example. "
   ]
  },
  {
   "cell_type": "code",
   "execution_count": 137,
   "id": "93025d78",
   "metadata": {},
   "outputs": [],
   "source": [
    "import pandas as pd\n",
    "import numpy as np\n",
    "import matplotlib.pyplot as plt\n",
    "import seaborn as sns\n",
    "from collections import Counter"
   ]
  },
  {
   "cell_type": "markdown",
   "id": "6fa3aa55",
   "metadata": {},
   "source": [
    "## Introduction to MNIST dataset"
   ]
  },
  {
   "cell_type": "code",
   "execution_count": 138,
   "id": "39b70739",
   "metadata": {},
   "outputs": [],
   "source": [
    "file = '../static/files/large/mnist_train.csv'"
   ]
  },
  {
   "cell_type": "code",
   "execution_count": 139,
   "id": "0fe333b1",
   "metadata": {},
   "outputs": [],
   "source": [
    "df = pd.read_csv(file)"
   ]
  },
  {
   "cell_type": "code",
   "execution_count": 140,
   "id": "11790651",
   "metadata": {},
   "outputs": [
    {
     "data": {
      "text/plain": [
       "(59999, 785)"
      ]
     },
     "execution_count": 140,
     "metadata": {},
     "output_type": "execute_result"
    }
   ],
   "source": [
    "df.shape"
   ]
  },
  {
   "cell_type": "code",
   "execution_count": 141,
   "id": "f7c219e0",
   "metadata": {},
   "outputs": [],
   "source": [
    "# df.head()"
   ]
  },
  {
   "cell_type": "markdown",
   "id": "a2d29bc7",
   "metadata": {},
   "source": [
    "![](img/knn-df-head.png)"
   ]
  },
  {
   "cell_type": "markdown",
   "id": "177ad2a2",
   "metadata": {},
   "source": [
    "The above is the MNIST dataset. it has close to 60K training examples, i.e., images. Each training example has 785 columns. The first column is the label and the rest 784 (28 $\\times$ 28) columns are the input. Each of these 784 columns correspondes to a pixel, which I will explain later. \n",
    "\n",
    "The raw inputs are RGB values which range from 0 to 255:"
   ]
  },
  {
   "cell_type": "code",
   "execution_count": 142,
   "id": "0a8ba9a2",
   "metadata": {},
   "outputs": [
    {
     "data": {
      "text/plain": [
       "255"
      ]
     },
     "execution_count": 142,
     "metadata": {},
     "output_type": "execute_result"
    }
   ],
   "source": [
    "np.max(df.to_numpy())"
   ]
  },
  {
   "cell_type": "markdown",
   "id": "839f2730",
   "metadata": {},
   "source": [
    "We normally would [normalize the inputs](https://stackoverflow.com/a/37421202) so that they values are between 0 (black) and 1 (white). So do that, we divide each pixel value by the number of 255. \n",
    "\n",
    "Let's take a look at one example. "
   ]
  },
  {
   "cell_type": "code",
   "execution_count": 143,
   "id": "b3ecd46b",
   "metadata": {},
   "outputs": [
    {
     "data": {
      "image/png": "[encoded data removed]",
      "text/plain": [
       "<Figure size 432x288 with 1 Axes>"
      ]
     },
     "metadata": {
      "needs_background": "light"
     },
     "output_type": "display_data"
    }
   ],
   "source": [
    "example_to_draw = df.iloc[0, 1:].to_numpy().reshape(28,28)\n",
    "plt.imshow(example_to_draw, cmap='gray')\n",
    "plt.show()"
   ]
  },
  {
   "cell_type": "markdown",
   "id": "a0d69193",
   "metadata": {},
   "source": [
    "## KNN"
   ]
  },
  {
   "cell_type": "markdown",
   "id": "506e9c4a",
   "metadata": {},
   "source": [
    "### Training examples\n",
    "\n",
    "Since there are 60K examples, for simplicity, I'll randomly choose 10K of them as training examples. "
   ]
  },
  {
   "cell_type": "code",
   "execution_count": 144,
   "id": "73e650fd",
   "metadata": {},
   "outputs": [],
   "source": [
    "training_samples = df.sample(10000, random_state = 222)\n",
    "training_indices = training_samples.index"
   ]
  },
  {
   "cell_type": "code",
   "execution_count": 145,
   "id": "5c509419",
   "metadata": {},
   "outputs": [],
   "source": [
    "x_train = (training_samples.iloc[:, 1:]/255).to_numpy()\n",
    "y_train = training_samples.iloc[:, 0].to_numpy()"
   ]
  },
  {
   "cell_type": "code",
   "execution_count": 146,
   "id": "2bc4bbce",
   "metadata": {},
   "outputs": [
    {
     "data": {
      "text/plain": [
       "((10000, 784), (10000,))"
      ]
     },
     "execution_count": 146,
     "metadata": {},
     "output_type": "execute_result"
    }
   ],
   "source": [
    "x_train.shape, y_train.shape"
   ]
  },
  {
   "cell_type": "code",
   "execution_count": 147,
   "id": "e21d4dae",
   "metadata": {},
   "outputs": [
    {
     "data": {
      "text/plain": [
       "Counter({4: 957,\n",
       "         5: 920,\n",
       "         2: 1005,\n",
       "         7: 1060,\n",
       "         8: 1019,\n",
       "         1: 1160,\n",
       "         0: 966,\n",
       "         9: 974,\n",
       "         3: 958,\n",
       "         6: 981})"
      ]
     },
     "execution_count": 147,
     "metadata": {},
     "output_type": "execute_result"
    }
   ],
   "source": [
    "Counter(y_train)"
   ]
  },
  {
   "cell_type": "code",
   "execution_count": 148,
   "id": "f4074f95",
   "metadata": {},
   "outputs": [
    {
     "data": {
      "text/plain": [
       "<AxesSubplot:xlabel='label', ylabel='frequency'>"
      ]
     },
     "execution_count": 148,
     "metadata": {},
     "output_type": "execute_result"
    },
    {
     "data": {
      "image/png": "[encoded data removed]",
      "text/plain": [
       "<Figure size 432x288 with 1 Axes>"
      ]
     },
     "metadata": {
      "needs_background": "light"
     },
     "output_type": "display_data"
    }
   ],
   "source": [
    "label_counts = pd.DataFrame(Counter(y_train).items(), columns = ['label', 'frequency'])\n",
    "sns.barplot(data = label_counts, x = 'label', y = 'frequency')"
   ]
  },
  {
   "cell_type": "markdown",
   "id": "77ccfb18",
   "metadata": {},
   "source": [
    "### Test examples"
   ]
  },
  {
   "cell_type": "code",
   "execution_count": 149,
   "id": "23d07e2e",
   "metadata": {},
   "outputs": [],
   "source": [
    "testing_samples = df[~df.index.isin(training_indices)].sample(100, random_state = 300)"
   ]
  },
  {
   "cell_type": "code",
   "execution_count": 150,
   "id": "e8743874",
   "metadata": {},
   "outputs": [],
   "source": [
    "x_test = (testing_samples.iloc[:, 1:]/255).to_numpy()\n",
    "y_test = testing_samples.iloc[:, 0].to_numpy()"
   ]
  },
  {
   "cell_type": "code",
   "execution_count": 151,
   "id": "942a1a54",
   "metadata": {},
   "outputs": [
    {
     "data": {
      "text/plain": [
       "((100, 784), (100,))"
      ]
     },
     "execution_count": 151,
     "metadata": {},
     "output_type": "execute_result"
    }
   ],
   "source": [
    "x_test.shape, y_test.shape"
   ]
  },
  {
   "cell_type": "code",
   "execution_count": 152,
   "id": "b9d68fac",
   "metadata": {},
   "outputs": [
    {
     "data": {
      "text/plain": [
       "<AxesSubplot:xlabel='label', ylabel='frequency'>"
      ]
     },
     "execution_count": 152,
     "metadata": {},
     "output_type": "execute_result"
    },
    {
     "data": {
      "image/png": "[encoded data removed]",
      "text/plain": [
       "<Figure size 432x288 with 1 Axes>"
      ]
     },
     "metadata": {
      "needs_background": "light"
     },
     "output_type": "display_data"
    }
   ],
   "source": [
    "label_counts = pd.DataFrame(Counter(y_test).items(), columns = ['label', 'frequency'])\n",
    "sns.barplot(data = label_counts, x = 'label', y = 'frequency')"
   ]
  },
  {
   "cell_type": "markdown",
   "id": "31c0fa14",
   "metadata": {},
   "source": [
    "### K-Nearest Neighbors"
   ]
  },
  {
   "cell_type": "code",
   "execution_count": 153,
   "id": "4091dd03",
   "metadata": {},
   "outputs": [],
   "source": [
    "def eu_distance(v1, v2):\n",
    "    '''to calculate the euclidean distance of two vectors\n",
    "        input: vector1, vector2\n",
    "    '''\n",
    "    s = np.sum((v1-v2)**2)\n",
    "    d = np.sqrt(s)\n",
    "    return d"
   ]
  },
  {
   "cell_type": "code",
   "execution_count": 154,
   "id": "7fe54113",
   "metadata": {},
   "outputs": [],
   "source": [
    "def knn(test_example, x_train, k):\n",
    "    \n",
    "    # calculate the euclidean distance between the test example and \n",
    "    # each example x_train. Accumulate these distances to sort later\n",
    "    distances = np.array([eu_distance(test_example, i) for i in x_train])\n",
    "    \n",
    "    # np.argsort sorts the distances in ascending order, and return the index \n",
    "    # of items in the original (unsorted) array \n",
    "    sorted_idx = np.argsort(distances)\n",
    "    \n",
    "    # we only want the k smallest distances\n",
    "    return sorted_idx[0:k]"
   ]
  },
  {
   "cell_type": "markdown",
   "id": "322210a0",
   "metadata": {},
   "source": [
    "Let's take one example. Exciting moment!"
   ]
  },
  {
   "cell_type": "code",
   "execution_count": 155,
   "id": "72a5310e",
   "metadata": {},
   "outputs": [
    {
     "data": {
      "text/plain": [
       "<matplotlib.image.AxesImage at 0x120f4f430>"
      ]
     },
     "execution_count": 155,
     "metadata": {},
     "output_type": "execute_result"
    },
    {
     "data": {
      "image/png": "[encoded data removed]",
      "text/plain": [
       "<Figure size 432x288 with 1 Axes>"
      ]
     },
     "metadata": {
      "needs_background": "light"
     },
     "output_type": "display_data"
    }
   ],
   "source": [
    "## example 1:\n",
    "eg1 = x_test[1]\n",
    "plt.imshow(eg1.reshape(28, 28), cmap='gray')"
   ]
  },
  {
   "cell_type": "code",
   "execution_count": 156,
   "id": "edf79f90",
   "metadata": {},
   "outputs": [
    {
     "data": {
      "text/plain": [
       "array([7572, 4714, 5533])"
      ]
     },
     "execution_count": 156,
     "metadata": {},
     "output_type": "execute_result"
    }
   ],
   "source": [
    "# Let's say k = 3\n",
    "k = 3\n",
    "knn_results = knn(eg1, x_train, k)\n",
    "knn_results"
   ]
  },
  {
   "cell_type": "code",
   "execution_count": 157,
   "id": "51a7bb45",
   "metadata": {},
   "outputs": [
    {
     "data": {
      "image/png": "[encoded data removed]",
      "text/plain": [
       "<Figure size 1008x360 with 3 Axes>"
      ]
     },
     "metadata": {
      "needs_background": "light"
     },
     "output_type": "display_data"
    }
   ],
   "source": [
    "f, axs = plt.subplots(1,3,\n",
    "                      figsize=(14,5),\n",
    "                      sharex=False,\n",
    "                      sharey=False,)\n",
    "for i in range(k):\n",
    "    result = knn_results[i]\n",
    "    axs[i].imshow(x_train[result].reshape(28,28), cmap='gray')"
   ]
  },
  {
   "cell_type": "markdown",
   "id": "f2535eb2",
   "metadata": {},
   "source": [
    "Let's have another example:"
   ]
  },
  {
   "cell_type": "code",
   "execution_count": 158,
   "id": "4bfa9a9b",
   "metadata": {},
   "outputs": [
    {
     "data": {
      "text/plain": [
       "<matplotlib.image.AxesImage at 0x11e004370>"
      ]
     },
     "execution_count": 158,
     "metadata": {},
     "output_type": "execute_result"
    },
    {
     "data": {
      "image/png": "[encoded data removed]",
      "text/plain": [
       "<Figure size 432x288 with 1 Axes>"
      ]
     },
     "metadata": {
      "needs_background": "light"
     },
     "output_type": "display_data"
    }
   ],
   "source": [
    "# example 2\n",
    "eg2 = x_test[90]\n",
    "plt.imshow(eg2.reshape(28, 28), cmap='gray')"
   ]
  },
  {
   "cell_type": "code",
   "execution_count": 159,
   "id": "1da3c645",
   "metadata": {},
   "outputs": [
    {
     "data": {
      "text/plain": [
       "array([9273, 7022, 4709])"
      ]
     },
     "execution_count": 159,
     "metadata": {},
     "output_type": "execute_result"
    }
   ],
   "source": [
    "# Let's say k = 3\n",
    "k = 3\n",
    "knn_results = knn(eg2, x_train, k)\n",
    "knn_results"
   ]
  },
  {
   "cell_type": "code",
   "execution_count": 160,
   "id": "253d6a1d",
   "metadata": {},
   "outputs": [
    {
     "data": {
      "image/png": "[encoded data removed]",
      "text/plain": [
       "<Figure size 1008x360 with 3 Axes>"
      ]
     },
     "metadata": {
      "needs_background": "light"
     },
     "output_type": "display_data"
    }
   ],
   "source": [
    "f, axs = plt.subplots(1,3,\n",
    "                      figsize=(14,5),\n",
    "                      sharex=False,\n",
    "                      sharey=False,)\n",
    "for i in range(k):\n",
    "    result = knn_results[i]\n",
    "    axs[i].imshow(x_train[result].reshape(28,28), cmap='gray')"
   ]
  }
 ],
 "metadata": {
  "kernelspec": {
   "display_name": "Python 3 (ipykernel)",
   "language": "python",
   "name": "python3"
  },
  "language_info": {
   "codemirror_mode": {
    "name": "ipython",
    "version": 3
   },
   "file_extension": ".py",
   "mimetype": "text/x-python",
   "name": "python",
   "nbconvert_exporter": "python",
   "pygments_lexer": "ipython3",
   "version": "3.10.4"
  }
 },
 "nbformat": 4,
 "nbformat_minor": 5
}

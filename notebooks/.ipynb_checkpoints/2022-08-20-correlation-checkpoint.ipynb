{
 "cells": [
  {
   "cell_type": "markdown",
   "id": "be743695",
   "metadata": {},
   "source": [
    "Everyone seems to know correlation but they do not. At least I didn't. \n",
    "\n",
    "To understand correlation, we need to first understand covariance. As the name suggests, covariance measures the extent to which two variables **covary**, i.e., vary together. But the questions are: what does \"vary\" mean, and how do we quantify \"together\"?\n",
    "\n",
    "For example, I give you these two vectors:"
   ]
  },
  {
   "cell_type": "code",
   "execution_count": 24,
   "id": "ec87b4ff",
   "metadata": {},
   "outputs": [],
   "source": [
    "import matplotlib.pyplot as plt\n",
    "\n",
    "a = [1, 8, 9, 10]\n",
    "b = [2, 3, 7, 4]"
   ]
  },
  {
   "cell_type": "code",
   "execution_count": 25,
   "id": "ea5c8d2a",
   "metadata": {},
   "outputs": [
    {
     "data": {
      "text/plain": [
       "Text(0, 0.5, 'y')"
      ]
     },
     "execution_count": 25,
     "metadata": {},
     "output_type": "execute_result"
    },
    {
     "data": {
      "image/png": "[encoded data removed]",
      "text/plain": [
       "<Figure size 432x288 with 1 Axes>"
      ]
     },
     "metadata": {
      "needs_background": "light"
     },
     "output_type": "display_data"
    }
   ],
   "source": [
    "fig1, ax = plt.subplots(1, 1)\n",
    "ax.scatter(a,b)\n",
    "plt.xlabel('x')\n",
    "plt.ylabel('y')"
   ]
  },
  {
   "cell_type": "markdown",
   "id": "3d71d4ed",
   "metadata": {},
   "source": [
    "When two variables vary together:\n",
    "  1. If an item in one variable increases, then the corresponding item in the other variable increases as well. \n",
    "  2. If an item in one variable increases considerably, then the corresponding item in the other variable increases considerably as well.\n",
    "  \n",
    "The same applies when variables decrease. \n",
    "\n",
    "The above statements answer our question of \"what 'together' means\". But what does \"vary\" mean? What do we mean by \"an item in one variable increases\"? Increase or decrease compared to what?\n",
    "\n",
    "We have a bunch of choices: mean, median, mode, quartile, maximum, minimum, etc. I might revisit this question later, but right now, let's choose an intuitive one: the mean. \n",
    "\n",
    "Then we can rewrite the above statements this way:\n",
    "\n",
    "  1. If an item in `a` increases compared to the mean of `a`, then the corresponding item in `b` increases as well, compared to the mean of `b`. \n",
    "  2. If an item in `a` increases considerably compared to the mean of `a`, then the corresponding item in `b` increases considerably as well, compared to the mean of `b`. \n",
    "  \n",
    "The same applies to when items decrease. \n",
    "\n",
    "Therefore, if `a` and `b` covary, then $a_i - \\bar{a}$ and $b_i - \\bar{b}$ should have these properties:\n",
    "\n",
    "  1. They should have the same sign. That is to say, if $a_i - \\bar{a}$ is positive, then $b_i - \\bar{b}$ should be positive as well. \n",
    "  2. If $a_i - \\bar{a}$ is big, then $b_i - \\bar{b}$ should be big as well. "
   ]
  },
  {
   "cell_type": "code",
   "execution_count": null,
   "id": "e4ca6e93",
   "metadata": {},
   "outputs": [],
   "source": []
  }
 ],
 "metadata": {
  "kernelspec": {
   "display_name": "Python 3 (ipykernel)",
   "language": "python",
   "name": "python3"
  },
  "language_info": {
   "codemirror_mode": {
    "name": "ipython",
    "version": 3
   },
   "file_extension": ".py",
   "mimetype": "text/x-python",
   "name": "python",
   "nbconvert_exporter": "python",
   "pygments_lexer": "ipython3",
   "version": "3.10.4"
  }
 },
 "nbformat": 4,
 "nbformat_minor": 5
}

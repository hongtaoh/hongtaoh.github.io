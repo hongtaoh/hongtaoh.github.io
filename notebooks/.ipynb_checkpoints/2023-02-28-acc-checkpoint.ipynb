{
 "cells": [
  {
   "cell_type": "markdown",
   "id": "100e199e",
   "metadata": {},
   "source": [
    "---\n",
    "\n",
    "title: ACC-Automated Car Following Model\n",
    "date: 2023-02-28\n",
    "author: Hongtao Hao\n",
    "slug: acc\n",
    "draft: false\n",
    "toc: true\n",
    "tags: self-driving\n",
    "\n",
    "---"
   ]
  },
  {
   "cell_type": "markdown",
   "id": "30b2ebfa",
   "metadata": {},
   "source": [
    "{{<block class = \"note\">}}\n",
    "The material below is based on Professor [Xiaopeng Li](https://directory.engr.wisc.edu/cee/Faculty/Li_Xiaopeng/)'s course of *CIV ENGR 679 Connected and Automated Transport*\n",
    "{{<end>}}\n",
    "\n",
    "{{<block class = \"reminder\">}}\n",
    "This notebook runs in [Julia](https://julialang.org/) and is rendered by [Hupyter](https://github.com/hongtaoh/hupyter).\n",
    "{{<end>}}"
   ]
  },
  {
   "cell_type": "markdown",
   "id": "92d17a14",
   "metadata": {},
   "source": [
    "# ACC-Automated Car Following Model\n",
    "\n",
    "ACC is short for \"Adaptive cruise control\". It is a control model based on acceleration. It has the following formula:\n",
    "\n",
    "$$a_{AV} (t) = k_1 (g(t) - \\tau v_{AV}(t)) + k_2 \\Delta v$$\n",
    "\n",
    "## Functions\n",
    "\n",
    "- $a_{AV} (t)$: function of the acceleration of the ACC vehicle (which is following another vehilce), with respect to time\n",
    "- $g(t)$: function of the gap between the two vehicles (the position of the preceeding vehicle minus that of the ACC vehicle) with respect to time\n",
    "- $v_{AV}(t)$: function of the ACC vehicle's speed with respect to time. \n",
    "\n",
    "## Parameters\n",
    "\n",
    "- $k_1 = 0.23 s^{-2}$ (What does $s^{-2} mean?$)\n",
    "- $k_2 = 0.07 s^{-1}$\n",
    "- $\\tau$, safety time gap between the two vehicles\n",
    "\n",
    "## Example\n",
    "\n",
    "Let's consider the following example:\n",
    "\n",
    ">The preceding vehicle is cruising at 30m/s speed for the first 10 seconds, then decreasing to $10 m/s$ with deceleration $−2𝑚/𝑠^2$ and then accelerating to 30m/s with acceleration $2𝑚/𝑠^2$. The initial speed of the following ACC vehicle is 30m/s. \n",
    "\n",
    ">$\\tau = 1.1s$\n",
    "\n",
    ">Initial spacing is $20m$\n",
    "\n",
    "Based on the above settings, we want to plot the trajectory of the two vehhicles. "
   ]
  },
  {
   "cell_type": "code",
   "execution_count": 24,
   "id": "d3107ef4",
   "metadata": {},
   "outputs": [],
   "source": [
    "using Plots"
   ]
  },
  {
   "cell_type": "code",
   "execution_count": 25,
   "id": "1f766551",
   "metadata": {},
   "outputs": [
    {
     "data": {
      "text/plain": [
       "1.1"
      ]
     },
     "execution_count": 25,
     "metadata": {},
     "output_type": "execute_result"
    }
   ],
   "source": [
    "# Planned Trajectory\n",
    "v_cruise = 30 # m/s\n",
    "t_cruise = 10 # first 10 seconds\n",
    "a_decel = -2   # m/s^2\n",
    "a_accel = 2    # m/s^2\n",
    "init_space = 50 # initial spacing is 50 m\n",
    "init_acc_v = 30 # initial acc speed is 20 m/s\n",
    "\n",
    "k1 = 0.23\n",
    "k2 = 0.07 \n",
    "\n",
    "# speed when deceleration stops\n",
    "v_decel_end = 10\n",
    "\n",
    "# how much time the preceeding vehicle decelerates\n",
    "t_decel = (v_cruise - v_decel_end)/abs(a_decel) \n",
    "\n",
    "# speed when deceleration stops\n",
    "v_accel_end = 30\n",
    "\n",
    "# how much time the preceeding vehicle accelerates\n",
    "t_accel = (v_accel_end - v_decel_end)/abs(a_accel) \n",
    "\n",
    "time_interval = 0.2\n",
    "time_span = 0.0:time_interval:30\n",
    "\n",
    "safety_time_gap = 1.1"
   ]
  },
  {
   "cell_type": "code",
   "execution_count": 26,
   "id": "406d6d9d",
   "metadata": {},
   "outputs": [
    {
     "data": {
      "text/plain": [
       "traj (generic function with 1 method)"
      ]
     },
     "execution_count": 26,
     "metadata": {},
     "output_type": "execute_result"
    }
   ],
   "source": [
    "function traj(t)\n",
    "    \"\"\"This function defines the trajectory of the preceeding vehicle\n",
    "    \n",
    "        - v_p: the speed of the preceeding vehicle\n",
    "        - x_p: the distance the preceeding vehicle has travelled\n",
    "    \"\"\"\n",
    "    if t <= t_cruise\n",
    "        \n",
    "        v_p = v_cruise\n",
    "        x_p = init_space + v_cruise * t\n",
    "    elseif t <= t_cruise + t_decel\n",
    "        v_p = v_cruise + a_decel * (t - t_cruise)\n",
    "        # I used calculs to do this:\n",
    "        # from 10s to 20s, the speed w.r.t time is v(t) = 30 - 2t\n",
    "        # The integral of v(t) is the distance w.r.t time: S(t) = -t^2 + 30t + c\n",
    "        # since S(0) = 0, so c = 0\n",
    "        # therefore, S(t) = -t^2 + 30t\n",
    "        \n",
    "        # to be more general, 30 should be v_cruise here\n",
    "        x_p = init_space + v_cruise * t_cruise - (t-t_cruise)^2 + v_cruise * (t - t_cruise)\n",
    "    elseif t <= t_cruise + t_decel + t_accel\n",
    "        v_p = v_decel_end + a_accel * (t - t_cruise - t_decel)\n",
    "        # I used calculs to do this:\n",
    "        # from 20s to 30s, the speed w.r.t time is v(t) = 10 + 2t\n",
    "        # The integral of v(t) is the distance w.r.t time: S(t) = t^2 + 10t + c\n",
    "        # since S(0) = 0, so c = 0\n",
    "        # therefore, S(t) = t^2 + 10t\n",
    "        \n",
    "        # to be more general, 10 should be v_decel_end here\n",
    "        x_p = init_space + v_cruise * t_cruise - t_decel^2 + v_cruise * t_decel + (\n",
    "            t - t_cruise - t_decel)^2 + v_decel_end * (t - t_cruise - t_decel)\n",
    "    end\n",
    "    return (v_p, x_p)\n",
    "end"
   ]
  },
  {
   "cell_type": "code",
   "execution_count": 27,
   "id": "396b0346",
   "metadata": {},
   "outputs": [
    {
     "data": {
      "text/plain": [
       "traj_acc (generic function with 2 methods)"
      ]
     },
     "execution_count": 27,
     "metadata": {},
     "output_type": "execute_result"
    }
   ],
   "source": [
    "function traj_acc(t, safety_time_gap = safety_time_gap)\n",
    "    \"\"\"This function definds the trajectory of the acc vehicle\n",
    "    \"\"\"\n",
    "    # initialize at timestamp 0.0\n",
    "    v_p, x_p = traj(0)\n",
    "    x_av = 0\n",
    "    v_av = init_acc_v\n",
    "    a_av = k1*((x_p - x_av) - safety_time_gap*v_av) + k2 * (v_p - v_av)\n",
    "    \n",
    "    # if t == 0, return the initial result\n",
    "    if t == 0\n",
    "        return (x_av, v_av, a_av)\n",
    "    # otherwise, use for loop for calculation\n",
    "    else\n",
    "        for i in time_interval:time_interval:t\n",
    "            # the first is 0.2, then 0.4, 0.6...\n",
    "            v_p, x_p = traj(i)\n",
    "            \n",
    "            # calculate\n",
    "            v_av_prev = v_av\n",
    "            v_av += time_interval*a_av\n",
    "            ## HOW?\n",
    "            x_av += 0.5*(v_av + v_av_prev)*time_interval + time_interval^2 * 0.5*a_av\n",
    "            a_av = k1*((x_p - x_av) - safety_time_gap*v_av) + k2 * (v_p - v_av)\n",
    "            \n",
    "        end\n",
    "        # return the results\n",
    "\n",
    "        return (x_av, v_av, a_av)\n",
    "    end\n",
    "end"
   ]
  },
  {
   "cell_type": "code",
   "execution_count": 28,
   "id": "8b45a984",
   "metadata": {},
   "outputs": [
    {
     "data": {
      "text/plain": [
       "make_plot (generic function with 1 method)"
      ]
     },
     "execution_count": 28,
     "metadata": {},
     "output_type": "execute_result"
    }
   ],
   "source": [
    "function make_plot(data, title, label, xlabel, ylabel)\n",
    "    \"\"\"A helper function to make plots\n",
    "    \"\"\"\n",
    "    Plots.plot(time_span, data,\n",
    "    title=title,\n",
    "    label=label,\n",
    "    linewidth=3,\n",
    "    markershape = :auto,\n",
    "    linestyle = :auto,\n",
    "    mc= :auto,\n",
    "    xlabel = xlabel,\n",
    "    ylabel = ylabel,\n",
    "    legend=:bottom, legendcolumns=3\n",
    "    )\n",
    "end"
   ]
  },
  {
   "cell_type": "code",
   "execution_count": 29,
   "id": "ca1762ca",
   "metadata": {},
   "outputs": [],
   "source": [
    "# speed of preceeding vehicles\n",
    "vps = [traj(t)[1] for t in time_span]\n",
    "# distance of preceeding vehicles\n",
    "xps = [traj(t)[2] for t in time_span]\n",
    "\n",
    "# distance, speed, and acceleration of the acc vehicle\n",
    "x_av = [traj_acc(t, 1.1)[1] for t in time_span]\n",
    "v_av = [traj_acc(t, 1.1)[2] for t in time_span]\n",
    "a_av = [traj_acc(t, 1.1)[3] for t in time_span]\n",
    "\n",
    "make_plot(\n",
    "    [xps, x_av],\n",
    "    \"Distance travelled w.r.t time\",\n",
    "    [\"preceeding\" \"acc\"],\n",
    "    \"Time (in seconds)\",\n",
    "    \"Distance travelled (m)\"\n",
    ")\n",
    "savefig(\"juliaplots/acc-01.png\")"
   ]
  },
  {
   "cell_type": "markdown",
   "id": "c917aa13",
   "metadata": {},
   "source": [
    "![](juliaplots/acc-01.png)"
   ]
  },
  {
   "cell_type": "code",
   "execution_count": 30,
   "id": "7dea6255",
   "metadata": {},
   "outputs": [],
   "source": [
    "make_plot(\n",
    "    [xps - x_av],\n",
    "    \"Gap between proceeding and acc vehicle w.r.t time\",\n",
    "    \"proceeding position minus acc position\",\n",
    "    \"Time (in seconds)\",\n",
    "    \"Gap (m)\"\n",
    ")\n",
    "\n",
    "savefig(\"juliaplots/acc-02.png\")"
   ]
  },
  {
   "cell_type": "markdown",
   "id": "1688601e",
   "metadata": {},
   "source": [
    "![](juliaplots/acc-02.png)"
   ]
  },
  {
   "cell_type": "code",
   "execution_count": 31,
   "id": "523fe3ab",
   "metadata": {},
   "outputs": [],
   "source": [
    "make_plot(\n",
    "    [vps, v_av],\n",
    "    \"Speed w.r.t time\",\n",
    "    [\"preceeding\" \"acc\"],\n",
    "    \"Time (in seconds)\",\n",
    "    \"Speed (m/s)\"\n",
    ")\n",
    "\n",
    "savefig(\"juliaplots/acc-03.png\")"
   ]
  },
  {
   "cell_type": "markdown",
   "id": "e836371f",
   "metadata": {},
   "source": [
    "![](juliaplots/acc-03.png)"
   ]
  },
  {
   "cell_type": "code",
   "execution_count": 32,
   "id": "17b7db39",
   "metadata": {},
   "outputs": [],
   "source": [
    "make_plot(\n",
    "    a_av,\n",
    "    \"ACC vehicle acceleration w.r.t time\",\n",
    "    \"acceleration\",\n",
    "    \"Time (in seconds)\",\n",
    "    \"Acceleration\"\n",
    ")\n",
    "\n",
    "savefig(\"juliaplots/acc-04.png\")"
   ]
  },
  {
   "cell_type": "markdown",
   "id": "4cbd5636",
   "metadata": {},
   "source": [
    "![](juliaplots/acc-04.png)"
   ]
  },
  {
   "cell_type": "markdown",
   "id": "2fdc4b57",
   "metadata": {},
   "source": [
    "## What I do not understand\n",
    "\n",
    "1. [Google Sheets for ACC](https://docs.google.com/spreadsheets/d/1kSeWdyDF1gnNNEwKFBN29zWzcyX7k-B9Sc0zWvZcRpo/edit#gid=1630639848)\n",
    "\n",
    "2. [Google Sheets for PID](https://docs.google.com/spreadsheets/d/1rYf5kZiMirUJiOOgMYzvGVHzhcNX72qXp2s-rhQdn4c/edit#gid=304110156)\n",
    "\n",
    "- k1, k2\n",
    "\n",
    "Think about the units. You'll understand why k1 is $s^{-2}$ and k2 $s^{-1}$\n",
    "\n",
    "\n",
    "- how to calculate x_av\n",
    "\n",
    "Use the quadratic function. If the initial velocity is $v1$ and the acceleration is $a$, from t = 0 to t = t, the distance travelled is $v1\\cdot t + 0.5\\cdot a \\cdot t^2$\n",
    "\n",
    "- responsive planning, how to calculate a_ac\n",
    "\n",
    "Identify two spots (the initial one and the critical one). Then use two functions to simulate the curves. \n",
    "\n",
    "- how to always keep the safety time gap\n",
    "\n",
    "You don't have to. \n",
    "\n",
    "- how to get the exact distance (x_av) function w.r.t time for ac? I know probably we need to use calculs again. But it's difficult because we need v_av in the function of x_av, and we need a_av in the function of v_av. However, we need v_av also in the function of a_av\n",
    "\n",
    "It's very difficult to get the analytical form. "
   ]
  }
 ],
 "metadata": {
  "kernelspec": {
   "display_name": "Julia 1.7.1",
   "language": "julia",
   "name": "julia-1.7"
  },
  "language_info": {
   "file_extension": ".jl",
   "mimetype": "application/julia",
   "name": "julia",
   "version": "1.7.1"
  }
 },
 "nbformat": 4,
 "nbformat_minor": 5
}

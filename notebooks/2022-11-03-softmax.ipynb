{
 "cells": [
  {
   "cell_type": "markdown",
   "id": "1222b407",
   "metadata": {},
   "source": [
    "---\n",
    "\n",
    "title: How to Take the Derivative of the Softmax Function\n",
    "date: 2022-11-03\n",
    "author: Hongtao Hao\n",
    "slug: softmax-derivative\n",
    "draft: false\n",
    "toc: true\n",
    "tags: ML\n",
    "\n",
    "---"
   ]
  },
  {
   "cell_type": "markdown",
   "id": "aee5b0cf",
   "metadata": {},
   "source": [
    "{{<block class=\"note\">}}\n",
    "This blog post is inspired by [MLDawn's video](https://www.youtube.com/watch?v=09c7bkxpv9I) on the same topic. \n",
    "{{<end>}}"
   ]
  },
  {
   "cell_type": "markdown",
   "id": "1ca7ebe8",
   "metadata": {},
   "source": [
    "Suppose we have a vector: $[z_1, z_2, z_3]$. Softmax function is in the form of:\n",
    "\n",
    "$$S(z_1) = \\frac{e^{z_1}}{e^{z_1} + e^{z_2} + e^{z_3}}$$\n",
    "\n",
    "$$S(z_2) = \\frac{e^{z_2}}{e^{z_1} + e^{z_2} + e^{z_3}}$$\n",
    "\n",
    "$$S(z_3) = \\frac{e^{z_3}}{e^{z_1} + e^{z_2} + e^{z_3}}$$"
   ]
  },
  {
   "cell_type": "markdown",
   "id": "72be74cf",
   "metadata": {},
   "source": [
    "Now, we want to take the derivative of $S(z_1)$. Let's do it now. \n",
    "\n",
    "It should be noted that in the calculation of $S(z_1)$, there are three variables: $z_1$, $z_2$ and $z_3$. Therefore, when we talk about the derivative of $S(z_1)$, we need to specify the derivative with respect to which variable. \n",
    "\n",
    "In the following, we will derive the derivative of $S(z_1)$. To understand the steps, we need to first understand the following.\n",
    "\n",
    "## Pre-requisite knowledge \n",
    "\n",
    "### Quotient Rule\n",
    "\n",
    "The quotient rule goes like this. If we have \n",
    "\n",
    "$$f(x) = \\frac{g(x)}{h(x)}$$\n",
    "\n",
    "Then the derivative of $f(x)$ is:\n",
    "\n",
    "$$f^\\prime(x) = \\frac{df}{dx} = \\frac{g^\\prime(x)\\cdot h(x) - g(x)\\cdot h^\\prime(x)}{(h(x))^2}$$\n",
    "\n",
    "I know you may wonder why. I can derive it from the product rule. Let's say \n",
    "\n",
    "$$t(x) = \\frac{1}{h(x)}$$\n",
    "\n",
    "We have\n",
    "\n",
    "$$f(x) = \\frac{g(x)}{h(x)} = g(x)\\cdot t(x)$$\n",
    "\n",
    "According to product rule, we have:\n",
    "\n",
    "$$f^\\prime(x) = g(x)\\cdot t^\\prime(x) + g^\\prime(x)\\cdot t(x)$$\n",
    "\n",
    "How to get $t^\\prime(x)$? This has to do with the chain rule. \n",
    "\n",
    "Let's say we have \n",
    "\n",
    "$$t(m) = m^{-1}$$\n",
    "\n",
    "and \n",
    "\n",
    "$$m = h(x)$$\n",
    "\n",
    "So\n",
    "\n",
    "$$\\begin{aligned} t^\\prime(x) &= \\frac{dt}{dx} \\\\ & = \\frac{dt}{dm}\\cdot \\frac{dm}{dx} \\\\ &= -m^{-2}\\cdot h^\\prime(x) \\\\ &= -(h(x))^{-2}\\cdot h^\\prime(x)\\end{aligned}$$\n",
    "\n",
    "So we have:\n",
    "\n",
    "$$\\begin{aligned} f^\\prime(x) &= g(x)\\cdot t^\\prime(x) + g^\\prime(x)\\cdot t(x) \\\\&= g(x)(-(h(x))^{-2}h(x)) + g^\\prime(x)(h(x))^{-1} \\\\ &= \\frac{-g(x)h^\\prime(x)}{(h(x))^2} + \\frac{g^\\prime(x)}{h(x)} \\\\ &= \\frac{g^\\prime(x)h(x) - g(x)h^\\prime(x)}{(h(x))^2} \\end{aligned}$$\n",
    "\n",
    "### Sum rule\n",
    "\n",
    "If we have \n",
    "\n",
    "$$f(x) = g(x) + h(x)$$\n",
    "\n",
    "Then,\n",
    "\n",
    "$$f^\\prime(x) = g^\\prime(x) + h^\\prime(x)$$\n",
    "\n",
    "### E\n",
    "\n",
    "You also need to know that the derivative of $e^x$ is $e^x$ itself. \n",
    "\n",
    "### Sum\n",
    "\n",
    "You also need to know that \n",
    "\n",
    "$$\\sum^{i = 1}_{N} S(z_i) = 1$$"
   ]
  },
  {
   "cell_type": "markdown",
   "id": "b638392e",
   "metadata": {},
   "source": [
    "## Derivation\n",
    "\n",
    "Armed with the above knowledge, we can calcuate the derivative of softmax functions. Let us say we want to take the derivative of $S(z_1)$ with respect to $z_1$:\n",
    "\n",
    "$$\\begin{aligned} \\frac{\\partial S(z_1)}{\\partial z_1} & = \\frac{\\partial}{\\partial z_1} (\\frac{e^{z_1}}{e^{z_1} + e^{z_2} + e^{z_3}}) \\\\\n",
    "&= \\frac{(e^{z_1})^\\prime \\cdot (e^{z_1} + e^{z_2} + e^{z_3}) - e^{z_1} \\cdot (e^{z_1} + e^{z_2} + e^{z_3})^\\prime}{(e^{z_1} + e^{z_2} + e^{z_3})^2} \\\\\n",
    "& = \\frac{e^{z_1}\\cdot (e^{z_1} + e^{z_2} + e^{z_3}) - e^{z_1} \\cdot (e^{z_1} + 0 + 0)}{(e^{z_1} + e^{z_2} + e^{z_3})^2} \\\\\n",
    "& = \\frac{e^{z_1} (\\sum - e^{z_1})}{\\sum^2} \\\\\n",
    "& = \\frac{e^{z_1}}{\\sum} \\cdot \\frac{\\sum - e^{z_1}}{\\sum} \\\\\n",
    "& = S(z_1) (1 - S(z_1))\n",
    "\\end{aligned}$$"
   ]
  },
  {
   "cell_type": "markdown",
   "id": "989440bf",
   "metadata": {},
   "source": [
    "Then, what about the derivative of $S(z_1)$ with respect to $z_2$?"
   ]
  },
  {
   "cell_type": "markdown",
   "id": "440ee221",
   "metadata": {},
   "source": [
    "$$\\begin{aligned} \\frac{\\partial S(z_1)}{\\partial z_2} & = \\frac{\\partial}{\\partial z_1} (\\frac{e^{z_1}}{e^{z_1} + e^{z_2} + e^{z_3}}) \\\\\n",
    "&= \\frac{(e^{z_1})^\\prime \\cdot (e^{z_1} + e^{z_2} + e^{z_3}) - e^{z_1} \\cdot (e^{z_1} + e^{z_2} + e^{z_3})^\\prime}{(e^{z_1} + e^{z_2} + e^{z_3})^2} \\\\\n",
    "& = \\frac{0 \\cdot (e^{z_1} + e^{z_2} + e^{z_3}) - e^{z_1} \\cdot (0 + e^{z_2} + 0 )}{(e^{z_1} + e^{z_2} + e^{z_3})^2} \\\\\n",
    "& = \\frac{- e^{z_1} \\cdot e^{z_2}}{\\sum^2} \\\\\n",
    "& = - \\frac{e^{z_1}}{\\sum} \\cdot \\frac{e^{z_2}}{\\sum} \\\\\n",
    "& = - S(z_1) S(z_2)\n",
    "\\end{aligned}$$"
   ]
  },
  {
   "cell_type": "markdown",
   "id": "267935e2",
   "metadata": {},
   "source": [
    "## Conclusion"
   ]
  },
  {
   "cell_type": "markdown",
   "id": "aace412f",
   "metadata": {},
   "source": [
    "With the above, we can say that for \n",
    "\n",
    "$$S(z_i) = \\frac{e^{z_i}}{\\sum^{N}_{j = 1} e^{z_j}}$$\n",
    "\n",
    "It derivative \n",
    "\n",
    "$$\\frac{\\partial S(z_i)}{\\partial z_j}$$\n",
    "\n",
    "When $i = j$:\n",
    "\n",
    "$$\\frac{\\partial S(z_i)}{\\partial z_j} = S(z_i)(1 - S(z_i))$$\n",
    "\n",
    "If $i \\neq j$:\n",
    "\n",
    "$$\\frac{\\partial S(z_i)}{\\partial z_j} = - S(z_i)S(z_j)$$"
   ]
  }
 ],
 "metadata": {
  "kernelspec": {
   "display_name": "Python 3 (ipykernel)",
   "language": "python",
   "name": "python3"
  },
  "language_info": {
   "codemirror_mode": {
    "name": "ipython",
    "version": 3
   },
   "file_extension": ".py",
   "mimetype": "text/x-python",
   "name": "python",
   "nbconvert_exporter": "python",
   "pygments_lexer": "ipython3",
   "version": "3.10.4"
  }
 },
 "nbformat": 4,
 "nbformat_minor": 5
}

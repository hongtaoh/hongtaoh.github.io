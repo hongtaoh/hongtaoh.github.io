{
 "cells": [
  {
   "cell_type": "markdown",
   "metadata": {},
   "source": [
    "---\n",
    "\n",
    "title: 双样本 T 检测\n",
    "date: 2024-10-22\n",
    "author: 郝鸿涛\n",
    "slug: 2-sample-t\n",
    "draft: false\n",
    "toc: true\n",
    "tags: 统计学\n",
    "\n",
    "---"
   ]
  },
  {
   "cell_type": "markdown",
   "metadata": {},
   "source": [
    "## 配对样本\n",
    "\n",
    "我们首先来看配对样本检测。为了检测一个药物的作用，我们测量了患者服药前的血压 ($X_1$)，以及服药后的血压 ($X_2$)."
   ]
  },
  {
   "cell_type": "code",
   "execution_count": 25,
   "metadata": {},
   "outputs": [],
   "source": [
    "import numpy as np\n",
    "import pandas as pd \n",
    "import matplotlib.pyplot as plt\n",
    "from scipy.stats import t"
   ]
  },
  {
   "cell_type": "code",
   "execution_count": 26,
   "metadata": {},
   "outputs": [
    {
     "data": {
      "text/html": [
       "<div>\n",
       "<style scoped>\n",
       "    .dataframe tbody tr th:only-of-type {\n",
       "        vertical-align: middle;\n",
       "    }\n",
       "\n",
       "    .dataframe tbody tr th {\n",
       "        vertical-align: top;\n",
       "    }\n",
       "\n",
       "    .dataframe thead th {\n",
       "        text-align: right;\n",
       "    }\n",
       "</style>\n",
       "<table border=\"1\" class=\"dataframe\">\n",
       "  <thead>\n",
       "    <tr style=\"text-align: right;\">\n",
       "      <th></th>\n",
       "      <th>Subject</th>\n",
       "      <th>Before (X1)</th>\n",
       "      <th>After (X2)</th>\n",
       "    </tr>\n",
       "  </thead>\n",
       "  <tbody>\n",
       "    <tr>\n",
       "      <th>0</th>\n",
       "      <td>1</td>\n",
       "      <td>90</td>\n",
       "      <td>88</td>\n",
       "    </tr>\n",
       "    <tr>\n",
       "      <th>1</th>\n",
       "      <td>2</td>\n",
       "      <td>100</td>\n",
       "      <td>92</td>\n",
       "    </tr>\n",
       "    <tr>\n",
       "      <th>2</th>\n",
       "      <td>3</td>\n",
       "      <td>92</td>\n",
       "      <td>82</td>\n",
       "    </tr>\n",
       "    <tr>\n",
       "      <th>3</th>\n",
       "      <td>4</td>\n",
       "      <td>96</td>\n",
       "      <td>90</td>\n",
       "    </tr>\n",
       "    <tr>\n",
       "      <th>4</th>\n",
       "      <td>5</td>\n",
       "      <td>96</td>\n",
       "      <td>78</td>\n",
       "    </tr>\n",
       "    <tr>\n",
       "      <th>5</th>\n",
       "      <td>6</td>\n",
       "      <td>96</td>\n",
       "      <td>86</td>\n",
       "    </tr>\n",
       "    <tr>\n",
       "      <th>6</th>\n",
       "      <td>7</td>\n",
       "      <td>92</td>\n",
       "      <td>88</td>\n",
       "    </tr>\n",
       "    <tr>\n",
       "      <th>7</th>\n",
       "      <td>8</td>\n",
       "      <td>98</td>\n",
       "      <td>72</td>\n",
       "    </tr>\n",
       "    <tr>\n",
       "      <th>8</th>\n",
       "      <td>9</td>\n",
       "      <td>102</td>\n",
       "      <td>84</td>\n",
       "    </tr>\n",
       "    <tr>\n",
       "      <th>9</th>\n",
       "      <td>10</td>\n",
       "      <td>94</td>\n",
       "      <td>102</td>\n",
       "    </tr>\n",
       "    <tr>\n",
       "      <th>10</th>\n",
       "      <td>11</td>\n",
       "      <td>94</td>\n",
       "      <td>94</td>\n",
       "    </tr>\n",
       "    <tr>\n",
       "      <th>11</th>\n",
       "      <td>12</td>\n",
       "      <td>102</td>\n",
       "      <td>70</td>\n",
       "    </tr>\n",
       "    <tr>\n",
       "      <th>12</th>\n",
       "      <td>13</td>\n",
       "      <td>94</td>\n",
       "      <td>94</td>\n",
       "    </tr>\n",
       "    <tr>\n",
       "      <th>13</th>\n",
       "      <td>14</td>\n",
       "      <td>88</td>\n",
       "      <td>92</td>\n",
       "    </tr>\n",
       "    <tr>\n",
       "      <th>14</th>\n",
       "      <td>15</td>\n",
       "      <td>104</td>\n",
       "      <td>94</td>\n",
       "    </tr>\n",
       "  </tbody>\n",
       "</table>\n",
       "</div>"
      ],
      "text/plain": [
       "    Subject  Before (X1)  After (X2)\n",
       "0         1           90          88\n",
       "1         2          100          92\n",
       "2         3           92          82\n",
       "3         4           96          90\n",
       "4         5           96          78\n",
       "5         6           96          86\n",
       "6         7           92          88\n",
       "7         8           98          72\n",
       "8         9          102          84\n",
       "9        10           94         102\n",
       "10       11           94          94\n",
       "11       12          102          70\n",
       "12       13           94          94\n",
       "13       14           88          92\n",
       "14       15          104          94"
      ]
     },
     "execution_count": 26,
     "metadata": {},
     "output_type": "execute_result"
    }
   ],
   "source": [
    "# 此例取自 Chelsey Green 老师教的 STAT 571 at UW-Madison, 2024Fall\n",
    "X1 = np.array([90, 100, 92, 96, 96, 96, 92, 98, 102, 94, 94, 102, 94, 88, 104])\n",
    "X2 = np.array([88, 92, 82, 90, 78, 86, 88, 72, 84, 102, 94, 70, 94, 92, 94])\n",
    "data = {\n",
    "    \"Subject\": range(1, 16),\n",
    "    \"Before (X1)\": X1,\n",
    "    \"After (X2)\": X2\n",
    "}\n",
    "# Creating a DataFrame\n",
    "df = pd.DataFrame(data)\n",
    "df"
   ]
  },
  {
   "cell_type": "markdown",
   "metadata": {},
   "source": [
    "现在问题来了：请问这个药对于改变病人的血压有效果吗？\n",
    "\n",
    "上面我们只是对 15 名患者进行实验，现在想象我们对无数患者实验，这些无数患者在服药前血压的均值为 $\\mu_1$，标准差为 $\\sigma_1$，服药后血压均值为 $\\mu_2$，标准差为 $\\sigma_2$。我们假设一个群体中所有人的血压分布服从正态分布。\n",
    "\n",
    "我们假设这款药对于改变病人的血压无效，也即 $H_0: \\mu_1 = \\mu_2$，$H_A: \\mu_1 \\ne \\mu_2$。\n",
    "\n",
    "这里有一点没有说明，如果药物无效，那么病人服药前后血压其实是来自一个母体，所以 $\\sigma_1 = \\sigma2$\n",
    "\n",
    "我们把患者 $i$ 服药前后血压差记为 $D_i$。\n",
    "\n",
    "$$D_i = X_{1 i} - X_{2 i}$$\n",
    "\n",
    "如果 $H_0: \\mu_1 = \\mu_2$ 成立，那么 $\\mathbb{E} (D)$ 该是什么？\n",
    "\n",
    "如果 $H_0$ 成立，我们知道 $\\mu_1 = \\mu_2$ 并且 $\\sigma_1 = \\sigma_2$，那么就相当于**从同一个正态分布每次取两个数，算出这两个数的差，重复无数次**。\n",
    "\n",
    "下面我们模拟一下："
   ]
  },
  {
   "cell_type": "code",
   "execution_count": 21,
   "metadata": {},
   "outputs": [],
   "source": [
    "def obtain_mean_diff(mean, std_dev, size):\n",
    "    data1 = np.random.normal(mean, std_dev, size)\n",
    "    data2 = np.random.normal(mean, std_dev, size)\n",
    "    mean_diff = np.mean(data1 - data2)\n",
    "    return mean_diff\n",
    "\n",
    "mean_diffs = []\n",
    "mean = 100       \n",
    "std_dev = 15\n",
    "size = 10\n",
    "for _ in range(100000):\n",
    "    mean_diff = obtain_mean_diff(mean, std_dev, size)\n",
    "    mean_diffs.append(mean_diff)"
   ]
  },
  {
   "cell_type": "code",
   "execution_count": 22,
   "metadata": {},
   "outputs": [
    {
     "data": {
      "image/png": "[encoded data removed]",
      "text/plain": [
       "<Figure size 600x400 with 1 Axes>"
      ]
     },
     "metadata": {},
     "output_type": "display_data"
    }
   ],
   "source": [
    "plt.figure(figsize=(6, 4))\n",
    "plt.hist(mean_diffs, bins=\"auto\", density=False, alpha=0.6, color='g', edgecolor='black')\n",
    "# Add titles and labels\n",
    "plt.title(f\"Histogram of Mean Differences in Blood Pressue, sample Size = {len(mean_diffs)}, \"\\\n",
    "          f\"μ = {np.mean(mean_diffs):.2f}\")\n",
    "plt.xlabel('Difference in Blood Pressure')\n",
    "plt.ylabel('Frequency')\n",
    "plt.show()"
   ]
  },
  {
   "cell_type": "markdown",
   "metadata": {},
   "source": [
    "我们看到 $\\mathbb{E}(D) = 0$，这应该很好理解，即使没有上面的模拟。\n",
    "\n",
    "回到我们最初的问题：这款药到底有没有效。我们通过上面的模拟，知道了总体 $D$ 是一个均值为 0 的正态分布。若 $H_0$ 成立，则相当于我们从总体 $D$ 中随机抽取了 15 个数（即，15 名患者服药前后血压差）。按照[中心极限定理](/cn/2024/09/24/clt/)，这 15 个数的平均值「应该」离 0 不远。具体有多远，我们使用 Z 分数看一下就知道了，但我们并不知道母体 $D$ 的标准差为何，所以只能用样本标准差来估计，这就转换成了一个很典型的单样本 T 检验问题，我们[之前讲过](/cn/2024/09/29/t/)。\n",
    "\n",
    "$$t = \\frac{\\bar{D} - \\mathbb{E}(D)}{\\frac{S_D}{\\sqrt{15}}}$$"
   ]
  },
  {
   "cell_type": "code",
   "execution_count": 23,
   "metadata": {},
   "outputs": [
    {
     "data": {
      "text/plain": [
       "0.007749436106654128"
      ]
     },
     "execution_count": 23,
     "metadata": {},
     "output_type": "execute_result"
    }
   ],
   "source": [
    "d = X1 - X2\n",
    "d_bar = np.mean(d)\n",
    "s_d = np.std(d, ddof=1)\n",
    "t_value = d_bar / (s_d/np.sqrt(len(X1)))\n",
    "df = len(X1) - 1\n",
    "p_value = 2*(1 - t.cdf(abs(t_value), df = df))\n",
    "p_value"
   ]
  },
  {
   "cell_type": "markdown",
   "metadata": {},
   "source": [
    "我们看到 $p$ 值 小于 0.01。这表示如果 $H_0$ 成立，那么我们观测到 $X_1$ 和 $X_2$ 这次结果的概率小于 0.01，所以我们有理由拒绝这个陈述：该药物无效。\n",
    "\n",
    "换成人话就是，如果该药物无效，这次实验结果出现的概率很低。所以我们拒绝承认该药物无效这个说法。"
   ]
  },
  {
   "cell_type": "markdown",
   "metadata": {},
   "source": [
    "## 独立样本\n",
    "\n",
    "### 方差相等\n",
    "\n",
    "看完配对样本，我们再来看一下独立样本。\n",
    "\n",
    "为了检测一款药物的疗效，我们让第一组 15 名患者服用该药物并测量了血压 ($X_1$)，让第二组 10 名患者服用安慰剂并测量了血压 ($X_2$)。"
   ]
  },
  {
   "cell_type": "code",
   "execution_count": 24,
   "metadata": {},
   "outputs": [],
   "source": [
    "X1 = np.array([90, 100, 92, 96, 96, 96, 92, 98, 102, 94, 94, 102, 94, 88, 104])\n",
    "X2 = np.array([88, 92, 82, 90, 78, 86, 88, 72, 84, 102])"
   ]
  },
  {
   "cell_type": "markdown",
   "metadata": {},
   "source": [
    "请问：该药物对于改变病人血压是否有效？\n",
    "\n",
    "这次的观察结果和配对样本的不同在于，在这次的独立样本中，我们无法使用 $D_i = X_{1 i} - X_{2 i}$ 这个概念，因为并不存在两两对应的这一情况。\n",
    "\n",
    "上面我们只是对 15 名和 10 名患者进行实验，现在想象有无数的患者服用该药物后的血压的均值为 $\\mu_1$，标准差为 $\\sigma_1$。有无数的患者服用安慰剂后的血压均值为 $\\mu_2$，标准差为 $\\sigma_2$。\n",
    "\n",
    "我们把上面这句话换成更专业的语言。\n",
    "\n",
    "有两组独立样本：\n",
    "\n",
    "样本 $X_1$：$X_1, X_2 ... X_{n_1}$ 来自总体 $\\mathcal{N} (\\mu_1, \\sigma_1)$\n",
    "\n",
    "样本 $X_2$：$Y_1, Y_2 ... Y_{n_2}$ 来自总体 $\\mathcal{N} (\\mu_2, \\sigma_2)$\n",
    "\n",
    "我们假设服用该药物的母体和服用安慰剂的母体，血压标准差一样，也就是说 $\\sigma_1 = \\sigma_2 = \\sigma$。\n",
    "\n",
    "根据[中心极限定理](/cn/2024/09/24/clt/)，我们知道\n",
    "\n",
    "$$\\bar{X_1} \\sim \\mathcal{N}\\left(\\mu_1, \\frac{\\sigma^2}{n_1} \\right)$$\n",
    "\n",
    "$$\\bar{X_2} \\sim \\mathcal{N}\\left(\\mu_2, \\frac{\\sigma^2}{n_2} \\right)$$\n",
    "\n",
    "我们进一步知道：\n",
    "\n",
    "$$\\bar{X_1} - \\bar{X_2} \\sim \\mathcal{N}\\left(\\mu_1 - \\mu_2,  \\frac{\\sigma^2}{n_1} + \\frac{\\sigma^2}{n_2}\\right)$$\n",
    "\n",
    "这一点我现在懒得证明，感兴趣的朋友自己用代码模拟一下就知道了。\n",
    "\n",
    "我们假设这款药对于改变病人的血压无效，也即 $H_0: \\mu_1 = \\mu_2$，$H_A: \\mu_1 \\ne \\mu_2$。\n",
    "\n",
    "所以\n",
    "\n",
    "$$\\bar{X_1} - \\bar{X_2} \\sim \\mathcal{N}\\left(0,  \\frac{\\sigma^2}{n_1} + \\frac{\\sigma^2}{n_2}\\right)$$\n",
    "\n",
    "转换成 $Z$ 分数：\n",
    "\n",
    "$$Z = \\frac{\\bar{X_1} - \\bar{X_2}}{\\sigma \\sqrt{\\frac{1}{n_1} + \\frac{1}{n_2}}} \\sim \\mathcal{N}(0, 1)$$\n",
    "\n",
    "$t$ 分布的含义是说，在 $Z$ 分布中，当我们用样本方差来估计总体方差时，得出来的 $Z$ 服从 $t$ 分布。现在的问题是，如何得到样本方差。\n",
    "\n",
    "我们知道样本 1 和样本 2 的方差分别为：\n",
    "\n",
    "$$s_1^2 = \\frac{1}{n_1 - 1}\\sum_{i = 1}^{n_1}\\left(X_{i} -  \\bar{X_1}\\right)$$\n",
    "\n",
    "$$s_2^2 = \\frac{1}{n_2 - 1}\\sum_{i = 1}^{n_2}\\left(Y_{i} -  \\bar{X_2}\\right)$$\n",
    "\n",
    "我们这样计算 $X_1 - X_2$ 的方差：\n",
    "\n",
    "$$S_p^2 = \\frac{(n_1 - 1)s_1^2 + (n_2 - 1)s_2^2}{n_1 + n_2 - 2}$$\n",
    "\n",
    "我们现在想证明的是：\n",
    "\n",
    "$$\\frac{\\bar{X_1} - \\bar{X_2}}{S_p \\sqrt{\\frac{1}{n_1} + \\frac{1}{n_2}}} \\sim t_{n_1 + n_2 - 2}$$"
   ]
  },
  {
   "cell_type": "markdown",
   "metadata": {},
   "source": [
    "那我们来证明一下。\n",
    "\n",
    "首先，根据[卡方分布的知识](/cn/2024/09/29/chi2/)，我们知道\n",
    "\n",
    "$$\\frac{(n_1 - 1)s_1^2}{\\sigma^2} \\sim \\chi_{n_1 - 1}^2$$\n",
    "\n",
    "$$\\frac{(n_2 - 1)s_2^2}{\\sigma^2} \\sim \\chi_{n_2 - 1}^2$$\n",
    "\n",
    "卡方分布有一个性质：如果两个独立随机变量的分布服从卡方分布，那么这两个随机变量之和也服从卡方分布，且自由度是这两个卡方分布自由度之和。所以\n",
    "\n",
    "$$\\frac{(n_1 - 1)s_1^2 + (n_2 - 1)s_2^2}{\\sigma^2} \\sim \\chi_{n_1 + n_2 - 2}^2$$\n",
    "\n",
    "所以\n",
    "\n",
    "$$S_p^2 \\sim \\frac{\\sigma^2}{n_1 + n_2 - 1} \\chi_{n_1 + n_2 - 2}^2$$\n",
    "\n",
    "所以\n",
    "\n",
    "$$S_p = \\sigma \\sqrt{\\frac{\\chi_{n_1 + n_2 - 2}^2}{n_1 + n_2 - 1}}$$\n",
    "\n",
    "\n",
    "我们把上面这个公式以及\n",
    "\n",
    "$$\\bar{X_1} - \\bar{X_2} = Z \\cdot \\sigma \\cdot \\sqrt{\\frac{1}{n_1} + \\frac{1}{n_2}}$$\n",
    "\n",
    "代入\n",
    "\n",
    "$$\\frac{\\bar{X_1} - \\bar{X_2}}{S_p \\sqrt{\\frac{1}{n_1} + \\frac{1}{n_2}}}$$\n",
    "\n",
    "得到\n",
    "\n",
    "$$\\frac{\\bar{X_1} - \\bar{X_2}}{S_p \\sqrt{\\frac{1}{n_1} + \\frac{1}{n_2}}} = \\frac{Z}{\\sqrt{\\frac{\\chi_{n_1 + n_2 - 2}^2}{n_1 + n_2 - 1}}}$$\n",
    "\n",
    "这个结果和我们在 [t 分布](/cn/2024/09/29/t/) 讲的一样，所以\n",
    "\n",
    "$$\\frac{\\bar{X_1} - \\bar{X_2}}{S_p \\sqrt{\\frac{1}{n_1} + \\frac{1}{n_2}}} \\sim t_{n_1 + n_2 - 2}$$\n",
    "\n",
    "得证。"
   ]
  },
  {
   "cell_type": "markdown",
   "metadata": {},
   "source": [
    "### 方差不等\n",
    "\n",
    "同样的问题，如果我们无法确定两个总体的方差相等，那么\n",
    "\n",
    "$$\\bar{X_1} - \\bar{X_2} \\sim \\mathcal{N}\\left(\\mu_1 - \\mu_2,  \\frac{\\sigma_1^2}{n_1} + \\frac{\\sigma_2^2}{n_2}\\right)$$\n",
    "\n",
    "若 $H_0$ 成立：\n",
    "\n",
    "$$\\bar{X_1} - \\bar{X_2} \\sim \\mathcal{N}\\left(0,  \\frac{\\sigma_1^2}{n_1} + \\frac{\\sigma_2^2}{n_2}\\right)$$\n",
    "\n",
    "所以\n",
    "\n",
    "$$T = \\frac{\\bar{X_1} - \\bar{X_2}}{\\sqrt{\\frac{s_1^2}{n_1} + \\frac{s_2^2}{n_2}}}$$\n",
    "\n",
    "这样算出来的 $T$ 并不符合 $t_{n_1 + n_2 - 2}$。统计量 $T$ 只是近似服从 t 分布，自由度计算方法如下：\n",
    "\n",
    "$$\\frac{\\left(\\frac{s_1^2}{n_1} + \\frac{s_2^2}{n_1}\\right)^2}{\\frac{1}{n_1 - 1}\\left(\\frac{s_1^2}{n_1}\\right)^2 + \\frac{1}{n_2 - 1}\\left(\\frac{s_2^2}{n_2}\\right)^2}$$\n",
    "\n",
    "这被称为 [Welch's t test](https://en.wikipedia.org/wiki/Welch%27s_t-test)。"
   ]
  }
 ],
 "metadata": {
  "kernelspec": {
   "display_name": "bayes",
   "language": "python",
   "name": "python3"
  },
  "language_info": {
   "codemirror_mode": {
    "name": "ipython",
    "version": 3
   },
   "file_extension": ".py",
   "mimetype": "text/x-python",
   "name": "python",
   "nbconvert_exporter": "python",
   "pygments_lexer": "ipython3",
   "version": "3.8.19"
  }
 },
 "nbformat": 4,
 "nbformat_minor": 2
}

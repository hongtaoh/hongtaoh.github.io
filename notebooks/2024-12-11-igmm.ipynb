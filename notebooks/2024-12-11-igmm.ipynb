{
 "cells": [
  {
   "cell_type": "markdown",
   "metadata": {},
   "source": [
    "---\n",
    "\n",
    "title: \"无限高斯混合模型\"\n",
    "date: 2024-12-11T14:00:00-06:00\n",
    "author: 郝鸿涛\n",
    "slug: igmm\n",
    "draft: false\n",
    "toc: false\n",
    "tags: 统计\n",
    "---"
   ]
  },
  {
   "cell_type": "markdown",
   "metadata": {},
   "source": [
    "无限高斯混合模型 (Infinite Gaussian Mixture Model, IGMM) 是 [高斯混合模型](/cn/2024/11/21/gmm/) 的延伸。它处理这样的情况：我们不知道有几个簇 (cluster) 。这时候就不能用 GMM 中用到的 E-M 算法了。\n",
    "\n",
    "解决方法是我们假设有无数个簇。设数据点 $x_i$ 所属的簇为 $z_i = k$。其中 $k$ 表示一个簇。我们假设每个簇的数据符合正态分布，$\\mathcal{N}(\\mu_k, \\sigma_k)$。那我们最后想得到的是两个概率分布：\n",
    "\n",
    "1. 对于一个数据点 $x_i$，我们想知道该数据点属于某一个簇的概率，$P(z_i = k|x_i)$，这是一个离散分布。\n",
    "2. 已知 $x_i$ 属于某一个簇，我们想知道不同 $\\mu_k$ 与 $\\sigma_k$ 的概率，$P(\\mu_k, \\sigma_k|z_i = k, x_i)$，这是一个连续分布。\n",
    "\n",
    "为了计算这两个概率，我们需要拿出「贝叶斯公式」这个杀手锏：\n",
    "\n",
    "\\begin{equation}\n",
    "P(z_i = k|x_i) \\propto P(z_i = k) \\cdot P(x_i|z_i = k) \\tag{1}\n",
    "\\end{equation}\n",
    "\n",
    "\\begin{equation}\n",
    "P(\\mu_k, \\sigma_k|z_i = k, x_i) \\propto P(\\mu_k, \\sigma_k) \\cdot P(z_i = k, x_i|\\mu_k, \\sigma_k) \\tag{2}\n",
    "\\end{equation}"
   ]
  }
 ],
 "metadata": {
  "kernelspec": {
   "display_name": "bayes",
   "language": "python",
   "name": "python3"
  },
  "language_info": {
   "name": "python",
   "version": "3.8.19"
  }
 },
 "nbformat": 4,
 "nbformat_minor": 2
}

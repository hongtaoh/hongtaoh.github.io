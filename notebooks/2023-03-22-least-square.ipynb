{
 "cells": [
  {
   "cell_type": "markdown",
   "id": "3f496aaf",
   "metadata": {},
   "source": [
    "---\n",
    "\n",
    "title: \"Optimization: Least Squares\"\n",
    "date: 2023-03-22\n",
    "author: Hongtao Hao\n",
    "slug: least-squares\n",
    "draft: false\n",
    "toc: false\n",
    "tags: Optimization\n",
    "\n",
    "---"
   ]
  },
  {
   "cell_type": "markdown",
   "id": "57fde22d",
   "metadata": {},
   "source": [
    "{{<block class = \"note\">}}\n",
    "Images in this posst came from the slides of [CS524 at UW-Madison](https://laurentlessard.com/teaching/524-intro-to-optimization/), 2023Spring\n",
    "{{<end>}}\n",
    "\n",
    "{{<block class = \"reminder\">}}\n",
    "This notebook runs in [Julia](https://julialang.org/) and is rendered by [Hupyter](https://github.com/hongtaoh/hupyter).\n",
    "{{<end>}}"
   ]
  },
  {
   "cell_type": "markdown",
   "id": "7a33d6dc",
   "metadata": {},
   "source": [
    "# Least squares\n",
    "\n",
    "Matrix equations: $Ax = b$\n",
    "\n",
    "If you have more equations than variables, i.e., when $A$ is tall (**overdetermined**), for example\n",
    "\n",
    "$$\n",
    "A = \\begin{bmatrix}\n",
    "    2 & 3  \\\\\n",
    "    4 & -1  \\\\\n",
    "    2 & 1 \n",
    "  \\end{bmatrix}\n",
    "$$\n",
    "And \n",
    "$$\n",
    "x = \\begin{bmatrix}\n",
    "    x_1 \\\\\n",
    "    x_2 \n",
    "  \\end{bmatrix}\n",
    "$$\n",
    "$$\n",
    "b = \\begin{bmatrix}\n",
    "    1 \\\\ 2  \\\\ 3\n",
    "  \\end{bmatrix}\n",
    "$$\n",
    "\n",
    "More often than not, you don't have viable solutions. One fix is to use least squares. \n",
    "\n",
    "If you have more variables than equations (e.g., you only have $2x + 3y = 0$), i.e., when $A$ is wide:\n",
    "\n",
    "$$\n",
    "A = \\begin{bmatrix}\n",
    "    2 & 3 \n",
    "  \\end{bmatrix}\n",
    "$$\n",
    "And \n",
    "$$\n",
    "x = \\begin{bmatrix}\n",
    "    x_1 \\\\\n",
    "    x_2\n",
    "  \\end{bmatrix}\n",
    "$$\n",
    "$$\n",
    "b = 0\n",
    "$$\n",
    "\n",
    "it means you either have no solutions or have infinitely many solutions. One solution is to use regularization.\n",
    "\n",
    "Least squres: to minimize $||Ax - b||^2$ and subject to $x$.\n",
    "\n",
    "## Interpretation\n",
    "\n",
    "The graphcal interpretation of minimizing $||Ax - b||^2$\n",
    "\n",
    "Take the above example as an instance.\n",
    "\n",
    "\n",
    "$$\n",
    "A = \\begin{bmatrix}\n",
    "    2 & 3  \\\\\n",
    "    4 & -1  \\\\\n",
    "    2 & 1 \n",
    "  \\end{bmatrix}\n",
    "$$ \n",
    "$$\n",
    "x = \\begin{bmatrix}\n",
    "    x_1 \\\\\n",
    "    x_2 \n",
    "  \\end{bmatrix}\n",
    "$$\n",
    "$$\n",
    "\\vec{b} = \\begin{bmatrix}\n",
    "    1 \\\\ 2  \\\\ 3\n",
    "  \\end{bmatrix}\n",
    "$$\n",
    "\n",
    "We write \n",
    "\n",
    "$$\n",
    "a_1 = \\begin{bmatrix}\n",
    "    2  \\\\\n",
    "    4  \\\\\n",
    "    2  \n",
    "  \\end{bmatrix}\n",
    "$$\n",
    "and \n",
    "\n",
    "$$\n",
    "a_2 = \\begin{bmatrix}\n",
    "    3  \\\\\n",
    "    -1  \\\\\n",
    "    1  \n",
    "  \\end{bmatrix}\n",
    "$$\n",
    "\n",
    "So we are actually minimizing\n",
    "\n",
    "$$||\\vec{a_1}x_1 + \\vec{a_2}x_2 - \\vec{b}||^2$$\n",
    "It should be noted that $\\vec{a_1}x_1 + \\vec{a_2}x_2$ is a vector itself (Let's denoted it as $\\vec{t}$) and it is on the plane defined by $\\vec{a_1}$ and $\\vec{a_2}$. So the above objective is to minimize the length of the vector $\\vec{t} - \\vec{b}$. This is equivalent to finding the projection of $\\vec{b}$ on the plane defined by $\\vec{a_1}$ and $\\vec{a_2}$.\n",
    "\n",
    "![](img/least-square-projection.png)\n",
    "\n",
    "\n",
    "Also note that if the equations have a solution, for example\n",
    "\n",
    "\n",
    "$$\n",
    "A = \\begin{bmatrix}\n",
    "    2 & 1  \\\\\n",
    "    3 & -1\n",
    "  \\end{bmatrix}\n",
    "$$\n",
    "$$\n",
    "x = \\begin{bmatrix}\n",
    "    x_1 \\\\\n",
    "    x_2 \n",
    "  \\end{bmatrix}\n",
    "$$\n",
    "$$\n",
    "\\vec{b} = \\begin{bmatrix}\n",
    "    1 \\\\ 2\n",
    "  \\end{bmatrix}\n",
    "$$\n",
    "So\n",
    "$$\n",
    "a_1 = \\begin{bmatrix}\n",
    "    2  \\\\\n",
    "    3 \n",
    "  \\end{bmatrix}\n",
    "$$\n",
    "and \n",
    "\n",
    "$$\n",
    "a_2 = \\begin{bmatrix}\n",
    "    5  \\\\\n",
    "    7 \n",
    "  \\end{bmatrix}\n",
    "$$\n",
    "We have\n",
    "\n",
    "$$\n",
    "\\vec{a_1}x_1 + \\vec{a_2}x_2 = \\vec{b}\n",
    "$$\n",
    "\n",
    "In this case, $\\vec{b}$ is on the plane defined by $\\vec{a_1}$ and $\\vec{a_2}$. \n",
    "\n",
    "In the case previously, because there are no solutions, $\\vec{b}$ is not on the plane defined by $\\vec{a_1}$ and $\\vec{a_2}$. What we want to do is to find a vector on the plane defined by $\\vec{a_1}$ and $\\vec{a_2}$ that is as close to $\\vec{b}$ as possible. \n",
    "\n",
    "## Norm\n",
    "- One norm: $||r||_1 = |r_1| + |r_2| + ... |r_n|$\n",
    "- Two norm (aka Euclidean distance): $||r||_2 = \\sqrt{{r_1}^2 + {r_2}^2 + ... + {r_n}^2}$\n",
    "\n",
    "## Curve Fitting (Regression)"
   ]
  },
  {
   "cell_type": "markdown",
   "id": "4e9b44a3",
   "metadata": {},
   "source": [
    "Suppose we are giving two series of numbers: \n",
    "\n",
    "```\n",
    "x = [ 1, 2, 3, 4, 5, 6, 7, 8, 9, 10, 11, 12, 13, 14, 15, 16 ]\n",
    "y = [ 1, 3, 0, 1, 2, 4, 6, 7, 5, 5, 6, 7.2, 5.5,  4, 3.2, 5]\n",
    "```\n",
    "\n",
    "And we suspect that they are related by a fourth-degree polynomial $y = u_1x^4 + u_2x^3 + u_3x^2 + u_4x + u_5$. How can we find all the $u$s that best agree with our data? Using least squares!"
   ]
  },
  {
   "cell_type": "code",
   "execution_count": 22,
   "id": "a1415c12",
   "metadata": {},
   "outputs": [],
   "source": [
    "using Plots, Gurobi, JuMP, Polynomials"
   ]
  },
  {
   "cell_type": "code",
   "execution_count": 23,
   "id": "2f1fb661",
   "metadata": {},
   "outputs": [],
   "source": [
    "x = [ 1, 2, 3, 4, 5, 6, 7, 8, 9, 10, 11, 12, 13, 14, 15, 16 ]\n",
    "y = [ 1, 3, 0, 1, 2, 4, 6, 7, 5, 5, 6, 7.2, 5.5,  4, 3.2, 5]\n",
    "\n",
    "Plots.scatter(x, y,\n",
    "    label=\"\",\n",
    "    xlabel=\"x\",\n",
    "    ylabel=\"y\"\n",
    ")\n",
    "\n",
    "savefig(\"juliaplots/least-squares-01.png\")"
   ]
  },
  {
   "cell_type": "markdown",
   "id": "36c5dac7",
   "metadata": {},
   "source": [
    "![](juliaplots/least-squares-01.png)"
   ]
  },
  {
   "cell_type": "code",
   "execution_count": 24,
   "id": "3083976c",
   "metadata": {},
   "outputs": [],
   "source": [
    "k = 4\n",
    "n = length(x)\n",
    "A = zeros(n, k+1)\n",
    "\n",
    "# get the A matrix\n",
    "for i in 1:n\n",
    "    A[i,:] = [x[i]^m for m in k:-1:0]\n",
    "end"
   ]
  },
  {
   "cell_type": "markdown",
   "id": "0c058d78",
   "metadata": {},
   "source": [
    "Something like this but with a higher degree:\n",
    "\n",
    "![](img/least-sequare-polynomial.png)"
   ]
  },
  {
   "cell_type": "code",
   "execution_count": 25,
   "id": "14317a49",
   "metadata": {},
   "outputs": [
    {
     "name": "stdout",
     "output_type": "stream",
     "text": [
      "Set parameter Username\n",
      "Academic license - for non-commercial use only - expires 2024-02-21\n",
      "Gurobi Optimizer version 10.0.1 build v10.0.1rc0 (mac64[x86])\n",
      "\n",
      "CPU model: Intel(R) Core(TM) i5-5250U CPU @ 1.60GHz\n",
      "Thread count: 2 physical cores, 4 logical processors, using up to 4 threads\n",
      "\n",
      "Optimize a model with 0 rows, 5 columns and 0 nonzeros\n",
      "Model fingerprint: 0xc477cc36\n",
      "Model has 15 quadratic objective terms\n",
      "Coefficient statistics:\n",
      "  Matrix range     [0e+00, 0e+00]\n",
      "  Objective range  [1e+02, 2e+06]\n",
      "  QObjective range [3e+01, 2e+10]\n",
      "  Bounds range     [0e+00, 0e+00]\n",
      "  RHS range        [0e+00, 0e+00]\n",
      "Warning: Model contains large quadratic objective coefficients\n",
      "         Consider reformulating model or setting NumericFocus parameter\n",
      "         to avoid numerical issues.\n",
      "Presolve time: 0.00s\n",
      "Presolved: 0 rows, 5 columns, 0 nonzeros\n",
      "Presolved model has 15 quadratic objective terms\n",
      "Ordering time: 0.00s\n",
      "\n",
      "Barrier statistics:\n",
      " Free vars  : 9\n",
      " AA' NZ     : 6.000e+00\n",
      " Factor NZ  : 1.000e+01\n",
      " Factor Ops : 3.000e+01 (less than 1 second per iteration)\n",
      " Threads    : 1\n",
      "\n",
      "                  Objective                Residual\n",
      "Iter       Primal          Dual         Primal    Dual     Compl     Time\n",
      "   0   3.35330000e+02  3.35330000e+02  0.00e+00 2.34e+06  0.00e+00     0s\n",
      "   1   3.33379918e+02  3.35327161e+02  2.23e-08 2.33e+06  0.00e+00     0s\n",
      "   2   3.33281966e+02  3.35327055e+02  4.91e-08 2.33e+06  0.00e+00     0s\n",
      "   3   3.33104809e+02  3.35326933e+02  1.08e-07 2.33e+06  0.00e+00     0s\n",
      "   4   3.32715344e+02  3.35326658e+02  2.37e-07 2.33e+06  0.00e+00     0s\n",
      "   5   3.20366412e+02  3.35178088e+02  5.17e-07 2.29e+06  0.00e+00     0s\n",
      "   6   3.18195814e+02  3.35161569e+02  1.14e-06 2.29e+06  0.00e+00     0s\n",
      "   7   3.13444319e+02  3.35122582e+02  2.50e-06 2.28e+06  0.00e+00     0s\n",
      "   8   2.81119294e+02  3.33872605e+02  5.38e-06 2.18e+06  0.00e+00     0s\n",
      "   9   2.60552748e+02  3.33436335e+02  1.18e-05 2.16e+06  0.00e+00     0s\n",
      "  10   2.67193397e+02  3.30286001e+02  2.97e-06 2.05e+06  0.00e+00     0s\n",
      "  11   2.65244952e+02  3.28704816e+02  6.46e-06 2.00e+06  0.00e+00     0s\n",
      "  12   2.77148108e+02  3.27643838e+02  1.41e-05 1.98e+06  0.00e+00     0s\n",
      "  13   2.48136085e+02  3.09760405e+02  2.89e-05 1.68e+06  0.00e+00     0s\n",
      "  14   9.38163318e+01  2.76831470e+02  1.16e-05 1.34e+06  0.00e+00     0s\n",
      "  15   1.10524099e+02  2.61479626e+02  3.38e-06 1.21e+06  0.00e+00     0s\n",
      "  16   1.03515571e+02  2.45285834e+02  7.12e-06 1.10e+06  0.00e+00     0s\n",
      "  17   1.15518922e+02  2.36704952e+02  1.53e-05 1.04e+06  0.00e+00     0s\n",
      "  18   4.94511564e+01  2.11255549e+02  5.38e-06 8.79e+05  0.00e+00     0s\n",
      "  19   5.54851811e+01  1.91957180e+02  1.68e-06 7.69e+05  0.00e+00     0s\n",
      "  20   5.84647149e+01  1.86886513e+02  3.99e-06 7.42e+05  0.00e+00     0s\n",
      "  21   6.15863372e+01  1.70310423e+02  8.34e-06 6.55e+05  0.00e+00     0s\n",
      "  22   7.64449887e+01  1.52720041e+02  1.73e-05 5.67e+05  0.00e+00     0s\n",
      "  23   1.21617080e+01  1.71645472e+01  2.14e-06 5.67e-01  0.00e+00     0s\n",
      "  24   1.71642681e+01  1.71643923e+01  5.68e-11 5.67e-07  0.00e+00     0s\n",
      "\n",
      "Barrier solved model in 24 iterations and 0.00 seconds (0.00 work units)\n",
      "Optimal objective 1.71642681e+01\n",
      "\n",
      "\n",
      "User-callback calls 88, time in user-callback 0.00 sec\n"
     ]
    }
   ],
   "source": [
    "m = Model(Gurobi.Optimizer)\n",
    "\n",
    "@variable(m, u[1:k+1])\n",
    "@objective(m, Min, sum( (y - A*u).^2 ))\n",
    "\n",
    "optimize!(m)"
   ]
  },
  {
   "cell_type": "code",
   "execution_count": 26,
   "id": "531ea75e",
   "metadata": {
    "scrolled": true
   },
   "outputs": [
    {
     "data": {
      "text/plain": [
       "5-element Vector{Float64}:\n",
       "  0.002320865140005629\n",
       " -0.08461679037317738\n",
       "  0.969732004634473\n",
       " -3.3515882584235666\n",
       "  4.320673076823761"
      ]
     },
     "execution_count": 26,
     "metadata": {},
     "output_type": "execute_result"
    }
   ],
   "source": [
    "u = value.(u)"
   ]
  },
  {
   "cell_type": "markdown",
   "id": "6b5fab83",
   "metadata": {},
   "source": [
    "### A simpler way\n",
    "\n",
    "In fact, there is a much simpler way. Because the above operations are used frequently, there is a special operator for that: `\\`"
   ]
  },
  {
   "cell_type": "code",
   "execution_count": 27,
   "id": "b2ef9d9c",
   "metadata": {},
   "outputs": [
    {
     "data": {
      "text/plain": [
       "5-element Vector{Float64}:\n",
       "  0.002320865086925458\n",
       " -0.08461679037336926\n",
       "  0.9697320046439619\n",
       " -3.3515882584477747\n",
       "  4.3206730769230814"
      ]
     },
     "execution_count": 27,
     "metadata": {},
     "output_type": "execute_result"
    }
   ],
   "source": [
    "u = A\\y"
   ]
  },
  {
   "cell_type": "code",
   "execution_count": 28,
   "id": "c5f76cc9",
   "metadata": {},
   "outputs": [],
   "source": [
    "Plots.scatter(x, y,\n",
    "    label=\"\",\n",
    "    xlabel=\"x\",\n",
    "    ylabel=\"y\"\n",
    ")\n",
    "\n",
    "f(x) = u[1]*x^4 + u[2]*x^3 + u[3]*x^2 + u[4]*x + u[5]\n",
    "\n",
    "# use continuous x range; otherwise the fit line is discrete\n",
    "xs = 1:0.01:16\n",
    "\n",
    "Plots.plot!(xs, f,\n",
    "    linecolor = \"green\",\n",
    "    linewidth = 2,\n",
    "    label = \"fourth-degree polynomial fit line\"\n",
    ")\n",
    "\n",
    "savefig(\"juliaplots/least-squares-02.png\")"
   ]
  },
  {
   "cell_type": "markdown",
   "id": "a229292d",
   "metadata": {},
   "source": [
    "![](juliaplots/least-squares-02.png)"
   ]
  },
  {
   "cell_type": "markdown",
   "id": "e7e94fe7",
   "metadata": {},
   "source": [
    "When polynomials have much higher orders, it is best to use the `Polynomials` package rather than writting it manually like `f(x) = u[1]*x^4 + u[2]*x^3 + u[3]*x^2 + u[4]*x + u[5]`. In `Polynomials`, the power order increases, i.e., `f(x) = u[1]x + u[2]x^2 + u[3]x^3 ...`, so we need to reverse the order of `u`:"
   ]
  },
  {
   "cell_type": "code",
   "execution_count": 29,
   "id": "a809198f",
   "metadata": {},
   "outputs": [
    {
     "data": {
      "text/html": [
       "4.3206730769230814 &#45; 3.3515882584477747&#8729;x &#43; 0.9697320046439619&#8729;x<sup>2</sup> &#45; 0.08461679037336926&#8729;x<sup>3</sup> &#43; 0.002320865086925458&#8729;x<sup>4</sup>"
      ],
      "text/latex": [
       "$4.3206730769230814 - 3.3515882584477747\\cdot x + 0.9697320046439619\\cdot x^{2} - 0.08461679037336926\\cdot x^{3} + 0.002320865086925458\\cdot x^{4}$"
      ],
      "text/plain": [
       "Polynomial(4.3206730769230814 - 3.3515882584477747*x + 0.9697320046439619*x^2 - 0.08461679037336926*x^3 + 0.002320865086925458*x^4)"
      ]
     },
     "execution_count": 29,
     "metadata": {},
     "output_type": "execute_result"
    }
   ],
   "source": [
    "p = Polynomial(reverse(u))"
   ]
  },
  {
   "cell_type": "code",
   "execution_count": 30,
   "id": "964baa54",
   "metadata": {},
   "outputs": [],
   "source": [
    "ys = p.(xs)\n",
    "Plots.scatter(x, y,\n",
    "    label=\"\",\n",
    "    xlabel=\"x\",\n",
    "    ylabel=\"y\"\n",
    ")\n",
    "\n",
    "# note it is is (xs, ys) rather than (xs, p)\n",
    "Plots.plot!(xs, ys,\n",
    "    linecolor = \"green\",\n",
    "    linewidth = 2,\n",
    "    label = \"fourth-degree polynomial fit line\"\n",
    ")\n",
    "\n",
    "savefig(\"juliaplots/least-squares-03.png\")"
   ]
  },
  {
   "cell_type": "markdown",
   "id": "d1d9c308",
   "metadata": {},
   "source": [
    "![](juliaplots/least-squares-03.png)"
   ]
  }
 ],
 "metadata": {
  "kernelspec": {
   "display_name": "Julia 1.7.1",
   "language": "julia",
   "name": "julia-1.7"
  },
  "language_info": {
   "file_extension": ".jl",
   "mimetype": "application/julia",
   "name": "julia",
   "version": "1.7.1"
  }
 },
 "nbformat": 4,
 "nbformat_minor": 5
}

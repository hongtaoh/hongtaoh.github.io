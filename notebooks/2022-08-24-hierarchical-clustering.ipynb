{
 "cells": [
  {
   "cell_type": "markdown",
   "id": "98e1d86a",
   "metadata": {},
   "source": [
    "title: Explaining and Implementing Hierarchical Clustering\n",
    "author: Hongtao Hao\n",
    "data: 2022-08-24\n",
    "toc: true\n",
    "tags: ml"
   ]
  },
  {
   "cell_type": "markdown",
   "id": "0c6dcb17",
   "metadata": {},
   "source": [
    "In this post, I'll explain what hierarchical clustering is and how to implement it with `Python`. "
   ]
  },
  {
   "cell_type": "code",
   "execution_count": 45,
   "id": "b8a075e8",
   "metadata": {},
   "outputs": [],
   "source": [
    "import pandas as pd\n",
    "import numpy as np\n",
    "import matplotlib.pyplot as plt"
   ]
  },
  {
   "cell_type": "code",
   "execution_count": 46,
   "id": "2ebdb0c7",
   "metadata": {},
   "outputs": [
    {
     "data": {
      "text/plain": [
       "array([[1.9151945 , 6.22108771],\n",
       "       [4.37727739, 7.85358584],\n",
       "       [7.79975808, 2.72592605],\n",
       "       [2.76464255, 8.01872178],\n",
       "       [9.58139354, 8.75932635],\n",
       "       [3.5781727 , 5.00995126],\n",
       "       [6.83462935, 7.12702027],\n",
       "       [3.70250755, 5.61196186],\n",
       "       [5.03083165, 0.1376845 ],\n",
       "       [7.72826622, 8.82641191]])"
      ]
     },
     "execution_count": 46,
     "metadata": {},
     "output_type": "execute_result"
    }
   ],
   "source": [
    "np.random.seed(1234)\n",
    "N = 10 # number of points\n",
    "matrix = np.random.rand(N, 2) # N points in 2 dimensional space\n",
    "M = matrix * 10 # multiply ten so that the numbers are easier to understand. \n",
    "# Otherwise, all numbers are between 0 and 1\n",
    "M"
   ]
  },
  {
   "cell_type": "code",
   "execution_count": 47,
   "id": "e391a9f7",
   "metadata": {},
   "outputs": [
    {
     "data": {
      "image/png": "[encoded data removed]",
      "text/plain": [
       "<Figure size 800x800 with 1 Axes>"
      ]
     },
     "metadata": {
      "needs_background": "light"
     },
     "output_type": "display_data"
    }
   ],
   "source": [
    "X = M[:, 0]\n",
    "Y = M[:, 1]\n",
    "from matplotlib.pyplot import figure\n",
    "figure(figsize = (8,8), dpi = 100)\n",
    "plt.scatter(X,Y)\n",
    "plt.xlabel('X')\n",
    "plt.ylabel('Y')\n",
    "for i in range(N):\n",
    "    plt.text(X[i], Y[i], str(i))"
   ]
  },
  {
   "cell_type": "markdown",
   "id": "f36130f6",
   "metadata": {},
   "source": [
    "## Euclidean distance"
   ]
  },
  {
   "cell_type": "code",
   "execution_count": 48,
   "id": "bf70d5c7",
   "metadata": {},
   "outputs": [],
   "source": [
    "def eu_distance(x,y):\n",
    "    d_square = np.sum((x-y)**2)\n",
    "    d = np.sqrt(d_square)\n",
    "    return d"
   ]
  },
  {
   "cell_type": "code",
   "execution_count": 49,
   "id": "8503887d",
   "metadata": {},
   "outputs": [
    {
     "data": {
      "text/plain": [
       "1.6210678581988338"
      ]
     },
     "execution_count": 49,
     "metadata": {},
     "output_type": "execute_result"
    }
   ],
   "source": [
    "eu_distance(M[1], M[3])"
   ]
  },
  {
   "cell_type": "markdown",
   "id": "362570fe",
   "metadata": {},
   "source": [
    "## Distance matrix"
   ]
  },
  {
   "cell_type": "code",
   "execution_count": 50,
   "id": "9464659c",
   "metadata": {},
   "outputs": [],
   "source": [
    "d_matrix = np.zeros((N, N))\n",
    "for i in range(N):\n",
    "    for j in range(N):\n",
    "        if i < j:\n",
    "            d_matrix[i,j] = eu_distance(M[i], M[j])\n",
    "        else:\n",
    "            d_matrix[i,j] = 10**5"
   ]
  },
  {
   "cell_type": "code",
   "execution_count": 51,
   "id": "54750896",
   "metadata": {},
   "outputs": [
    {
     "data": {
      "text/html": [
       "<div>\n",
       "<style scoped>\n",
       "    .dataframe tbody tr th:only-of-type {\n",
       "        vertical-align: middle;\n",
       "    }\n",
       "\n",
       "    .dataframe tbody tr th {\n",
       "        vertical-align: top;\n",
       "    }\n",
       "\n",
       "    .dataframe thead th {\n",
       "        text-align: right;\n",
       "    }\n",
       "</style>\n",
       "<table border=\"1\" class=\"dataframe\">\n",
       "  <thead>\n",
       "    <tr style=\"text-align: right;\">\n",
       "      <th></th>\n",
       "      <th>0</th>\n",
       "      <th>1</th>\n",
       "      <th>2</th>\n",
       "      <th>3</th>\n",
       "      <th>4</th>\n",
       "      <th>5</th>\n",
       "      <th>6</th>\n",
       "      <th>7</th>\n",
       "      <th>8</th>\n",
       "      <th>9</th>\n",
       "    </tr>\n",
       "  </thead>\n",
       "  <tbody>\n",
       "    <tr>\n",
       "      <th>0</th>\n",
       "      <td>100000.0</td>\n",
       "      <td>2.954133</td>\n",
       "      <td>6.844285</td>\n",
       "      <td>1.988228</td>\n",
       "      <td>8.075473</td>\n",
       "      <td>2.057267</td>\n",
       "      <td>5.002155</td>\n",
       "      <td>1.888259</td>\n",
       "      <td>6.834836</td>\n",
       "      <td>6.370205</td>\n",
       "    </tr>\n",
       "    <tr>\n",
       "      <th>1</th>\n",
       "      <td>100000.0</td>\n",
       "      <td>100000.000000</td>\n",
       "      <td>6.164922</td>\n",
       "      <td>1.621068</td>\n",
       "      <td>5.282347</td>\n",
       "      <td>2.953782</td>\n",
       "      <td>2.562514</td>\n",
       "      <td>2.340981</td>\n",
       "      <td>7.743531</td>\n",
       "      <td>3.489343</td>\n",
       "    </tr>\n",
       "    <tr>\n",
       "      <th>2</th>\n",
       "      <td>100000.0</td>\n",
       "      <td>100000.000000</td>\n",
       "      <td>100000.000000</td>\n",
       "      <td>7.305209</td>\n",
       "      <td>6.290957</td>\n",
       "      <td>4.799849</td>\n",
       "      <td>4.505675</td>\n",
       "      <td>5.011653</td>\n",
       "      <td>3.790244</td>\n",
       "      <td>6.100905</td>\n",
       "    </tr>\n",
       "    <tr>\n",
       "      <th>3</th>\n",
       "      <td>100000.0</td>\n",
       "      <td>100000.000000</td>\n",
       "      <td>100000.000000</td>\n",
       "      <td>100000.000000</td>\n",
       "      <td>6.856864</td>\n",
       "      <td>3.116814</td>\n",
       "      <td>4.166524</td>\n",
       "      <td>2.583038</td>\n",
       "      <td>8.200388</td>\n",
       "      <td>5.028909</td>\n",
       "    </tr>\n",
       "    <tr>\n",
       "      <th>4</th>\n",
       "      <td>100000.0</td>\n",
       "      <td>100000.000000</td>\n",
       "      <td>100000.000000</td>\n",
       "      <td>100000.000000</td>\n",
       "      <td>100000.000000</td>\n",
       "      <td>7.077886</td>\n",
       "      <td>3.195174</td>\n",
       "      <td>6.668373</td>\n",
       "      <td>9.748863</td>\n",
       "      <td>1.854341</td>\n",
       "    </tr>\n",
       "    <tr>\n",
       "      <th>5</th>\n",
       "      <td>100000.0</td>\n",
       "      <td>100000.000000</td>\n",
       "      <td>100000.000000</td>\n",
       "      <td>100000.000000</td>\n",
       "      <td>100000.000000</td>\n",
       "      <td>100000.000000</td>\n",
       "      <td>3.884133</td>\n",
       "      <td>0.614716</td>\n",
       "      <td>5.084211</td>\n",
       "      <td>5.638142</td>\n",
       "    </tr>\n",
       "    <tr>\n",
       "      <th>6</th>\n",
       "      <td>100000.0</td>\n",
       "      <td>100000.000000</td>\n",
       "      <td>100000.000000</td>\n",
       "      <td>100000.000000</td>\n",
       "      <td>100000.000000</td>\n",
       "      <td>100000.000000</td>\n",
       "      <td>100000.000000</td>\n",
       "      <td>3.479309</td>\n",
       "      <td>7.218345</td>\n",
       "      <td>1.920031</td>\n",
       "    </tr>\n",
       "    <tr>\n",
       "      <th>7</th>\n",
       "      <td>100000.0</td>\n",
       "      <td>100000.000000</td>\n",
       "      <td>100000.000000</td>\n",
       "      <td>100000.000000</td>\n",
       "      <td>100000.000000</td>\n",
       "      <td>100000.000000</td>\n",
       "      <td>100000.000000</td>\n",
       "      <td>100000.000000</td>\n",
       "      <td>5.633130</td>\n",
       "      <td>5.151643</td>\n",
       "    </tr>\n",
       "    <tr>\n",
       "      <th>8</th>\n",
       "      <td>100000.0</td>\n",
       "      <td>100000.000000</td>\n",
       "      <td>100000.000000</td>\n",
       "      <td>100000.000000</td>\n",
       "      <td>100000.000000</td>\n",
       "      <td>100000.000000</td>\n",
       "      <td>100000.000000</td>\n",
       "      <td>100000.000000</td>\n",
       "      <td>100000.000000</td>\n",
       "      <td>9.097809</td>\n",
       "    </tr>\n",
       "    <tr>\n",
       "      <th>9</th>\n",
       "      <td>100000.0</td>\n",
       "      <td>100000.000000</td>\n",
       "      <td>100000.000000</td>\n",
       "      <td>100000.000000</td>\n",
       "      <td>100000.000000</td>\n",
       "      <td>100000.000000</td>\n",
       "      <td>100000.000000</td>\n",
       "      <td>100000.000000</td>\n",
       "      <td>100000.000000</td>\n",
       "      <td>100000.000000</td>\n",
       "    </tr>\n",
       "  </tbody>\n",
       "</table>\n",
       "</div>"
      ],
      "text/plain": [
       "          0              1              2              3              4  \\\n",
       "0  100000.0       2.954133       6.844285       1.988228       8.075473   \n",
       "1  100000.0  100000.000000       6.164922       1.621068       5.282347   \n",
       "2  100000.0  100000.000000  100000.000000       7.305209       6.290957   \n",
       "3  100000.0  100000.000000  100000.000000  100000.000000       6.856864   \n",
       "4  100000.0  100000.000000  100000.000000  100000.000000  100000.000000   \n",
       "5  100000.0  100000.000000  100000.000000  100000.000000  100000.000000   \n",
       "6  100000.0  100000.000000  100000.000000  100000.000000  100000.000000   \n",
       "7  100000.0  100000.000000  100000.000000  100000.000000  100000.000000   \n",
       "8  100000.0  100000.000000  100000.000000  100000.000000  100000.000000   \n",
       "9  100000.0  100000.000000  100000.000000  100000.000000  100000.000000   \n",
       "\n",
       "               5              6              7              8              9  \n",
       "0       2.057267       5.002155       1.888259       6.834836       6.370205  \n",
       "1       2.953782       2.562514       2.340981       7.743531       3.489343  \n",
       "2       4.799849       4.505675       5.011653       3.790244       6.100905  \n",
       "3       3.116814       4.166524       2.583038       8.200388       5.028909  \n",
       "4       7.077886       3.195174       6.668373       9.748863       1.854341  \n",
       "5  100000.000000       3.884133       0.614716       5.084211       5.638142  \n",
       "6  100000.000000  100000.000000       3.479309       7.218345       1.920031  \n",
       "7  100000.000000  100000.000000  100000.000000       5.633130       5.151643  \n",
       "8  100000.000000  100000.000000  100000.000000  100000.000000       9.097809  \n",
       "9  100000.000000  100000.000000  100000.000000  100000.000000  100000.000000  "
      ]
     },
     "execution_count": 51,
     "metadata": {},
     "output_type": "execute_result"
    }
   ],
   "source": [
    "d_matrix_df = pd.DataFrame(d_matrix)\n",
    "d_matrix_df"
   ]
  },
  {
   "cell_type": "code",
   "execution_count": 56,
   "id": "6e87b558",
   "metadata": {},
   "outputs": [],
   "source": [
    "from sklearn.cluster import AgglomerativeClustering\n",
    "clustering = AgglomerativeClustering(n_clusters=4, affinity='euclidean',  linkage='complete').fit(M)"
   ]
  },
  {
   "cell_type": "code",
   "execution_count": 57,
   "id": "5223da61",
   "metadata": {},
   "outputs": [
    {
     "data": {
      "text/plain": [
       "array([2, 2, 3, 2, 0, 2, 0, 2, 1, 0])"
      ]
     },
     "execution_count": 57,
     "metadata": {},
     "output_type": "execute_result"
    }
   ],
   "source": [
    "clustering.labels_"
   ]
  },
  {
   "cell_type": "markdown",
   "id": "4de410e4",
   "metadata": {},
   "source": [
    "## How does hieararchical clustering work\n",
    "\n",
    "In our example, we have 10 data points, or nodes. The first step is to group the two nodes whose distance is the smallest among all distances. "
   ]
  },
  {
   "cell_type": "code",
   "execution_count": 60,
   "id": "15b65e4c",
   "metadata": {},
   "outputs": [
    {
     "data": {
      "text/plain": [
       "46"
      ]
     },
     "execution_count": 60,
     "metadata": {},
     "output_type": "execute_result"
    }
   ],
   "source": [
    "all_ds = np.unique(d_matrix) # all unique distances\n",
    "len(all_ds)"
   ]
  },
  {
   "cell_type": "code",
   "execution_count": 61,
   "id": "775abafa",
   "metadata": {},
   "outputs": [
    {
     "name": "stdout",
     "output_type": "stream",
     "text": [
      "(array([5]), array([7]))\n",
      "(array([1]), array([3]))\n",
      "(array([4]), array([9]))\n",
      "(array([0]), array([7]))\n",
      "(array([6]), array([9]))\n",
      "(array([0]), array([3]))\n",
      "(array([0]), array([5]))\n",
      "(array([1]), array([7]))\n",
      "(array([1]), array([6]))\n",
      "(array([3]), array([7]))\n",
      "(array([1]), array([5]))\n",
      "(array([0]), array([1]))\n",
      "(array([3]), array([5]))\n",
      "(array([4]), array([6]))\n",
      "(array([6]), array([7]))\n",
      "(array([1]), array([9]))\n",
      "(array([2]), array([8]))\n",
      "(array([5]), array([6]))\n",
      "(array([3]), array([6]))\n",
      "(array([2]), array([6]))\n",
      "(array([2]), array([5]))\n",
      "(array([0]), array([6]))\n",
      "(array([2]), array([7]))\n",
      "(array([3]), array([9]))\n",
      "(array([5]), array([8]))\n",
      "(array([7]), array([9]))\n",
      "(array([1]), array([4]))\n",
      "(array([7]), array([8]))\n",
      "(array([5]), array([9]))\n",
      "(array([2]), array([9]))\n",
      "(array([1]), array([2]))\n",
      "(array([2]), array([4]))\n",
      "(array([0]), array([9]))\n",
      "(array([4]), array([7]))\n",
      "(array([0]), array([8]))\n",
      "(array([0]), array([2]))\n",
      "(array([3]), array([4]))\n",
      "(array([4]), array([5]))\n",
      "(array([6]), array([8]))\n",
      "(array([2]), array([3]))\n",
      "(array([1]), array([8]))\n",
      "(array([0]), array([4]))\n",
      "(array([3]), array([8]))\n",
      "(array([8]), array([9]))\n",
      "(array([4]), array([8]))\n",
      "(array([0, 1, 1, 2, 2, 2, 3, 3, 3, 3, 4, 4, 4, 4, 4, 5, 5, 5, 5, 5, 5, 6,\n",
      "       6, 6, 6, 6, 6, 6, 7, 7, 7, 7, 7, 7, 7, 7, 8, 8, 8, 8, 8, 8, 8, 8,\n",
      "       8, 9, 9, 9, 9, 9, 9, 9, 9, 9, 9]), array([0, 0, 1, 0, 1, 2, 0, 1, 2, 3, 0, 1, 2, 3, 4, 0, 1, 2, 3, 4, 5, 0,\n",
      "       1, 2, 3, 4, 5, 6, 0, 1, 2, 3, 4, 5, 6, 7, 0, 1, 2, 3, 4, 5, 6, 7,\n",
      "       8, 0, 1, 2, 3, 4, 5, 6, 7, 8, 9]))\n"
     ]
    }
   ],
   "source": [
    "for i in range(len(all_ds)):\n",
    "    print(np.where(d_matrix == n_smallest[i]))"
   ]
  },
  {
   "cell_type": "markdown",
   "id": "205c72fc",
   "metadata": {},
   "source": [
    "The first step is to group Node 5 and Node 7 together because their distance is the smallest. Then 1 and 3. Then 4 and 9. Then we have 0 and 7. But 7 is already in the group of `[5,7]`. What should we do here? An intuitive solution is to putting 0 into the group of `[5,7]`, so we have a larger group: `[5,7,0]`. Then we have 6 and 9. Similarly, we can put 6 into the group of `[4,9]` and have larger group of `[4,9,6]`. \n",
    "\n",
    "Right now we have the following clusters:\n",
    "  - 5, 7, 0\n",
    "  - 1, 3\n",
    "  - 4, 9, 6\n",
    "\n",
    "Keep going in the above list and we have 0 and 3. But these two are already part of the above clusters. Because the pair of 0 and 3 occurs after 1 and 3, we know that the distance between 1 and 3 is shorter, so we do not change the cluster of 1 and 3. The pair of 0 and 3 also occurs after that of 0 and 7, so the distance between 0 and 7 is shorter. That's why we do not change the cluster of `[5, 7, 0]`. The same is for the node pairs below `[0, 3]` until the pair of 2 and 8. Then we can have another cluster: \n",
    "  - 2, 8\n",
    "  \n",
    "Then we stop. \n",
    "  \n",
    "To summarize our above procedure: we sort pairs by their distance in ascending order. From top to below, if neither nodes is part of a cluster, we group the two together to form a cluster. We keep going, and if one of the node (say, Node `a`) in a pair is part of a cluster (say, Cluster `C`) whereas the other node (say, Node `b`) is not, we put Node `b` into the cluster of `C`. If both nodes have already been part of the clusters we had, then we do not change anything and keep moving down in the sorted list. We keep doing this until all nodes are part of the clusters we have. \n",
    "\n",
    "All seem to be good but there is a problem. \n",
    "\n"
   ]
  },
  {
   "cell_type": "code",
   "execution_count": null,
   "id": "915fb676",
   "metadata": {},
   "outputs": [],
   "source": []
  }
 ],
 "metadata": {
  "kernelspec": {
   "display_name": "Python 3 (ipykernel)",
   "language": "python",
   "name": "python3"
  },
  "language_info": {
   "codemirror_mode": {
    "name": "ipython",
    "version": 3
   },
   "file_extension": ".py",
   "mimetype": "text/x-python",
   "name": "python",
   "nbconvert_exporter": "python",
   "pygments_lexer": "ipython3",
   "version": "3.10.4"
  }
 },
 "nbformat": 4,
 "nbformat_minor": 5
}

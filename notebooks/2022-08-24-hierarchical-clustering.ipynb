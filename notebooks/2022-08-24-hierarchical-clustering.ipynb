{
 "cells": [
  {
   "cell_type": "markdown",
   "id": "98e1d86a",
   "metadata": {},
   "source": [
    "---\n",
    "\n",
    "title: Explaining and Implementing Hierarchical Clustering\n",
    "date: 2022-08-24\n",
    "author: Hongtao Hao\n",
    "slug: hier_cluster\n",
    "draft: false\n",
    "toc: true\n",
    "tags: ML\n",
    "\n",
    "---"
   ]
  },
  {
   "cell_type": "markdown",
   "id": "0c6dcb17",
   "metadata": {},
   "source": [
    "In this post, I'll explain what hierarchical clustering is and how to implement it with `Python`. "
   ]
  },
  {
   "cell_type": "code",
   "execution_count": 1,
   "id": "b8a075e8",
   "metadata": {},
   "outputs": [],
   "source": [
    "import pandas as pd\n",
    "import numpy as np\n",
    "import matplotlib.pyplot as plt"
   ]
  },
  {
   "cell_type": "code",
   "execution_count": 2,
   "id": "2ebdb0c7",
   "metadata": {},
   "outputs": [
    {
     "data": {
      "text/plain": [
       "array([[1.9151945 , 6.22108771],\n",
       "       [4.37727739, 7.85358584],\n",
       "       [7.79975808, 2.72592605],\n",
       "       [2.76464255, 8.01872178],\n",
       "       [9.58139354, 8.75932635],\n",
       "       [3.5781727 , 5.00995126],\n",
       "       [6.83462935, 7.12702027],\n",
       "       [3.70250755, 5.61196186],\n",
       "       [5.03083165, 0.1376845 ],\n",
       "       [7.72826622, 8.82641191]])"
      ]
     },
     "execution_count": 2,
     "metadata": {},
     "output_type": "execute_result"
    }
   ],
   "source": [
    "np.random.seed(1234)\n",
    "N = 10 # number of points\n",
    "matrix = np.random.rand(N, 2) # N points in 2 dimensional space\n",
    "M = matrix * 10 # multiply ten so that the numbers are easier to understand. \n",
    "# Otherwise, all numbers are between 0 and 1\n",
    "M"
   ]
  },
  {
   "cell_type": "code",
   "execution_count": 3,
   "id": "e391a9f7",
   "metadata": {},
   "outputs": [
    {
     "data": {
      "image/png": "[encoded data removed]",
      "text/plain": [
       "<Figure size 800x800 with 1 Axes>"
      ]
     },
     "metadata": {
      "needs_background": "light"
     },
     "output_type": "display_data"
    }
   ],
   "source": [
    "X = M[:, 0]\n",
    "Y = M[:, 1]\n",
    "from matplotlib.pyplot import figure\n",
    "figure(figsize = (8,8), dpi = 100)\n",
    "plt.scatter(X,Y)\n",
    "plt.xlabel('X')\n",
    "plt.ylabel('Y')\n",
    "for i in range(N):\n",
    "    plt.text(X[i], Y[i], str(i))"
   ]
  },
  {
   "cell_type": "markdown",
   "id": "f36130f6",
   "metadata": {},
   "source": [
    "## 1. Euclidean distance"
   ]
  },
  {
   "cell_type": "code",
   "execution_count": 4,
   "id": "bf70d5c7",
   "metadata": {},
   "outputs": [],
   "source": [
    "def eu_distance(x,y):\n",
    "    d_square = np.sum((x-y)**2)\n",
    "    d = np.sqrt(d_square)\n",
    "    return d"
   ]
  },
  {
   "cell_type": "code",
   "execution_count": 5,
   "id": "8503887d",
   "metadata": {},
   "outputs": [
    {
     "data": {
      "text/plain": [
       "1.6210678581988338"
      ]
     },
     "execution_count": 5,
     "metadata": {},
     "output_type": "execute_result"
    }
   ],
   "source": [
    "eu_distance(M[1], M[3])"
   ]
  },
  {
   "cell_type": "markdown",
   "id": "362570fe",
   "metadata": {},
   "source": [
    "## 2. Distance matrix"
   ]
  },
  {
   "cell_type": "code",
   "execution_count": 6,
   "id": "9464659c",
   "metadata": {},
   "outputs": [],
   "source": [
    "d_matrix = np.zeros((N, N))\n",
    "for i in range(N):\n",
    "    for j in range(N):\n",
    "        if i < j:\n",
    "            d_matrix[i,j] = eu_distance(M[i], M[j])\n",
    "        else:\n",
    "            d_matrix[i,j] = 10**5"
   ]
  },
  {
   "cell_type": "code",
   "execution_count": 7,
   "id": "54750896",
   "metadata": {},
   "outputs": [
    {
     "data": {
      "text/html": [
       "<div>\n",
       "<style scoped>\n",
       "    .dataframe tbody tr th:only-of-type {\n",
       "        vertical-align: middle;\n",
       "    }\n",
       "\n",
       "    .dataframe tbody tr th {\n",
       "        vertical-align: top;\n",
       "    }\n",
       "\n",
       "    .dataframe thead th {\n",
       "        text-align: right;\n",
       "    }\n",
       "</style>\n",
       "<table border=\"1\" class=\"dataframe\">\n",
       "  <thead>\n",
       "    <tr style=\"text-align: right;\">\n",
       "      <th></th>\n",
       "      <th>0</th>\n",
       "      <th>1</th>\n",
       "      <th>2</th>\n",
       "      <th>3</th>\n",
       "      <th>4</th>\n",
       "      <th>5</th>\n",
       "    </tr>\n",
       "  </thead>\n",
       "  <tbody>\n",
       "    <tr>\n",
       "      <th>0</th>\n",
       "      <td>100000.0</td>\n",
       "      <td>2.954133</td>\n",
       "      <td>6.844285</td>\n",
       "      <td>1.988228</td>\n",
       "      <td>8.075473</td>\n",
       "      <td>2.057267</td>\n",
       "    </tr>\n",
       "    <tr>\n",
       "      <th>1</th>\n",
       "      <td>100000.0</td>\n",
       "      <td>100000.000000</td>\n",
       "      <td>6.164922</td>\n",
       "      <td>1.621068</td>\n",
       "      <td>5.282347</td>\n",
       "      <td>2.953782</td>\n",
       "    </tr>\n",
       "    <tr>\n",
       "      <th>2</th>\n",
       "      <td>100000.0</td>\n",
       "      <td>100000.000000</td>\n",
       "      <td>100000.000000</td>\n",
       "      <td>7.305209</td>\n",
       "      <td>6.290957</td>\n",
       "      <td>4.799849</td>\n",
       "    </tr>\n",
       "    <tr>\n",
       "      <th>3</th>\n",
       "      <td>100000.0</td>\n",
       "      <td>100000.000000</td>\n",
       "      <td>100000.000000</td>\n",
       "      <td>100000.000000</td>\n",
       "      <td>6.856864</td>\n",
       "      <td>3.116814</td>\n",
       "    </tr>\n",
       "    <tr>\n",
       "      <th>4</th>\n",
       "      <td>100000.0</td>\n",
       "      <td>100000.000000</td>\n",
       "      <td>100000.000000</td>\n",
       "      <td>100000.000000</td>\n",
       "      <td>100000.000000</td>\n",
       "      <td>7.077886</td>\n",
       "    </tr>\n",
       "    <tr>\n",
       "      <th>5</th>\n",
       "      <td>100000.0</td>\n",
       "      <td>100000.000000</td>\n",
       "      <td>100000.000000</td>\n",
       "      <td>100000.000000</td>\n",
       "      <td>100000.000000</td>\n",
       "      <td>100000.000000</td>\n",
       "    </tr>\n",
       "  </tbody>\n",
       "</table>\n",
       "</div>"
      ],
      "text/plain": [
       "          0              1              2              3              4  \\\n",
       "0  100000.0       2.954133       6.844285       1.988228       8.075473   \n",
       "1  100000.0  100000.000000       6.164922       1.621068       5.282347   \n",
       "2  100000.0  100000.000000  100000.000000       7.305209       6.290957   \n",
       "3  100000.0  100000.000000  100000.000000  100000.000000       6.856864   \n",
       "4  100000.0  100000.000000  100000.000000  100000.000000  100000.000000   \n",
       "5  100000.0  100000.000000  100000.000000  100000.000000  100000.000000   \n",
       "\n",
       "               5  \n",
       "0       2.057267  \n",
       "1       2.953782  \n",
       "2       4.799849  \n",
       "3       3.116814  \n",
       "4       7.077886  \n",
       "5  100000.000000  "
      ]
     },
     "execution_count": 7,
     "metadata": {},
     "output_type": "execute_result"
    }
   ],
   "source": [
    "d_matrix_df = pd.DataFrame(d_matrix)\n",
    "# display a portion for the sake of space:\n",
    "d_matrix_df.iloc[0:6, 0:6]"
   ]
  },
  {
   "cell_type": "markdown",
   "id": "4de410e4",
   "metadata": {},
   "source": [
    "## 3. How does hierarchical clustering work\n",
    "\n",
    "In our example, we have 10 data points, or nodes. The first step is to group the two nodes whose distance is the smallest among all distances. "
   ]
  },
  {
   "cell_type": "code",
   "execution_count": 8,
   "id": "15b65e4c",
   "metadata": {},
   "outputs": [
    {
     "data": {
      "text/plain": [
       "46"
      ]
     },
     "execution_count": 8,
     "metadata": {},
     "output_type": "execute_result"
    }
   ],
   "source": [
    "all_ds = np.unique(d_matrix) # all unique distances\n",
    "len(all_ds)"
   ]
  },
  {
   "cell_type": "code",
   "execution_count": 9,
   "id": "775abafa",
   "metadata": {},
   "outputs": [
    {
     "name": "stdout",
     "output_type": "stream",
     "text": [
      "(array([5]), array([7]))\n",
      "(array([1]), array([3]))\n",
      "(array([4]), array([9]))\n",
      "(array([0]), array([7]))\n",
      "(array([6]), array([9]))\n",
      "(array([0]), array([3]))\n",
      "(array([0]), array([5]))\n",
      "(array([1]), array([7]))\n",
      "(array([1]), array([6]))\n",
      "(array([3]), array([7]))\n",
      "(array([1]), array([5]))\n",
      "(array([0]), array([1]))\n",
      "(array([3]), array([5]))\n",
      "(array([4]), array([6]))\n",
      "(array([6]), array([7]))\n",
      "(array([1]), array([9]))\n",
      "(array([2]), array([8]))\n",
      "(array([5]), array([6]))\n",
      "(array([3]), array([6]))\n",
      "(array([2]), array([6]))\n",
      "(array([2]), array([5]))\n",
      "(array([0]), array([6]))\n",
      "(array([2]), array([7]))\n",
      "(array([3]), array([9]))\n",
      "(array([5]), array([8]))\n",
      "(array([7]), array([9]))\n",
      "(array([1]), array([4]))\n",
      "(array([7]), array([8]))\n",
      "(array([5]), array([9]))\n",
      "(array([2]), array([9]))\n",
      "(array([1]), array([2]))\n",
      "(array([2]), array([4]))\n",
      "(array([0]), array([9]))\n",
      "(array([4]), array([7]))\n",
      "(array([0]), array([8]))\n",
      "(array([0]), array([2]))\n",
      "(array([3]), array([4]))\n",
      "(array([4]), array([5]))\n",
      "(array([6]), array([8]))\n",
      "(array([2]), array([3]))\n",
      "(array([1]), array([8]))\n",
      "(array([0]), array([4]))\n",
      "(array([3]), array([8]))\n",
      "(array([8]), array([9]))\n",
      "(array([4]), array([8]))\n",
      "(array([0, 1, 1, 2, 2, 2, 3, 3, 3, 3, 4, 4, 4, 4, 4, 5, 5, 5, 5, 5, 5, 6,\n",
      "       6, 6, 6, 6, 6, 6, 7, 7, 7, 7, 7, 7, 7, 7, 8, 8, 8, 8, 8, 8, 8, 8,\n",
      "       8, 9, 9, 9, 9, 9, 9, 9, 9, 9, 9]), array([0, 0, 1, 0, 1, 2, 0, 1, 2, 3, 0, 1, 2, 3, 4, 0, 1, 2, 3, 4, 5, 0,\n",
      "       1, 2, 3, 4, 5, 6, 0, 1, 2, 3, 4, 5, 6, 7, 0, 1, 2, 3, 4, 5, 6, 7,\n",
      "       8, 0, 1, 2, 3, 4, 5, 6, 7, 8, 9]))\n"
     ]
    }
   ],
   "source": [
    "for i in range(len(all_ds)):\n",
    "    print(np.where(d_matrix == np.sort(all_ds)[i]))"
   ]
  },
  {
   "cell_type": "markdown",
   "id": "205c72fc",
   "metadata": {},
   "source": [
    "The first step is to group Node 5 and Node 7 together because their distance is the smallest. Then 1 and 3. Then 4 and 9. Then we have 0 and 7. But 7 is already in the group of `[5,7]`. What should we do here? An intuitive solution is putting 0 into the group of `[5,7]`, so we have a larger group: `[5,7,0]`. Then we have 6 and 9. Similarly, we can put 6 into the group of `[4,9]` and have larger group of `[4,9,6]`. \n",
    "\n",
    "Right now we have the following clusters:\n",
    "  - 5, 7, 0\n",
    "  - 1, 3\n",
    "  - 4, 9, 6\n",
    "\n",
    "Keep going in the above list and we have 0 and 3. But these two are already part of the above clusters. Because the pair of 0 and 3 occurs after 1 and 3, we know that the distance between 1 and 3 is shorter, so we do not change the cluster of 1 and 3. The pair of 0 and 3 also occurs after that of 0 and 7, so the distance between 0 and 7 is shorter. That's why we do not change the cluster of `[5, 7, 0]`. The same is for the node pairs below `[0, 3]` until the pair of 2 and 8. Then we can have another cluster: \n",
    "  - 2, 8\n",
    "  \n",
    "Then we stop. \n",
    "  \n",
    "To summarize our above procedure: we sort pairs by their distance in ascending order. From top to below, if neither nodes is part of a cluster, we group the two together to form a cluster. We keep going, and if one of the node (say, Node `a`) in a pair is part of a cluster (say, Cluster `C`) whereas the other node (say, Node `b`) is not, we put Node `b` into the cluster of `C`. If both nodes have already been part of the clusters we had, then we do not change anything and keep moving down in the sorted list. We keep doing this until all nodes are part of the clusters we have. \n",
    "\n",
    "All seem to be good but there are at least two problems in our above procedure. "
   ]
  },
  {
   "cell_type": "markdown",
   "id": "23913a83",
   "metadata": {},
   "source": [
    "### 3.1 The first problem: we did not merge clusters with smaller distances first\n",
    "\n",
    "First of all, it seems strange that we have a cluster of `[2,8]`. We can see that the distance between Node2 and Node8 is larger than the distance between the cluster of `[5,7,0]` and `[1,3]`. So, before we merge the cluster of `[5,7,0]` and `[2,3]` into a larger cluster, we should not merge Node2 and Node8. \n",
    "\n",
    "You may say that an easy solution would be to have this rule: the last pair should be separated. That is to say, we have two clusters: `[2]` and `[8]`. However, this does not solve the problem. Let's say we have another two nodes: Node10 and Node11. These two are very far away from the rest. Let's say their coordinates are something like $(10^6, 10^6)$. The distance between Node10 and Node11 is smaller than the smallest distance between any of them and any of the nodes 0-9. That means we will merge Node2 and Node8, and then we have Node10 and Node11 left. According to this rule, we will have two seperate clusters: `[10]` and `[11]`.\n",
    "\n",
    "Do you see the problem? With this rule, we are still grouping `[2]` and `[8]` before we gruop `[5,7,0]` and `[1,3]`. Therefore, the above rule does not solve the problem. What should we do then?\n",
    "\n",
    "If you follow my thoughts, you know that the problem we face now is that we should gruop `[5,7,0]` and `[1,3]` before grouping `[2]` and `[8]` but our procedure, or algorithm, does not allow us to do so. Then we need to modify our algorithm. \n",
    "\n",
    "Why should we gruop `[5,7,0]` and `[1,3]` before grouping `[2]` and `[8]`? Because the distance between `[5,7,0]` and `[1,3]` is smaller than that between `[2]` and `[8]`. Then, a simple solution is that we calculate distances betweenn all cluster pairs, and then merge the pair with the smallest diestance. \n",
    "\n",
    "To do so, we should view a node which is not part of a cluster as a cluster. That's to say, before we start clustering anything, in our example, we have ten clusters: `[0]`, `[1]`, `[2]`, `[3]`, `[4]`, `[5]`, `[6]`, `[7]`, `[8]`, `[9]`.\n",
    "\n",
    "But we have a problem: how do we quantify the distance between two clusters when at least one of the two contains more than one nodes? It's easy to measure the distance between two clusters with single node: we just calculate their Euclidean distance, but for clusters with more nodes, we get lost. For example, I ask you, what is the distance between the cluster of `[5,7,0]` and `[1,3]`? This issue is related to the second problem. "
   ]
  },
  {
   "cell_type": "markdown",
   "id": "d168c595",
   "metadata": {},
   "source": [
    "### 3.2 Second problem: which cluster to join?\n",
    "\n",
    "In our original procedure, in the fourth step, we have Node0 and Node7 but Node7 is already part of `[5, 7]`. We decided to let Node0 join `[5, 7]`, but there is a problem. \n",
    "\n",
    "Suppose the situation is like this:\n",
    "\n",
    "![](img/cluster_challenge.png)"
   ]
  },
  {
   "cell_type": "markdown",
   "id": "301a2fec",
   "metadata": {},
   "source": [
    "The distance between Node0 and Node7 is smaller than that between Node0 and Node3. Then should Node0 be part of the cluster of `[1,3]` or `[5,7]`?\n",
    "\n",
    "It all comes down to how we measure distances between clusters. You can say that between the smallest distance for Node0 (or the cluster of `[0]`) is between it and Node7, which is part of the cluster of `[5,7]`, it should join `[5,7]`. But on the other hand, you can say that when you sum up the distances: \n",
    "\n",
    "$$d_{0}^{1} + d_{0}^{3} < d_{0}^{5} + d_{0}^{7} $$\n",
    "\n",
    "We can see that it's better to let Node0 join the cluster of `[1,3]`. \n",
    "\n",
    "Or that because the largest distance between `[0]` and `[1,3]` is smaller than the largest distance between `[0]` and `[5,7]`, we should let Node0 join `[1,3]` instead of `[5,7]`. "
   ]
  },
  {
   "cell_type": "markdown",
   "id": "e26d4889",
   "metadata": {},
   "source": [
    "## 4. Three methods to measure distance between clusters\n",
    "\n",
    "In fact, the above are the three methods of hierchical clustering:\n",
    "\n",
    "  - **Single linkage**: the distance between cluster A and cluster B is defined as the smallest distance between each node in cluster A and each nodes in cluster B. In the above example, the distance between `[0]` and `[5,7]` is that between Node0 and Node7. And the distance between `[0]` and `[1,3]` is that between Node0 and Node3. Then we should merge `[0]` and `[5,7]` together because their distance is **SMALLER**. \n",
    "  \n",
    "  - **Complete linkage**: the distance between cluster A and cluster B is defined as the largest distance between each node in cluster A and each node in cluster B. In the above example, the distance between `[0]` and `[5,7]` is that between Node0 and Node5. And the distance between `[0]` and `[1,3]` is that between Node0 and Node1. Then we should merge `[0]` and `[1,3]` together because their distance is **SMALLER**. \n",
    "  \n",
    "  - **Average linkage**: the distance between cluster A and cluster B is defined as the average distance between each node in cluster A and each node in cluster B. In the above example, the distance between `[0]` and `[5,7]` is $\\frac{1}{2}(d_{0}^{1} + d_{5}^{7})$. And the distance between `[0]` and `[1,3]` is $\\frac{1}{2}(d_{0}^{1} + d_{5}^{7})$. Then we should merge `[0]` and `[1,3]` together because their distance is **SMALLER**. \n",
    "  \n",
    "I guess you will know how to compute the distance between `[5,7]` and `[1,3]`: we have four distance pairs: $d_{5}^{1}$, $d_{5}^{3}$, $d_{7}^{1}$, $d_{7}^{3}$. If we use single linkage, we use the smallest among the four. If we use complete linkage, we use the largest. For average linkage, we compute the mean of all four distances. "
   ]
  },
  {
   "cell_type": "markdown",
   "id": "8131dd06",
   "metadata": {},
   "source": [
    "### 4.1 Implementing the three methods"
   ]
  },
  {
   "cell_type": "code",
   "execution_count": 10,
   "id": "bf537404",
   "metadata": {},
   "outputs": [],
   "source": [
    "def single_linkage(cluster1, cluster2, d_matrix):\n",
    "    dmin = 10**10\n",
    "    for i in cluster1:\n",
    "        for j in cluster2:\n",
    "            if i < j:\n",
    "                d = d_matrix[i,j]\n",
    "            else:\n",
    "                d = d_matrix[j,i]\n",
    "            if d < dmin:\n",
    "                dmin = d\n",
    "    return dmin"
   ]
  },
  {
   "cell_type": "code",
   "execution_count": 11,
   "id": "5404f80d",
   "metadata": {},
   "outputs": [],
   "source": [
    "def complete_linkage(cluster1, cluster2, d_matrix):\n",
    "    dmax = 0\n",
    "    for i in cluster1:\n",
    "        for j in cluster2:\n",
    "            if i < j:\n",
    "                d = d_matrix[i,j]\n",
    "            else:\n",
    "                d = d_matrix[j,i]\n",
    "            if d > dmax:\n",
    "                dmax = d\n",
    "    return dmax"
   ]
  },
  {
   "cell_type": "code",
   "execution_count": 12,
   "id": "c8d92991",
   "metadata": {},
   "outputs": [],
   "source": [
    "def average_linkage(cluster1, cluster2, d_matrix):\n",
    "    d_list = []\n",
    "    for i in cluster1:\n",
    "        for j in cluster2:\n",
    "            if i < j:\n",
    "                d = d_matrix[i,j]\n",
    "            else:\n",
    "                d = d_matrix[j,i]\n",
    "            d_list.append(d)\n",
    "    return np.mean(d_list)"
   ]
  },
  {
   "cell_type": "markdown",
   "id": "297f89c8",
   "metadata": {},
   "source": [
    "In fact, both single linkage and complete linkage can use the method like in `average_linkage`: get the list of all distances and get the min (for single linkage) or max (for complete linkage):\n",
    "\n",
    "```py\n",
    "def single_linkage(cluster1, cluster2, d_matrix):\n",
    "    d_list = []\n",
    "    for i in cluster1:\n",
    "        for j in cluster2:\n",
    "            if i < j:\n",
    "                d = d_matrix[i,j]\n",
    "            else:\n",
    "                d = d_matrix[j,i]\n",
    "            d_list.append(d)\n",
    "    return min(d_list)\n",
    "    \n",
    "def complete_linkage(cluster1, cluster2, d_matrix):\n",
    "    d_list = []\n",
    "    for i in cluster1:\n",
    "        for j in cluster2:\n",
    "            if i < j:\n",
    "                d = d_matrix[i,j]\n",
    "            else:\n",
    "                d = d_matrix[j,i]\n",
    "            d_list.append(d)\n",
    "    return max(d_list)\n",
    "```"
   ]
  },
  {
   "cell_type": "markdown",
   "id": "7458f444",
   "metadata": {},
   "source": [
    "## 5. Algorithm\n",
    "\n",
    "Let's recap our algorithm. We start with 10 nodes. We consider each node as a separate cluster. Then we group two clusters with the smallest distances together. Then we keep doing the same, until the number of cluster is what we require. \n",
    "\n",
    "Let's implemente it. Exciting, isn't it?"
   ]
  },
  {
   "cell_type": "code",
   "execution_count": 13,
   "id": "df53ff96",
   "metadata": {},
   "outputs": [
    {
     "data": {
      "text/plain": [
       "[[0], [1], [2], [3], [4], [5], [6], [7], [8], [9]]"
      ]
     },
     "execution_count": 13,
     "metadata": {},
     "output_type": "execute_result"
    }
   ],
   "source": [
    "# how we initiate clusters\n",
    "clusters = [[i] for i in range(len(M))]\n",
    "clusters"
   ]
  },
  {
   "cell_type": "code",
   "execution_count": 14,
   "id": "f8e3cb40",
   "metadata": {},
   "outputs": [
    {
     "data": {
      "text/plain": [
       "[0, 1]"
      ]
     },
     "execution_count": 14,
     "metadata": {},
     "output_type": "execute_result"
    }
   ],
   "source": [
    "# to understand the following function, you need to know:\n",
    "[0] + [1]\n",
    "# will be:"
   ]
  },
  {
   "cell_type": "code",
   "execution_count": 15,
   "id": "8033c3ca",
   "metadata": {},
   "outputs": [],
   "source": [
    "def hierarchical_clustering(M, d_matrix, target_cluster_num, method='single'):\n",
    "    clusters = [[i] for i in range(len(M))]\n",
    "    while len(clusters) > target_cluster_num:\n",
    "        dmax = np.max(d_matrix) + 1\n",
    "        dmin = dmax\n",
    "        min_cluster1 = None\n",
    "        min_cluster2 = None\n",
    "        for cluster1 in clusters:\n",
    "            for cluster2 in clusters:\n",
    "                if cluster1 != cluster2:\n",
    "                    assert method in [\n",
    "                        'single', 'complete', 'average'], 'You have to choose from single, complete, and average'\n",
    "                    if method == 'single':\n",
    "                        d = single_linkage(cluster1, cluster2, d_matrix)\n",
    "                    elif method == 'complete':\n",
    "                        d = complete_linkage(cluster1, cluster2, d_matrix)\n",
    "                    elif method == 'average':\n",
    "                        d = average_linkage(cluster1, cluster2, d_matrix)\n",
    "                        \n",
    "                    if d < dmin:\n",
    "                        dmin = d\n",
    "                        min_cluster1 = cluster1\n",
    "                        min_cluster2 = cluster2\n",
    "        clusters.remove(min_cluster1)\n",
    "        clusters.remove(min_cluster2)\n",
    "        clusters.append(min_cluster1 + min_cluster2)\n",
    "    return clusters"
   ]
  },
  {
   "cell_type": "markdown",
   "id": "db395d30",
   "metadata": {},
   "source": [
    "## 6. Testing"
   ]
  },
  {
   "cell_type": "code",
   "execution_count": 16,
   "id": "bc9a5d3f",
   "metadata": {},
   "outputs": [
    {
     "data": {
      "text/plain": [
       "[[1, 3, 0, 5, 7], [6, 4, 9], [2, 8]]"
      ]
     },
     "execution_count": 16,
     "metadata": {},
     "output_type": "execute_result"
    }
   ],
   "source": [
    "clusters = hierarchical_clustering(M, d_matrix, 3, method='complete')\n",
    "clusters"
   ]
  },
  {
   "cell_type": "code",
   "execution_count": 17,
   "id": "d1b76af0",
   "metadata": {},
   "outputs": [],
   "source": [
    "clustering_result = []\n",
    "for i in range(len(M)):\n",
    "    for c in clusters:\n",
    "        c_index = clusters.index(c)\n",
    "        if i in c:\n",
    "            clustering_result.append(c_index)"
   ]
  },
  {
   "cell_type": "code",
   "execution_count": 18,
   "id": "ab5ef805",
   "metadata": {},
   "outputs": [
    {
     "data": {
      "text/plain": [
       "[0, 0, 2, 0, 1, 0, 1, 0, 2, 1]"
      ]
     },
     "execution_count": 18,
     "metadata": {},
     "output_type": "execute_result"
    }
   ],
   "source": [
    "clustering_result"
   ]
  },
  {
   "cell_type": "code",
   "execution_count": 19,
   "id": "85c7d4c3",
   "metadata": {},
   "outputs": [
    {
     "data": {
      "text/plain": [
       "array([2, 2, 0, 2, 1, 2, 1, 2, 0, 1])"
      ]
     },
     "execution_count": 19,
     "metadata": {},
     "output_type": "execute_result"
    }
   ],
   "source": [
    "## Scikit learn:\n",
    "from sklearn.cluster import AgglomerativeClustering\n",
    "sklearn_clustering = AgglomerativeClustering(n_clusters=3, affinity='euclidean',  linkage='complete').fit(M)\n",
    "sklearn_clustering.labels_"
   ]
  },
  {
   "cell_type": "code",
   "execution_count": 20,
   "id": "346bacc2",
   "metadata": {},
   "outputs": [],
   "source": [
    "# scipy\n",
    "from scipy.cluster.hierarchy import linkage\n",
    "from scipy.cluster.hierarchy import cut_tree\n",
    "\n",
    "# cityblock will mean mahanttan\n",
    "scipy_clustering = linkage(M, method = \"complete\", metric=\"euclidean\")"
   ]
  },
  {
   "cell_type": "code",
   "execution_count": 21,
   "id": "907bb534",
   "metadata": {},
   "outputs": [
    {
     "name": "stdout",
     "output_type": "stream",
     "text": [
      "[[0 0 1 0 2 0 2 0 1 2]]\n"
     ]
    }
   ],
   "source": [
    "print(cut_tree(\n",
    "    scipy_clustering, n_clusters = 3).T)"
   ]
  },
  {
   "cell_type": "markdown",
   "id": "fa47e0d0",
   "metadata": {},
   "source": [
    "The three results should be interpreted this way: those numbers are the cluster number for each node. For example, in my clustering result, i.e., `clustering_result`, Node0 is in Cluster0, Node1 is in Cluster0, Node2 is in Cluster2, etc. Although the three results look different, they are actually the same: they just use different clustering numbers. "
   ]
  },
  {
   "cell_type": "markdown",
   "id": "0acd3d9f",
   "metadata": {},
   "source": [
    "## 7. Tie breaking"
   ]
  },
  {
   "cell_type": "code",
   "execution_count": 22,
   "id": "efd66e95",
   "metadata": {},
   "outputs": [
    {
     "data": {
      "text/plain": [
       "array([[1.9151945 , 6.22108771],\n",
       "       [4.37727739, 7.85358584],\n",
       "       [7.79975808, 2.72592605],\n",
       "       [2.76464255, 8.01872178],\n",
       "       [9.58139354, 8.75932635],\n",
       "       [3.5781727 , 5.00995126],\n",
       "       [6.83462935, 7.12702027],\n",
       "       [3.70250755, 5.61196186],\n",
       "       [5.03083165, 0.1376845 ],\n",
       "       [7.72826622, 8.82641191],\n",
       "       [3.64885984, 6.15396178],\n",
       "       [0.75381242, 3.68824006],\n",
       "       [9.33140102, 6.51378143],\n",
       "       [3.97202578, 7.88730143],\n",
       "       [3.16836122, 5.68098653],\n",
       "       [8.6912739 , 4.36173424],\n",
       "       [8.02147642, 1.43766825],\n",
       "       [7.04260971, 7.04581308],\n",
       "       [2.18792106, 9.24867629],\n",
       "       [4.42140755, 9.09315959],\n",
       "       [0.59809223, 1.84287084],\n",
       "       [0.47355279, 6.74880944],\n",
       "       [5.9462478 , 5.33310163],\n",
       "       [0.43324063, 5.6143308 ],\n",
       "       [3.29668446, 5.02966833],\n",
       "       [1.11894318, 6.07193706],\n",
       "       [5.65944643, 0.06764062],\n",
       "       [6.17441709, 9.12122886],\n",
       "       [7.90524133, 9.92081466],\n",
       "       [9.58801762, 7.91964135],\n",
       "       [2.8525096 , 6.24916705],\n",
       "       [4.78093796, 1.95675179],\n",
       "       [3.82317452, 0.53873685],\n",
       "       [4.51648408, 9.82004742],\n",
       "       [1.239427  , 1.19380898],\n",
       "       [7.38523056, 5.87303633],\n",
       "       [4.71632534, 1.07126817],\n",
       "       [2.29218565, 8.99965195],\n",
       "       [4.16753538, 5.35851663],\n",
       "       [0.06208517, 3.00641706],\n",
       "       [4.36893172, 6.12148997],\n",
       "       [9.18198075, 6.2573667 ],\n",
       "       [7.05997565, 1.49833716],\n",
       "       [7.46063409, 8.31006992],\n",
       "       [6.33725769, 4.38309881],\n",
       "       [1.52572775, 5.68409615],\n",
       "       [5.28224278, 9.51428764],\n",
       "       [4.80359179, 5.02559563],\n",
       "       [5.36878193, 8.19202067],\n",
       "       [0.57115638, 6.69421743]])"
      ]
     },
     "execution_count": 22,
     "metadata": {},
     "output_type": "execute_result"
    }
   ],
   "source": [
    "np.random.seed(1234)\n",
    "N2 = 50 # number of points\n",
    "matrix = np.random.rand(N2, 2) # N points in 2 dimensional space\n",
    "M2 = matrix * 10 # multiply ten so that the numbers are easier to understand. \n",
    "# Otherwise, all numbers are between 0 and 1\n",
    "M2"
   ]
  },
  {
   "cell_type": "code",
   "execution_count": 23,
   "id": "b04d4d89",
   "metadata": {},
   "outputs": [
    {
     "data": {
      "image/png": "[encoded data removed]",
      "text/plain": [
       "<Figure size 1000x1000 with 1 Axes>"
      ]
     },
     "metadata": {
      "needs_background": "light"
     },
     "output_type": "display_data"
    }
   ],
   "source": [
    "X = M2[:, 0]\n",
    "Y = M2[:, 1]\n",
    "from matplotlib.pyplot import figure\n",
    "figure(figsize = (10,10), dpi = 100)\n",
    "plt.scatter(X,Y)\n",
    "plt.xlabel('X')\n",
    "plt.ylabel('Y')\n",
    "for i in range(N2):\n",
    "    plt.text(X[i], Y[i], str(i))"
   ]
  },
  {
   "cell_type": "code",
   "execution_count": 24,
   "id": "1a557f1e",
   "metadata": {},
   "outputs": [],
   "source": [
    "d_matrix2 = np.zeros((N2, N2))\n",
    "for i in range(N2):\n",
    "    for j in range(N2):\n",
    "        if i < j:\n",
    "            d_matrix2[i,j] = eu_distance(M2[i], M2[j])\n",
    "        else:\n",
    "            d_matrix2[i,j] = 10**5"
   ]
  },
  {
   "cell_type": "code",
   "execution_count": 25,
   "id": "d009faa6",
   "metadata": {},
   "outputs": [
    {
     "data": {
      "text/plain": [
       "1226"
      ]
     },
     "execution_count": 25,
     "metadata": {},
     "output_type": "execute_result"
    }
   ],
   "source": [
    "all_ds2 = np.unique(d_matrix2) # all unique distances\n",
    "len(all_ds2)"
   ]
  },
  {
   "cell_type": "code",
   "execution_count": 26,
   "id": "b5d2be68",
   "metadata": {},
   "outputs": [
    {
     "data": {
      "text/plain": [
       "1276.0"
      ]
     },
     "execution_count": 26,
     "metadata": {},
     "output_type": "execute_result"
    }
   ],
   "source": [
    "((1+N2)*N2)/2 + 1"
   ]
  },
  {
   "cell_type": "code",
   "execution_count": null,
   "id": "57e47d82",
   "metadata": {},
   "outputs": [],
   "source": []
  }
 ],
 "metadata": {
  "kernelspec": {
   "display_name": "Python 3 (ipykernel)",
   "language": "python",
   "name": "python3"
  },
  "language_info": {
   "codemirror_mode": {
    "name": "ipython",
    "version": 3
   },
   "file_extension": ".py",
   "mimetype": "text/x-python",
   "name": "python",
   "nbconvert_exporter": "python",
   "pygments_lexer": "ipython3",
   "version": "3.10.4"
  }
 },
 "nbformat": 4,
 "nbformat_minor": 5
}

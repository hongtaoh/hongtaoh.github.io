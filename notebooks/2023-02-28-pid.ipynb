{
 "cells": [
  {
   "cell_type": "markdown",
   "id": "55d76e5f",
   "metadata": {},
   "source": [
    "---\n",
    "\n",
    "title: Proportional-Integral-Derivative Controller\n",
    "date: 2023-02-28\n",
    "author: Hongtao Hao\n",
    "slug: pid\n",
    "draft: false\n",
    "toc: true\n",
    "tags: self-driving\n",
    "\n",
    "---"
   ]
  },
  {
   "cell_type": "markdown",
   "id": "4a9c3863",
   "metadata": {},
   "source": [
    "{{<block class = \"note\">}}\n",
    "The material below is based on Professor [Xiaopeng Li](https://directory.engr.wisc.edu/cee/Faculty/Li_Xiaopeng/)'s course of *CIV ENGR 679 Connected and Automated Transport*\n",
    "{{<end>}}\n",
    "\n",
    "{{<block class = \"reminder\">}}\n",
    "This notebook runs in [Julia](https://julialang.org/) and is rendered by [Hupyter](https://github.com/hongtaoh/hupyter).\n",
    "{{<end>}}"
   ]
  },
  {
   "cell_type": "markdown",
   "id": "38dd3e45",
   "metadata": {},
   "source": [
    "# PID controller\n",
    "\n",
    "PID is short for \"Proportional-Integral-Derivative\". What it does is that if you have a planned trajectory for a vehicle which is now at a specific location and have a specific initial speed, PID will allow this vehicle to get to the planned trajectory. You accomplish this through PID by tweaking the three parameters:\n",
    "\n",
    "- $k_P$ \n",
    "- $k_I$\n",
    "- $k_D$\n",
    "\n",
    "If you multiply $k_P$ by the distance between the planned location and the actual location at any timestamp, you get $a_P$. If you multiply $k_I$ by the difference between the integral of the planned location and that of the actual location at any timestamp, you get $a_I$.  If you multiply $k_D$ by the speed difference between the planned trajectory and the actual vehicle at any timestamp, you get $a_D$.\n",
    "\n",
    "If you add up $a_P$, $a_I$, and $a_D$, you get $a$, which is the acceleration for the actual vehicle. \n",
    "\n",
    "## PID for constant speed\n",
    "\n",
    ">The planned trajectory starts from location 0 at time 0. It is cruising at 30m/s speed for 50 seconds.The actual location is 3 at time 0 and the actual speed is 28m/s at time 0."
   ]
  },
  {
   "cell_type": "code",
   "execution_count": 50,
   "id": "c07b6d13",
   "metadata": {},
   "outputs": [],
   "source": [
    "using Plots, Distributions, Random"
   ]
  },
  {
   "cell_type": "code",
   "execution_count": 51,
   "id": "f624d82b",
   "metadata": {},
   "outputs": [
    {
     "data": {
      "text/plain": [
       "get_data (generic function with 5 methods)"
      ]
     },
     "execution_count": 51,
     "metadata": {},
     "output_type": "execute_result"
    }
   ],
   "source": [
    "function get_data(t, k_p=2, k_i=0, k_d=1)\n",
    "    # initial state\n",
    "    # y for the planned vehicle, x for the actual vehicle\n",
    "    \n",
    "    y = 0 # position\n",
    "    int_y = 0 # integral of position\n",
    "    y_dot = 30 # speed\n",
    "    x = 3\n",
    "    int_x = 0\n",
    "    x_dot = 28\n",
    "    \n",
    "    a_p = k_p * (y - x)\n",
    "    a_i = k_i * (int_y - int_x)\n",
    "    a_d = k_d * (y_dot - x_dot)\n",
    "    \n",
    "    a = a_p + a_i + a_d\n",
    "    \n",
    "    # if time is 0, return the initial state\n",
    "    if t == 0\n",
    "        return (y, x)\n",
    "    else\n",
    "        for i in time_delta:time_delta:t\n",
    "            # 0.2, 0.4, 0.6, ...\n",
    "            x_dot_prev = x_dot\n",
    "            x_dot += a * time_delta\n",
    "            # THIS IS USING APPROXIMATION!\n",
    "            x += 0.5*(x_dot_prev + x_dot) * time_delta\n",
    "            int_x += x * time_delta\n",
    "\n",
    "            # update y\n",
    "            y_dot = y_dot # constant speed at all time\n",
    "            y += y_dot * time_delta\n",
    "            int_y += y * time_delta\n",
    "\n",
    "            # update a_p, a_i, a_d, and a for usage at next timestamp\n",
    "            a_p = k_p * (y - x)\n",
    "            a_i = k_i * (int_y - int_x)\n",
    "            a_d = k_d * (y_dot - x_dot)\n",
    "            a = a_p + a_i + a_d\n",
    "        end\n",
    "        return (y, x)\n",
    "    end\n",
    "end"
   ]
  },
  {
   "cell_type": "code",
   "execution_count": 52,
   "id": "0f5273aa",
   "metadata": {},
   "outputs": [
    {
     "data": {
      "text/plain": [
       "0.0:0.2:50.0"
      ]
     },
     "execution_count": 52,
     "metadata": {},
     "output_type": "execute_result"
    }
   ],
   "source": [
    "time_delta = 0.2 \n",
    "time_span = 0.0:time_delta:50"
   ]
  },
  {
   "cell_type": "code",
   "execution_count": 53,
   "id": "2622755a",
   "metadata": {},
   "outputs": [
    {
     "data": {
      "text/plain": [
       "make_plot (generic function with 1 method)"
      ]
     },
     "execution_count": 53,
     "metadata": {},
     "output_type": "execute_result"
    }
   ],
   "source": [
    "function make_plot(data, title, label, xlabel, ylabel)\n",
    "    Plots.plot(time_span, data,\n",
    "    title=title,\n",
    "    label=label,\n",
    "    linewidth=0.5,\n",
    "    markershape = :auto,\n",
    "    markersize = 2,\n",
    "    linestyle = :auto,\n",
    "    mc= :auto,\n",
    "    xlabel = xlabel,\n",
    "    ylabel = ylabel,\n",
    "    legend=:bottom\n",
    "    )\n",
    "end"
   ]
  },
  {
   "cell_type": "code",
   "execution_count": 54,
   "id": "36418bf5",
   "metadata": {},
   "outputs": [
    {
     "data": {
      "text/plain": [
       "251-element Vector{Real}:\n",
       "    3\n",
       "    8.52\n",
       "   13.915199999999999\n",
       "   19.253951999999998\n",
       "   24.59818752\n",
       "   29.999490355200003\n",
       "   35.496625508352004\n",
       "   41.114488996331524\n",
       "   46.8643352065278\n",
       "   52.745059206570446\n",
       "   58.74526263008063\n",
       "   64.84581249542273\n",
       "   71.02260938267628\n",
       "    ⋮\n",
       " 1434.0000000008072\n",
       " 1440.0000000013742\n",
       " 1446.0000000017405\n",
       " 1452.000000001909\n",
       " 1458.000000001898\n",
       " 1464.0000000017367\n",
       " 1470.0000000014622\n",
       " 1476.0000000011148\n",
       " 1482.0000000007337\n",
       " 1488.000000000355\n",
       " 1494.0000000000084\n",
       " 1499.9999999997167"
      ]
     },
     "execution_count": 54,
     "metadata": {},
     "output_type": "execute_result"
    }
   ],
   "source": [
    "ys = [get_data(i, 2, 0, 1)[1] for i in time_span]\n",
    "xs = [get_data(i, 2, 0, 1)[2] for i in time_span]"
   ]
  },
  {
   "cell_type": "code",
   "execution_count": 55,
   "id": "ba8fb42f",
   "metadata": {},
   "outputs": [],
   "source": [
    "make_plot(\n",
    "    [ys, xs],\n",
    "    \"planned and actual\",\n",
    "    [\"planned\" \"actual\"],\n",
    "    \"time\",\n",
    "    \"planned and actual\"\n",
    ")\n",
    "\n",
    "savefig(\"juliaplots/pid-01.png\")"
   ]
  },
  {
   "cell_type": "markdown",
   "id": "d5a1ef39",
   "metadata": {},
   "source": [
    "![](juliaplots/pid-01.png)"
   ]
  },
  {
   "cell_type": "code",
   "execution_count": 56,
   "id": "9c021c9c",
   "metadata": {},
   "outputs": [],
   "source": [
    "make_plot(\n",
    "    ys-xs,\n",
    "    \"planned - actual\",\n",
    "    \"planned - actual\",\n",
    "    \"time\",\n",
    "    \"planned - actual\"\n",
    ")\n",
    "\n",
    "savefig(\"juliaplots/pid-02.png\")"
   ]
  },
  {
   "cell_type": "markdown",
   "id": "2715cf78",
   "metadata": {},
   "source": [
    "![](juliaplots/pid-02.png)"
   ]
  },
  {
   "cell_type": "markdown",
   "id": "2ac228f5",
   "metadata": {},
   "source": [
    "## Dynamic speed (with random noise)\n",
    "\n",
    ">The planned trajectory starts from location 0 at time 0. It is cruising at 30m/s speed for the first 10 seconds, then decreasing to 10 m/s with deceleration $-2𝑚/𝑠^2$ for 10 seconds and then accelerating to 30m/s with acceleration $2𝑚/𝑠^2$ for 10 seconds, and then cruising at 30 m/s for 20 seconds.\n",
    "\n",
    ">The actual location is 3 at time 0 and the actual speed is 28m/s at time 0.\n",
    "\n",
    ">Assuming the acceleration cannot be precisely controlled, and always has a random error uniformly distributed over $[-0.2, 0.2] m/s$"
   ]
  },
  {
   "cell_type": "code",
   "execution_count": 57,
   "id": "fb4e4110",
   "metadata": {},
   "outputs": [
    {
     "data": {
      "text/plain": [
       "get_y_dot (generic function with 1 method)"
      ]
     },
     "execution_count": 57,
     "metadata": {},
     "output_type": "execute_result"
    }
   ],
   "source": [
    "function get_y_dot(t)\n",
    "    \"\"\"This function gets the speed of the planned vehicle\n",
    "    \"\"\"\n",
    "    if t <= 10\n",
    "        y_dot = 30\n",
    "    elseif t <= 20\n",
    "        y_dot = 30\n",
    "        for i in 10+time_delta:time_delta:t\n",
    "            y_dot += time_delta*(-2)\n",
    "        end\n",
    "    elseif t <= 30\n",
    "        y_dot = 10\n",
    "        for i in 20+time_delta:time_delta:t\n",
    "            y_dot += time_delta*2\n",
    "        end\n",
    "    else\n",
    "        y_dot = 30\n",
    "    end\n",
    "    return y_dot\n",
    "end"
   ]
  },
  {
   "cell_type": "markdown",
   "id": "8be7f5e5",
   "metadata": {},
   "source": [
    "Tesing the function of `get_y_dot`:"
   ]
  },
  {
   "cell_type": "code",
   "execution_count": 58,
   "id": "58ccb867",
   "metadata": {},
   "outputs": [
    {
     "data": {
      "text/plain": [
       "20.000000000000036"
      ]
     },
     "execution_count": 58,
     "metadata": {},
     "output_type": "execute_result"
    }
   ],
   "source": [
    "get_y_dot(15)"
   ]
  },
  {
   "cell_type": "code",
   "execution_count": 59,
   "id": "c736a649",
   "metadata": {},
   "outputs": [
    {
     "data": {
      "text/plain": [
       "14.000000000000004"
      ]
     },
     "execution_count": 59,
     "metadata": {},
     "output_type": "execute_result"
    }
   ],
   "source": [
    "get_y_dot(22)"
   ]
  },
  {
   "cell_type": "code",
   "execution_count": 60,
   "id": "d1f11505",
   "metadata": {},
   "outputs": [
    {
     "data": {
      "text/plain": [
       "get_data (generic function with 5 methods)"
      ]
     },
     "execution_count": 60,
     "metadata": {},
     "output_type": "execute_result"
    }
   ],
   "source": [
    "function get_data(t, k_p=2, k_i=0, k_d=1, noise = true)\n",
    "    \"\"\"This function returns the trajectory of the planned vehicle (y) \n",
    "    and the actual vehicle (x)\n",
    "    \n",
    "    The key is that the initial acceleration of the actual vehicle can be calculated \n",
    "    through the initial state and the set parameters. Using this acceleration at t=0,\n",
    "    we can calculate the velocity of the actual vehicle at the next timestamp. Then, \n",
    "    using x_dot, we can calculate x and int_x.\n",
    "    \n",
    "    y_dot, y, and the int_y can be calculated easily. \n",
    "    \"\"\"\n",
    "    # initial state\n",
    "    # y for the planned vehicle, x for the actual vehicle\n",
    "    \n",
    "    y = 0 # position\n",
    "    int_y = 0 # integral of position\n",
    "    y_dot = 30 # speed\n",
    "    x = 3\n",
    "    int_x = 0\n",
    "    x_dot = 28\n",
    "    \n",
    "    a_p = k_p * (y - x)\n",
    "    a_i = k_i * (int_y - int_x)\n",
    "    a_d = k_d * (y_dot - x_dot)\n",
    "    if noise\n",
    "        a = a_p + a_i + a_d + rand(Uniform(-0.2, 0.2))\n",
    "    else\n",
    "        a = a_p + a_i + a_d\n",
    "    end\n",
    "    if t == 0\n",
    "        return (y, x)\n",
    "    else\n",
    "        for i in time_delta:time_delta:t\n",
    "            x_dot_prev = x_dot\n",
    "            x_dot += a * time_delta\n",
    "            # THIS IS USING APPROXIMATION!\n",
    "            x += 0.5*(x_dot_prev + x_dot) * time_delta\n",
    "            int_x += x * time_delta\n",
    "\n",
    "            # update y\n",
    "            y_dot = get_y_dot(i)\n",
    "            y += y_dot * time_delta\n",
    "            int_y += y * time_delta\n",
    "\n",
    "            # update a_p, a_i, a_d, and a for usage at next timestamp\n",
    "            a_p = k_p * (y - x)\n",
    "            a_i = k_i * (int_y - int_x)\n",
    "            a_d = k_d * (y_dot - x_dot)\n",
    "            if noise\n",
    "                a = a_p + a_i + a_d + rand(Uniform(-0.2, 0.2))\n",
    "            else\n",
    "                a = a_p + a_i + a_d\n",
    "            end\n",
    "        end\n",
    "        return (y, x)\n",
    "    end\n",
    "end"
   ]
  },
  {
   "cell_type": "code",
   "execution_count": 61,
   "id": "f7722bc5",
   "metadata": {},
   "outputs": [
    {
     "data": {
      "text/plain": [
       "251-element Vector{Real}:\n",
       "    3\n",
       "    8.518715767262622\n",
       "   13.906232802166503\n",
       "   19.268572854391913\n",
       "   24.6096425130715\n",
       "   30.02599498962064\n",
       "   35.45927678410515\n",
       "   41.09226062787909\n",
       "   46.86326171393311\n",
       "   52.7531619121299\n",
       "   58.74007729213587\n",
       "   64.88326196481631\n",
       "   71.03580647914927\n",
       "    ⋮\n",
       " 1233.9981479653238\n",
       " 1240.010372398277\n",
       " 1246.0066976688347\n",
       " 1252.0239301638433\n",
       " 1258.0021171428577\n",
       " 1264.008764132957\n",
       " 1270.021276479265\n",
       " 1275.9923591224674\n",
       " 1282.033955662245\n",
       " 1288.014337231835\n",
       " 1293.9907637632514\n",
       " 1299.9826222077306"
      ]
     },
     "execution_count": 61,
     "metadata": {},
     "output_type": "execute_result"
    }
   ],
   "source": [
    "ys = [get_data(i, 2, 0, 1)[1] for i in time_span]\n",
    "xs = [get_data(i, 2, 0, 1)[2] for i in time_span]"
   ]
  },
  {
   "cell_type": "code",
   "execution_count": 62,
   "id": "1d7c2b72",
   "metadata": {
    "scrolled": true
   },
   "outputs": [],
   "source": [
    "make_plot(\n",
    "    [ys, xs],\n",
    "    \"planned and actual\",\n",
    "    [\"planned\" \"actual\"],\n",
    "    \"time\",\n",
    "    \"planned and actual\"\n",
    ")\n",
    "\n",
    "savefig(\"juliaplots/pid-03.png\")"
   ]
  },
  {
   "cell_type": "markdown",
   "id": "3f0df3c3",
   "metadata": {},
   "source": [
    "![](juliaplots/pid-03.png)"
   ]
  },
  {
   "cell_type": "code",
   "execution_count": 63,
   "id": "3bd87485",
   "metadata": {},
   "outputs": [],
   "source": [
    "make_plot(\n",
    "    ys-xs,\n",
    "    \"planned - actual\",\n",
    "    \"planned - actual\",\n",
    "    \"time\",\n",
    "    \"planned - actual\"\n",
    ")\n",
    "\n",
    "savefig(\"juliaplots/pid-04.png\")"
   ]
  },
  {
   "cell_type": "markdown",
   "id": "c21f876a",
   "metadata": {},
   "source": [
    "![](juliaplots/pid-04.png)"
   ]
  },
  {
   "cell_type": "markdown",
   "id": "6aeac8f3",
   "metadata": {},
   "source": [
    "## Questions\n",
    "\n",
    "- In pid, the x/y_dot, and int_y/x is using approximation, can we get the exact form?\n",
    "\n",
    "It's very difficult to get the analytical form. \n",
    "\n",
    "- How to get the optimal value\n",
    "\n",
    "It's also very difficult. It involves non-linear programming. "
   ]
  }
 ],
 "metadata": {
  "kernelspec": {
   "display_name": "Julia 1.7.1",
   "language": "julia",
   "name": "julia-1.7"
  },
  "language_info": {
   "file_extension": ".jl",
   "mimetype": "application/julia",
   "name": "julia",
   "version": "1.7.1"
  }
 },
 "nbformat": 4,
 "nbformat_minor": 5
}

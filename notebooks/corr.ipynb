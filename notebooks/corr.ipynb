{
 "cells": [
  {
   "cell_type": "markdown",
   "id": "0f23dad9",
   "metadata": {},
   "source": [
    "# Corr\n",
    "\n",
    "title: Correlation Revisited\n",
    "date: 2022-08-19\n",
    "author: \"Hongtao Hao\"\n",
    "slug: correlation-revisited\n",
    "draft: false\n",
    "toc: false\n",
    "tags: stats\n",
    "\n",
    "<!--eofm-->"
   ]
  },
  {
   "cell_type": "code",
   "execution_count": 1,
   "id": "db371570",
   "metadata": {},
   "outputs": [],
   "source": [
    "import matplotlib.pyplot as plt\n",
    "import numpy as np"
   ]
  },
  {
   "cell_type": "code",
   "execution_count": 4,
   "id": "59fefea4",
   "metadata": {},
   "outputs": [],
   "source": [
    "def f(x):\n",
    "    return [2*i + 1 for i in x]"
   ]
  },
  {
   "cell_type": "code",
   "execution_count": 5,
   "id": "a3d74b52",
   "metadata": {},
   "outputs": [
    {
     "data": {
      "text/plain": [
       "[7, 13, 19]"
      ]
     },
     "execution_count": 5,
     "metadata": {},
     "output_type": "execute_result"
    }
   ],
   "source": [
    "a1 = [3,6,9]\n",
    "b1 = f(a1)\n",
    "b1"
   ]
  },
  {
   "cell_type": "code",
   "execution_count": 38,
   "id": "9ca60d29",
   "metadata": {},
   "outputs": [
    {
     "data": {
      "text/plain": [
       "2.449489742783178"
      ]
     },
     "execution_count": 38,
     "metadata": {},
     "output_type": "execute_result"
    }
   ],
   "source": [
    "np.std(a1)"
   ]
  },
  {
   "cell_type": "code",
   "execution_count": 39,
   "id": "dd557208",
   "metadata": {},
   "outputs": [
    {
     "data": {
      "text/plain": [
       "4.898979485566356"
      ]
     },
     "execution_count": 39,
     "metadata": {},
     "output_type": "execute_result"
    }
   ],
   "source": [
    "np.std(b1)"
   ]
  },
  {
   "cell_type": "code",
   "execution_count": 6,
   "id": "904e164e",
   "metadata": {},
   "outputs": [
    {
     "data": {
      "text/plain": [
       "[7, 13, 25]"
      ]
     },
     "execution_count": 6,
     "metadata": {},
     "output_type": "execute_result"
    }
   ],
   "source": [
    "a2 = [3,6,12]\n",
    "b2 = f(a2)\n",
    "b2"
   ]
  },
  {
   "cell_type": "code",
   "execution_count": 7,
   "id": "a6f28196",
   "metadata": {},
   "outputs": [
    {
     "data": {
      "text/plain": [
       "<matplotlib.collections.PathCollection at 0x12250e2c0>"
      ]
     },
     "execution_count": 7,
     "metadata": {},
     "output_type": "execute_result"
    },
    {
     "data": {
      "image/png": "[encoded data removed]",
      "text/plain": [
       "<Figure size 432x288 with 1 Axes>"
      ]
     },
     "metadata": {
      "needs_background": "light"
     },
     "output_type": "display_data"
    }
   ],
   "source": [
    "plt.scatter(a1,b1)"
   ]
  },
  {
   "cell_type": "code",
   "execution_count": 8,
   "id": "5dadfc8b",
   "metadata": {},
   "outputs": [
    {
     "data": {
      "text/plain": [
       "<matplotlib.collections.PathCollection at 0x12264f0d0>"
      ]
     },
     "execution_count": 8,
     "metadata": {},
     "output_type": "execute_result"
    },
    {
     "data": {
      "image/png": "[encoded data removed]",
      "text/plain": [
       "<Figure size 432x288 with 1 Axes>"
      ]
     },
     "metadata": {
      "needs_background": "light"
     },
     "output_type": "display_data"
    }
   ],
   "source": [
    "plt.scatter(a2,b2)"
   ]
  },
  {
   "cell_type": "code",
   "execution_count": 9,
   "id": "340a6e8d",
   "metadata": {},
   "outputs": [],
   "source": [
    "a1_bar, b1_bar, a2_bar, b2_bar = np.mean(a1), np.mean(b1), np.mean(a2), np.mean(b2)"
   ]
  },
  {
   "cell_type": "code",
   "execution_count": 13,
   "id": "3cf2147a",
   "metadata": {},
   "outputs": [],
   "source": [
    "def covariance(xs, ys):\n",
    "    x_bar = np.mean(xs)\n",
    "    y_bar = np.mean(ys)\n",
    "    covariance = 0\n",
    "    for i in range(len(xs)):\n",
    "        covariance += (xs[i] - x_bar) * (ys[i] - y_bar)\n",
    "    return covariance / len(xs)"
   ]
  },
  {
   "cell_type": "code",
   "execution_count": 14,
   "id": "38e55826",
   "metadata": {},
   "outputs": [
    {
     "data": {
      "text/plain": [
       "12.0"
      ]
     },
     "execution_count": 14,
     "metadata": {},
     "output_type": "execute_result"
    }
   ],
   "source": [
    "covariance(a1, b1)"
   ]
  },
  {
   "cell_type": "code",
   "execution_count": 15,
   "id": "f6e18ac4",
   "metadata": {},
   "outputs": [
    {
     "data": {
      "text/plain": [
       "28.0"
      ]
     },
     "execution_count": 15,
     "metadata": {},
     "output_type": "execute_result"
    }
   ],
   "source": [
    "covariance(a2, b2)"
   ]
  },
  {
   "cell_type": "code",
   "execution_count": 16,
   "id": "bc0d4f80",
   "metadata": {},
   "outputs": [],
   "source": [
    "def corr(xs, ys):\n",
    "    return covariance(xs, ys)/ (np.std(xs) * np.std(ys))"
   ]
  },
  {
   "cell_type": "code",
   "execution_count": 17,
   "id": "97fab2e3",
   "metadata": {},
   "outputs": [
    {
     "data": {
      "text/plain": [
       "1.0000000000000002"
      ]
     },
     "execution_count": 17,
     "metadata": {},
     "output_type": "execute_result"
    }
   ],
   "source": [
    "corr(a1,b1)"
   ]
  },
  {
   "cell_type": "code",
   "execution_count": 18,
   "id": "ccded53e",
   "metadata": {},
   "outputs": [
    {
     "data": {
      "text/plain": [
       "1.0"
      ]
     },
     "execution_count": 18,
     "metadata": {},
     "output_type": "execute_result"
    }
   ],
   "source": [
    "corr(a2,b2)"
   ]
  },
  {
   "cell_type": "code",
   "execution_count": 19,
   "id": "5419b678",
   "metadata": {},
   "outputs": [],
   "source": [
    "def get_zscore(s):\n",
    "    return [(i-np.mean(s))/np.std(s) for i in s]"
   ]
  },
  {
   "cell_type": "code",
   "execution_count": 26,
   "id": "3f1fa9c8",
   "metadata": {},
   "outputs": [
    {
     "data": {
      "text/plain": [
       "[-1.2247448713915892, 0.0, 1.2247448713915892]"
      ]
     },
     "execution_count": 26,
     "metadata": {},
     "output_type": "execute_result"
    }
   ],
   "source": [
    "a1_z = get_zscore(a1)\n",
    "a1_z"
   ]
  },
  {
   "cell_type": "code",
   "execution_count": 27,
   "id": "0941bbed",
   "metadata": {},
   "outputs": [
    {
     "data": {
      "text/plain": [
       "[-1.2247448713915892, 0.0, 1.2247448713915892]"
      ]
     },
     "execution_count": 27,
     "metadata": {},
     "output_type": "execute_result"
    }
   ],
   "source": [
    "b1_z = get_zscore(b1)\n",
    "b1_z"
   ]
  },
  {
   "cell_type": "code",
   "execution_count": 28,
   "id": "02f5d84b",
   "metadata": {},
   "outputs": [
    {
     "data": {
      "text/plain": [
       "[-1.0690449676496976, -0.2672612419124244, 1.3363062095621219]"
      ]
     },
     "execution_count": 28,
     "metadata": {},
     "output_type": "execute_result"
    }
   ],
   "source": [
    "a2_z = get_zscore(a2)\n",
    "a2_z"
   ]
  },
  {
   "cell_type": "code",
   "execution_count": 29,
   "id": "2e76a59b",
   "metadata": {},
   "outputs": [
    {
     "data": {
      "text/plain": [
       "[-1.0690449676496976, -0.2672612419124244, 1.3363062095621219]"
      ]
     },
     "execution_count": 29,
     "metadata": {},
     "output_type": "execute_result"
    }
   ],
   "source": [
    "b2_z = get_zscore(b2)\n",
    "b2_z"
   ]
  },
  {
   "cell_type": "code",
   "execution_count": 30,
   "id": "2dba068d",
   "metadata": {},
   "outputs": [
    {
     "data": {
      "text/plain": [
       "1.0000000000000002"
      ]
     },
     "execution_count": 30,
     "metadata": {},
     "output_type": "execute_result"
    }
   ],
   "source": [
    "covariance(a1_z, b1_z)"
   ]
  },
  {
   "cell_type": "code",
   "execution_count": 31,
   "id": "3f421177",
   "metadata": {},
   "outputs": [
    {
     "data": {
      "text/plain": [
       "1.0"
      ]
     },
     "execution_count": 31,
     "metadata": {},
     "output_type": "execute_result"
    }
   ],
   "source": [
    "covariance(a2_z, b2_z)"
   ]
  },
  {
   "cell_type": "code",
   "execution_count": 33,
   "id": "617008c9",
   "metadata": {},
   "outputs": [
    {
     "data": {
      "text/plain": [
       "0.0"
      ]
     },
     "execution_count": 33,
     "metadata": {},
     "output_type": "execute_result"
    }
   ],
   "source": [
    "np.mean(a1_z)"
   ]
  },
  {
   "cell_type": "code",
   "execution_count": 34,
   "id": "6264d875",
   "metadata": {},
   "outputs": [
    {
     "data": {
      "text/plain": [
       "0.0"
      ]
     },
     "execution_count": 34,
     "metadata": {},
     "output_type": "execute_result"
    }
   ],
   "source": [
    "np.mean(b1_z)"
   ]
  },
  {
   "cell_type": "code",
   "execution_count": 36,
   "id": "f49996d4",
   "metadata": {},
   "outputs": [
    {
     "data": {
      "text/plain": [
       "0.0"
      ]
     },
     "execution_count": 36,
     "metadata": {},
     "output_type": "execute_result"
    }
   ],
   "source": [
    "np.mean(a2_z)"
   ]
  },
  {
   "cell_type": "code",
   "execution_count": 37,
   "id": "2fff83ed",
   "metadata": {},
   "outputs": [
    {
     "data": {
      "text/plain": [
       "0.0"
      ]
     },
     "execution_count": 37,
     "metadata": {},
     "output_type": "execute_result"
    }
   ],
   "source": [
    "np.mean(b2_z)"
   ]
  },
  {
   "cell_type": "code",
   "execution_count": null,
   "id": "907731d2",
   "metadata": {},
   "outputs": [],
   "source": []
  }
 ],
 "metadata": {
  "kernelspec": {
   "display_name": "Python 3 (ipykernel)",
   "language": "python",
   "name": "python3"
  },
  "language_info": {
   "codemirror_mode": {
    "name": "ipython",
    "version": 3
   },
   "file_extension": ".py",
   "mimetype": "text/x-python",
   "name": "python",
   "nbconvert_exporter": "python",
   "pygments_lexer": "ipython3",
   "version": "3.10.4"
  }
 },
 "nbformat": 4,
 "nbformat_minor": 5
}

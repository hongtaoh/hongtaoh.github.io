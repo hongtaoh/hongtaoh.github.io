{
 "cells": [
  {
   "cell_type": "code",
   "execution_count": 38,
   "id": "dc0a5e0e",
   "metadata": {},
   "outputs": [],
   "source": [
    "a = ('I really like this film! It is so interesting!', 'pos')\n",
    "b = ('This movie sucks! I have never seen a worse movie in my life.', 'neg')\n",
    "c = ('How can a movie be this inspiring! \\\n",
    "I almost wanted to become an actor after watching this film. Go watch it! It deserves your ticket!', 'pos')\n",
    "d = ('This is the best movie I have seen this year!', 'pos')\n",
    "e = ('I hate this film. It is so bad and not worth your money. Do not buy the ticket!', 'neg')"
   ]
  },
  {
   "cell_type": "code",
   "execution_count": 39,
   "id": "c4dd3173",
   "metadata": {},
   "outputs": [],
   "source": [
    "import pandas as pd"
   ]
  },
  {
   "cell_type": "code",
   "execution_count": 40,
   "id": "57395dae",
   "metadata": {},
   "outputs": [
    {
     "data": {
      "text/html": [
       "<div>\n",
       "<style scoped>\n",
       "    .dataframe tbody tr th:only-of-type {\n",
       "        vertical-align: middle;\n",
       "    }\n",
       "\n",
       "    .dataframe tbody tr th {\n",
       "        vertical-align: top;\n",
       "    }\n",
       "\n",
       "    .dataframe thead th {\n",
       "        text-align: right;\n",
       "    }\n",
       "</style>\n",
       "<table border=\"1\" class=\"dataframe\">\n",
       "  <thead>\n",
       "    <tr style=\"text-align: right;\">\n",
       "      <th></th>\n",
       "      <th>review</th>\n",
       "      <th>sentiment</th>\n",
       "    </tr>\n",
       "  </thead>\n",
       "  <tbody>\n",
       "    <tr>\n",
       "      <th>0</th>\n",
       "      <td>I really like this film! It is so interesting!</td>\n",
       "      <td>pos</td>\n",
       "    </tr>\n",
       "    <tr>\n",
       "      <th>1</th>\n",
       "      <td>This movie sucks! I have never seen a worse mo...</td>\n",
       "      <td>neg</td>\n",
       "    </tr>\n",
       "    <tr>\n",
       "      <th>2</th>\n",
       "      <td>How can a movie be this inspiring! I almost wa...</td>\n",
       "      <td>pos</td>\n",
       "    </tr>\n",
       "    <tr>\n",
       "      <th>3</th>\n",
       "      <td>This is the best movie I have seen this year!</td>\n",
       "      <td>pos</td>\n",
       "    </tr>\n",
       "    <tr>\n",
       "      <th>4</th>\n",
       "      <td>I hate this film. It is not worth your money. ...</td>\n",
       "      <td>neg</td>\n",
       "    </tr>\n",
       "  </tbody>\n",
       "</table>\n",
       "</div>"
      ],
      "text/plain": [
       "                                              review sentiment\n",
       "0     I really like this film! It is so interesting!       pos\n",
       "1  This movie sucks! I have never seen a worse mo...       neg\n",
       "2  How can a movie be this inspiring! I almost wa...       pos\n",
       "3      This is the best movie I have seen this year!       pos\n",
       "4  I hate this film. It is not worth your money. ...       neg"
      ]
     },
     "execution_count": 40,
     "metadata": {},
     "output_type": "execute_result"
    }
   ],
   "source": [
    "tuples = [a, b, c, d, e]\n",
    "df = pd.DataFrame(tuples, columns = ['review', 'sentiment'])\n",
    "df"
   ]
  },
  {
   "cell_type": "code",
   "execution_count": 37,
   "id": "70f963fb",
   "metadata": {},
   "outputs": [],
   "source": [
    "test1 = 'Among all the films I have seen, this film is the best!'\n",
    "test2 = 'This film is very interesting.'\n",
    "test3 = 'This is a bad film. I regret having bought the ticket.'"
   ]
  },
  {
   "cell_type": "code",
   "execution_count": null,
   "id": "e195421a",
   "metadata": {},
   "outputs": [],
   "source": []
  }
 ],
 "metadata": {
  "kernelspec": {
   "display_name": "Python 3 (ipykernel)",
   "language": "python",
   "name": "python3"
  },
  "language_info": {
   "codemirror_mode": {
    "name": "ipython",
    "version": 3
   },
   "file_extension": ".py",
   "mimetype": "text/x-python",
   "name": "python",
   "nbconvert_exporter": "python",
   "pygments_lexer": "ipython3",
   "version": "3.10.4"
  }
 },
 "nbformat": 4,
 "nbformat_minor": 5
}

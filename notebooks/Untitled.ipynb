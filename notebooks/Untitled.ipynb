{
 "cells": [
  {
   "cell_type": "code",
   "execution_count": 1,
   "id": "a3533711",
   "metadata": {},
   "outputs": [],
   "source": [
    "import pandas as pd\n",
    "import numpy as np\n",
    "import matplotlib.pyplot as plt"
   ]
  },
  {
   "cell_type": "code",
   "execution_count": 2,
   "id": "feba182c",
   "metadata": {},
   "outputs": [],
   "source": [
    "def data_loader(file):\n",
    "    df = pd.read_csv(file)\n",
    "    x = (df.iloc[:, 1:]/255.0).to_numpy()\n",
    "    y = df.iloc[:, 0].to_numpy()\n",
    "    return (x, y)"
   ]
  },
  {
   "cell_type": "code",
   "execution_count": 8,
   "id": "cdbd0727",
   "metadata": {},
   "outputs": [],
   "source": [
    "file = '../static/files/large/mnist_train.csv'\n",
    "x_train, y_train = data_loader(file)"
   ]
  },
  {
   "cell_type": "code",
   "execution_count": 9,
   "id": "89144347",
   "metadata": {},
   "outputs": [],
   "source": [
    "test_labels = [8, 4]\n",
    "indices = np.where(np.isin(y_train, test_labels))[0]\n",
    "\n",
    "x = x_train[indices]\n",
    "y = y_train[indices]"
   ]
  },
  {
   "cell_type": "code",
   "execution_count": 17,
   "id": "6412da4e",
   "metadata": {},
   "outputs": [
    {
     "data": {
      "image/png": "[encoded data removed]",
      "text/plain": [
       "<Figure size 432x288 with 1 Axes>"
      ]
     },
     "metadata": {
      "needs_background": "light"
     },
     "output_type": "display_data"
    }
   ],
   "source": [
    "img = x[203, :].reshape(28,28)\n",
    "example_to_draw = img\n",
    "plt.imshow(example_to_draw, cmap='gray')\n",
    "plt.show()"
   ]
  },
  {
   "cell_type": "code",
   "execution_count": 22,
   "id": "f0e9286d",
   "metadata": {},
   "outputs": [],
   "source": [
    "# vertical filter\n",
    "v_filter = np.array([\n",
    "    [0,1,0],\n",
    "    [0,1,0],\n",
    "    [0,1,0],\n",
    "])\n",
    "\n",
    "# horizontal filter\n",
    "h_filter = np.array([\n",
    "    [0,0,0],\n",
    "    [1,1,1],\n",
    "    [0,0,0]\n",
    "])"
   ]
  },
  {
   "cell_type": "code",
   "execution_count": 23,
   "id": "a159dcd3",
   "metadata": {},
   "outputs": [],
   "source": [
    "# chunks of codes taken from\n",
    "# https://www.math.purdue.edu/~bradfor3/ProgrammingFundamentals/NumPy/matrices/\n",
    "\n",
    "def convolve_1d(array, kernel):\n",
    "    ks = kernel.shape[0]\n",
    "    final_length = array.shape[0] - ks + 1\n",
    "    return np.array([(array[i:i+ks]*kernel).sum() for i in range(final_length)])\n",
    "\n",
    "def convolve_2d(array, kernel):\n",
    "    ks = kernel.shape[1]\n",
    "    final_height = array.shape[1] - ks + 1\n",
    "    return np.array([convolve_1d(array[:, i:i+ks], kernel) for i in range(final_height)]).T"
   ]
  },
  {
   "cell_type": "code",
   "execution_count": 24,
   "id": "ec1bb250",
   "metadata": {},
   "outputs": [
    {
     "data": {
      "image/png": "[encoded data removed]",
      "text/plain": [
       "<Figure size 432x288 with 1 Axes>"
      ]
     },
     "metadata": {
      "needs_background": "light"
     },
     "output_type": "display_data"
    }
   ],
   "source": [
    "img_v = convolve_2d(img, v_filter)\n",
    "plt.imshow(img_v, cmap='gray')\n",
    "plt.show()"
   ]
  },
  {
   "cell_type": "code",
   "execution_count": 26,
   "id": "5d3a1c6d",
   "metadata": {},
   "outputs": [
    {
     "data": {
      "text/plain": [
       "(26, 26)"
      ]
     },
     "execution_count": 26,
     "metadata": {},
     "output_type": "execute_result"
    }
   ],
   "source": [
    "img_v.shape"
   ]
  },
  {
   "cell_type": "code",
   "execution_count": 25,
   "id": "6fd7f885",
   "metadata": {},
   "outputs": [
    {
     "data": {
      "image/png": "[encoded data removed]",
      "text/plain": [
       "<Figure size 432x288 with 1 Axes>"
      ]
     },
     "metadata": {
      "needs_background": "light"
     },
     "output_type": "display_data"
    }
   ],
   "source": [
    "img_h = convolve_2d(img, h_filter)\n",
    "plt.imshow(img_h, cmap='gray')\n",
    "plt.show()"
   ]
  },
  {
   "cell_type": "code",
   "execution_count": null,
   "id": "19bb62e2",
   "metadata": {},
   "outputs": [],
   "source": []
  }
 ],
 "metadata": {
  "kernelspec": {
   "display_name": "Python 3 (ipykernel)",
   "language": "python",
   "name": "python3"
  },
  "language_info": {
   "codemirror_mode": {
    "name": "ipython",
    "version": 3
   },
   "file_extension": ".py",
   "mimetype": "text/x-python",
   "name": "python",
   "nbconvert_exporter": "python",
   "pygments_lexer": "ipython3",
   "version": "3.10.4"
  }
 },
 "nbformat": 4,
 "nbformat_minor": 5
}

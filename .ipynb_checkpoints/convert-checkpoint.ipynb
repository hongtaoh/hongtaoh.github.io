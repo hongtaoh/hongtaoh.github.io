{
 "cells": [
  {
   "cell_type": "code",
   "execution_count": 439,
   "id": "392e8225",
   "metadata": {},
   "outputs": [],
   "source": [
    "import os\n",
    "import re\n",
    "import pathlib"
   ]
  },
  {
   "cell_type": "code",
   "execution_count": 440,
   "id": "d98a7de9",
   "metadata": {},
   "outputs": [
    {
     "data": {
      "text/plain": [
       "'static/en/blog'"
      ]
     },
     "execution_count": 440,
     "metadata": {},
     "output_type": "execute_result"
    }
   ],
   "source": [
    "arg1 = 'notebooks/2022-08-22-correlation-copy.ipynb'\n",
    "arg2 = 'en/blog'\n",
    "# where the post will finally be located\n",
    "move_to = 'content/' + arg2\n",
    "static_folder = 'static/' + arg2\n",
    "mdfile = re.sub('.ipynb', '.md', arg1)\n",
    "mdfile\n",
    "static_folder"
   ]
  },
  {
   "cell_type": "code",
   "execution_count": 441,
   "id": "8dcc2bec",
   "metadata": {},
   "outputs": [
    {
     "data": {
      "text/plain": [
       "'notebooks'"
      ]
     },
     "execution_count": 441,
     "metadata": {},
     "output_type": "execute_result"
    }
   ],
   "source": [
    "notebook_folder_name = re.findall(r'^.+?(?=\\/)', arg1)[0]\n",
    "notebook_folder_name"
   ]
  },
  {
   "cell_type": "code",
   "execution_count": 442,
   "id": "34dab179",
   "metadata": {},
   "outputs": [
    {
     "data": {
      "text/plain": [
       "'notebooks/2022-08-22-correlation-copy_files'"
      ]
     },
     "execution_count": 442,
     "metadata": {},
     "output_type": "execute_result"
    }
   ],
   "source": [
    "files_folder = re.sub('.ipynb', '_files', arg1)\n",
    "files_folder"
   ]
  },
  {
   "cell_type": "code",
   "execution_count": 445,
   "id": "404d22a6",
   "metadata": {},
   "outputs": [
    {
     "data": {
      "text/plain": [
       "'2022-08-22-correlation-copy_files'"
      ]
     },
     "execution_count": 445,
     "metadata": {},
     "output_type": "execute_result"
    }
   ],
   "source": [
    "# https://stackoverflow.com/a/18710430\n",
    "files_folder_name = re.findall(f'^{notebook_folder_name}\\/([^\\s]+)', files_folder)[0]\n",
    "files_folder_name"
   ]
  },
  {
   "cell_type": "code",
   "execution_count": 430,
   "id": "a51a7298",
   "metadata": {},
   "outputs": [
    {
     "data": {
      "text/plain": [
       "'static/en/blog/2022-08-22-correlation-copy_files'"
      ]
     },
     "execution_count": 430,
     "metadata": {},
     "output_type": "execute_result"
    }
   ],
   "source": [
    "target_static_folder = static_folder + '/' + files_folder_name\n",
    "target_static_folder"
   ]
  },
  {
   "cell_type": "code",
   "execution_count": 431,
   "id": "a5895505",
   "metadata": {},
   "outputs": [],
   "source": [
    "# create path if not existing\n",
    "pathlib.Path(move_to).mkdir(parents=True, exist_ok=True) \n",
    "pathlib.Path(target_static_folder).mkdir(parents=True, exist_ok=True) "
   ]
  },
  {
   "cell_type": "code",
   "execution_count": 432,
   "id": "7e224544",
   "metadata": {},
   "outputs": [
    {
     "name": "stderr",
     "output_type": "stream",
     "text": [
      "[NbConvertApp] Converting notebook notebooks/2022-08-22-correlation-copy.ipynb to markdown\n",
      "[NbConvertApp] Support files will be in 2022-08-22-correlation-copy_files/\n",
      "[NbConvertApp] Making directory notebooks/2022-08-22-correlation-copy_files\n",
      "[NbConvertApp] Making directory notebooks/2022-08-22-correlation-copy_files\n",
      "[NbConvertApp] Making directory notebooks/2022-08-22-correlation-copy_files\n",
      "[NbConvertApp] Writing 12142 bytes to notebooks/2022-08-22-correlation-copy.md\n"
     ]
    },
    {
     "data": {
      "text/plain": [
       "0"
      ]
     },
     "execution_count": 432,
     "metadata": {},
     "output_type": "execute_result"
    }
   ],
   "source": [
    "# convert to md\n",
    "os.system(f\"jupyter nbconvert --to markdown {arg1}\")"
   ]
  },
  {
   "cell_type": "code",
   "execution_count": 433,
   "id": "95ddced6",
   "metadata": {},
   "outputs": [],
   "source": [
    "# solving mathjax problems\n",
    "f = open(mdfile, 'r')\n",
    "txt = f.read()\n",
    "txt = re.sub(r'\\$([^$]*)\\$', r'`$\\1$`', txt)\n",
    "\n",
    "txt = re.sub(r'`\\$\\$`([^$]*)`\\$\\$`', r'`$$\\1$$`', txt)"
   ]
  },
  {
   "cell_type": "code",
   "execution_count": 434,
   "id": "8ff9206c",
   "metadata": {},
   "outputs": [
    {
     "data": {
      "text/plain": [
       "0"
      ]
     },
     "execution_count": 434,
     "metadata": {},
     "output_type": "execute_result"
    }
   ],
   "source": [
    "# move files_folder to static folder\n",
    "os.system(f'cp -r {files_folder}/* {target_static_folder}')\n",
    "os.system(f'rm -rf {files_folder}')"
   ]
  },
  {
   "cell_type": "code",
   "execution_count": 435,
   "id": "5cf7216a",
   "metadata": {},
   "outputs": [
    {
     "data": {
      "text/plain": [
       "['2022-08-22-correlation-copy_files/2022-08-22-correlation-copy_4_1.png',\n",
       " '2022-08-22-correlation-copy_files/2022-08-22-correlation-copy_8_1.png',\n",
       " '2022-08-22-correlation-copy_files/2022-08-22-correlation-copy_9_1.png',\n",
       " 'img/corr-a-b.png']"
      ]
     },
     "execution_count": 435,
     "metadata": {},
     "output_type": "execute_result"
    }
   ],
   "source": [
    "# https://stackoverflow.com/a/43828391\n",
    "md_image_links_raw = re.findall(r'!\\[(.*?)\\]\\((.*?)\\)', txt)\n",
    "md_image_links = [b for (a,b) in md_image_links_raw]\n",
    "md_image_links"
   ]
  },
  {
   "cell_type": "code",
   "execution_count": 436,
   "id": "c005cabd",
   "metadata": {},
   "outputs": [
    {
     "name": "stdout",
     "output_type": "stream",
     "text": [
      "img/corr-a-b.png\n"
     ]
    }
   ],
   "source": [
    "for lk in md_image_links:\n",
    "    if files_folder_name not in lk:\n",
    "        image_folder_name = re.findall(r'^.+?(?=\\/)', lk)[0]\n",
    "        txt = re.sub(f'{image_folder_name}/', f'/{arg2}/{files_folder_name}/', txt)\n",
    "        os.system(f'cp {notebook_folder_name}/{lk} {static_folder}/{files_folder_name}')      "
   ]
  },
  {
   "cell_type": "code",
   "execution_count": 437,
   "id": "8c1a9ae3",
   "metadata": {},
   "outputs": [],
   "source": [
    "txt = re.sub(r'\\!\\[png\\]\\(', f'![png](/{arg2}/', txt)"
   ]
  },
  {
   "cell_type": "code",
   "execution_count": 438,
   "id": "01756350",
   "metadata": {},
   "outputs": [
    {
     "data": {
      "text/plain": [
       "0"
      ]
     },
     "execution_count": 438,
     "metadata": {},
     "output_type": "execute_result"
    }
   ],
   "source": [
    "# move md file to en/blog\n",
    "with open(mdfile, 'w') as f:\n",
    "    f.write(txt)\n",
    "os.system(f'mv {mdfile} {move_to}')"
   ]
  },
  {
   "cell_type": "code",
   "execution_count": null,
   "id": "9589ab05",
   "metadata": {},
   "outputs": [],
   "source": []
  }
 ],
 "metadata": {
  "kernelspec": {
   "display_name": "Python 3 (ipykernel)",
   "language": "python",
   "name": "python3"
  },
  "language_info": {
   "codemirror_mode": {
    "name": "ipython",
    "version": 3
   },
   "file_extension": ".py",
   "mimetype": "text/x-python",
   "name": "python",
   "nbconvert_exporter": "python",
   "pygments_lexer": "ipython3",
   "version": "3.10.4"
  }
 },
 "nbformat": 4,
 "nbformat_minor": 5
}
